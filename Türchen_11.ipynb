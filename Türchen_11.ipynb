{
  "nbformat": 4,
  "nbformat_minor": 0,
  "metadata": {
    "colab": {
      "provenance": [],
      "collapsed_sections": [
        "9yFxjj_SawKP"
      ],
      "include_colab_link": true
    },
    "kernelspec": {
      "name": "python3",
      "display_name": "Python 3"
    },
    "language_info": {
      "name": "python"
    }
  },
  "cells": [
    {
      "cell_type": "markdown",
      "metadata": {
        "id": "view-in-github",
        "colab_type": "text"
      },
      "source": [
        "<a href=\"https://colab.research.google.com/github/ollihansen90/MatheSH-Adventskalender/blob/main/T%C3%BCrchen_11.ipynb\" target=\"_parent\"><img src=\"https://colab.research.google.com/assets/colab-badge.svg\" alt=\"Open In Colab\"/></a>"
      ]
    },
    {
      "cell_type": "markdown",
      "source": [
        "# Fragen?\n",
        "\n",
        "Solltet ihr Fragen zum Code oder Probleme mit Colab haben, schickt uns gerne eine Mail:\n",
        "\n",
        "*   h.hansen@uni-luebeck.de\n",
        "*   dustin.haschke@student.uni-luebeck.de\n",
        "*   friederike.meissner@student.uni-luebeck.de\n"
      ],
      "metadata": {
        "id": "KZhQktFlf0Io"
      }
    },
    {
      "cell_type": "markdown",
      "source": [
        "## Türchen 11 - Funktionen Teil 2"
      ],
      "metadata": {
        "id": "DBSqMQGwfWCE"
      }
    },
    {
      "cell_type": "markdown",
      "metadata": {
        "id": "elkEH8293jC-"
      },
      "source": [
        "### **Verschachtelung von Funktionen**\n",
        "\n",
        "Gestern habt ihr bereits die ersten eigenen Funktionen definiert. Heute knüpfen wir direkt mit einer besonderen Form daran an, denn Funktionen können auch andere Funktionen in ihrem Funktionenrumpf aufrufen.\n",
        "Dafür verwenden wir den gleichen Aufrufbefehl, wie wir ihn sonst auch zum Aufrufen von Funktionen verwenden, nämlich:\n",
        "\n",
        ">*funktionsname(Parameter)*\n",
        "\n",
        "Eine Funktion, die in einer Funktion aufgerufen wird, folgt also dem Grundschema:\n",
        "\n",
        "**def funktion1(Parameter1, Parameter2)**\n",
        "> #Hier passiert möglicherweise etwas\n",
        "\n",
        ">**funktion2(ParameterA)**\n",
        "\n",
        "> #ggf. passiert hier noch mehr\n",
        "\n",
        "Wichtig ist, dass die funktion2 in diesem Beispiel natürlich vorher angelegt worden muss, damit funktion1 mit ihr operieren kann.\n",
        "Die Parameter sind ebenso wie der Code bei den Kommentaren optional.\n",
        "\n",
        "Eine Funktion kann übrigens auch einer anderen Funktion einen Parameter übergeben.\n",
        "\n"
      ]
    },
    {
      "cell_type": "markdown",
      "metadata": {
        "id": "EsYKPSGhHeD1"
      },
      "source": [
        "Im folgenden Beispiel wollen wir uns das mal anschauen.\n",
        "\n",
        "Hier sehen wir auch, wofür das Aufteilen von Funktionen gut sein kann, denn die Funktionen kleine_pumpe und grosse_pumpe greifen jeweils auf die Funktion add_text zu. So können wir, wie in einem Werkzeugkasten, unsere Instrumente ordnen und beliebig unterteilen.\n",
        "\n",
        "Manchmal ist es so übersichtlicher, manchmal will man bestimmte Funktionen einfach einzeln aufrufen können."
      ]
    },
    {
      "cell_type": "code",
      "metadata": {
        "id": "DW_cAW3zBVXz"
      },
      "source": [
        "def add_text(int1, int2):         # Das ist die Funktion add_text, die abhängig von ihren beiden Parametern etwas ausgibt\n",
        "    print(int1, \"Liter Wasser hat Lisa mit\", int2, \"mal pumpen gefördert.\" )\n",
        "\n",
        "def kleine_pumpe (wirkungsgrad,pumpvorgaenge):  # Funktion kleine_pumpe berechnet etwas abhängig von zwei Variablen\n",
        "    leistung = wirkungsgrad*pumpvorgaenge       # *Rechenvorgang*\n",
        "    add_text(leistung,pumpvorgaenge)            # kleine_pumpe greift auf Funktion add_text zurück...\n",
        "                                                # ...und übergibt ihr eigene Parameter\n",
        "\n",
        "def grosse_pumpe (geschwindigkeit, pumpvorgaenge):  # Funktion grosse_pumpe berechnet etwas abhängig von zwei Variablen\n",
        "    leistung = (1/geschwindigkeit)*pumpvorgaenge    # *Rechenvorgang*\n",
        "    add_text(leistung,pumpvorgaenge)                # grosse_pumpe greift auf Funktion add_text zurück...\n",
        "                                                    # ...und übergibt ihr eigene Parameter\n",
        "efficiency = 0.45             # drei Variablen werden festgelegt\n",
        "lisa_pumping = 7\n",
        "speed = 0.8\n",
        "\n",
        "kleine_pumpe (efficiency,lisa_pumping)     # kleine pumpe wird mit 2 festgelegten Variablen aufgerufen\n",
        "grosse_pumpe (speed,lisa_pumping)          # grosse pumpe wird mit 2 festgelegten Variablen aufgerufen"
      ],
      "execution_count": null,
      "outputs": []
    },
    {
      "cell_type": "markdown",
      "metadata": {
        "id": "UrBs29RkUaqr"
      },
      "source": [
        "Tatsächlich können als übergebene Parameter beim Aufruf von Funktionen auch direkt Funktionen verwendet werden, die entsprechend Werte zurückgeben:"
      ]
    },
    {
      "cell_type": "code",
      "metadata": {
        "id": "SLUdVFhYRwkl"
      },
      "source": [
        "def multiply(a,b):    # Die Funktion multiply\n",
        "    return (a*b)        # gibt das Produkt von a und b zurück\n",
        "\n",
        "def add(a,b):         # Die Funktion add\n",
        "    return a+b          # gibt die Summe von a und b zurück\n",
        "\n",
        "multiply(add(5,2),3)  #multiply wird mit dem Parameter add(5,2) für a und dem Parameter 3 für b aufgerufen."
      ],
      "execution_count": null,
      "outputs": []
    },
    {
      "cell_type": "markdown",
      "metadata": {
        "id": "s6rb3OiSUpQ0"
      },
      "source": [
        "Weiterhin können im Funktionenrumpf eigene Funktionen der Funktion angelegt werden, die (wie die Parameter und Variablen) nur lokal definiert sind.\n",
        "\n",
        "Sowas verwenden wir in diesem Kurs zwar weniger, zeigt aber, wie flexibel Funktionen eingesetzt werden können:"
      ]
    },
    {
      "cell_type": "code",
      "metadata": {
        "id": "d19Q40p-SOxy"
      },
      "source": [
        "def tolle_funktion ():\n",
        "    def innere_funktion():\n",
        "        print(\", wo ich alles sein kann, was mir gefaellt :-)\")\n",
        "\n",
        "    print(\"Ich lebe in meiner eigenen Funktionenwelt\", end=\"\")\n",
        "    innere_funktion()\n",
        "\n",
        "tolle_funktion()\n",
        "innere_funktion()      #ist nur eine lokale Funktion, somit nicht global definiert und nicht aufrufbar"
      ],
      "execution_count": null,
      "outputs": []
    },
    {
      "cell_type": "markdown",
      "source": [
        "### **Closures**\n",
        "\n",
        "Closures sind innere Funktionen, die Zugriff auf die Variablen einer äußeren Funktion haben - selbst nachdem die äußere Funktion ausgeführt wurde.\n",
        "\n",
        "Der Vorteil von Closures ist, dass sie Methoden von Klassen (dazu in ein paar Tagen mehr) ablösen können, die innere Funktion vor Zugriff verstecken können und übermäßige Verwendung von globalen Variablen vermeiden können.\n",
        "\n",
        "Closures sind i.d.R. wie folgt aufgebaut:\n",
        "\n",
        "`def outer_function:`\n",
        "\n",
        "> `#`\n",
        "\n",
        "> `def inner_function:`\n",
        "\n",
        "> >`#`\n",
        "\n",
        ">`return inner_function`\n",
        "\n",
        "\n",
        "\n",
        "Hier zwei Beispiele für Closures:"
      ],
      "metadata": {
        "id": "0lohb2T0Wwxb"
      }
    },
    {
      "cell_type": "code",
      "source": [
        "def outer_function(wert):\n",
        "    wert += 5\n",
        "    def inner_function(potenz):\n",
        "        mehrwert = wert**potenz\n",
        "        print(wert, \"ist viel wert, aber\", mehrwert, \"ist mehr wert!\")\n",
        "    return inner_function\n",
        "\n",
        "closure = outer_function(1)\n",
        "closure(2)\n",
        "closure(3)\n",
        "\n",
        "print(type(closure))      # Hier sieht man nochmal, dass wir eine Funktion als Variable verwenden,..\n",
        "print(closure.__name__)   # ... und dass diese Funktion die innere Funktion ist, die aber Zugriff auf die äußeren Variablen hat."
      ],
      "metadata": {
        "id": "fu1-uJj_W0CT"
      },
      "execution_count": null,
      "outputs": []
    },
    {
      "cell_type": "code",
      "source": [
        "def konto(name,wert):\n",
        "    def zinsen(zinsen):\n",
        "        if name != \"Olli\":\n",
        "            neuer_wert = wert*(zinsen+1)\n",
        "            print(name, \"- ihr neuer Kontostand beträgt:\", neuer_wert)\n",
        "        else:\n",
        "            print(name, \"- ihr Konto wurde leider gepfändet!\")\n",
        "    return zinsen\n",
        "\n",
        "konto1 = konto(\"Peter\", 90)\n",
        "konto2 = konto(\"Hannah\", 140)\n",
        "konto3 = konto(\"Olli\", 105)\n",
        "\n",
        "konto1(0.05)\n",
        "konto2(0.10)\n",
        "konto3(0.07)\n",
        "\n",
        "del konto\n",
        "#konto4 = konto(\"a\",1) würde nicht mehr funktioniert, aber konto3 funktioniert immer noch!\n",
        "konto3(0.07)"
      ],
      "metadata": {
        "id": "KN-A3__6rxj9"
      },
      "execution_count": null,
      "outputs": []
    },
    {
      "cell_type": "markdown",
      "metadata": {
        "id": "CZfP8IEVLiyJ"
      },
      "source": [
        "#### **Übung 1** - Verschachtelte Funktionen\n",
        "Im Folgenden siehst du die Funktion ```passwort_check```, die von der Funktion ```account``` für eine Passwortabfrage aufgerufen wird.\n",
        "\n",
        "Versuche im Code nachzuvollziehen, wohin welche *Parameter* übergeben werden.\n",
        "Rufe danach die Funktion ```account``` mit den Parametern *name* und *password* für jeden vorhandenen Accountnamen mit dem zugehörigen Passwort einmal auf.\n",
        "\n",
        "Versuche dabei möglichst wenig auszuprobieren und möglichst viel durch das Durchschauen des Codes herauszufinden.\n",
        "\n",
        "***Achtung:***    \n",
        "*Beachte, bevor du loslegst, unbedingt, was für ein Datentyp (boolean, string, int, usw.) die Parameter von ```account``` erwarten!*\n",
        "\n",
        "Viel Spaß :-)"
      ]
    },
    {
      "cell_type": "code",
      "source": [
        "def passwort_check (key,password):\n",
        "    if key==31:\n",
        "        if password == \"tante\":\n",
        "            return True\n",
        "    if password == \"server\":\n",
        "        if key==52:\n",
        "            return True\n",
        "    if key==55 and password == \"programm\":\n",
        "        return True\n",
        "\n",
        "def account(name,password):\n",
        "    key=0\n",
        "    if name==\"Anna\":\n",
        "        key=55\n",
        "    elif name==\"Bob\":\n",
        "        key=31\n",
        "    elif name==\"Carla\":\n",
        "        key=52\n",
        "    else:\n",
        "        print(\"Name nicht vorhanden\")\n",
        "\n",
        "    if key != 0 and passwort_check(key,password):\n",
        "        print(\"Willkommen\", name, \"| Du hast jetzt Zugriff auf dein Konto.\")\n",
        "    elif key !=0:\n",
        "        print(\"Sorry\", name + \", aber dein Passwort ist inkorrekt!\")\n",
        "\n",
        "# Rufe hier die Funktion account(name, passwort) mit den richtigen Accountnamen/Passwort-Kombinationen auf\n",
        "\n"
      ],
      "metadata": {
        "id": "UEzWSDAaK9t2"
      },
      "execution_count": null,
      "outputs": []
    },
    {
      "cell_type": "markdown",
      "metadata": {
        "id": "cF8EXBdDLihY"
      },
      "source": [
        "#### **Übung 2** - Rätselhafte Berechnungen\n",
        "\n",
        "Lege eine Funktion *multiply_and_double* mit zwei Parametern *zahl1*, *zahl2* an. Diese soll die beiden Parameter miteinander und dann mit der Zahl 2 multiplizieren.\n",
        "Das Ergebnis soll zurückgegeben werden; verwende dazu den ```return```-Befehl.\n",
        "\n",
        "Lege eine zweite Funktion namens *something* an, die zwei Parameter *int1* und *int2* als Argumente erhält. Im Funktionenrumpf sollen erst die beiden Parameter quadriert und danach addiert werden. Zu dieser Summe soll nun die zurückgegebene Ausgabe von *multiply_and_double* mit denselben zwei Parametern (*int1* und *int2*) der Funktion *something* addiert und anschließend durch den ```print```-Befehl ausgegeben werden.\n",
        "\n",
        "Rufe die Funktion *something* danach insgesamt viermal mit den folgenden Parametern auf:\n",
        "\n",
        ">I) (*zahl1*, *zahl2*) = (1, 2)  \n",
        "\n",
        ">II) (*zahl1*, *zahl2*) = (1, 3)\n",
        "\n",
        ">III) (*zahl1*, *zahl2*) = (3, 1)\n",
        "\n",
        ">IV) (*zahl1*, *zahl2*) = (3, 2)\n",
        "\n",
        "*Kannst du erkennen, was die Funktion ```something``` berechnet?*\n",
        "\n"
      ]
    },
    {
      "cell_type": "code",
      "source": [],
      "metadata": {
        "id": "Jrsum-ZsLQjP"
      },
      "execution_count": null,
      "outputs": []
    },
    {
      "cell_type": "markdown",
      "source": [
        "#### **Bonusaufgabe** - Closures\n",
        "\n",
        "Schreibe eine Closure-Funktion namens ***gang***, die **gangname** und **kasse** in die äußere Funktion übergeben bekommt. Die innere Funktion **mitglied** bekommt **name** und einen **mitgliedsbeitrag** übergeben.\n",
        "\n",
        "\n",
        "Die **kasse** in der inneren Funktion soll nicht nur lokal gelten. Füge also eine Zeile nur mit `nonlocal kasse` in die innere Funktion ein, damit der Geltungsbereich der inneren Funktion erweitert wird.\n",
        "\n",
        "Wird nun die innere Funktion ***mitglied*** aufgerufen, so soll sich die Kasse um den Mitgliedsbeitrag erhöhen und eine Meldung über den Einzahler, seinen Mitgliedsbeitrag und den neuen Kassenstand ausgegeben werden.Falls die Person allerdings sogar \"Wunschname\" heißt, so soll die Ausgabe sie mit \"Unsere Anführerin\" o.Ä. ansprechen.\n",
        "Denke abschließend daran, dass eine Closure-Funktion die innere Funktion zurückliefert.\n",
        "\n",
        "Erstelle nun eine Gang mit deinem Wunschnamen und einem Kassenbetrag.Füge 3 Mitglieder hinzu - darunter ein Anführer.\n",
        "\n"
      ],
      "metadata": {
        "id": "doQxeQ69sGed"
      }
    },
    {
      "cell_type": "code",
      "source": [
        "#Hier könnte dein Code stehen (-:\n",
        "\n"
      ],
      "metadata": {
        "id": "FbBg8DEIyw5k"
      },
      "execution_count": null,
      "outputs": []
    },
    {
      "cell_type": "markdown",
      "source": [
        "### Musterlösung Türchen 10"
      ],
      "metadata": {
        "id": "9yFxjj_SawKP"
      }
    },
    {
      "cell_type": "code",
      "metadata": {
        "id": "iJZOyXJT6d1S"
      },
      "source": [
        "# Übung 1\n",
        "def python(gruß):\n",
        "    if gruß == \"Hallo\":\n",
        "        print (\"Hallo\")\n",
        "        print (\"Selber Hallo!\")\n",
        "\n",
        "# Dein Code folgt ab hier:\n",
        "python(\"Hallo\")"
      ],
      "execution_count": null,
      "outputs": []
    },
    {
      "cell_type": "code",
      "metadata": {
        "id": "L-p_EyoZmaHv"
      },
      "source": [
        "# Übung 2\n",
        "def hallo(name):\n",
        "    print(\"Hallo \" + name + \"!\")\n",
        "hallo(\"Tilo\")"
      ],
      "execution_count": null,
      "outputs": []
    },
    {
      "cell_type": "code",
      "metadata": {
        "id": "VzVgtVDJ5Vat"
      },
      "source": [
        "# Übung 3\n",
        "# Nachfolgend soll dein Code platziert werden:\n",
        "\n",
        "def mersenne(n):\n",
        "  print(2**n - 1)\n",
        "\n",
        "mersenne(11)\n",
        "mersenne(13)"
      ],
      "execution_count": null,
      "outputs": []
    },
    {
      "cell_type": "code",
      "metadata": {
        "id": "r5Uze9KknhZg"
      },
      "source": [
        "# Übung 4\n",
        "def potenz(x,y):\n",
        "  return x, y, x**y\n",
        "\n",
        "potenz(5,3)"
      ],
      "execution_count": null,
      "outputs": []
    },
    {
      "cell_type": "code",
      "metadata": {
        "id": "HnWIJPQB_UNf"
      },
      "source": [
        "# Übung 5\n",
        "# mit Leerzeichen getrennt und mit Punkt am Ende\n",
        "print(*list(range(10)), sep=\" \", end=\".\")\n",
        "\n",
        "print(\"\\n\")\n",
        "# mit Komma getrennt und mit Komma am Ende\n",
        "print(*list(range(10)), sep=\",\", end=\",\")\n",
        "\n",
        "print(\"\\n\")\n",
        "# untereinander mit Ausrufezeichen am Ende\n",
        "print(*list(range(10)), sep=\"\\n\", end=\"!\")"
      ],
      "execution_count": null,
      "outputs": []
    }
  ]
}