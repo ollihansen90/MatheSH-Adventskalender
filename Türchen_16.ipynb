{
  "nbformat": 4,
  "nbformat_minor": 0,
  "metadata": {
    "colab": {
      "provenance": [],
      "collapsed_sections": [
        "9yFxjj_SawKP"
      ],
      "include_colab_link": true
    },
    "kernelspec": {
      "name": "python3",
      "display_name": "Python 3"
    },
    "language_info": {
      "name": "python"
    }
  },
  "cells": [
    {
      "cell_type": "markdown",
      "metadata": {
        "id": "view-in-github",
        "colab_type": "text"
      },
      "source": [
        "<a href=\"https://colab.research.google.com/github/ollihansen90/MatheSH-Adventskalender/blob/main/T%C3%BCrchen_16.ipynb\" target=\"_parent\"><img src=\"https://colab.research.google.com/assets/colab-badge.svg\" alt=\"Open In Colab\"/></a>"
      ]
    },
    {
      "cell_type": "markdown",
      "source": [
        "# Fragen?\n",
        "\n",
        "Solltet ihr Fragen zum Code oder Probleme mit Colab haben, schickt uns gerne eine Mail:\n",
        "\n",
        "*   h.hansen@uni-luebeck.de\n",
        "*   dustin.haschke@student.uni-luebeck.de\n",
        "*   friederike.meissner@student.uni-luebeck.de\n"
      ],
      "metadata": {
        "id": "KZhQktFlf0Io"
      }
    },
    {
      "cell_type": "markdown",
      "source": [
        "## Türchen 16 - Klassen: Grundlagen"
      ],
      "metadata": {
        "id": "AnUJkG8nfaWn"
      }
    },
    {
      "cell_type": "markdown",
      "source": [
        "### **Objektorientierung**\n",
        "\n",
        "#### **Was ist Objektorientierung?**\n",
        "\n",
        "Allgemein betrachtet wird unter Objektorientierung verstanden, wenn komplexe Systeme durch das Zusammenspiel von kooperiernden Objekten beschrieben werden. Das ist jetzt leider aber noch eine sehr abstrakte Beschreibung von Objektorientierung.\n",
        "\n",
        "In der Objektorientierung besitzt jedes Objekt bestimmte Eigenschaften (Attribute) und Methoden. Spezielle Methoden werdet ihr später noch kennenlernen. Einzelne Objekte können mit anderen Objekten \"kommunizieren\", also Informationen senden und empfangen.\n",
        "\n",
        "Die Grundstruktur eines Objekts wird in seiner übergreifenden Klasse zusammengefasst.\n",
        "Ein spezieller Aufruf einer Klasse erstellt nun ein spezielles Objekt.\n",
        "\n",
        "Stellt euch beispielsweise vor, ihr hätte zwei Kugelschreiber und noch einen Bleistift. Diese Stifte haben alle die Eigenschaft gemeinsam, dass ihr mit ihnen schreiben könnt, wenn auch vielleicht in verschiedenen Farben, und der Akt des Schreibens selber, wäre eine \"Methode\". Der Bleistift hätte noch die weitere Eigenschaft radierbar, welche die Kugelschreiber nicht hätten. Dafür haben die Kugelschreiber oben einen Knopf zum Klicken, und das Klicken wäre eine spezielle Methode für beide Kugelschreiber. Es ist wichtig zu bemerken, dass die beiden Kugelschreiber verschiedene Objekte sind, auch wenn sie sich in allem ähneln.\n",
        "\n",
        "Wir könnten nun eine Klasse Stift erstellen mit der Eigenschaft \"kann schreiben\" und der Methode \"schreib\". Die Klasse Bleistift **erbt** \"kann schreiben\" und \"schreib\" von Stift und erhält die zusätzliche Eigenschaft \"radierbar\". Die Klasse Kugelschreiber **erbt** ebenfalls alle Eigenschaften und Methoden von Stift und erhält die zusätzliche Eigenschaft \"Druckknopf\" und die Methode \"klicken\".\n",
        "\n",
        "Die Kommunikation zwischen den einzelnen Objekten könntet ihr euch jetzt so vorstellen, dass ein Objekt der Klasse Stift mit einem Objekt der Klasse Papier interagieren könnte und eine Nachricht schreiben könnte.\n",
        "\n",
        "#### **Die Vorteile von Objektorientierter Programmierung**\n",
        "\n",
        "Objekte und damit auch Klassen werden grundsätzlich verwendet, um die Komplexität von Programmen zu verringern.\n",
        "\n",
        "So müsstet ihr, dem obrigen Beispiel folgend, nicht jeden Kugelschreiber komplett neu erschaffen, sondern könntet einfach die Klasse Kugelschreiber aufrufen, um ein individuelles Objekt zu erschaffen.\n",
        "\n",
        "Auch weitere, speziellere Stiftarten könnt ihr so schneller beschreiben, da ihr sie auf den bereits vorhandenen Klassen aufbauen könnt."
      ],
      "metadata": {
        "id": "2Fc2Tn-gPjR0"
      }
    },
    {
      "cell_type": "markdown",
      "source": [
        "### **Von Dictionaries zu Klassen**\n",
        "\n",
        "Bisher haben wir Objekte und ihre Eigenschaften, also z.B in Form von Steckbriefen, nur in **Dictionaries** gespeichert, die je einem **Schlüssel (key)** einen bestimmten **Wert (value)** zugewiesen haben. Mit Klassen können darüber hinaus sehr einfach direkt mehrere Objekte mit identischer Grundstruktur, also den gleichen Keys, erzeugt werden, da sie in gewisser Weise einen \"Bauplan\" darstellen.\n",
        "\n",
        "Hier seht ihr noch einmal das Dictionary eines Haustieres, das mit den Schlüsselwerten Name, Alter, Lieblingsspielzeug, hungrig und lieb angelegt wird, denen direkt Werte zugeordnet werden.\n",
        "\n",
        "Anschließend wird der Schlüssel Farbe mit dem Wert Braun hinzugefügt und ein Wollball per ```append()``` zu der vorhandenen Liste der Lieblingsspielzeuge  ergänzt.\n",
        "\n",
        "Die außerhalb des Dictionaries definierte Funktion ```futter_anbieten()``` gibt entsprechend der als Booleans definierten Keys hungrig und lieb einen Laut des Haustieres zurück und verändert ggf. die Eigenschaft hungrig. Beachtet dabei, wie über eckige Klammern ```[]``` mit dem gesuchten Schlüssel der Wert des Dictionaries abgefragt wird.\n",
        "\n",
        "Im Detail wird das Tier gefüttert, wenn es Hunger hat, sodass es den Laut \"Mhh\" macht und satt, also nicht mehr hungrig, ist. Ist das Haustier weder hungrig noch lieb, gibt es ein aggressives \"Grr!\" von sich, während es \"Frr\" macht, sofern es nicht hungrig, aber lieb ist.\n",
        "\n",
        "Da sich ```futter_anbieten()``` sowieso nur auf das spezielle Dictionary bezieht, ist beim Aufruf der Funktion kein Parameter oder Objekt notwendig."
      ],
      "metadata": {
        "id": "U-GkyEilMYS0"
      }
    },
    {
      "cell_type": "code",
      "source": [
        "# Dictionary eines Haustiers\n",
        "haustier = {\"Name\": \"Lotti\",\n",
        "            \"Alter\": 1,\n",
        "            \"Lieblingsspielzeug\": [\"Ball\", \"Schuhe\"],\n",
        "            \"hungrig\": False,\n",
        "            \"lieb\": True}\n",
        "\n",
        "haustier[\"Farbe\"] = \"Braun\"\n",
        "\n",
        "haustier[\"Lieblingsspielzeug\"].append(\"Wollball\")\n",
        "\n",
        "def futter_anbieten():\n",
        "    if haustier[\"hungrig\"]:\n",
        "        haustier[\"hungrig\"] = False\n",
        "        return(\"Mhh\")\n",
        "    elif not haustier[\"hungrig\"] and not haustier[\"lieb\"]:\n",
        "        return(\"Grr!\")\n",
        "    elif not haustier[\"hungrig\"] and haustier[\"lieb\"]:\n",
        "        return(\"Frr\")\n",
        "\n",
        "print(futter_anbieten())"
      ],
      "metadata": {
        "id": "yGDzCa2-PV9T"
      },
      "execution_count": null,
      "outputs": []
    },
    {
      "cell_type": "markdown",
      "source": [
        "Im Anlehnung an obiges Dictionary wurde hier nun die Klasse \"Haustier\" als Grundlage für ein beliebiges Haustier angelegt. Sie enthält ebenfalls die Eigenschaften Name, Alter, Lieblingsspielzeug, hungrig und lieb, zusätzlich aber auch schon die Farbe mit Wert ```None```, da eine nachträgliche Erweiterung nicht möglich ist.\n",
        "\n",
        "Sie erhalten jedoch erst durch die ```__init__()```-Funktion, dem sogenannten Konstruktor, ihre Werte, indem die übergebenen Parameter den Klassenattributen ```self.<Var>``` zugeordnet werden.  \n",
        "\n",
        "Die Definition der Methode ```futterAnbieten()``` befindet sich im Gegensatz zum Dictionary bereits innerhalb der Klasse und greift über ```self.<Var>``` auf die gesuchten Eigenschaften hungrig und lieb zu, folgt aber sonst derselben Logik.\n",
        "\n",
        "In Zeile 20 legen wir endlich eine Instanz von \"Haustier\" an, die in der Variable ```lotti``` gespeichert wird. Der Aufruf der Klasse ähnelt dabei einem Funktionsaufruf, d.h. man verwendet den Klassennamen gefolgt von runden Klammern, die die Werte der Attribute in entsprechender Reihenfolge enthalten.\n",
        "Da keine Farbe übergeben wurde, greift im Konstruktor die default-Zuweisung von ```None```.\n",
        "\n",
        "Um nun die Farbe zu verändern, wird von außen das Instanzattribut per ```lotti.Farbe``` (statt ```self.Farbe``` im Inneren) auf \"Braun\" gesetzt. Die Erweiterung der Lieblingsspielzeuge um einen Wollball erfolgt analog mit ```append()``` und Zugriff auf die entsprechende Eigenschaft von ```lotti```.\n",
        "\n",
        "Im Unterschied zum Dictionary muss ```futterAnbieten()``` als Methode, d.h. Funktion eines Objekts, hier jedoch an der Instanz aufgerufen werden."
      ],
      "metadata": {
        "id": "ONcS90W-BCcE"
      }
    },
    {
      "cell_type": "code",
      "source": [
        "# Klasse von Haustieren\n",
        "class Haustier():\n",
        "    def __init__(self, name, alter, lieblingsspielzeug, hungrig, lieb, farbe = None):\n",
        "        self.Name = name\n",
        "        self.Alter = alter\n",
        "        self.Lieblingsspielzeug = lieblingsspielzeug\n",
        "        self.Hungrig = hungrig\n",
        "        self.Lieb = lieb\n",
        "        self.Farbe = farbe\n",
        "\n",
        "    def futterAnbieten(self):\n",
        "        if self.Hungrig:\n",
        "            self.Hungrig = False\n",
        "            return(\"Mhh\")\n",
        "        elif not self.Hungrig and not self.Lieb:\n",
        "            return(\"Grr!\")\n",
        "        elif not self.Hungrig and self.Lieb:\n",
        "            return(\"Frr\")\n",
        "\n",
        "lotti = Haustier(\"Lotti\", 1, [\"Ball\", \"Schuhe\"], False, True)\n",
        "print(\"Lottis Farbe ist\", lotti.Farbe) # keine Farbe übergeben, also ist default-Wert \"None\"\n",
        "lotti.Farbe = \"Braun\"\n",
        "print(\"Jetzt ist Lottis Farbe\", lotti.Farbe)\n",
        "\n",
        "lotti.Lieblingsspielzeug.append(\"Wollball\")\n",
        "\n",
        "print(lotti.futterAnbieten())"
      ],
      "metadata": {
        "id": "fLXmVvaVPr2H"
      },
      "execution_count": null,
      "outputs": []
    },
    {
      "cell_type": "markdown",
      "source": [
        "### **Aufbau von Klassen**\n",
        "#### **Name**\n",
        "\n",
        "Um eine Klasse initialisieren zu können, brauchen wir zuerst das Schlüsselwort ```class``` gefolgt von einem aussagekräftigen Namen, der meistens in PascalCase angegeben wird, und einem Paar runder Klammern sowie einem Doppelpunkt.\n",
        "\n",
        "*Zur Erinnerung: Bei PascalCase werden alle Wörter zusammengeschrieben, wobei jedes Wort mit einem Großbuchstaben beginnt, also z.B. SchwarzeKatze.*\n",
        "\n",
        ">```class NameInPascalCase():```\n",
        "\n",
        "#### **Konstruktor**\n",
        "\n",
        "Nun wird die Klasse mit Leben gefüllt: Mithilfe eines sogenannten Konstruktors, d.h. der Funktion ```__init__()``` (mit jeweils zwei Unterstrichen), werden die Eigenschaften des Objekts als Argumente übergeben und anschließend den Klassenattributen zugewiesen. Dabei bezieht sich ```self``` auf die Instanz selbst, aber dazu unten mehr."
      ],
      "metadata": {
        "id": "C7p38A3NVpVh"
      }
    },
    {
      "cell_type": "code",
      "source": [
        "def __init__(self, arg1, arg2):\n",
        "        self.att1 = arg1\n",
        "        self.att2 = arg2"
      ],
      "metadata": {
        "id": "WiAUKRHG4DkZ"
      },
      "execution_count": null,
      "outputs": []
    },
    {
      "cell_type": "markdown",
      "source": [
        "Wollen wir also eine Klasse \"Fahrrad\" mit den Attributen Farbe, Klingel als Boolean und der Anzahl an Gängen anlegen, sieht das wie folgt aus:"
      ],
      "metadata": {
        "id": "1C4_LuA75ofc"
      }
    },
    {
      "cell_type": "code",
      "source": [
        "class Fahrrad():\n",
        "    def __init__(self, farbe, klingel, gaenge):\n",
        "        self.Farbe = farbe\n",
        "        self.Klingel = klingel\n",
        "        self.gaenge = gaenge"
      ],
      "metadata": {
        "id": "dYzwOF_iRl22"
      },
      "execution_count": null,
      "outputs": []
    },
    {
      "cell_type": "markdown",
      "source": [
        "### **Instanzen und `self`**\n",
        "In den Abschnitten oben ist bestimmt schon der Variablenname `self` aufgefallen. `self` repräsentiert eine *Instanz* einer Klasse, das heißt, dass ein ganz bestimmtes Objekt dieser Klasse in der Variable `self` steckt. Am einfachsten kann man sich das vorstellen wie jemand, der über sich selbst redet: \"Ich bin 1,8 Meter groß\" ließe sich innerhalb einer Klasse mit hilfe von `self.groesse` ausgeben:"
      ],
      "metadata": {
        "id": "OE4DLevE6SjF"
      }
    },
    {
      "cell_type": "code",
      "source": [
        "class Hund():\n",
        "    def __init__(self, name, alter, groesse):\n",
        "        self.name = name\n",
        "        self.alter = alter\n",
        "        self.groesse = groesse\n",
        "\n",
        "    def vorstellung(self):\n",
        "        print(\"Hi, ich bin \"+self.name+\". Ich bin \"+str(self.alter)+\" Jahre alt und \"+str(self.groesse)+\" Meter groß.\")\n",
        "\n",
        "\n",
        "hund1 = Hund(\"Charly\", 3, 1.1)\n",
        "hund2 = Hund(\"Trixi\", 7, 0.9)\n",
        "hund3 = Hund(\"Lulu\", 12, 0.3)\n",
        "\n",
        "hund1.vorstellung()\n",
        "hund2.vorstellung()\n",
        "hund3.vorstellung()"
      ],
      "metadata": {
        "id": "LKXSC2v1JRjU"
      },
      "execution_count": null,
      "outputs": []
    },
    {
      "cell_type": "markdown",
      "source": [
        "In der obigen Code-Zelle wird eine Klasse `Hund` angelegt, die die Attribute `name`, `alter` und `groesse` enthält. Jede neue Instanz erhält eigene Attribute, die aber immer dem gleichen Muster folgen. So heißt `hund1` Charly, während `hund2` Trixi heißt. Beide sind aus der Klasse `Hund` und können die vordefinierte Funktion `vorstellung()` aufrufen.\n",
        "\n",
        "Vielleicht habt ihr es schon gemerkt: In den Funktionen `__init__()` und `vorstellung()` wird `self` übergeben. Dieser Übergabeparameter bezieht sich immer auf das Objekt, das vor dem Punkt steht! In Zeile 15 beispielsweise bezieht sich `self` also auf die Instanz `hund1`."
      ],
      "metadata": {
        "id": "GfjPKSWYK0F_"
      }
    },
    {
      "cell_type": "markdown",
      "source": [
        "### **Methoden**\n",
        "Methoden sind Funktionen, die innerhalb einer Funktion definiert werden und von den einzelnen Instanzen genutzt werden können. Meistens handelt es sich bei Methoden um Funktionen, die die jeweilige Instanz in irgendeiner Weise manipulieren. Daher muss die Instanz *selbst* (das Wort passt hier sehr gut!) der Methode übergeben werden! Es gibt allerdings auch Methoden, die kein `self` erwarten. Es handelt sich dabei um Klassenmethoden, die nur von der Klasse aufgerufen werden können.\n",
        "\n",
        "Oben wurden bereits Konstruktoren beschrieben, es handelt sich dabei um Methoden, die jede Klasse benötigt, um den jeweiligen Instanzen Attribute zuweisen zu können. Später werden wir noch weitere spezielle Methoden erklärt, mit der wir beispielsweise steuern können, was passiert, wenn wir ein Objekt in einen String umwandeln möchten!\n",
        "\n",
        "Methoden können aufgerufen werden, indem einfach der Methodenname hinter ein Objekt geschrieben wird:"
      ],
      "metadata": {
        "id": "NI7pUCB2KmQW"
      }
    },
    {
      "cell_type": "code",
      "source": [
        "class Hund():\n",
        "    def __init__(self, name, alter, groesse):\n",
        "        self.name = name\n",
        "        self.alter = alter\n",
        "        self.groesse = groesse\n",
        "        self.bellcounter = 0\n",
        "\n",
        "    def vorstellung(self):\n",
        "        print(\"Hi, ich bin \"+self.name+\". Ich bin \"+str(self.alter)+\" Jahre alt und \"+str(self.groesse)+\" Meter groß.\\nIch habe bereits \"+ str(self.bellcounter) +\" mal gebellt!\")\n",
        "\n",
        "    def bellen():# <----- Methode, die (nur) von der Klasse aufgerufen werden kann\n",
        "        print(\"Wuff!\")\n",
        "\n",
        "    def bellen_mit_counter(self):\n",
        "        self.bellcounter += 1\n",
        "        print(\"Wuff! (mit Counter)\")\n",
        "\n",
        "\n",
        "\n",
        "charly = Hund(\"Charly\", 3, 1.1)\n",
        "charly.vorstellung()\n",
        "\n",
        "Hund.bellen()\n",
        "charly.vorstellung()\n",
        "\n",
        "charly.bellen_mit_counter()\n",
        "charly.bellen_mit_counter()\n",
        "charly.vorstellung()\n",
        "charly.bellen_mit_counter()\n",
        "charly.bellen_mit_counter()\n",
        "charly.vorstellung()"
      ],
      "metadata": {
        "id": "nrqbbwvBNoEi"
      },
      "execution_count": null,
      "outputs": []
    },
    {
      "cell_type": "markdown",
      "source": [
        "Ansonsten funktionieren Methoden ganz genau wie Funktionen, wie sie schon in früheren Colab-Notebooks genutzt wurden! Das heißt, wir können Übergabeparameter übergeben, wir können Default-Werte setzen und wir können Rückgabewerte definieren:"
      ],
      "metadata": {
        "id": "AFq6ynp0Ptqb"
      }
    },
    {
      "cell_type": "code",
      "source": [
        "class Hund():\n",
        "    def __init__(self, name, alter, groesse):\n",
        "        self.name = name\n",
        "        self.alter = alter\n",
        "        self.groesse = groesse\n",
        "        self.bellcounter = 0\n",
        "        self.futtercounter = 0\n",
        "        self.lieblingsessen = \"Käse\"\n",
        "\n",
        "    def vorstellung(self):\n",
        "        print(\"Hi, ich bin \"+self.name+\". Ich bin \"+str(self.alter)+\" Jahre alt und \"+str(self.groesse)+\" Meter groß.\\nIch habe bereits \"+ str(self.bellcounter) +\" mal gebellt!\")\n",
        "\n",
        "    def bellen():# <----- Methode, die kein self benötigt, da wir nichts mit den Attributen oder anderen Methoden machen\n",
        "        print(\"Wuff!\")\n",
        "\n",
        "    def bellen_mit_counter(self):\n",
        "        self.bellcounter += 1\n",
        "        print(\"Wuff! (mit Counter)\")\n",
        "\n",
        "    def fressen(self, menge, futter=\"Käse\"):\n",
        "        if self.futtercounter>10:\n",
        "            print(\"Ich habe heute schon genug gegessen.\")\n",
        "        else:\n",
        "            if futter==self.lieblingsessen:\n",
        "                print(\"hmmmm <3\")\n",
        "            else:\n",
        "                print(\"Wuff :-(\")\n",
        "            self.futtercounter += menge\n",
        "\n",
        "    def get_alter(self):\n",
        "        return self.alter\n",
        "\n",
        "charly = Hund(\"Charly\", 3, 1.1)\n",
        "charly.vorstellung()\n",
        "charly.bellen_mit_counter()\n",
        "charly.fressen(2)\n",
        "charly.fressen(3, \"Gurke\")\n",
        "charly.fressen(6)\n",
        "charly.fressen(1, \"Schokolade\")\n",
        "alter = charly.get_alter()\n",
        "print(\"Charly ist\",alter, \"Jahre alt.\")"
      ],
      "metadata": {
        "id": "dIiMOjmXP-AN"
      },
      "execution_count": null,
      "outputs": []
    },
    {
      "cell_type": "markdown",
      "source": [
        "\n",
        "#### **Übung 1** - Der digitale Weihnachtsmarkt\n",
        "\n",
        "Übersetze das folgende Dictionary in eine Klasse und rufe anschließend die Funktion der Klasse auf.\n",
        "\n",
        "Denke daran, die Eigenschaften deiner Klasse über den `__init__`-Konstruktor zu initialisieren.\n",
        "\n",
        "Dabei kannst du dich gerne an dem Beispiel ***Von Dictionaries zu Klassen*** oben orientieren."
      ],
      "metadata": {
        "id": "zwG5YQplw939"
      }
    },
    {
      "cell_type": "code",
      "source": [
        "lebensmittel = {\"Produkt\": \"gebrannte Mandeln\",\n",
        "            \"Temperatur\": 9,\n",
        "            \"empfohlen\": [\"Kinderpunsch\", \"Mutzenmandeln\"],\n",
        "            \"Allergie\": True}\n",
        "\n",
        "def audio_hinweis():\n",
        "  print(\"Das Produkt \", lebensmittel[\"Produkt\"])\n",
        "  if lebensmittel[\"Allergie\"]:\n",
        "    print(\"... enhält einen Allergikerhinweis.\")\n",
        "  if lebensmittel[\"Temperatur\"] < 15:\n",
        "    print(\"... ist reduziert, da es bereits kalt ist.\")\n",
        "\n",
        "  print(\"... dazu empfehlen wir:\")\n",
        "  for eintrag in lebensmittel[\"empfohlen\"]:\n",
        "    print(\"   \", eintrag)\n",
        "\n",
        "lebensmittel[\"empfohlen\"].append(\"Champignonpfanne\")\n",
        "\n",
        "audio_hinweis()"
      ],
      "metadata": {
        "id": "wc8SbE2LyDqt"
      },
      "execution_count": null,
      "outputs": []
    },
    {
      "cell_type": "code",
      "source": [
        "# Hier kommt dein Code hin:\n",
        "\n"
      ],
      "metadata": {
        "id": "z5g-QiEHXtdX"
      },
      "execution_count": null,
      "outputs": []
    },
    {
      "cell_type": "markdown",
      "source": [
        "#### **Übung 2** - Steckbrief\n",
        "\n",
        "Schreibe eine Klasse namens **Steckbrief**, die einen Konstruktor mit den Attributen **Name**, **Alter**, **mag_oliven** und **Hobbies** enthält.\n",
        "\n",
        "Schreibe eine Funktion der Klasse (mit self als Parameter), die einen sinnvollen Text ausgibt, der alle Attribute der Klasse verwertet.\n",
        "\n",
        "Füge dich selbst und mindestens weitere Personen hinzu und rufe die Funktion auf.\n",
        "\n",
        "Bonus: ***Der Dialog***\n",
        "\n",
        "Integriere in deine Klasse die Funktion ***fragen***, die auf der Konsole den Text ***Und wie heißt du?*** ausgeben soll.\n",
        "\n",
        "Ergänze weiterhin deine Klasse so, dass eine Person, falls sie sich doppelt vorstellen soll, stattdessen sagt, dass sie das bereits getan hat.\n",
        "\n",
        "Führe anschließend über den Funktionsaufruf einen sinnvollen Dialog zwischen den einzelnen Instanzen der Klasse."
      ],
      "metadata": {
        "id": "r--aRdZSV1lC"
      }
    },
    {
      "cell_type": "code",
      "source": [
        "# Hier könnte dein Code stehen (-:\n",
        "\n"
      ],
      "metadata": {
        "id": "IVTaMrzyVQhP"
      },
      "execution_count": null,
      "outputs": []
    },
    {
      "cell_type": "markdown",
      "source": [
        "### Musterlösung Türchen 15"
      ],
      "metadata": {
        "id": "9yFxjj_SawKP"
      }
    },
    {
      "cell_type": "code",
      "source": [
        "# Übung 1"
      ],
      "metadata": {
        "id": "I-yb3xAxNQoo"
      },
      "execution_count": null,
      "outputs": []
    },
    {
      "cell_type": "code",
      "source": [
        "# NameError\n",
        "def test_function():\n",
        "    a = 3\n",
        "print(a)"
      ],
      "metadata": {
        "id": "KkUlSKq1sTuF"
      },
      "execution_count": null,
      "outputs": []
    },
    {
      "cell_type": "code",
      "source": [
        "# ZeroDivisionError\n",
        "a = 3 % 0"
      ],
      "metadata": {
        "id": "QpzIDZ2EoDCH"
      },
      "execution_count": null,
      "outputs": []
    },
    {
      "cell_type": "code",
      "source": [
        "# IndexError\n",
        "liste = list()\n",
        "liste[2] = \"b\""
      ],
      "metadata": {
        "id": "nk6x19MeoC28"
      },
      "execution_count": null,
      "outputs": []
    },
    {
      "cell_type": "code",
      "source": [
        "# ModuleNotFoundError\n",
        "import help"
      ],
      "metadata": {
        "id": "EU1pZTyMoCmH"
      },
      "execution_count": null,
      "outputs": []
    },
    {
      "cell_type": "code",
      "source": [
        "# Übung 2\n",
        "def hokus_pokus(x,i):\n",
        "    if i != 0:\n",
        "        return  (x/i)+len(str(x))\n",
        "    else:\n",
        "        return 0       # nicht klar definiert, was hier passieren soll!\n",
        "\n",
        "x = 2\n",
        "i = 5\n",
        "summe = 0\n",
        "\n",
        "while x <= 10:\n",
        "    summe += hokus_pokus(x,i)\n",
        "    x += 1\n",
        "    i -= 1\n",
        "print(\"Die Summe beträgt:\", summe)"
      ],
      "metadata": {
        "id": "IgjutJvyfaBh"
      },
      "execution_count": null,
      "outputs": []
    },
    {
      "cell_type": "code",
      "source": [
        "# Übung 3\n",
        "plaetzchen = [2,4,2,1]\n",
        "sterne = [4,3,2,3/4]\n",
        "\n",
        "print(\"Wir brauchen\\n\",\n",
        "        3*plaetzchen[0] + 2*sterne[0],\n",
        "        \"Eier,\\n\",\n",
        "        3*plaetzchen[1] + 2*sterne[1],\n",
        "        \"Häufchen Mehl und\\n\",\n",
        "        3*plaetzchen[2] + 2*sterne[2],\n",
        "        \"Häufchen Zucker und\\n\",\n",
        "        3*plaetzchen[3] + 2*sterne[3],\n",
        "        \"Block Butter für unsere zwei Bleche Butterplätzchen und drei Bleche Zimtsterne.\")"
      ],
      "metadata": {
        "id": "YqNdIOgbrAPY"
      },
      "execution_count": null,
      "outputs": []
    }
  ]
}