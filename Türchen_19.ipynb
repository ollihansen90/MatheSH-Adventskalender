{
  "nbformat": 4,
  "nbformat_minor": 0,
  "metadata": {
    "colab": {
      "provenance": [],
      "collapsed_sections": [
        "hKb3p6uUBiW_",
        "33JlEPY5B9CZ",
        "U1ZWRRcdEFFo",
        "9yFxjj_SawKP"
      ],
      "include_colab_link": true
    },
    "kernelspec": {
      "name": "python3",
      "display_name": "Python 3"
    },
    "language_info": {
      "name": "python"
    }
  },
  "cells": [
    {
      "cell_type": "markdown",
      "metadata": {
        "id": "view-in-github",
        "colab_type": "text"
      },
      "source": [
        "<a href=\"https://colab.research.google.com/github/ollihansen90/MatheSH-Adventskalender/blob/main/T%C3%BCrchen_19.ipynb\" target=\"_parent\"><img src=\"https://colab.research.google.com/assets/colab-badge.svg\" alt=\"Open In Colab\"/></a>"
      ]
    },
    {
      "cell_type": "markdown",
      "source": [
        "# Fragen?\n",
        "\n",
        "Solltet ihr Fragen zum Code oder Probleme mit Colab haben, schickt uns gerne eine Mail:\n",
        "\n",
        "*   h.hansen@uni-luebeck.de\n",
        "*   dustin.haschke@student.uni-luebeck.de\n",
        "*   friederike.meissner@student.uni-luebeck.de\n"
      ],
      "metadata": {
        "id": "KZhQktFlf0Io"
      }
    },
    {
      "cell_type": "markdown",
      "source": [
        "## Türchen 19 - Plotten 1"
      ],
      "metadata": {
        "id": "j4FnhmSsfc5Y"
      }
    },
    {
      "cell_type": "code",
      "source": [
        "import numpy as np\n",
        "import matplotlib.pyplot as plt"
      ],
      "metadata": {
        "id": "6GXe19_yuqu5"
      },
      "execution_count": null,
      "outputs": []
    },
    {
      "cell_type": "markdown",
      "source": [
        "### **Grundlagen**\n",
        "#### **Die ```linspace()```-Funktion**\n",
        "\n",
        "Die NumPy-Funktion ```linspace()``` erzeugt auf einem Intervall gleich verteilte Werte, d.h. jeder Wert hat zu seinem Vorgänger und Nachfolger denselben Abstand. Diese Menge nutzen wir im weiteren Verlauf als Definitionsbereich unserer Funktion, der auf der x-Achse abgebildet wird.\n",
        "\n",
        "Die Syntax folgt diesem Schema:\n",
        "> ```linspace(start, stop, num=50, endpoint=True, retstep=False, dtype=None)```\n",
        "\n",
        "Dabei sind ```start``` und ```stop``` die Intervallgrenzen, ```num``` gibt die Anzahl der erzeugten Werte an und ist per default auf 50 gesetzt. Ist das Boolean ```endpoint``` wahr, entspricht der letzte generierte Wert dem ```stop```-Wert, anderenfalls nicht. Mit ```retstep``` kann man sich die Schrittweite, also den Abstand der Werte, ausgeben lassen, während ```dtype``` den Output-Datentyp spezifiziert. Ist er auf ```None``` gesetzt, wird er aus Start- und Stop-Wert gefolgert.\n"
      ],
      "metadata": {
        "id": "guOyvkKgAojd"
      }
    },
    {
      "cell_type": "code",
      "source": [
        "# Array von 10 gleich verteilten Werten im halboffenen Intervall [0,5), d.h. ohne 5\n",
        "# Ausgabe als Tupel: 1. Komponente - Werteliste, 2. Komponente - Schrittweite 0.5\n",
        "print(np.linspace(0, 5, num=10, endpoint=False, retstep=True, dtype=None))\n",
        "\n",
        "# jetzt geschlossenes Intervall [0,5], d.h. 5 ist enthalten\n",
        "# entsprechend veränderte Schrittweite\n",
        "print(np.linspace(0, 5, num=10, endpoint=True, retstep=True, dtype=None))"
      ],
      "metadata": {
        "id": "iGvSnQsDC_Ra"
      },
      "execution_count": null,
      "outputs": []
    },
    {
      "cell_type": "markdown",
      "source": [
        "### **Funktionen plotten**\n",
        "\n",
        "Zur Darstellung eines Funktionsgraphen fehlt jetzt natürlich noch ein Werteberech, in den die Funktion abbildet. Dafür weisen wir die Funktionsdefinition, z.B. $f_{1}(x) = x$ oder $f_{2}(x) = 3x+1$, einer neuen Variable zu, die die y-Werte in einem ```num```-großen Array speichert.\n",
        "\n",
        "Mithilfe der matplotlib.pyplot-Funktion ```plot(X,Y)``` werden die (x,y)-Tupel aus den beiden erzeugten Arrays zusammengesetzt und in einem zweidimensionalen Koordinatensystem abgebildet."
      ],
      "metadata": {
        "id": "0uWVWyDJI1FK"
      }
    },
    {
      "cell_type": "code",
      "source": [
        "X = np.linspace(0, 20, endpoint=True)   # Definitionsbereich\n",
        "F1 = X                                  # Wertebereich für f_1\n",
        "F2 = 3*X + 1                            # Wertebereich für f_2\n",
        "plt.plot(X,F1)                          # plot-Aufruf für f_1\n",
        "plt.plot(X,F2)                          # plot-Aufruf für f_2\n",
        "plt.show()"
      ],
      "metadata": {
        "id": "py2dP9x1I-wQ"
      },
      "execution_count": null,
      "outputs": []
    },
    {
      "cell_type": "markdown",
      "source": [
        "Beim Plotten der Sinusfunktion wird besonders deutlich, warum es so wichtig ist, mit ```linspace``` ausreichend Werte zu erzeugen:\n",
        "\n",
        "In ```xList1``` sind es 50 Werte auf dem Intervall $[0,2\\pi]$, in ```xList2``` hingegen nur 10, sodass der rote Graph nur eine Annäherung an den tatsächlichen Sinusverlauf darstellt!"
      ],
      "metadata": {
        "id": "7PtAOZL3Wimj"
      }
    },
    {
      "cell_type": "code",
      "source": [
        "X1 = np.linspace(0, 2*np.pi, 50, endpoint=True)\n",
        "sin1 = np.sin(X1)\n",
        "\n",
        "X2 = np.linspace(0, 2*np.pi, 10, endpoint=True)\n",
        "sin2 = np.sin(X2)\n",
        "\n",
        "plt.plot(X1, sin1, color='g')\n",
        "plt.plot(X2, sin2, color='r')\n",
        "plt.show()"
      ],
      "metadata": {
        "id": "9B0HUo73Lwpf"
      },
      "execution_count": null,
      "outputs": []
    },
    {
      "cell_type": "markdown",
      "source": [
        "### **Veränderung der Darstellung**\n",
        "#### **Linienarten und Farben**\n",
        "\n",
        "Innerhalb des ```plot```-Aufrufs gibt es verschiedene Parameter, die den Graphen unserer Funktion verändern.\n",
        "\n",
        "Den Linienstil können wir mit ```linestyle```  variieren. Hier gibt es u.a. die folgenden Möglichkeiten:\n",
        "*   ```'-'``` normale durchgezogene Linie\n",
        "*   ```'--'``` gestrichelte Linie\n",
        "*   ```'-.'``` Strich-Punkt-Linie\n",
        "*   ```':'``` gepunktete Linie\n",
        "\n",
        "Zudem ermöglicht ```linewidth``` die Einstellung einer bestimmten Linienstärke, die im Allgemeinen im Intervall (0,5) liegen sollte.\n",
        "\n",
        "Mit ```color``` wird die Farbe des Graphen festgelegt. Dabei haben wir die Auswahl aus einigen Standardfarben, die z.T mittels ihrer Abkürzung (bestehend aus dem Anfangsbuchstaben der englischen Farbbezeichnung) zugeordnet werden. (Für außergewöhnlichere Farben benötigt man Hex-Zahlen oder RGB-Tupel.)"
      ],
      "metadata": {
        "id": "3AKpVI0_LW29"
      }
    },
    {
      "cell_type": "code",
      "source": [
        "X = np.linspace(-5, 5, 50, endpoint=True)\n",
        "F1 = X**2+3\n",
        "F2 = X-5\n",
        "F3 = 1/2*X**3\n",
        "F4 = -10*X\n",
        "\n",
        "# auch beliebige Reihenfolge der Parameter color, linewidth, linestyle möglich\n",
        "plt.plot(X, F1, color=\"b\", linewidth=2, linestyle=\"-\")\n",
        "plt.plot(X, F2, color=\"r\", linewidth=1.5, linestyle=\"--\")\n",
        "plt.plot(X, F3, color=\"g\", linewidth=1, linestyle=\"-.\")\n",
        "plt.plot(X, F4, color=\"orange\", linewidth=1.5, linestyle=\":\")\n",
        "plt.show()"
      ],
      "metadata": {
        "id": "1YDqRvJGQsmn"
      },
      "execution_count": null,
      "outputs": []
    },
    {
      "cell_type": "markdown",
      "source": [
        "### **Beschriftung des Plots**\n",
        "\n",
        "#### **Die Achsenbeschriftung**\n",
        "\n",
        "Ebenso, wie ihr die Farbgebung umfassend anpassen könnt, könnt ihr das auch mit den Beschriftungen tun. So könnt ihr z.B. eine Achsenbeschriftung durch\n",
        "\n",
        "```plt.xlabel(\"String\")``` für die x-Achse bzw.\n",
        "\n",
        "```plt.ylabel(\"String\")``` für die y-Achse hinzufügen.\n",
        "\n",
        "#### **Der Titel**\n",
        "\n",
        "Auch einen Titel könnt ihr im Format\n",
        "\n",
        "```plt.title (\"String\",loc='center')```\n",
        "\n",
        "eurem Koordinatensystem geben.\n",
        "```loc``` beschreibt dabei die Position des Titels und ist nur optional anzugeben. ```loc``` kann z.B. die Parameter ```left``` oder ```right``` besitzen, wodurch der Titel die Position verändert.\n",
        "\n",
        "#### **Eine Legende anlegen**\n",
        "\n",
        "Das Anlegen einer Legende kann sich manchmal als etwas kompliziert erweisen. Am leichtesten ist es meist seinen Funktionen ein zusätzliches *Label* zu geben z.B. über\n",
        "\n",
        "```plt.plot(X,F1,label=\"Hier steht der Labelname\")```\n",
        "\n",
        "Dann benötigen wir noch die Funktion\n",
        "\n",
        "```plt.legend()```\n",
        "\n",
        "Diese verfügt optional ebenfalls über den *Positionsparameter* ```loc```, welcher aber auch anstatt z.B. '*upper left*' durch Zahlenwerte zwischen 1 und 10 einer Position zugeordnet werden kann.\n",
        "\n",
        "#### **Einen Achsenabschnitt betrachten und das Raster**\n",
        "\n",
        "Abschließend wollen wir noch einen Achsenabschnitt fokussieren und ein Raster einzeichnen. Über die Funktion\n",
        "\n",
        "```plt.xlim(int1,int2)```\n",
        "\n",
        "können wir mit eingesetzen Zahlenwerten für **int1** die betrachtete x-Achse beschränken. Analog funktioniert das ebenso mit ```plt.ylim```.\n",
        "\n",
        "Letztlich kann über\n",
        "\n",
        "```plt.grid()```\n",
        "\n",
        "ein Raster in unsere Funktion eingezeichnet werden.\n",
        "\n",
        "Hier ein Beispiel:"
      ],
      "metadata": {
        "id": "xqwIY-cg_oN7"
      }
    },
    {
      "cell_type": "code",
      "source": [
        "import numpy as np\n",
        "import matplotlib.pyplot as plt\n",
        "\n",
        "X = np.linspace(0, 20, endpoint=True)     # bekanntes Anlegen des Plots\n",
        "bacteria1 = X**3 - 10*X**2 +150\n",
        "bacteria2 = X**2\n",
        "\n",
        "# Label für die Legende\n",
        "plt.plot(X,bacteria1,label=\"bacterium curiosum\")     # Die Funktion F1 erhält das Label \"bacterium curiosum\"\n",
        "plt.plot(X,bacteria2,label=\"bacto schwacho\")         # Die Funktion F2 erhält das Label \"bacto schwacho\"\n",
        "\n",
        "# Achsen\n",
        "plt.xlabel(\"Minuten\")                     # Die x-Achse wird in Zeit umbenannt\n",
        "plt.ylabel(\"Bakterien-Anzahl\")            # Die y-Achse wird in Bakterien-Anzahl umbenannt\n",
        "\n",
        "# Titel\n",
        "plt.title(\"Vermehrung von Darmbakterien\") # Der erste Titel wird angelegt (Standard: mittig)\n",
        "plt.title(\"von Tim\",loc='right')          # Der zweite Titel wird rechts angelegt\n",
        "\n",
        "# Legende\n",
        "plt.legend(loc=10)                        # Hier wird die mittige Position Nummer 10 für die Legende verwendet\n",
        "\n",
        "# Achsenabschnitte und Raster\n",
        "plt.xlim(0,12)                            # Es werden nur die ersten 12 Minuten auf der x-Achse betrachtet\n",
        "plt.ylim(0,300)                           # Die y-Achse wird auf den Bereich zwischen 0 und 300 limitiert.\n",
        "plt.grid()                                # Ein Raster wird in das Koordinatensystem eingezeichnet\n",
        "\n",
        "plt.show()"
      ],
      "metadata": {
        "id": "L2SShvcW8BhK"
      },
      "execution_count": null,
      "outputs": []
    },
    {
      "cell_type": "markdown",
      "source": [
        "Natürlich besitzt auch ```plt.show()``` verschiedenste anpassbare Parameter, die Form, Farbe, Größe u.v.m. verändern.\n",
        "\n",
        "Solltet ihr sowas mal benötigen, so schlagt einfach entsprechend in der Dokumentation des *packages* nach:\n",
        "\n",
        "https://matplotlib.org/stable/index.html"
      ],
      "metadata": {
        "id": "l0CbRae1TAFZ"
      }
    },
    {
      "cell_type": "markdown",
      "source": [
        "Natürlich besitzt auch ```plt.show()``` verschiedenste anpassbare Parameter, die Form, Farbe, Größe u.v.m. verändern.\n",
        "\n",
        "Solltet ihr sowas mal benötigen, so schlagt einfach entsprechend in der Dokumentation des *packages* nach:\n",
        "\n",
        "https://matplotlib.org/stable/index.html"
      ],
      "metadata": {
        "id": "TvP3AbIZPOb6"
      }
    },
    {
      "cell_type": "markdown",
      "source": [
        "#### **Übung 1** - Parameter schätzen und Fehler minimieren\n",
        "\n",
        "Variiere die Parameter des Arrays in Zeile 19 so, dass der angezeigte Fehler (\"Loss\") möglichst gering wird."
      ],
      "metadata": {
        "id": "hKb3p6uUBiW_"
      }
    },
    {
      "cell_type": "code",
      "source": [
        "import numpy as np\n",
        "import matplotlib.pyplot as plt\n",
        "\n",
        "datenwolke = (np.random.randn(1000,2)@np.array([[1,1],[0,1]]) + np.array([3,7])).T\n",
        "x = np.array([-100,100])\n",
        "\n",
        "def MSELoss(parameter, datenwolke):\n",
        "    param = np.array([parameter[0], -1])\n",
        "    bias = parameter[-1]\n",
        "    param_norm = np.linalg.norm(param)\n",
        "    param0 = param/param_norm\n",
        "    param0 = np.array([*param0, bias/param_norm])\n",
        "    #print(param0)\n",
        "    data = np.column_stack((datenwolke.T, np.ones(datenwolke.shape[1])))\n",
        "    dist = data@param0\n",
        "    return (dist@dist)/datenwolke.shape[1]\n",
        "\n",
        "# Hier können m und b verändert werden!\n",
        "parameter = np.array([10/8,3.5])\n",
        "# -------------------------------------\n",
        "\n",
        "print(\"Loss:\", MSELoss(parameter, datenwolke))\n",
        "plt.figure()\n",
        "plt.plot(datenwolke[0], datenwolke[1], \".\")\n",
        "plt.xlim((0, np.max(datenwolke[0])))\n",
        "plt.ylim((0, np.max(datenwolke[1])))\n",
        "plt.plot(x, [parameter[0]*x[0]+parameter[1], parameter[0]*x[1]+parameter[1]])\n",
        "plt.grid()\n",
        "plt.show()"
      ],
      "metadata": {
        "id": "-CTNJqI_uuNb"
      },
      "execution_count": null,
      "outputs": []
    },
    {
      "cell_type": "markdown",
      "source": [
        "#### **Übung 2** - Plotten üben\n",
        "\n",
        "In dieser Übung habt ihr keinerlei Code vorgegeben. Ihr sollt allerdings die folgenden Punkte abarbeiten:\n",
        "\n",
        "* Erstellt euch Werte für x von $0$ bis $2\\pi$ (```np.pi```).\n",
        "* Erstellt mindestens drei von x abhängige y, alle entweder von der Form ```a * np.sin(b*x + c) + d``` oder ```a * np.cos(b*x + c) + d```. Experimentiert gerne ein wenig und probiert herauszufinden, wie die einzelnen Parameter, die Funktionen verändern.\n",
        "* Plottet die drei (oder mehr) Funktionen und sorgt dafür, dass sie gut unterscheidbar sind (Farben, Linienstil, Legende, eventuell Subplots, ...).\n",
        "* **Bonus:** Was passiert, wenn ihr c als $\\pi$ oder $2\\pi$ oder $3\\pi$ oder ... wählt?"
      ],
      "metadata": {
        "id": "33JlEPY5B9CZ"
      }
    },
    {
      "cell_type": "code",
      "source": [],
      "metadata": {
        "id": "9PYG79svq780"
      },
      "execution_count": null,
      "outputs": []
    },
    {
      "cell_type": "markdown",
      "source": [
        "#### **Übung 3** - Das leichteste Problem der Welt\n",
        "Das leichteste Problem der Welt ist tatsächlich eins der leichtesten und damit gefährlichsten! Warum gefährlich? Es ist so leicht, dass man immer das Gefühl hat, es wäre gleich gelöst. Tatsächlich gehört es aber zu den ungelösten Problemen der Mathematik.\n",
        "\n",
        "Nimm eine ganze Zahl```x``` größer als 0. Wenn die Zahl gerade ist, halbiere sie. Wenn die Zahl ungerade ist, multipliziere sie mit 3 und addiere 1 (also ```3x+1```). Berechne so eine Folge von Zahlen. Was kannst du beobachten?\n",
        "\n",
        "Implementiere den Algorithmus und plotte jeweils die ersten 100 Iterationen für die Startwerte ```4```, ```5```, ```15```,```27``` und ```100```."
      ],
      "metadata": {
        "id": "U1ZWRRcdEFFo"
      }
    },
    {
      "cell_type": "code",
      "source": [],
      "metadata": {
        "id": "kqcAIm7ErJQ4"
      },
      "execution_count": null,
      "outputs": []
    },
    {
      "cell_type": "markdown",
      "source": [
        "### Musterlösung Türchen 18"
      ],
      "metadata": {
        "id": "9yFxjj_SawKP"
      }
    },
    {
      "cell_type": "code",
      "source": [
        "# Übung 1\n",
        "import math\n",
        "\n",
        "x = 100\n",
        "print(math.sin(x))\n",
        "print(math.cos(x))\n",
        "print(math.tan(x))\n",
        "\n",
        "x = 2.6*math.pi\n",
        "print(math.sin(x))\n",
        "print(math.cos(x))\n",
        "print(math.tan(x))"
      ],
      "metadata": {
        "id": "2k2gdFRRmiPW"
      },
      "execution_count": null,
      "outputs": []
    },
    {
      "cell_type": "code",
      "source": [
        "# Übung 2\n",
        "import random\n",
        "\n",
        "summe = 0\n",
        "for i in range(1001):\n",
        "    summe += random.randint(1,6)\n",
        "print(summe)\n",
        "print(summe/1001)"
      ],
      "metadata": {
        "id": "-cJlMzcineB0"
      },
      "execution_count": null,
      "outputs": []
    },
    {
      "cell_type": "code",
      "source": [
        "# Übung 3\n",
        "import datetime\n",
        "\n",
        "geburtstag_zuse = datetime.date(1910,6,22)\n",
        "heiligabend_1920 = datetime.date(1920,12,24)\n",
        "\n",
        "#Hier folgt dein Code:\n",
        "print(datetime.datetime.isoweekday(geburtstag_zuse)) # 3 -> Mittwoch\n",
        "print(datetime.datetime.isoweekday(heiligabend_1920)) # 5 -> Freitag\n",
        "\n",
        "# alternativ:\n",
        "print(datetime.datetime.weekday(geburtstag_zuse)) # 2 -> Mittwoch\n",
        "print(datetime.datetime.weekday(heiligabend_1920)) # 4 -> Freitag"
      ],
      "metadata": {
        "id": "aJQYBAQ9nCR0"
      },
      "execution_count": null,
      "outputs": []
    },
    {
      "cell_type": "code",
      "source": [
        "# Übung 3 - Zusatz\n",
        "import datetime\n",
        "\n",
        "def wochentag(jahr, monat, tag):\n",
        "    datum = datetime.date(jahr, monat, tag)\n",
        "    tage = {1: \"Montag\", 2: \"Dienstag\", 3: \"Mittwoch\", 4: \"Donnerstag\", 5: \"Freitag\", 6: \"Samstag\", 7: \"Sonntag\"} # schon Dictionary, alternativ if-Abfragen\n",
        "    return tage[datetime.datetime.isoweekday(datum)]\n",
        "\n",
        "# alternativ ohne Dictionaries\n",
        "def wochentag(jahr, monat, tag):\n",
        "    datum = datetime.datetime.isoweekday(datetime.date(jahr, monat, tag))\n",
        "    tage = [\"Montag\", \"Dienstag\", \"Mittwoch\", \"Donnerstag\", \"Freitag\", \"Samstag\", \"Sonntag\"]\n",
        "    return tage[datum - 1] # wenn weekday statt isoweekday: tage[datum]\n",
        "\n",
        "print(wochentag(1920, 12, 24))"
      ],
      "metadata": {
        "id": "AXx1CkocnQzt"
      },
      "execution_count": null,
      "outputs": []
    },
    {
      "cell_type": "code",
      "source": [
        "# Übung 4\n",
        "import math as m\n",
        "import datetime\n",
        "import random\n",
        "\n",
        "def chaos():\n",
        "    wert = 0\n",
        "    for i in range(250_000):\n",
        "        wert += random.randint(1,99)\n",
        "    wert += int(datetime.date.today().strftime(\"%w\"))\n",
        "    wert = wert/250_001\n",
        "    wert = wert // 5\n",
        "    wert *= m.pi\n",
        "    wert = m.cos(wert)\n",
        "    print(wert)\n",
        "\n",
        "chaos()"
      ],
      "metadata": {
        "id": "F-pIJkkMnjjN"
      },
      "execution_count": null,
      "outputs": []
    }
  ]
}