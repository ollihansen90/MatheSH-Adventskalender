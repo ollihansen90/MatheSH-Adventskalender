{
  "nbformat": 4,
  "nbformat_minor": 0,
  "metadata": {
    "colab": {
      "provenance": [],
      "include_colab_link": true
    },
    "kernelspec": {
      "name": "python3",
      "display_name": "Python 3"
    },
    "language_info": {
      "name": "python"
    }
  },
  "cells": [
    {
      "cell_type": "markdown",
      "metadata": {
        "id": "view-in-github",
        "colab_type": "text"
      },
      "source": [
        "<a href=\"https://colab.research.google.com/github/ollihansen90/MatheSH-Adventskalender/blob/main/T%C3%BCrchen_15.ipynb\" target=\"_parent\"><img src=\"https://colab.research.google.com/assets/colab-badge.svg\" alt=\"Open In Colab\"/></a>"
      ]
    },
    {
      "cell_type": "markdown",
      "source": [
        "# Fragen?\n",
        "\n",
        "Solltet ihr Fragen zum Code oder Probleme mit Colab haben, schickt uns gerne eine Mail:\n",
        "\n",
        "*   h.hansen@uni-luebeck.de\n",
        "*   dustin.haschke@student.uni-luebeck.de\n",
        "*   friederike.meissner@student.uni-luebeck.de\n"
      ],
      "metadata": {
        "id": "KZhQktFlf0Io"
      }
    },
    {
      "cell_type": "markdown",
      "source": [
        "## Türchen 15 - Debugging"
      ],
      "metadata": {
        "id": "cCh2E7wBfY31"
      }
    },
    {
      "cell_type": "markdown",
      "source": [
        "<img src=\"https://img.devrant.com/devrant/rant/r_2350662_4ChZb.jpg\" width=\"50%\">"
      ],
      "metadata": {
        "id": "7CxpZwUdWURr"
      }
    },
    {
      "cell_type": "markdown",
      "source": [
        "### **Welche Fehlertypen gibt es?**\n",
        "\n",
        "**Syntaxfehler (syntax errors)**\n",
        "\n",
        "   - werden durch einen fehlerhaften Code erzeugt, der  von Python nicht interpretiert werden kann\n",
        "\n",
        "   - erzeugen Fehlermeldung\n",
        "\n",
        "   - z.B. fehlender Doppelpunkt im Kopf einer ``for``-Schleife oder unzulässige Benennung von Variablen\n",
        "\n",
        "**Ausnahmefälle, Laufzeitfehler & Warnungen (exceptions, runtime errors & warnings)**\n",
        "  - werden durch eine Anweisung erzeugt, die von Python nicht durchgeführt werden kann\n",
        "\n",
        "  - erzeugen Fehlermeldung\n",
        "\n",
        "  - z.B. ist ```x = 5/0``` zwar syntaktisch korrekter Programmcode, da es aber unmöglich ist, durch die Null zu teilen, wird ein *ZeroDivisionError* ausgegeben\n",
        "\n",
        "**Logikfehler (logical errors)**\n",
        " -  wird von eigentlich fehlerfreiem Code erzeugt, der allerdings nicht das gewünschte Resultat liefert, weil die Programmierlogik nicht richtig implementiert wurde\n",
        "\n",
        " - da *keine Fehlermeldung* ausgegeben wird, ist es häufig schwierig diese Fehler zu lösen\n",
        "\n",
        " - z.B. kann eine if-Abfrage durch eine fehlerhafte Einrückung in einer verkehrten Reihenfolge stehen und eine unerwünschte Ausgabe erzeugen"
      ],
      "metadata": {
        "id": "ctV9vLkP_Aou"
      }
    },
    {
      "cell_type": "markdown",
      "source": [
        "### **Typische Fehlerarten**\n",
        "\n",
        "Zu den am häufigsten erzeugten Fehlern zählen die folgenden Arten:\n",
        "\n",
        "- **ArithmeticError**: Fehler bei der Durchführung einer Rechnung\n",
        "-- **OverflowError**: Rechenergebnis ist zu groß, um dargestellt zu werden\n",
        "-- **ZeroDivisionError**: Division bzw. Modulo (``%``) durch Null nicht möglich\n",
        "\n",
        "- **AttributeError**: fehlgeschlagene Zuweisung eines Attributs oder einer Referenz\n",
        "\n",
        "- **ImportError**: generelles Problem beim Laden eines Moduls durch ``import``\n",
        "-- **ModuleNotFoundError**: unbekanntes (nicht gefundenes) Modul\n",
        "\n",
        "- **IndexError**: verwendeter Index befindet sich außerhalb der Range bzw. des Umfangs des Elements\n",
        "\n",
        "- **KeyError**: zugehöriger Dictionary-Schlüsselwert (Key) existiert noch nicht\n",
        "\n",
        "- **NameError**: nicht gefundene lokale oder globale Variable (-> Gültigkeitsbereich prüfen)\n",
        "\n",
        "- **RuntimeError**: Fehler, der sich in keine der genannten Kategorien einorden lässt, Angabe des exakten Problems als String\n",
        "\n",
        "- **SyntaxError**: Syntaxfehler, z.B bei der Verwendung voreingebauter Funktionen\n",
        "-- **IndentationError**: fehlerhafte Einrückung von Code-Blöcken\n",
        "\n",
        "- **TypeError**: verwendete Operation oder Funktion ist nicht auf ein Objekt dieses Typs anwendbar, Angabe des unzulässigen Typs als String\n",
        "\n",
        "- **ValueError**: Anwendung einer Operation oder Funktion auf ein Argument des richtigen Typs, aber mit unzulässigem Wert"
      ],
      "metadata": {
        "id": "1Mi-GOBCgQpd"
      }
    },
    {
      "cell_type": "markdown",
      "source": [
        "### **Wie ist eine Fehlermeldung aufgebaut?**\n",
        "\n",
        "Hier zwei Beispiele für einen ausgegebenen Fehlercode:\n",
        "\n",
        "![](https://drive.google.com/uc?export=view&id=1NVOB-v-6wA-dWRcRQw1SWzpS8Tv7miL1)\n",
        "\n",
        "![](https://drive.google.com/uc?export=view&id=1bbHk35loQO9SOb8pOil17HD61w5RFfQQ)\n",
        "\n",
        "###Der Zeilenverweis\n",
        "In Colab erhält man die rot eingefärbte Fehlermeldung meist direkt unter dem Code.\n",
        "\n",
        "Diese enthält in der Regel einen Verweis auf die fehlerhafte Zeile z.B. durch <font color='lightblue'>line (Zeilennummer)</font> oder sowas wie einen Pfeil <font color='green'> - - - - > </font> auf die entsprechende Zeile.\n",
        "Der konkrete Zeilenabschnitt ist manchmal mit einem schlichten **^** markiert.\n",
        "\n",
        "Um die Zeile zu finden, ist es sinnvoll, die Zeilennummerierung in Colab über das obige DropDown-Menü über Tools->Einstellungen->Editor-> Zeilennummern_anzeigen zu aktivieren.\n",
        "\n",
        "Alternativ gibt Colab auch einen Link in der Form <font color=  #5dade2 > <ipython-input-(Nummer)-(lustigeZahl)> </font> bei vielen Fehlern aus, der durch einen Klick auf diesen in das betreffende Feld springt.\n",
        "\n",
        "###Fehlersuche im Internet\n",
        "Sehr hilfreich kann auch ein Klick auf das Feld *SEARCH STACK OVERFLOW* sein, welcher den Fehler in einem großen Online-Programmierforum googlet. Wobei *ein* Online-Programmierforum es wohl nicht wirklich trifft, sondern viel mehr **das** Online-Programmierforum. Die Website betitelt sich mit Sprüchen wie \"Where Developers Learn, Share, & Build\" (\"Wo Entwickler lernen, teilen und bauen\") oder dem Motto \"Empowering the world to develop technology through collective knowledge\" (\"Der Welt ermöglichen Technologien zu entwickeln durch kollektives Wissen\"). Bei über **100.000** Nutzern monatlich kann man wohl wirklich von \"kollektiven Wissen\" sprechen.\n",
        "\n",
        "Leider ist dies ein englischsprachiges Forum, aber mithilfe von Übersetzungsprogrammen wie deepl.com kann man sich dort auch ohne Sprachkenntnisse zurechtfinden.\n",
        "Beachtet dabei unbedingt, dass viele Programmierbegriffe englisch sind und nicht übersetzt werden sollten.\n",
        "\n",
        "<img src=\"https://i.redd.it/op96es9026wy.png\"\n",
        "width=\"50%\">\n",
        "\n",
        "Alternativ gibt es offizielle und inoffizielle Dokumentation über Fehlercodes in Python, die über deren Bedeutung aufklären:\n",
        "\n",
        "*   Deutsche Übersicht über Bedeutungen von gängigen Fehlermeldungen:\n",
        "* * https://lernenpython.com/exceptions/#Python_Built-in_Exceptions\n",
        "\n",
        "*   Englische Übersicht über ALLE Fehlermeldungen:\n",
        "\n",
        "* * https://docs.python.org/3/library/exceptions.html#bltin-exceptions\n",
        "\n",
        "* Allgemeines zu Errors & Exceptions auf Deutsch:\n",
        "\n",
        "* * https://py-tutorial-de.readthedocs.io/de/python-3.3/errors.html\n",
        "\n",
        "<img src=\"https://i.redd.it/ms8u3bl2kw351.jpg\"\n",
        "width=\"50%\"/>"
      ],
      "metadata": {
        "id": "D10QV02xgOPy"
      }
    },
    {
      "cell_type": "markdown",
      "source": [
        "#### **Übung 1** - Selbst einen Fehler erzeugen\n",
        "\n",
        "Erzeuge vier der beschriebenen Fehlerarten mithilfe vier kurzer Code-Beispiele und analysiere die zugehörigen Fehlermeldungen. Verwende am besten eine Zelle pro Fehlertyp, da die Ausführung einer Zelle schon durch die erste Fehlermeldung abgebrochen wird."
      ],
      "metadata": {
        "id": "cktGFZQ4Y2FQ"
      }
    },
    {
      "cell_type": "code",
      "source": [],
      "metadata": {
        "id": "R7kPO7HRY5Xo"
      },
      "execution_count": null,
      "outputs": []
    },
    {
      "cell_type": "markdown",
      "source": [
        "#### **Übung 2** - Rechenaufgabe mit Hindernissen\n",
        "\n",
        "Es soll ein Programm geschrieben werden, dass mit $x=2$ und $i=5$ startet, in jedem Durchlauf über die Funktion ``hokus_pokus`` $length(x) + \\frac{x}{i}$ berechnet und zu der Variable ``summe`` addiert.\n",
        "\n",
        "Nach jedem Durchlauf wird $x$ um $1$ erhöht und $i$ um $1$ reduziert, bis $x$ größer als 10 ist.\n",
        "\n",
        "Schließlich wird diese Summe ausgegeben.\n",
        "\n",
        "Korrigiere bitte folgenden, fehlerhaften Code:"
      ],
      "metadata": {
        "id": "bCVxouYQiVAK"
      }
    },
    {
      "cell_type": "code",
      "source": [
        "define hokus_pokus:\n",
        "    if x != 0\n",
        "    return: (x/i)+x.length()\n",
        "\n",
        "    x = 2\n",
        "    i = 5\n",
        "    summe = 0\n",
        "\n",
        "while x <= 10\n",
        "    sum = hokus_pokos[x,i]\n",
        "    x += 1\n",
        "    i += 1\n",
        "\n",
        "print(Die Summe beträgt:, summe)"
      ],
      "metadata": {
        "id": "m4qvYw0YeVfH"
      },
      "execution_count": null,
      "outputs": []
    },
    {
      "cell_type": "markdown",
      "source": [
        "#### **Übung 3** - Logische Fehler: Weihnachtsbäckerei\n",
        "\n",
        "Im Folgenden sollen drei Bleche Butterplätzchen und zwei Bleche Zimtsterne gebacken werden. Für ein Blech Butterplätzchen werden 2 Eier, 4 Häufchen Mehl, 2 Häufchen Zucker und ein Block Butter benötigt, während ein Blech Zimtsterne aus 4 Eiern, 3 Häufchen Mehl, 2 Häufchen Zucker und einem 3/4 Block Butter besteht.\n",
        "\n",
        "Doch irgendetwas ist bei der Berechnung schiefgegangen...\n",
        "\n",
        "Kannst du unsere Einkaufsliste der Kekszutaten korrigieren?\n"
      ],
      "metadata": {
        "id": "oo233c7Le1TH"
      }
    },
    {
      "cell_type": "code",
      "source": [
        "plaetzchen = [2,4,2,1]\n",
        "sterne = [4,3,2,3/4]\n",
        "\n",
        "print(\"Wir brauchen\\n\",\n",
        "        (3*plaetzchen+2*sterne)[0],\n",
        "        \"Eier,\\n\",\n",
        "        (3*plaetzchen+2*sterne)[1],\n",
        "        \"Häufchen Mehl und\\n\",\n",
        "        (3*plaetzchen+2*sterne)[2],\n",
        "        \"Häufchen Zucker und\\n\",\n",
        "        (3*plaetzchen+2*sterne)[3],\n",
        "        \"Block Butter für unsere zwei Bleche Butterplätzchen und drei Bleche Zimtsterne.\")"
      ],
      "metadata": {
        "id": "HA52vLgLfgl4"
      },
      "execution_count": null,
      "outputs": []
    },
    {
      "cell_type": "markdown",
      "source": [
        "### Musterlösung Türchen 14"
      ],
      "metadata": {
        "id": "9yFxjj_SawKP"
      }
    },
    {
      "cell_type": "code",
      "source": [
        "# Übung 1\n",
        "import json\n",
        "\n",
        "# Hier folgt deine Lösung:\n",
        "schueler1 = {\"Name\": \"Leonie\", \"Alter\": 15, \"Haustier\": False}\n",
        "schueler2 = {\"Name\": \"Theo\", \"Alter\": 13, \"Haustier\": True}\n",
        "schueler3 = {\"Name\": \"Amelie\", \"Alter\": 14, \"Haustier\": False}\n",
        "schueler4 = {\"Name\": \"Max\", \"Alter\": 14, \"Haustier\": False}\n",
        "schueler5 = {\"Name\": \"Julian\", \"Alter\": 16, \"Haustier\": True}\n",
        "\n",
        "klasse = {\"Schueler1\": schueler1,\n",
        "          \"Schueler2\": schueler2,\n",
        "          \"Schueler3\": schueler3,\n",
        "          \"Schueler4\": schueler4,\n",
        "          \"Schueler5\": schueler5}\n",
        "\n",
        "print(\"Datentyp vor der Konvertierung: \", type(klasse))\n",
        "json_string = json.dumps(klasse)\n",
        "print(json_string)\n",
        "print(\"Datentyp nach der Konvertierung\", type(json_string))"
      ],
      "metadata": {
        "id": "xNLf1yxKVm88"
      },
      "execution_count": null,
      "outputs": []
    }
  ]
}