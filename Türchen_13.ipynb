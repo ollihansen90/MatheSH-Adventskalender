{
  "nbformat": 4,
  "nbformat_minor": 0,
  "metadata": {
    "colab": {
      "provenance": [],
      "include_colab_link": true
    },
    "kernelspec": {
      "name": "python3",
      "display_name": "Python 3"
    },
    "language_info": {
      "name": "python"
    }
  },
  "cells": [
    {
      "cell_type": "markdown",
      "metadata": {
        "id": "view-in-github",
        "colab_type": "text"
      },
      "source": [
        "<a href=\"https://colab.research.google.com/github/ollihansen90/MatheSH-Adventskalender/blob/main/T%C3%BCrchen_13.ipynb\" target=\"_parent\"><img src=\"https://colab.research.google.com/assets/colab-badge.svg\" alt=\"Open In Colab\"/></a>"
      ]
    },
    {
      "cell_type": "markdown",
      "source": [
        "# Fragen?\n",
        "\n",
        "Solltet ihr Fragen zum Code oder Probleme mit Colab haben, schickt uns gerne eine Mail:\n",
        "\n",
        "*   h.hansen@uni-luebeck.de\n",
        "*   dustin.haschke@student.uni-luebeck.de\n",
        "*   friederike.meissner@student.uni-luebeck.de\n"
      ],
      "metadata": {
        "id": "KZhQktFlf0Io"
      }
    },
    {
      "cell_type": "markdown",
      "source": [
        "## Türchen 13 - Dictionaries"
      ],
      "metadata": {
        "id": "Jgxp9-MNfXip"
      }
    },
    {
      "cell_type": "markdown",
      "source": [
        "### **Dictionaries**\n",
        "\n",
        "Ein ***Dictionary*** ordnet einem Schlüssel *(key)* einen bestimmten Wert *(value)* zu. Man kann sich das wie zwei parallele Listen oder Tabellen vorstellen. Das Dictionary besitzt folgende Grundform:\n",
        "\n",
        "```{<key1:<value1>>, <key2>:<value2>}```\n",
        "\n",
        "Hier ein Beispiel:"
      ],
      "metadata": {
        "id": "PRFZUPDudKL-"
      }
    },
    {
      "cell_type": "code",
      "source": [
        "temperatur = {\n",
        "                \"Montag\":12,\n",
        "                \"Dienstag\":15,\n",
        "                \"Mittwoch\":7,\n",
        "                True: 14,\n",
        "                print: 13\n",
        "                }"
      ],
      "metadata": {
        "id": "eIn-1Yz2g0dt"
      },
      "execution_count": null,
      "outputs": []
    },
    {
      "cell_type": "markdown",
      "source": [
        "Um ein **leeres Dictionary** anzulegen, kann man entweder einfach ```{}``` verwenden oder aber ```dict()```.\n",
        "\n",
        "Bekannte Befehle wie ```len()``` können ebenso angewendet werden. Allerdings erfolgt der Zugriff anders als z.B. bei Listen. Dazu später mehr."
      ],
      "metadata": {
        "id": "hU0iRst6hnlT"
      }
    },
    {
      "cell_type": "code",
      "source": [
        "bla = dict()\n",
        "blub = {}\n",
        "notiz = {\"Zahl\": 5, \"sichtbar\": True}\n",
        "\n",
        "print(len(bla),len(notiz))  # Ausgabe der Länge der Dictionaries bla und notiz"
      ],
      "metadata": {
        "id": "4htQQ7P8h5oD"
      },
      "execution_count": null,
      "outputs": []
    },
    {
      "cell_type": "markdown",
      "source": [
        "Alles, was in einer *Variable* gespeichert werden kann, wie Listen, Strings, Bools, Floats usw., kann auch in einem *Dictionary* gespeichert werden."
      ],
      "metadata": {
        "id": "FrPd66wcg3DA"
      }
    },
    {
      "cell_type": "code",
      "source": [
        "profil = {\"name\": \"Gerd\",\"Alter\": 70, \"Demenz\": True, \"Hobbys\": [\"Basteln\",\"Kampfsport\"]}\n",
        "print(profil)"
      ],
      "metadata": {
        "id": "TGafntTlHIsE"
      },
      "execution_count": null,
      "outputs": []
    },
    {
      "cell_type": "markdown",
      "source": [
        "Selbst weitere Dictionaries können so verschachelt werden:"
      ],
      "metadata": {
        "id": "fMdOwh_KkENa"
      }
    },
    {
      "cell_type": "code",
      "source": [
        "schüler = {\"Jan\":{\"Alter\":11,\"Klasse\":\"6b\"},\"Tim\":{\"Alter\":13,\"Klasse\":\"8d\"}}\n",
        "\n",
        "print(schüler)\n",
        "print(schüler[\"Tim\"])   # Zugriff auf Schlüssel von Tim -> mehr dazu im Abschnitt \"Zugreifen\""
      ],
      "metadata": {
        "id": "MpE07_k4kVcN"
      },
      "execution_count": null,
      "outputs": []
    },
    {
      "cell_type": "markdown",
      "source": [
        "### **Zugriff auf Einzelwerte**\n",
        "In Dictionaries erfolgt der Zugriff üblicherweise von einem bestimmten Schlüssel auf seinen Wert.\n",
        "\n",
        "Hierfür wird das Schema ```name[key]``` verwendet, das den passenden *value* zum *key* des Dictionaries *name* zurückliefert."
      ],
      "metadata": {
        "id": "Ja7GQ3EIr6dp"
      }
    },
    {
      "cell_type": "code",
      "source": [
        "noten = {\"Tom\": 3, \"Isi\": 5, \"Emma\": 1, \"Lina\": 3}\n",
        "\n",
        "print(noten[\"Emma\"])\n",
        "print(noten[\"Tom\"])\n",
        "\n",
        "print(noten[\"Emma\"], \", \", noten[\"Tom\"])\n",
        "print(noten[\"Olli\"])"
      ],
      "metadata": {
        "id": "Vb1ZgwiKnvs6"
      },
      "execution_count": null,
      "outputs": []
    },
    {
      "cell_type": "markdown",
      "source": [
        "Leider erzeugt der Zugriff auf einen *nicht vorhandenen Schlüssel* des Dictionaries eine Fehlermeldung.\n",
        "\n",
        "Dies lässt sich durch die alternative Nutzung von ```name.get(key)``` anstelle von ```name[key]``` vermeiden:"
      ],
      "metadata": {
        "id": "6TQm9V48v7fR"
      }
    },
    {
      "cell_type": "code",
      "source": [
        "noten = {\"Tom\": 3, \"Isi\": 2, \"Emma\": 1, \"Lina\": 3}\n",
        "\n",
        "print(noten.get(\"Lina\"))\n",
        "print(noten.get(\"Isabelle\"))    # print(noten[\"Isabelle\"]) würde den Code abstürzen lassen\n",
        "print(type(None))"
      ],
      "metadata": {
        "id": "QE-LJYVIwHj8"
      },
      "execution_count": null,
      "outputs": []
    },
    {
      "cell_type": "markdown",
      "source": [
        "### **Zugriff auf Sammelwerte**\n",
        "\n",
        "Die Ausgabe aller ***Schlüssel*** eines Dictionaries erfolgt über ```name.keys()```, die der ***Werte*** über ```name.values()```.\n",
        "\n",
        "Mit einem Stern vor dem Befehl erhalten wir die Ausgabe ohne **dict_** davor."
      ],
      "metadata": {
        "id": "Bs4Gq9QenKmf"
      }
    },
    {
      "cell_type": "code",
      "source": [
        "alter = {\"Sina\": 45,\"Tina\": 10, \"Ina\": 30}\n",
        "\n",
        "print(alter.keys())\n",
        "print(*alter.keys())\n",
        "\n",
        "print(*alter.values())"
      ],
      "metadata": {
        "id": "YKGq9lcmHLiA"
      },
      "execution_count": null,
      "outputs": []
    },
    {
      "cell_type": "markdown",
      "source": [
        "Über ```name.items()``` lassen sich die Schlüssel auch mit ihrem Werten als Tupel zusammen ausgeben."
      ],
      "metadata": {
        "id": "GqYXh1MFvhtf"
      }
    },
    {
      "cell_type": "code",
      "source": [
        "print(alter.items())\n",
        "print(list(alter.items())[2])   #Konvertieren des Tupel in eine Liste und Aufruf des 3. Elements"
      ],
      "metadata": {
        "id": "pfAfMT8Qvlq3"
      },
      "execution_count": null,
      "outputs": []
    },
    {
      "cell_type": "markdown",
      "source": [
        "### **Verändern und Hinzufügen**\n",
        "\n",
        "#### **Direkter Zugriff und Doppelbelegung**\n",
        "\n",
        "Wenn wir während des Erstellens eines Dictionaries einen Schlüssel ausversehen zweimal (oder noch häufiger) belegen, wird sich das Dictionary immer nur den zuletzt eingetragenen Wert merken. Dieses Überschreiben ist aber auch die einfachste Methode, wie mir mittels direktem Zugriff Werte anpassen können.\n",
        "\n",
        "Wir können direkt einen Wert von einem Schlüssel verändern, indem wir direkt mittels eckiger Klammern auf den Schlüssel zugreifen.\n",
        "\n",
        "Falls der Schlüssel, auf den wir zugreifen wollen, noch nicht im Dictionary vorhanden ist, wird für diesen Schlüssel ein neuer Eintrag angelegt.\n",
        "\n"
      ],
      "metadata": {
        "id": "UglLm2KZHMHT"
      }
    },
    {
      "cell_type": "code",
      "source": [
        "farbe = {\"Luisa\": \"Gelb\",\n",
        "         \"Christa\": \"Rot\",\n",
        "         \"Elke\": \"Lila\",\n",
        "         \"Luisa\": \"Grasgrün\"}     # Hier belegen wir die Lieblingsfarbe von Luisa ein zweites Mal, dies überschreibt \"Gelb\"\n",
        "\n",
        "print(farbe)\n",
        "\n",
        "farbe[\"Luisa\"] = \"Gelb\"           # Direkter Zugriff auf den Wert Luisa\n",
        "\n",
        "print(farbe)\n",
        "\n",
        "farbe[\"Lisa\"] = \"Blau\"            # Der Wert Lisa existiert noch nicht, wird hiermit aber hinzugefügt\n",
        "\n",
        "print(farbe)"
      ],
      "metadata": {
        "id": "NLwfP-ufHOMT"
      },
      "execution_count": null,
      "outputs": []
    },
    {
      "cell_type": "markdown",
      "source": [
        "### **Die ```update```-Methode**\n",
        "\n",
        "Wenn wir ```update``` benutzen, muss das Argument dieser Funktion selbst ein Dictionary sein. Wir können auf diese Weise auch gleichzeitig die Werte von bereits vorhandenen Schlüsseln anpassen und komplett neue Schlüssel:Werte Paare hinzufügen. Auf diese Weise lassen sich auch verschiedene Dictionaries zusammenführen."
      ],
      "metadata": {
        "id": "cCW5ux8iysoX"
      }
    },
    {
      "cell_type": "code",
      "source": [
        "farbe = {\"Luisa\": \"Gelb\",\n",
        "         \"Christa\": \"Rot\",\n",
        "         \"Elke\": \"Lila\"}\n",
        "\n",
        "farbe.update({\"Luisa\": \"Grün\",            # Luisa existiert bereits und der Wert wird verändert\n",
        "              \"Lisa\": \"Blau\"})            # Lisa wird neu hinzugefügt mit dem Wert \"Blau\"\n",
        "\n",
        "print(farbe)\n",
        "\n",
        "mehr_farben = {\"Tobias\": \"Schwarz\",\n",
        "               \"Elliot\": \"Pink\",\n",
        "               \"Kai\": \"Regenbogen\"}\n",
        "\n",
        "farbe.update(mehr_farben)                 # Das Dictionary mehr_farben wird zu farbe hinzugefügt\n",
        "\n",
        "print(farbe)"
      ],
      "metadata": {
        "id": "UUKOxMcsyxBB"
      },
      "execution_count": null,
      "outputs": []
    },
    {
      "cell_type": "markdown",
      "source": [
        "### **Entfernen von Objekten**\n",
        "\n",
        "Es gibt verschiedenste Methoden, um Objekte aus einem Dictionary zu entfernen, welche alle verschiedene Eigenschaften haben. In verschiedenen Situationen sind verschiedene Methoden sinnvoll.\n",
        "\n",
        "Hier ist eine kurze Liste, gefolgt von Codebeispielen:\n",
        "\n",
        "- ```dict.pop(\"key\")``` wird den spezifizierten Schlüssel aus ```dict``` entfernen und den value von diesem spezifischen key ausgeben.\n",
        "- ```dict.popitem()``` hingegen entfernt das Element, welches zuletzt hinzugefügt wurde und gibt sowohl value als auch key in Form eines Tupels zurück.\n",
        "- ```del dict[\"key\"]``` wird das von key spezifizierte Element entfernen und keine Rückgabe geben.\n",
        "\n",
        "> Vorsicht: ```del dict``` entfernt das gesamte Dictionary.\n",
        "\n",
        "- ```dict.clear()``` hingegen entfernt sämtliche Inhalte aus dict, aber nicht dict selbst. Es bleibt ein leeres Dictionary zurück."
      ],
      "metadata": {
        "id": "L6LflOeZHTRj"
      }
    },
    {
      "cell_type": "code",
      "source": [
        "haustier = {\"Sarah\": \"Zwei Hunde\",\n",
        "            \"Moritz\": \"Keine\",\n",
        "            \"Tobias\": \"Zwei Wellensittiche und eine Katze\",\n",
        "            \"Noah\": \"Fische\",\n",
        "            \"Clara\": \"Dackel\",\n",
        "            \"Coco\": \"Zwei Kaninchen\"}\n",
        "\n",
        "moritz = haustier.pop(\"Moritz\")             # Entfernt das Item Moritz und gibt den Wert zurück\n",
        "print(moritz)\n",
        "print(haustier)\n",
        "\n",
        "letzte = haustier.popitem()                 # Entfernt das letzte Item und gibt das gesamte Item zurück\n",
        "print(letzte)\n",
        "print(haustier)\n",
        "\n",
        "del haustier[\"Noah\"]                        # Entfernt das Item Noah\n",
        "print(haustier)\n",
        "\n",
        "haustier.clear()                            # Entfernt alle Inhalte von haustier\n",
        "print(haustier)"
      ],
      "metadata": {
        "id": "RlBPSgeiHWdi"
      },
      "execution_count": null,
      "outputs": []
    },
    {
      "cell_type": "code",
      "source": [
        "haustier = {\"Sarah\": \"Zwei Hunde\",\n",
        "            \"Moritz\": \"Keine\",\n",
        "            \"Tobias\": \"Zwei Wellensittiche und eine Katze\",\n",
        "            \"Noah\": \"Fische\",\n",
        "            \"Clara\": \"Dackel\",\n",
        "            \"Coco\": \"Zwei Kaninchen\"}\n",
        "\n",
        "del haustier                      # Entfernt das Dictionary haustier komplett\n",
        "print(haustier)"
      ],
      "metadata": {
        "id": "acONYb0sTlgt"
      },
      "execution_count": null,
      "outputs": []
    },
    {
      "cell_type": "markdown",
      "source": [
        "#### **Übung 1** - Steckbrief\n",
        "\n",
        "Erstelle einen Steckbrief, bestehend aus Name, Alter, Hobbys (Liste möglich), Lieblingsfilm ..., mithilfe eines Dictionarys.\n",
        "\n",
        "Ermittle anschließend die Anzahl der beinhalteten Eigenschaften per len()-Funktion.\n",
        "\n",
        "Lösche nun deinen Lieblingsfilm aus dem Dictionary und gib die neue Version des Steckbriefs auf der Konsole aus.\n",
        "\n",
        "Überprüfe mithilfe des „in“-Operators, ob der Steckbrief dein Alter enthält. Wenn ja, erhöhe es um ein Jahr."
      ],
      "metadata": {
        "id": "sfibEM5vV8nA"
      }
    },
    {
      "cell_type": "code",
      "source": [],
      "metadata": {
        "id": "7RXercTQKlKD"
      },
      "execution_count": null,
      "outputs": []
    },
    {
      "cell_type": "markdown",
      "source": [
        "#### **Übung 2** - Verschachtelte Dictionaries\n",
        "\n",
        "Erstelle fünf Schüler als einzelne Dictionaries, die jeweils den Namen, das Alter und ein Boolean enthalten, ob die jeweilige Person ein Haustier besitzt oder nicht.\n",
        "\n",
        "Füge diese Schüler nun zu einer Schulklasse in einem gemeinsamen Dictionary zusammen und gib dieses auf der Konsole aus."
      ],
      "metadata": {
        "id": "9te1uxhhJq6k"
      }
    },
    {
      "cell_type": "code",
      "source": [],
      "metadata": {
        "id": "pJDX7NEfJuJN"
      },
      "execution_count": null,
      "outputs": []
    },
    {
      "cell_type": "markdown",
      "source": [
        "### Musterlösung Türchen 12"
      ],
      "metadata": {
        "id": "9yFxjj_SawKP"
      }
    },
    {
      "cell_type": "code",
      "source": [
        "# Übung 1\n",
        "def fib(n):\n",
        "    if n == 0:\n",
        "        return 0\n",
        "    elif n == 1:\n",
        "        return 1\n",
        "    else:\n",
        "        return(fib(n-2)+fib(n-1))\n",
        "\n",
        "fib(9)"
      ],
      "metadata": {
        "id": "hSKcOvwULTSK"
      },
      "execution_count": null,
      "outputs": []
    },
    {
      "cell_type": "code",
      "source": [
        "# Übung 2\n",
        "def zahlen(a, b):\n",
        "    if b == 0:\n",
        "        return a\n",
        "    else:\n",
        "        print(\"a = \", a, \"b = \", b)\n",
        "        return zahlen(b, a % b)\n",
        "\n",
        "print(zahlen(13,71))\n",
        "print(zahlen(3,6))\n",
        "\n",
        "# Euklidischer Algorithmus zur Bestimmung des ggT von a und b"
      ],
      "metadata": {
        "id": "xjWNsZo-Lbhg"
      },
      "execution_count": null,
      "outputs": []
    },
    {
      "cell_type": "code",
      "source": [
        "# Übung 3\n",
        "f = lambda x, y, n: (x/y - 1)**n"
      ],
      "metadata": {
        "id": "Ca1LY56vXNwv"
      },
      "execution_count": null,
      "outputs": []
    },
    {
      "cell_type": "code",
      "source": [
        "# Übung 4\n",
        "obst = [(\"Apfel\", 200), (\"Kiwi\", 70), (\"Wassermelone\", 1570), (\"Weintraube\", 5)]\n",
        "\n",
        "sorted(obst, key = lambda elem: elem[1])"
      ],
      "metadata": {
        "id": "_rbR7usfeCCn"
      },
      "execution_count": null,
      "outputs": []
    }
  ]
}