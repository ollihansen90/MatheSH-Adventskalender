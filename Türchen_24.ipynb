{
  "nbformat": 4,
  "nbformat_minor": 0,
  "metadata": {
    "colab": {
      "provenance": [],
      "include_colab_link": true
    },
    "kernelspec": {
      "name": "python3",
      "display_name": "Python 3"
    },
    "language_info": {
      "name": "python"
    }
  },
  "cells": [
    {
      "cell_type": "markdown",
      "metadata": {
        "id": "view-in-github",
        "colab_type": "text"
      },
      "source": [
        "<a href=\"https://colab.research.google.com/github/ollihansen90/MatheSH-Adventskalender/blob/main/T%C3%BCrchen_24.ipynb\" target=\"_parent\"><img src=\"https://colab.research.google.com/assets/colab-badge.svg\" alt=\"Open In Colab\"/></a>"
      ]
    },
    {
      "cell_type": "markdown",
      "source": [
        "# Fragen?\n",
        "\n",
        "Solltet ihr Fragen zum Code oder Probleme mit Colab haben, schickt uns gerne eine Mail:\n",
        "\n",
        "*   h.hansen@uni-luebeck.de\n",
        "*   dustin.haschke@student.uni-luebeck.de\n",
        "*   friederike.meissner@student.uni-luebeck.de\n"
      ],
      "metadata": {
        "id": "KZhQktFlf0Io"
      }
    },
    {
      "cell_type": "markdown",
      "source": [
        "## Türchen 24 - Python installieren\n",
        "Im 24. und letzten Türchen unseres Adventskalenders möchten wir gerne Python lokal (also auf dem Computer zuhause) installieren! Die hier gegebene Anleitung ist speziell für das Betriebssystem Windows 10. Für Linux und iOS funktioniert das allerdings weitesgehend genauso. Sollten trotzdem Fragen offen bleiben, schreibt uns gerne eine Mail!\n",
        "\n",
        "### Python\n",
        "Damit der Computer überhaupt weiß, was er mit unserem Code anfangen soll, benötigt er einen \"Übersetzer\". Dieser Übersetzer (oder auch: Interpreter) nimmt unseren Code in Form von Text und \"übersetzt\" ihn in *Maschinensprache*. Maschinensprache ist im Prinzip der Code in einer Form, mit der der Computer umgehen kann. Oft ist es Hexidezimalcode, den wir als Menschen gar nicht (oder nur seeehr aufwendig) lesen können.\n",
        "\n",
        "#### Interpreter vs. Compiler\n",
        "Eventuell ist auch der Begriff \"Compiler\" bekannt. Compiler wandeln Code in eine ausführbare Datei um, die der Computer nur noch abarbeitet. Interpreter machen etwas sehr Ähnliches, nur dass es bei Interpretern zur Laufzeit passiert (also quasi gleichzeitig zum Ausführen), während bei einem Compiler das komplette Programm übersetzt und danach ausgeführt wird.\n",
        "\n",
        "Beispiele für Interpreter-Sprachen sind Python (natürlich), Ruby, PHP, und Java. Compiler-Sprachen sind hingegen C#, C++, Pascal, und Fortran.\n",
        "\n",
        "#### Python herunterladen\n",
        "Python kann auf der eigenen Webseite heruntergeladen werden: https://www.python.org/. Unter dem Link \"[Download](https://www.python.org/downloads/)\" sollte sich direkt oben ein Button für Python 3.12.1 befinden, das die aktuelle Version von Python darstellt. In unserem Python-Kurs arbeiten wir *nur* mit Python 3, welche Version aber genau heruntergeladen wird, ist nicht so wichtig (die Versionen von Python 3.7 und höher funktionieren allerdings nicht mit Windows 7 oder älteren Betriebssystemen).\n",
        "\n",
        "Google Colab nutzt übrigens Python 3.10.12"
      ],
      "metadata": {
        "id": "2AzvreLTgeap"
      }
    },
    {
      "cell_type": "code",
      "source": [
        "!python --version"
      ],
      "metadata": {
        "colab": {
          "base_uri": "https://localhost:8080/"
        },
        "id": "4xLuQI13jssW",
        "outputId": "9e506810-2a57-4030-cd50-365402c5b615"
      },
      "execution_count": null,
      "outputs": [
        {
          "output_type": "stream",
          "name": "stdout",
          "text": [
            "Python 3.10.12\n"
          ]
        }
      ]
    },
    {
      "cell_type": "markdown",
      "source": [
        "#### Python installieren\n",
        "Beim Installieren von Python muss man eigentlich nicht viel beachten. Lediglich zwei Häkchen müssen gesetzt werden: Auf der \"Startseite\" beim Ausführen fehlt ganz unten ein Häkchen bei \"Add python.exe to PATH\" (damit können wir Python von der Konsole aus starten) und bei \"Customize installation\" fehlt das Häkchen bei \"pip\" (das brauchen wir zum Installieren von Packages).\n",
        "\n",
        "#### Eine IDE installieren\n",
        "Zum Programmieren mit Python haben wir nun zwei Möglichkeiten: Die erste ist, dass wir eine Text-Datei erstellen und da mit dem Text-Editor unseren Code reinschreiben. Hinterher müssen wir die Datei so umbenennen, dass sie auf \".py\" endet (also nicht mehr auf \".txt\"). Die zweite und elegantere Möglichkeit bietet eine IDE (\"integrated developement environment\", etwa \"integrierte Entwicklerumgebung\"). Eine IDE kann für uns den Code übersichtlicher darstellen und uns direkt auf Fehler hinweisen!\n",
        "\n",
        "Es gibt eine ganze Menge an IDEs, mit denen man gut arbeiten kann. Wir arbeiten in erster Linie mit VS Code. VS Code (oder Visual Studio Code) ist eine kostenlose IDE von Microsoft, die viele Möglichkeiten zum Programmieren bietet. Alternativen zu VS Code sind PyCharm, Sublime Text, oder Atom.\n",
        "\n",
        "VS Code kann direkt von der Webseite heruntergeladen werden: https://code.visualstudio.com/. Die Installation ist ebenfalls sehr unkompliziert: Hier sollten lediglich zwei Häkchen bei \"Aktion 'Mit Code öffnen' dem Dateikontextmenü von Windows-Explorer hinzufügen\" und bei \"Aktion 'Mit Code öffnen' dem Verzeichniskontextmenü von Windows-Explorer hinzufügen\" markiert werden (zumindest bei Windows).\n",
        "\n",
        "Übrigens: VS Code kann auch im Browser genutzt werden! Hierfür muss nur der Link https://vscode.dev/ aufgerufen werden und es öffnet sich ein Editor, mit dem wir Code erstellen können. Das Ausführen gestaltet sich jedoch etwas komplizierter, da der Browser nicht einfach irgendwelchen Code interpretiert. Bei GitHub lässt sich jedes Repository mit dem Punkt `.` im Browser mit VS Code öffnen.\n",
        "\n",
        "### Python ausführen\n",
        "Nachdem wir nun alle nötigen Installationen durchgeführt haben, können wir endlich mit dem Programmieren anfangen! Zu Übersichtlichkeit sollten wir für jedes neue Projekt einen neuen Ordner anlegen. In diesem Ordner erstellen wir eine neue Textdatei und nennen sie \"main.py\" (der Name ist vollkommen egal, für gewöhnlich heißt die \"Hauptdatei\" allerdings immer \"main.py\"). In diese Datei schreiben wir einfach unseren gewünschten Code.\n",
        "\n",
        "Hier ist ein kleines Beispiel für Code, den wir in unsere Datei schreiben können:"
      ],
      "metadata": {
        "id": "WC0ZK_dAkDu_"
      }
    },
    {
      "cell_type": "code",
      "source": [
        "from random import randint\n",
        "\n",
        "zahl = randint(1,6)\n",
        "print(\"Du hast eine \" + str(zahl) + \" gewürfelt!\")"
      ],
      "metadata": {
        "colab": {
          "base_uri": "https://localhost:8080/"
        },
        "id": "scScPgo1pDFJ",
        "outputId": "4de40229-7cf0-489d-905f-a70fbbaa44a4"
      },
      "execution_count": null,
      "outputs": [
        {
          "output_type": "stream",
          "name": "stdout",
          "text": [
            "Du hast eine 5 gewürfelt!\n"
          ]
        }
      ]
    },
    {
      "cell_type": "markdown",
      "source": [
        "Um diesen Code jetzt auszuführen, haben wir mehrere Möglichkeiten! Hier sollen drei genannt werden:\n",
        "1. VS Code hat oben links einen \"Play-Button\", den wir anklicken können. Hier sollte sich unten ein Terminal öffnen und das Ergebnis dargestellt werden.\n",
        "2. In VS Code können wir das Terminal auch \"per Hand\" öffnen. Hierfür gehen wir oben auf \"Terminal\" und dann auf \"New Terminal\" (die Tastenkombination ist `STRG+Ö`). In der Konsole geben wir nun `python main.py` ein und das Programm sollte ausgeführt werden (oder eben den anderen Dateinamen, wie er angegeben wurde).\n",
        "3. Wir öffnen die Eingabeaufforderung von Windows, indem wir in der Suchleiste unten \"CMD\" eingeben. Danach navigieren wir zu unserem Ordner. Hierbei gibt es zwei wichtige Befehle: `dir` (für \"directory\" oder \"Ordner\") listet alle Dateien und Ordner an unserer jetzigen Position auf. `cd` (für \"change directory\" oder \"wechsle Ordner\") lässt uns in einen beliebigen Ordner wechseln. Sehen wir beispielsweise mit `dir` einen Ordner \"Desktop\", können wir dahin wechseln mit `cd Desktop`. Nachdem wir unseren Ordner gefunden haben, geben wir wieder `python main.py` ein.\n",
        "\n",
        "## Ende\n",
        "Und das war es schon! Das war unser Python-Adventskalender 2023 von Mathe^SH 🥳 Wir hoffen, ihr hattet so viel Spaß beim Bearbeiten wie wir beim Vorbereiten! Mit eurem jetzigen Wissensstand beherrscht ihr die Grundlagen von Python so weit, dass ihr kleinere Programme selbst erstellen könnt.\n",
        "\n",
        "Für mehr Projekte kommt gerne zu uns in den [Python-Kurs](http://www.mathe-sh.de/python)!"
      ],
      "metadata": {
        "id": "GJv1iQ2kpVTU"
      }
    },
    {
      "cell_type": "markdown",
      "source": [
        "### Abschlussprojekt\n",
        "Zum Schluss möchten wir gerne noch ein kleines Projekt mit euch programmieren, in dem ihr alles Wissen anwenden könnt, das ihr in den letzten 24 Türchen erlangt habt.\n",
        "\n",
        "Stellen wir uns vor, wir stehen in der Küche und möchten Plätzchen backen. Wir haben ein Rezeptebuch mit allen möglichen Rezepten und zugehörigen Zutaten. Die Frage ist nun, welche der Zutaten wir zuhause haben (und was wir damit kochen könnten), sowie was wir einkaufen müssten, damit wir Plätzchen backen können!\n",
        "\n",
        "Dieses Projekt ist so gedacht, dass ihr selbstständig (quasi vor leerem Stück Papier) eine Lösung für das Problem findet. Wir werden daher keinen Code vorgeben. Als Hinweis vielleicht: Der Kühlschrank mit seinem Inhalt könnte als Dictionary angelegt werden. Gleiches gilt auch für das Rezeptebuch. Beides kann selbstverständich auch in Form von Klassen umgesetzt werden. Die Rezepte selbst können aus dem Internet bezogen werden (für chefkoch.de gibt es beispielsweise einen API-Wrapper) oder aber in einer JSON-Datei abgespeichert werden."
      ],
      "metadata": {
        "id": "nqNYat2GsWUX"
      }
    },
    {
      "cell_type": "code",
      "source": [],
      "metadata": {
        "id": "S7DclcFLujjn"
      },
      "execution_count": null,
      "outputs": []
    },
    {
      "cell_type": "markdown",
      "source": [
        "### Musterlösung Türchen 23"
      ],
      "metadata": {
        "id": "qXFD46v805FD"
      }
    },
    {
      "cell_type": "code",
      "source": [
        "# Übung 1\n",
        "import requests\n",
        "\n",
        "# useless facts (Kategorie: Entertainment)\n",
        "# Englisch (Fakt des Tages)\n",
        "response_eng = requests.get(\"https://uselessfacts.jsph.pl/api/v2/facts/today?language=en\")\n",
        "fact_eng = response_eng.json()\n",
        "\n",
        "print(fact_eng['text']) # Fakt\n",
        "print(fact_eng['source_url']) # Quelle\n",
        "\n",
        "# Deutsch\n",
        "response_de = requests.get(\"https://uselessfacts.jsph.pl/api/v2/facts/random?language=de\")\n",
        "fact_de = response_de.json()\n",
        "\n",
        "print(fact_de['text']) # Fakt\n",
        "print(fact_de['source_url']) # Quelle"
      ],
      "metadata": {
        "colab": {
          "base_uri": "https://localhost:8080/"
        },
        "id": "YIuWTuDcuLWp",
        "outputId": "64f1efe3-97a8-4400-cbe4-8363c8ea46bf"
      },
      "execution_count": null,
      "outputs": [
        {
          "output_type": "stream",
          "name": "stdout",
          "text": [
            "The characters Bert and Ernie on Sesame Street were named after Bert the cop and Ernie the taxi driver in Frank Capra`s \"Its A Wonderful Life.\"\n",
            "http://www.djtech.net/humor/useless_facts.htm\n",
            "Überraschungseier sind in den USA verboten. Ein Gesetz von 1938 untersagt, dass in Süßigkeiten »nicht-essbare Objekte« sind.\n",
            "http://www.neon.de/artikel/kaufen/produkte/ueberraschungseier-sind-in-den-usa-verboten-ein-gesetz-von-1938-untersagt-dass-in-suessigkeiten-nicht-essbare-objekte-sind/1077650\n"
          ]
        }
      ]
    }
  ]
}