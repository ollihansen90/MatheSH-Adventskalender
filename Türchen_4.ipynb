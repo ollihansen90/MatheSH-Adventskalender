{
  "nbformat": 4,
  "nbformat_minor": 0,
  "metadata": {
    "colab": {
      "provenance": [],
      "collapsed_sections": [
        "Qsqe-6LHUoYD"
      ],
      "include_colab_link": true
    },
    "kernelspec": {
      "name": "python3",
      "display_name": "Python 3"
    },
    "language_info": {
      "name": "python"
    }
  },
  "cells": [
    {
      "cell_type": "markdown",
      "metadata": {
        "id": "view-in-github",
        "colab_type": "text"
      },
      "source": [
        "<a href=\"https://colab.research.google.com/github/ollihansen90/MatheSH-Adventskalender/blob/main/T%C3%BCrchen_4.ipynb\" target=\"_parent\"><img src=\"https://colab.research.google.com/assets/colab-badge.svg\" alt=\"Open In Colab\"/></a>"
      ]
    },
    {
      "cell_type": "markdown",
      "source": [
        "# Fragen?\n",
        "\n",
        "Solltet ihr Fragen zum Code oder Probleme mit Colab haben, schickt uns gerne eine Mail:\n",
        "\n",
        "*   h.hansen@uni-luebeck.de\n",
        "*   dustin.haschke@student.uni-luebeck.de\n",
        "*   friederike.meissner@student.uni-luebeck.de\n"
      ],
      "metadata": {
        "id": "KZhQktFlf0Io"
      }
    },
    {
      "cell_type": "markdown",
      "source": [
        "## Türchen 4 - Bedingungen und Vergleiche"
      ],
      "metadata": {
        "id": "_puCK38beqOJ"
      }
    },
    {
      "cell_type": "markdown",
      "source": [
        "### **If-Abfragen**\n",
        "\n",
        "If-Abfragen werden immer dann genutzt, wenn bestimmte Code-Abschnitte nur nach Erfüllung einer bestimmten Bedingung ausgeführt werden sollen. Dafür benötigt ihr das Schlüsselwort ```if```, gefolgt von der zu prüfenden Bedingung und einem Doppelpunkt ```:```, der das Ende der Bedingung markiert. In der nächsten Zeile endet die Abfrage nach einer Einrückung mit der gewünschten Anweisung.\n",
        "\n",
        "Übersetzt sagt eine If-Abfrage also:\n",
        ">**Wenn** *Bedingung* gilt**:**\n",
        ">> tue *Anweisung*.\n",
        "\n",
        "Für die Formulierung der Bedingung sind in den meisten Fällen Vergleichsoperatoren notwendig."
      ],
      "metadata": {
        "id": "T03bVnYtqqeI"
      }
    },
    {
      "cell_type": "markdown",
      "source": [
        "### **Vergleichsoperatoren**\n",
        "Wie der Name schon verrät, dienen Vergleichsoperatoren zum Vergleichen von Variablen, zum Beispiel um Bedingungen für If-Abfragen oder Schleifen (dazu später mehr) zu überprüfen.\n",
        "\n",
        "*   kleiner ```<```, größer ```>```, kleiner-gleich ```<=```, größer-gleich ```>=``` werden wie in der Mathematik zum Vergleichen von Zahlen genutzt. Man kann aber auch Zeichenketten bezüglich ihrer alphabetischen Reihenfolge miteinander vergleichen.\n",
        "*   gleich ```==``` prüft die exakte Gleichheit von Zahlen, Strings (also Satzzeichenketten) und Booleans (den Wahrheitswerten True und False)."
      ],
      "metadata": {
        "id": "JdYQb9uKq-r1"
      }
    },
    {
      "cell_type": "code",
      "source": [
        "a = 5\n",
        "b = 3\n",
        "d = 27\n",
        "\n",
        "if a < b:\n",
        "    print(\"Die Zahl a ist kleiner!\")\n",
        "\n",
        "if 'a' < 'b':                   # Achtung! 'a' und 'b' sind hier Strings.\n",
        "    print(\"Der Buchstabe a ist kleiner!\")\n",
        "\n",
        "print(b==d)\n",
        "if b == d:\n",
        "    print(\"b und d sind gleich!\")\n",
        "\n",
        "if d > a and d > b:\n",
        "    print(\"d ist am größten!\")"
      ],
      "metadata": {
        "id": "IB_STTmKesQF"
      },
      "execution_count": null,
      "outputs": []
    },
    {
      "cell_type": "markdown",
      "source": [
        "### **Logische Operatoren**\n",
        "\n",
        "```and```, ```or``` und ```not``` sind logische Operatoren, die mehrere Bedingungen gleichzeitig prüfen oder ausdrücken, dass eine bestimmte Bedingung nicht gelten soll.\n",
        "\n",
        "Ihr könnt mit ihnen boolesche Wahrheitswerte verknüpfen. Dafür könnt ihr entweder die Resultate der Vergleichsoperatoren verwenden oder direkt Wahrheitswerte überprüfen.\n",
        "\n",
        "Die folgende Tabelle zeigt euch für jeden Zustand von ```A``` und ```B```, wie diese mit ```and```, ```or``` und ```not``` verknüpft erneut boolesche (wahre oder falsche) Ausgabewerte erzeugen.\n",
        "\n",
        "\n",
        "<img src=\"https://upload.wikimedia.org/wikipedia/commons/4/4a/Truth_table_for_AND%2C_OR%2C_and_NOT.png\" width=\"50%\"/>\n",
        "\n",
        "Im folgenden Codeblock könnt ihr die Funktionsweise der Operatoren anhand eines Farbbeispieles testen:"
      ],
      "metadata": {
        "id": "F1kzW5cJrYhh"
      }
    },
    {
      "cell_type": "code",
      "source": [
        "blau = False         #ändere zu True oder False\n",
        "rot = True          #ändere zu True oder False\n",
        "if (blau and rot):\n",
        "    print(\"Farbe ist lila\")\n",
        "if blau or rot:\n",
        "    print(\"Farbe enthält blau oder rot (oder beides!)\")\n",
        "if not(blau):\n",
        "    print(\"Blau ist nicht enthalten\")"
      ],
      "metadata": {
        "id": "_WTRZya2ruin"
      },
      "execution_count": null,
      "outputs": []
    },
    {
      "cell_type": "markdown",
      "source": [
        "### **else und elif**\n",
        "\n",
        "Um mehrere if-Abfragen hintereinander auszuführen, gibt es die Befehle ```else``` und ```elif```. Dafür wird per ```if``` die erste Bedingung abgefragt. Wenn diese nicht gilt, folgt nach dem Schlüsselwort ```elif``` die nächste Bedingung. (```elif``` ist übrigens die Zusammenfassung von ```else if```, was ihr vielleicht aus anderen Programmiersprachen kennt). Falls auch diese nicht erfüllt ist und keine weitere Bedingung folgt, werden sonstige Fälle mit ```else:``` behandelt.\n",
        "\n",
        "So könnt ihr beliebig viele Bedingungen hintereinander testen, wichtig ist nur, dass es am Anfang ein ```if``` geben muss und nur ein ```else``` geben darf."
      ],
      "metadata": {
        "id": "EYPYg84KtVLv"
      }
    },
    {
      "cell_type": "code",
      "source": [
        "if a < b:\n",
        "    print(\"a ist kleiner.\")\n",
        "elif a > b:\n",
        "    print(\"b ist kleiner.\")\n",
        "else:\n",
        "    print(\"beide sind gleich\")\n",
        "\n",
        "c = 10\n",
        "if c % 2 == 0:\n",
        "    print(\"c ist gerade.\")\n",
        "elif c % 5 == 0:\n",
        "    print(\"c ist ungerade und durch fünf teilbar.\")\n",
        "elif c % 3 == 0:\n",
        "    print(\"c ist nicht durch 2 oder 5 teilbar, aber durch 3!\")\n",
        "elif c < 10:\n",
        "    print(\"c muss 1 oder 7 sein.\")\n",
        "else:\n",
        "    print(c)"
      ],
      "metadata": {
        "id": "z0BO0Laktf34"
      },
      "execution_count": null,
      "outputs": []
    },
    {
      "cell_type": "markdown",
      "source": [
        "#### **Übung 1** - Vergleichsperatoren\n",
        "\n",
        "Ersetze im folgenden Code jede Raute ```#``` durch jeweils einen der Vergleichsoperatoren, so dass alle Booleans den Wert ```True``` erhalten."
      ],
      "metadata": {
        "id": "BIy12sxHrIMw"
      }
    },
    {
      "cell_type": "code",
      "source": [
        "bool_a = (7 - 5) # (5 % 3)\n",
        "bool_b = (2 + 4 / 4) # (10 * 2 / 4)\n",
        "bool_c = ((3 ** 1 * 5) # (8 // 3 + 1)) or False\n",
        "bool_d = not ((6 - 3) # (2 + 1))\n",
        "\n",
        "# Zum Testen deiner Lösung (Also einfach ignorieren :D):\n",
        "if bool_a == bool_b and bool_b == bool_c and bool_c == bool_d and bool_a == True:\n",
        "    print(\"Gut gemacht! Deine Lösung ist korrekt.\")\n",
        "else:\n",
        "    print(\"Leider war das noch nicht richtig. Versuche es noch einmal.\")"
      ],
      "metadata": {
        "id": "DY_a-vbArLFo"
      },
      "execution_count": null,
      "outputs": []
    },
    {
      "cell_type": "markdown",
      "source": [
        "#### **Übung 2** - Rätselhafte Wahrheitswerte\n",
        "\n",
        "Verändere im folgenden Beispiel die Wahrheitswerte der Variablen ```x```, ```y```, ```z``` zu ```True``` oder ```False```, sodass dir nur zutreffende Aussagen ausgegeben werden.\n",
        "\n",
        "Vergiss nicht, nach jeder Änderung den Code neu auszuführen!\n",
        "\n"
      ],
      "metadata": {
        "id": "ukSlVjFBrw_6"
      }
    },
    {
      "cell_type": "code",
      "source": [
        "x = True\n",
        "y = True\n",
        "z = True\n",
        "\n",
        "if(x and y):\n",
        "    print(\"Alle Rentiere haben eine rote Nase\")\n",
        "else:\n",
        "    print (\"Rudolf hat eine rote Nase\")\n",
        "\n",
        "if (y or z):\n",
        "    print(\"Der Weihnachtsmann lebt am Nordpol\")\n",
        "else:\n",
        "    print(\"Der Weihnachtsmann lebt am Äquator\")\n",
        "\n",
        "if(not(z)):\n",
        "    print(\"Schnee ist kalt\")\n",
        "else:\n",
        "    print(\"Feuer ist kalt\")"
      ],
      "metadata": {
        "id": "A-KuFSA5r3hp"
      },
      "execution_count": null,
      "outputs": []
    },
    {
      "cell_type": "markdown",
      "source": [
        "#### **Übung 3**  - Die kaputte Lampe\n",
        "\n",
        "Vollziehe folgendes Beispiel für logische Operatoren nach, indem du den Code und die Kommentare durchliest.\n",
        "\n",
        "Verändere im Anschluss die Wahrheitswerte der fünf Variablen am Anfang, indem du diese beliebig auf ```True``` und ```False``` veränderst, und vollziehe die Änderungen der Ausgabe nach.\n",
        "\n",
        "Wie kannst du verhindern, dass es brennt, wenn ```gluehbirne_super_alt = True``` und ```reservebirne = False```?"
      ],
      "metadata": {
        "id": "OhWYBrbntIYM"
      }
    },
    {
      "cell_type": "code",
      "source": [
        "strom_vorhanden = True\n",
        "gluehbirne_defekt = False\n",
        "gluehbirne_super_heiss = False\n",
        "gluehbirne_super_alt = False\n",
        "reservebirne = True\n",
        "#Wenn Strom vorhanden ist UND die Glühbirne heile ist (bzw. nicht defekt)\n",
        "if(strom_vorhanden and not(gluehbirne_defekt)):\n",
        "  print(\"Lampe leuchtet\") # ...leuchtet die Lampe...\n",
        "else:\n",
        "  print(\"Lampe leuchtet nicht\") # ...ansonsten nicht.\n",
        "\n",
        "# Ist unsere Glühbirne heiß ODER alt (oder beides) UND ist auch noch Strom vorhanden...\n",
        "if((gluehbirne_super_heiss or gluehbirne_super_alt) and strom_vorhanden):\n",
        "    print(\"Glühbirne brennt (nochmal) durch\")\n",
        "    gluehbirne_defekt = True # ...so brennt sie durch, auch wenn sie schon kaputt ist...\n",
        "else:\n",
        "    print(\"Glühbirne bleibt intakt\") # ...ansonsten bleibt sie heile!\n",
        "\n",
        "# Ist unsere Glühbirne nun defekt UND wir haben eine Reservebirne...\n",
        "if(gluehbirne_defekt and reservebirne):\n",
        "    print(\"Reservebirne wird eingesetzt\") # ... wird die Reservebirne eingesetzt!\n",
        "else:\n",
        "    print(\"Kein Glühbirnen-Austausch.\")\n",
        "\n",
        "# War die ursprüngliche Glühbirne nicht defekt ODER wurde eine Reservebirne eingesetzt...\n",
        "if(not(gluehbirne_defekt) or reservebirne):\n",
        "    print(\"Kein Brand durch durchgebrannte Birne\")  # ... so entsteht kein Brand.\n",
        "else:\n",
        "    print(\"Es brennt!\")"
      ],
      "metadata": {
        "id": "uvVNzyDGtOiv"
      },
      "execution_count": null,
      "outputs": []
    },
    {
      "cell_type": "markdown",
      "source": [
        "#### **Übung 4** - Verwendung von else\n",
        "\n",
        "Ergänze die fehlenden Schlüsselwörter ```if```, ```else``` sowie den fehlenden logischen Operator, also ```and```, ```or``` oder ```not```, so dass diese Abfrage prüft, ob der Ladenbesitzer nett ist oder du ihm einen Euro gibst.\n",
        "\n",
        "Falls eines von beiden erfüllt ist, erhältst du eine Süßigkeit; wenn nicht, gibt es leider keine."
      ],
      "metadata": {
        "id": "CZ-OqPDutoeI"
      }
    },
    {
      "cell_type": "code",
      "source": [
        "netter_ladenbesitzer = False\n",
        "gebe_einen_euro = False\n",
        "\n",
        "_ netter_ladenbesitzer _ gebe_einen_euro:\n",
        "    print(\"Ich erhalte eine Süßigkeit.\")\n",
        "_:\n",
        "    print(\"Leider gibt es keine Süßigkeit.\")\n"
      ],
      "metadata": {
        "id": "rxnipXnntuz0"
      },
      "execution_count": null,
      "outputs": []
    },
    {
      "cell_type": "markdown",
      "source": [
        "#### **Übung 5** - Verwendung von elif und else\n",
        "\n",
        "Schreibe nun eine vollständige Abfrage, die für die Eingabe eines Ratespiels auf dem Weihnachtsmarkt prüft, ob die Person eine Niete (mit der Antwort ```a```), den Hauptgewinn (mit der Antwort ```b```) erhält oder keine korrekte Antwort gegeben hat.\n",
        "\n",
        "1.   Prüfe, ob die Antwort ```a``` ist. Wenn ja, gib per ```print()``` den String \"Leider ist a eine Niete.\" aus.\n",
        "2.   Wenn nicht, prüfe, ob die Antwort ```b``` ist. Wenn ja, gib den String \"Glückwunsch! b ist der Hauptgewinn.\" aus.\n",
        "3.   Sonst gib den String \"Du hast keine korrekte Antwort gegeben.\" aus.\n"
      ],
      "metadata": {
        "id": "HiV9ltIktzGm"
      }
    },
    {
      "cell_type": "code",
      "source": [
        "antwort = input(\"Wähle a oder b: \").lower()\n",
        "\n",
        "# Hier folgt deine Abfrage:\n",
        "\n"
      ],
      "metadata": {
        "id": "J1WSEF70t5Qk"
      },
      "execution_count": null,
      "outputs": []
    },
    {
      "cell_type": "markdown",
      "source": [
        "### Musterlösung Türchen 3"
      ],
      "metadata": {
        "id": "Qsqe-6LHUoYD"
      }
    },
    {
      "cell_type": "code",
      "source": [
        "# Übung 1\n",
        "a = 1\n",
        "b = 5\n",
        "c = 4\n",
        "print(a + b + c)\n",
        "print(a * b * c)"
      ],
      "metadata": {
        "id": "F_x6Lqk0pN9R"
      },
      "execution_count": null,
      "outputs": []
    },
    {
      "cell_type": "code",
      "source": [
        "# Übung 2\n",
        "# Loescht hier jeweils Ja oder Nein, sodass die Aussagen stimmen\n",
        "print(\"Ist die Variable '3brataepfel' zulässig? Nein (Beginn mit Zahl)\")\n",
        "print(\"Ist die Variable '____dies___ist___eine___Variable_____' zulässig? Ja\")\n",
        "print(\"Ist die Variable 'EineTolleVariable!' zulässig? Nein (Ausrufezeichen)\")\n",
        "print(\"Ist die Variable 'while' zulässig? Nein\")\n",
        "print(\"Ist die Variable 'drei brataepfel' zulässig? Nein\")\n",
        "print(\"Ist die Variable 'variable3' zulässig? Ja\")\n",
        "\n",
        "# Testet hier bitte alle zulässigen Variablen\n",
        "# Testbeispiel: kleinerGauss = 3"
      ],
      "metadata": {
        "id": "04Ct30ZxqHan"
      },
      "execution_count": null,
      "outputs": []
    }
  ]
}