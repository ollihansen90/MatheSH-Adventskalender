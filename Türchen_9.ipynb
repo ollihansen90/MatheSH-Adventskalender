{
  "nbformat": 4,
  "nbformat_minor": 0,
  "metadata": {
    "colab": {
      "provenance": [],
      "include_colab_link": true
    },
    "kernelspec": {
      "name": "python3",
      "display_name": "Python 3"
    },
    "language_info": {
      "name": "python"
    }
  },
  "cells": [
    {
      "cell_type": "markdown",
      "metadata": {
        "id": "view-in-github",
        "colab_type": "text"
      },
      "source": [
        "<a href=\"https://colab.research.google.com/github/ollihansen90/MatheSH-Adventskalender/blob/main/T%C3%BCrchen_9.ipynb\" target=\"_parent\"><img src=\"https://colab.research.google.com/assets/colab-badge.svg\" alt=\"Open In Colab\"/></a>"
      ]
    },
    {
      "cell_type": "markdown",
      "source": [
        "# Fragen?\n",
        "\n",
        "Solltet ihr Fragen zum Code oder Probleme mit Colab haben, schickt uns gerne eine Mail:\n",
        "\n",
        "*   h.hansen@uni-luebeck.de\n",
        "*   dustin.haschke@student.uni-luebeck.de\n",
        "*   friederike.meissner@student.uni-luebeck.de\n"
      ],
      "metadata": {
        "id": "KZhQktFlf0Io"
      }
    },
    {
      "cell_type": "markdown",
      "source": [
        "## Türchen 9 - Strings Teil 2"
      ],
      "metadata": {
        "id": "2wvxVkpsfTt4"
      }
    },
    {
      "cell_type": "markdown",
      "metadata": {
        "id": "qnfSGTXwp88n"
      },
      "source": [
        "### **```in```-Operator**\n",
        "\n",
        "Ändere die Variable ```Tier``` in ```Vogel```, ```Igel```, ```Fisch```, ```versteckt``` und eine Zahl deiner Wahl.\n",
        "\n",
        "Führe den Code aus und vollziehe nach, wie der Operator ```in``` mit den strings ```baum```, ```laub```, ```teich``` interagiert.\n",
        "\n",
        "Was für einen Ausgabewert erzeugt z.B. ```tier in baum```, wenn 'tier' und 'baum' Strings sind?\n",
        "(z.B. int, float, bool, string)"
      ]
    },
    {
      "cell_type": "code",
      "metadata": {
        "id": "1hRocvHiqJ-o"
      },
      "source": [
        "baum = \"Hier versteckt sich der Vogel\"\n",
        "laub = \"Der Igel versteckt sich hier\"\n",
        "teich = \"Zuflucht vom Fisch\"\n",
        "dezimalzahlen = \"1234567890 Euro\"\n",
        "\n",
        "tier = \"versteckt\"        #Ändere diesen Eintrag\n",
        "\n",
        "if tier in baum:\n",
        "    print(tier + \" ist im Baum\")\n",
        "if tier in laub:\n",
        "    print(tier + \" ist im Laub\")\n",
        "if tier in teich:\n",
        "    print(tier + \"ist im Teich\")\n",
        "if tier in dezimalzahlen:\n",
        "    print(tier + \" ist kein Tier, sondern eine Zahl.\")"
      ],
      "execution_count": null,
      "outputs": []
    },
    {
      "cell_type": "markdown",
      "source": [
        "*Übrigens:* Der `in`-Operator funktioniert auch für Listen!"
      ],
      "metadata": {
        "id": "dvW_137Z3A5n"
      }
    },
    {
      "cell_type": "code",
      "source": [
        "tier = \"Hund\"\n",
        "\n",
        "if tier==\"Hund\" or tier==\"Katze\" or tier==\"Maus\":\n",
        "    print(\"Das Tier könnte ein Haustier sein.\")\n",
        "else:\n",
        "    print(\"Das Tier ist ungewöhnlich als Haustier.\")\n",
        "\n",
        "if tier in [\"Hund\", \"Katze\", \"Maus\"]:\n",
        "    print(\"Das Tier könnte ein Haustier sein.\")\n",
        "else:\n",
        "    print(\"Das Tier ist ungewöhnlich als Haustier.\")"
      ],
      "metadata": {
        "id": "rV5PAsHm3JGU"
      },
      "execution_count": null,
      "outputs": []
    },
    {
      "cell_type": "markdown",
      "metadata": {
        "id": "0XjIA_MbrL9k"
      },
      "source": [
        "### **```split```-Methode**\n",
        "\n",
        "Eine Methode, die wir sehr oft benötigen, ist ```split```. ```split``` ermöglicht uns das Aufteilen von Strings und ermöglicht uns somit das Einlesen von Daten. Ihr werdet sehen, dass Datensätze oft in einer einzelnen Textdatei abgespeichert werden, mit der ihr erst einmal wenig anfangen könnt, es sei denn, ihr teilt sie korrekt auf. Dafür gibt es aber später auch die csv Library, wobei CSV für \"Comma Separated Values\" steht. In anderen Sprachen gibt es Befehle wie zum Beispiel separate() in R, die ähnlich agieren.\n",
        "\n",
        "Heute wollen wir uns allgemeiner aber erstmal mit dem Aufteilen von Strings in einzelne Listenelemente beschäftigen. Dies kann beispielsweise hilfreich sein, wenn ihr euren Text in einzelne Worte aufteilen wollt, um beispielsweise das längste Wort zu finden oder alle Worte, die mit \"Y\" starten.\n",
        "\n",
        "Formal speichert ihr hierbei euren String oder Text in einer Variablen, beispielsweise ```text```, und wendet dann ```split``` auf diesen an.\n",
        "\n",
        "Das sieht in der Regel wie folgt aus:\n",
        "\n",
        "```text.split(sub)```\n",
        "\n",
        "Dieser Aufruf zerlegt ```text``` bei jedem Vorkommen von ```sub```.\n",
        "\n",
        "Wenn ihr einfach nur ```text.split()``` schreibt, wird als Default ein Leerzeichen verwendet, ihr könntet aber auch ausführlich ```text.split(\" \")``` schreiben.\n",
        "\n",
        "Bemerkt hierbei, dass ```sub``` in der entstehenden Liste nicht mehr vorkommt.\n",
        "\n",
        "Es gibt auch noch ```splitlines```, welches, wie der Name schon andeutet, bei allen Zeilenumbrüchen den String aufteilt. Auch dies liefert eine Liste. Beispiel: ```text.splitlines()```"
      ]
    },
    {
      "cell_type": "code",
      "metadata": {
        "id": "y-O3gFMSrSZK"
      },
      "source": [
        "txt = \"welcome to the jungle\"\n",
        "\n",
        "x = txt.split('e')\n",
        "\n",
        "print(x)"
      ],
      "execution_count": null,
      "outputs": []
    },
    {
      "cell_type": "markdown",
      "metadata": {
        "id": "I1-60PbOCXFN"
      },
      "source": [
        "### **Die Methoden ```startswith``` und ```endswith```**\n",
        "\n",
        "Wo ihr euren Text nun schon mittels ```split``` aufteilen könnt, sollt ihr noch zwei Methoden kennenlernen, mit denen ihr Anfang und Ende von euren Strings untersuchen könnt. Dies könnt ihr beispielsweise benutzen, wenn ihr alle Wörter mit einer bestimmten Endung in einem Text sucht, oder Wörter die mit \"Sch\" oder ähnlichem beginnen.\n",
        "\n",
        "Die Anwendung ist hierbei ```text.startswith(sub)``` beziehungsweise ```text.endswith(sub)```."
      ]
    },
    {
      "cell_type": "code",
      "metadata": {
        "id": "zP99aOoQCm6P"
      },
      "source": [
        "txt = \"welcome to the jungle\"\n",
        "\n",
        "x = txt.split('e')\n",
        "\n",
        "for y in x:\n",
        "    if y.startswith(\"l\"):\n",
        "        print(y)"
      ],
      "execution_count": null,
      "outputs": []
    },
    {
      "cell_type": "markdown",
      "metadata": {
        "id": "5vxkwAJuVXaj"
      },
      "source": [
        "### **Groß- und Kleinschreibung mit ```upper``` und ```lower```**\n",
        "\n",
        "Grundsätzlich können wir die einzelnen Zeichen eines Strings beliebig groß oder klein schreiben, manchmal ist es jedoch für die Formulierung von z.B. ```if```-Bedingungen einfacher, wenn die Zeichenkette einheitlich vorliegt. Dafür gibt es die Methoden ```string.lower()``` und ```string.upper()```, die alle Buchstaben des aufrufenden Strings in Klein- bzw. in Großbuchstaben umwandeln."
      ]
    },
    {
      "cell_type": "code",
      "metadata": {
        "id": "RzktjcLUX5bF"
      },
      "source": [
        "aussage = \"Ich mag keine Wespen!\"\n",
        "print(aussage)\n",
        "\n",
        "# Zur Verdeutlichung der Aussage können wir jeden Buchstaben groß schreiben.\n",
        "schrei = aussage.upper()\n",
        "print(schrei)\n",
        "\n",
        "# Zählen wir die Anzahl der 'I's und 'i's in der Aussage.\n",
        "# 1. Variante ohne Beachtung von Groß- und Kleinschreibung\n",
        "zaehler1 = 0\n",
        "for char in aussage:\n",
        "    if char == 'i':\n",
        "        zaehler1 += 1\n",
        "print(zaehler1)\n",
        "\n",
        "# 2. Variante mit zwei zu prüfenden Bedingungen\n",
        "zaehler2 = 0\n",
        "for char in aussage:\n",
        "    if char == 'i' or char == 'I':\n",
        "        zaehler2 += 1\n",
        "print(zaehler2)\n",
        "\n",
        "# 3. Variante mit Verwendung von .lower()\n",
        "zaehler3 = 0\n",
        "for char in aussage.lower():\n",
        "    if char == 'i':\n",
        "        zaehler3 += 1\n",
        "print(zaehler3)\n",
        "\n",
        "# Wenn wir s.lower() nicht verwenden, müssen wir also auch char == 'I' prüfen,\n",
        "# da sonst das 'I' am Anfang nicht gefunden wird."
      ],
      "execution_count": null,
      "outputs": []
    },
    {
      "cell_type": "markdown",
      "metadata": {
        "id": "8dNNcVKaywhf"
      },
      "source": [
        "#### **Übung 1** - ```in```-Operator\n",
        "\n",
        "Auf den folgenden fünf Insel-Strings halten sich Wölfe, Schafe und Salatköpfe auf. Am schnellsten isst der Wolf das Schaf, wurde das Schaf nicht gefressen, so isst es den Salat.\n",
        "\n",
        "Im zugehörigen String der Insel werden ```Wolf```, ```Schaf``` bzw ```Salat``` erwählt, sofern sie sich dort aufhalten.\n",
        "\n",
        "Schreibe ein Programm, in dem du den ```in```-Operator sowie ```if```, ```elif``` und ```else``` verwendest, um bei den fünf Inseln zu prüfen, wer nach dem Fressen noch übrig bleibt.\n",
        "\n",
        "Erstelle dafür pro Insel eine Liste aller Tiere und Salate, die sich dort befinden, und gib diese am Ende aus."
      ]
    },
    {
      "cell_type": "code",
      "source": [
        "insel_eins = \"Hier halten sich ein Wolf und ein Schaf auf.\"\n",
        "insel_zwei = \"Auf dieser prächtigen Insel leben Wolf und Schaf. Außerdem gibt es Salat.\"\n",
        "insel_drei = \"Keine Tiere in Sicht. Nur ein Salat.\"\n",
        "insel_vier = \"Zwischen riesigen Salatblättern lebt auf dieser Insel ein kleiner Wolf.\"\n",
        "insel_fuenf = \"Auf dieser Insel gibt es ein Schaf, das auf einem großen Berg voll Salat sitzt.\"\n",
        "\n",
        "# Gib hier deinen Code ein:\n",
        "\n",
        "\n"
      ],
      "metadata": {
        "id": "7-2C7LRLJaU-"
      },
      "execution_count": null,
      "outputs": []
    },
    {
      "cell_type": "markdown",
      "metadata": {
        "id": "aHoRmhbVCmA9"
      },
      "source": [
        "#### **Übung 2** - ```split``` und ```startswith```\n",
        "\n",
        "Im folgenden Codeblock findest du ein Gedicht. Bearbeite bitte folgende Aufgaben:\n",
        "\n",
        "*   Gib die neunte Zeile aus.\n",
        "*   Gib alle Wörter aus, die mit \"Leben\" starten.\n",
        "*   Sortiere die ersten vier Zeilen einmal alpabetisch und gib das Ergebnis aus. (Tipp: Erinnere dich an ```sorted(liste)```.) Ist das Ergebnis wie erwartet?\n",
        "\n"
      ]
    },
    {
      "cell_type": "code",
      "source": [
        "stufen = \"\"\"Wie jede Blüte welkt und jede Jugend\n",
        "Dem Alter weicht, blüht jede Lebensstufe,\n",
        "Blüht jede Weisheit auch und jede Tugend\n",
        "Zu ihrer Zeit und darf nicht ewig dauern.\n",
        "Es muß das Herz bei jedem Lebensrufe\n",
        "Bereit zum Abschied sein und Neubeginne,\n",
        "Um sich in Tapferkeit und ohne Trauern\n",
        "In andre, neue Bindungen zu geben.\n",
        "Und jedem Anfang wohnt ein Zauber inne,\n",
        "Der uns beschützt und der uns hilft, zu leben.\n",
        "\n",
        "Wir sollen heiter Raum um Raum durchschreiten,\n",
        "An keinem wie an einer Heimat hängen,\n",
        "Der Weltgeist will nicht fesseln uns und engen,\n",
        "Er will uns Stuf‘ um Stufe heben, weiten.\n",
        "Kaum sind wir heimisch einem Lebenskreise\n",
        "Und traulich eingewohnt, so droht Erschlaffen,\n",
        "Nur wer bereit zu Aufbruch ist und Reise,\n",
        "Mag lähmender Gewöhnung sich entraffen.\n",
        "\n",
        "Es wird vielleicht auch noch die Todesstunde\n",
        "Uns neuen Räumen jung entgegen senden,\n",
        "Des Lebens Ruf an uns wird niemals enden…\n",
        "Wohlan denn, Herz, nimm Abschied und gesunde!\"\"\"\n",
        "\n"
      ],
      "metadata": {
        "id": "25NVEPT1JjyR"
      },
      "execution_count": null,
      "outputs": []
    },
    {
      "cell_type": "markdown",
      "metadata": {
        "id": "AZOP1KEse2-n"
      },
      "source": [
        "#### **Übung 3** - ```.upper()``` und ```.lower()```\n",
        "\n",
        "Überprüfe mithilfe von ```.upper()``` bzw. ```.lower()``` und ```if```-Bedingungen, ob die gegebenen Zungenbrecher bis auf die Groß- und Kleinschreibung identisch sind.\n",
        "\n",
        "Wenn sie es sind, gib \"Die Zungenbrecher sind identisch.\" auf der Konsole aus; wenn nicht, gib den String \"Die Zungenbrecher unterscheiden sich.\" aus."
      ]
    },
    {
      "cell_type": "code",
      "metadata": {
        "id": "5QyZL5pMfO8U"
      },
      "source": [
        "s1 = \"Fischers Fritze fischt frische Fische, frische Fische fischt Fischers Fritze.\"\n",
        "s2 = \"fiSCHers fritze FISCHT FrIsChE fISche, FrIsChE fiscHE fischt FIschERS FRITZE.\"\n",
        "s3 = \"FiSCHERS FRiTZE FiSCHT FRiSCHE FiSCHE, FRiSCHE FiSCHE FiSCHT FiSCHERS FPiTZE.\"\n",
        "\n"
      ],
      "execution_count": null,
      "outputs": []
    },
    {
      "cell_type": "markdown",
      "source": [
        "### Musterlösung Türchen 8"
      ],
      "metadata": {
        "id": "jRIa7vZ9Z9P3"
      }
    },
    {
      "cell_type": "code",
      "metadata": {
        "id": "CO_9smXLVPhp"
      },
      "source": [
        "# Übung 1\n",
        "satz = \"Ein Reh stakst durch den Schnee.\"\n",
        "start = satz.index(\"stakst\")\n",
        "laenge = len(\"stakst\")\n",
        "stop = start + laenge\n",
        "wort = satz[start:stop]\n",
        "\n",
        "print(start, laenge, stop)\n",
        "print(wort)"
      ],
      "execution_count": null,
      "outputs": []
    },
    {
      "cell_type": "code",
      "metadata": {
        "id": "aOQdB5B8QYZR"
      },
      "source": [
        "# Übung 2\n",
        "zahlen321 = 7*\"321\"\n",
        "print(zahlen321)"
      ],
      "execution_count": null,
      "outputs": []
    },
    {
      "cell_type": "code",
      "metadata": {
        "id": "nz411i3MV02e"
      },
      "source": [
        "# Übung 3\n",
        "text = \"\"\"Dies soll nur als kleiner Beispielstext dienen,\n",
        "um euch das eben Gelernte üben zu lassen.\n",
        "Korrigiert die Verwendung von \" und/oder ergänzt \\ oder \\\\n, \\nbis der Code ohne Fehler durchläuft.\n",
        "Die richtige Lösung ist nicht eindeutig,\n",
        "es gibt also mehrere richtige Lösungen.\"\"\"\n",
        "print(text)"
      ],
      "execution_count": null,
      "outputs": []
    },
    {
      "cell_type": "code",
      "source": [
        "# Übung 4\n",
        "satz = \"Ein tolles Buch ist Werk eines guten Schreibers.\"\n",
        "# Setze hier deinen Code ein:\n",
        "satz = satz.replace('B','T', 1)\n",
        "satz = satz.replace('Schreibers', 'Schneiders', 1)\n",
        "print(satz)\n",
        "\n",
        "start = satz.find('Schneiders')\n",
        "print(start)\n",
        "print(satz[37])\n",
        "\n",
        "ende = start + len(\"Schneiders\") - 1\n",
        "print(ende, satz[ende], sep=\"\\n\")\n",
        "\n",
        "teilsatz = satz[start-17:start]\n",
        "print(teilsatz)\n",
        "print(len(teilsatz))"
      ],
      "metadata": {
        "id": "nfjQEXxlFjd6"
      },
      "execution_count": null,
      "outputs": []
    }
  ]
}