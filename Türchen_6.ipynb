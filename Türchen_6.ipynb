{
  "nbformat": 4,
  "nbformat_minor": 0,
  "metadata": {
    "colab": {
      "provenance": [],
      "collapsed_sections": [
        "tOIcJRjuXhQ5"
      ],
      "include_colab_link": true
    },
    "kernelspec": {
      "name": "python3",
      "display_name": "Python 3"
    },
    "language_info": {
      "name": "python"
    }
  },
  "cells": [
    {
      "cell_type": "markdown",
      "metadata": {
        "id": "view-in-github",
        "colab_type": "text"
      },
      "source": [
        "<a href=\"https://colab.research.google.com/github/ollihansen90/MatheSH-Adventskalender/blob/main/T%C3%BCrchen_6.ipynb\" target=\"_parent\"><img src=\"https://colab.research.google.com/assets/colab-badge.svg\" alt=\"Open In Colab\"/></a>"
      ]
    },
    {
      "cell_type": "markdown",
      "source": [
        "# Fragen?\n",
        "\n",
        "Solltet ihr Fragen zum Code oder Probleme mit Colab haben, schickt uns gerne eine Mail:\n",
        "\n",
        "*   h.hansen@uni-luebeck.de\n",
        "*   dustin.haschke@student.uni-luebeck.de\n",
        "*   friederike.meissner@student.uni-luebeck.de\n"
      ],
      "metadata": {
        "id": "KZhQktFlf0Io"
      }
    },
    {
      "cell_type": "markdown",
      "source": [
        "## Türchen 6 - Schleifen"
      ],
      "metadata": {
        "id": "m8HRVw1des_v"
      }
    },
    {
      "cell_type": "markdown",
      "source": [
        "### **Schleifen**\n",
        "\n",
        "Im heutigen Türchen wollen wir euch Schleifen näherbringen. Wir benötigen Schleifen, wenn wir eine Aktion für mehrere Dinge ausführen wollen oder so lange, bis wir etwas erreicht haben. Dabei gibt es folgende Schleifen-Typen:\n",
        "* Wiederhol-Schleifen oder auch ```while```-Schleifen\n",
        "* Zähl-Schleifen oder auch ```for```-Schleifen\n",
        "\n",
        "Als erstes wollen wir uns auf die while-Schleifen fokussieren.\n",
        "\n"
      ],
      "metadata": {
        "id": "20U_yWa97MCH"
      }
    },
    {
      "cell_type": "markdown",
      "source": [
        "### **```while```-Schleifen**\n",
        "Ihr habt in Türchen 4 bereits ```if```-Abfragen kennengelernt, die eine Aktion ausführen, **falls** eine bestimmte Bedingung ```True``` ist.\n",
        "\n",
        "Wir nutzen die ```while```-Schleife, wenn wir etwas **solange** ausführen wollen, wie eine bestimmte Bedingung ```True``` ist.\n",
        "\n",
        ">**Solange** *Bedingung* gilt**:**\n",
        ">> tue *Anweisung*.\n",
        "\n",
        "Die *Bedingung* ist hierbei sehr oft ein Counter (Zähler) oder ähnliches. Damit wir unsere *Anweisung* nicht ewig wiederholen, schließen wir in der Regel eine Erhöhung des Counters in unserer *Anweisung* ein.\n",
        "\n",
        "Es folgen zwei Beispiele:"
      ],
      "metadata": {
        "id": "G3B5xH9V7hHW"
      }
    },
    {
      "cell_type": "code",
      "source": [
        "print(\"Beispiel 1\")\n",
        "counter = 0\n",
        "while counter<2:\n",
        "    print(counter)\n",
        "    counter = counter+1\n",
        "\n",
        "print(\"Beispiel 2\")\n",
        "counter = 2\n",
        "while 13%counter>0:\n",
        "    print(counter)\n",
        "    counter = counter+1"
      ],
      "metadata": {
        "id": "JAFbl2V-e8s9"
      },
      "execution_count": null,
      "outputs": []
    },
    {
      "cell_type": "markdown",
      "source": [
        "### **Endlos-Schleifen**\n",
        "\n",
        "Leider erzeugen einige, häufig ungünstig programmierte Schleifen keinen normalen Ausgabewert, sondern unendlich viele Ausgabewerte, ohne je eine endgültige Ausgabe zu liefern (\"zu terminieren\").\n",
        "\n",
        "Dies nennt man eine Endlosschleife.\n",
        "\n",
        "Eine Endlosschleife terminiert nicht, weil z. B. die ```solange```-Bedingung einer ```while```-Schleife dauerhaft erfüllt ist oder bei einer ```if```-Schleife die Abbruchbedingung niemals erfüllt wird.\n",
        "\n",
        "Solltet ihr in einer Endlosschleife landen, könnt ihr den Algorithmus \"per Hand\" beenden, indem ihr auf das Stopp-Symbol geht oder STRG+C drückt.\n",
        "\n",
        "#### **Beispiel einer Endlosschleife**\n",
        "Im folgenden Beispiel haben zwei Schwestern eine Tüte Bonbons gekauft. Sie beschließen, dass sie beide je einen Bonbon essen, solange sie diese unter sich aufteilen können.\n",
        "\n",
        "Ihrem kleinen Bruder versprechen sie, dass er alle aus der Tüte erhält, sobald sie die Tüte nicht aufteilen können und versprechen ihm, solange neue Tüten kaufen und Bonbons zu essen, bis er etwas abbekommt.\n",
        "\n",
        "Ungünstigerweise enthält jede Tüte 10 Bonbons.\n",
        "Die Ausgabe gibt an, wie viele Bonbons noch in der aktuell gefüllten Tüte sind.\n",
        "\n",
        "Vollziehe nach, was im Code geschieht."
      ],
      "metadata": {
        "id": "-ZM-58B_74Nw"
      }
    },
    {
      "cell_type": "code",
      "source": [
        "bonbons=10\n",
        "while bonbons%2==0:\n",
        "    bonbons=bonbons-2\n",
        "    if bonbons<0:\n",
        "        bonbons=bonbons+10\n",
        "    print(bonbons)\n",
        "print(\"Bruder erhält\", bonbons, \"Bonbons\")"
      ],
      "metadata": {
        "id": "K22V63Jz734s"
      },
      "execution_count": null,
      "outputs": []
    },
    {
      "cell_type": "markdown",
      "metadata": {
        "id": "y1pFTmH1Nk5_"
      },
      "source": [
        "### **```for```-Schleifen**\n",
        "\n",
        "```for```-Schleifen sind, wie der Name bereits sagt, ebenfalls Schleifen (wie die while-Schleife), die jedoch immer endlich sind. Bei Python funktionieren Schleifen so, dass sie ein iterierbares Objekt bekommen (z. B. eine Liste) und nacheinander die Einträge des Objektes durchlaufen.\n",
        "\n",
        "For-Schleifen sind in der Syntax ähnlich wie while-Schleifen, die Abbruchbedingung ist jedoch immer so gewählt, dass die Schleife \"fertig\" ist, wenn das letzte Objekt verarbeitet wurde."
      ]
    },
    {
      "cell_type": "code",
      "metadata": {
        "id": "wM_NUlw-NocV"
      },
      "source": [
        "liste = [1,2,3, \"hallo\", 4, 98920]\n",
        "for eintrag in liste:\n",
        "    print(eintrag)"
      ],
      "execution_count": null,
      "outputs": []
    },
    {
      "cell_type": "markdown",
      "metadata": {
        "id": "RSQTtp6smHyw"
      },
      "source": [
        "### **```range```-Funktion**\n",
        "Möchte man ganz viele aufeinanderfolgende Zahlen (nacheinander) durchgehen, kann man schlecht vorher eine lange Liste von Zahlen aufschreiben (vor allem, weil man sowas andauernd benötigt). Vor allem, wenn man sehr viele Zahlen benötigt, ergibt es also Sinn, eine Funktion zu benutzen, die einem die Zahlenfolge generiert. Python liefert die Funktion ```range```, die genau das macht.\n",
        "\n",
        "```range``` liefert keine Liste, wie wir sie von Python kennen, es handelt sich um ein eigenes Objekt. Tatsächlich ist das sogar gut so, da so (theoretisch) unendlich lange Listen aufeinanderfolgender Zahlen generiert werden können, ohne dass sie gespeichert werden müssen! In einem späteren Türchen werden wir das Konzept von Generatoren und Iteratoren kennenlernen, die sehr ähnlich funktionieren.\n",
        "\n",
        "*Achtung*: Python fängt immer mit 0 an zu zählen! ```range(4)``` generiert also nicht die Folge \"1, 2, 3, 4\" sondern die Folge \"0, 1, 2, 3\"."
      ]
    },
    {
      "cell_type": "code",
      "metadata": {
        "id": "VVbVLuDcqlGf"
      },
      "source": [
        "liste = range(4)\n",
        "print(liste)    # range ist ein Objekt\n",
        "print(list(liste)) # Mit dem list-Befehl kann man iterierbare Objekte in Listen umwandeln\n",
        "\n",
        "for index in liste:\n",
        "    print(index)"
      ],
      "execution_count": null,
      "outputs": []
    },
    {
      "cell_type": "markdown",
      "source": [
        "#### **Übung 1** - while-Schleife\n",
        "\n",
        "Berechne die Summe von 1 bis 1000 mithilfe einer ```while```-Schleife.\n",
        "\n",
        "Verwende hierfür zwei Variablen (beispielsweise ```sum``` und ```counter```)."
      ],
      "metadata": {
        "id": "cCwQ0aT07rUO"
      }
    },
    {
      "cell_type": "code",
      "source": [],
      "metadata": {
        "id": "xZMyicz870aR"
      },
      "execution_count": null,
      "outputs": []
    },
    {
      "cell_type": "markdown",
      "metadata": {
        "id": "hR9b0f0d_x_Z"
      },
      "source": [
        "#### **Übung 2** - Weihnachtstombola\n",
        "\n",
        "Bei der nachfolgenden Schleife sollen aus einem Topf mit 9 Losen immer ein Los gezogen und die verbleibende Anzahl im Topf ausgegeben werden.\n",
        "\n",
        "Warum ist dies eine Endlosschleife?\n",
        "\n",
        "Kannst du den Code so anpassen, dass er die richtige Ausgabe erzeugt?"
      ]
    },
    {
      "cell_type": "code",
      "source": [
        "counter = 9\n",
        "while counter < 10:\n",
        "    counter = counter - 1\n",
        "    print(counter)\n",
        "print(\"Ende\")"
      ],
      "metadata": {
        "id": "eQvBCOU1Epe7"
      },
      "execution_count": null,
      "outputs": []
    },
    {
      "cell_type": "markdown",
      "metadata": {
        "id": "OZbDbMdcsIs-"
      },
      "source": [
        "#### **Übung 3** - for-Schleife\n",
        "1. Erstelle eine ```for```-Schleife, die die Quadratzahlen bis 100 ausgibt."
      ]
    },
    {
      "cell_type": "code",
      "source": [],
      "metadata": {
        "id": "wNWG7F80FRS1"
      },
      "execution_count": null,
      "outputs": []
    },
    {
      "cell_type": "markdown",
      "metadata": {
        "id": "F5pxum6fu9nh"
      },
      "source": [
        "2. Erstelle nun eine ```for```-Schleife, die die Einträge einer Liste zählt."
      ]
    },
    {
      "cell_type": "code",
      "source": [
        "liste = [-1.0,-1.0,1.0,-1.0,1.0,1.0,-1.0,1.0,-1.0,1.0,-1.0,-1.0,1.0,1.0,-1.0,-1.0,1.0,-1.0,-1.0,-1.0,-1.0,1.0,-1.0,-1.0]\n",
        "counter = 0\n",
        "for\n",
        "\n",
        "print(\"Die Liste enthält\", counter, \"Einträge.\")"
      ],
      "metadata": {
        "id": "pGoTZynWFb0d"
      },
      "execution_count": null,
      "outputs": []
    },
    {
      "cell_type": "markdown",
      "source": [
        "### **Bonusübung** - Nikolaus-Überraschung 🎄🎁🎄\n",
        "\n",
        "Der Nikolaus hat seine Lieblings-Weihnachtslieder immer auf einer altmodischen Kassette gespeichert. Leider gab es Bandsalat und der Nikolaus hat sich mit einer Schere und Tesa beholfen.\n",
        "\n",
        "Dadurch sind im folgenden String seine sechs Weihnachtslieder durcheinandergeraten. Kannst du sie wieder entwirren?\n",
        "\n",
        "\n",
        "\n",
        "*   Jedes sechste Wort gehört zum gleichen Gedicht.\n",
        "*   Das erste Gedicht wird vorwärts abgespielt, das zweite rückwärts, das dritte wieder vorwärts usw. .\n",
        "*   Das erste Gedicht beginnt bei an Stelle 6, das zweite Gedicht an Stelle 6+2=8 (rückwärts), das dritte Gedicht an Stelle 6+2+3=11 u.s.w. .\n",
        "*   Jedes Gedicht hat 31 \"Wörter\".\n",
        "\n",
        "Tipps:\n",
        "\n",
        "\n",
        "\n",
        "*   Benutze `string.split()`\n",
        "*   Es ist einfacher die Wörter erstmal nach zugehörigem Lied aufzuteilen.\n",
        "*   eine Liste kannst du über `' '.join(liste)` zu einem String umwandeln\n",
        "\n",
        "Viel Spaß & Erfolg!\n",
        "\n",
        "\n",
        "\n",
        "\n",
        "\n",
        "\n",
        "\n",
        "\n"
      ],
      "metadata": {
        "id": "IiyA4QCpplsz"
      }
    },
    {
      "cell_type": "code",
      "source": [
        "kassette = \"🎄 wacht schneit. singen der ❄️ ❄️ einsam O Engelein Wald: 🧦 🦌 schläft, Tannenbaum, ob Freue 🎄 🌟 Alles o als dich, 🤶🏼 🎁 Nacht! Tannenbaum, ist, Christkind 👦 Lasst heilige wie es kommt 🧒 uns Nacht, grün Weihnachtszeit; bald! 🎅🏼 froh Stille sind der ❄️ 🎁 und 🎁 deine zu 🦌 🎁 munter ☃️ Blätter! als 🦌 ☃️ sein 🌟 O klingen 🎄 😀 und 🎄 Tannenbaum, nie ⛪ 🛷 uns 🌟 o Glocken 🌟 sind. recht Ruh! Tannenbaum, die 🤶🏼 Menschen von himmlischer wie Süßer 🎅🏼 wir Herzen in grün 🕯️ 🧦 wo freun! Schlaf sind 🎁 🛷 nieder, Lustig, Ruh! deine 🛷 🎁 Erde lustig, himmlischer Blätter! 🧦 🕯️ die traleralera! in Du 🎅🏼 Leise auf Bald schlaf grünst 🤶🏼 rieselt Christuskind ist Haar, nicht 🌟 der das Niklausabend lockigen nur ⛪ Schnee, kommt da, im zur 🎄 still wieder bald Knabe Sommerszeit, 🦌 und Jahre ist Holder nein, ❄️ starr Alle Niklausabend Paar. auch Freud. ruht ⛪ da! hochheilige im und der 🕯️ 🎅🏼 traute, Winter, Frieden See, 🌟 ☃️ das wenn von weihnachtlich 🦌 🤶🏼 nur es wieder glänzet 🦌\"\n",
        "\n",
        "# Hier beginnt dein Code :-)\n",
        "\n"
      ],
      "metadata": {
        "id": "D7ObDLVJpsLt"
      },
      "execution_count": null,
      "outputs": []
    },
    {
      "cell_type": "markdown",
      "source": [
        "### Musterlösung Türchen 5"
      ],
      "metadata": {
        "id": "tOIcJRjuXhQ5"
      }
    },
    {
      "cell_type": "code",
      "metadata": {
        "id": "ld4pKROlx60c"
      },
      "source": [
        "# Übung 1\n",
        "gebaeck = [\"Zimtstern\", \"Dominostein\", \"Lebkuchen\", \"Spekulatius\", \"Butterplätzchen\"]\n",
        "print(len(gebaeck))\n",
        "print(sorted(gebaeck))\n",
        "\n",
        "gebaeck.append(\"Kokosmakrone\")\n",
        "print(gebaeck)\n",
        "gebaeck.index(\"Kokosmakrone\")"
      ],
      "execution_count": null,
      "outputs": []
    },
    {
      "cell_type": "code",
      "metadata": {
        "id": "7trwXYy1on-M"
      },
      "source": [
        "# Übung 2\n",
        "liste = list(range(1000))\n",
        "\n",
        "liste7 = liste[::7]\n",
        "print(liste7)\n",
        "\n",
        "liste7_letzte10 =  liste7[-10:]\n",
        "print(liste7_letzte10)\n",
        "\n",
        "liste7_letzte10_rueckwaerts = liste7_letzte10[::-1]\n",
        "print(liste7_letzte10_rueckwaerts)"
      ],
      "execution_count": null,
      "outputs": []
    },
    {
      "cell_type": "code",
      "metadata": {
        "id": "_dRYY8YgkqKU"
      },
      "source": [
        "# Übung 3\n",
        "klasse.append([\"Sophia\", 17, True])\n",
        "klasse[2][2] = True\n",
        "print(klasse)"
      ],
      "execution_count": null,
      "outputs": []
    }
  ]
}