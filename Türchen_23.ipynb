{
  "nbformat": 4,
  "nbformat_minor": 0,
  "metadata": {
    "colab": {
      "provenance": [],
      "collapsed_sections": [
        "ZyoIiYK0eH-U"
      ],
      "include_colab_link": true
    },
    "kernelspec": {
      "name": "python3",
      "display_name": "Python 3"
    },
    "language_info": {
      "name": "python"
    }
  },
  "cells": [
    {
      "cell_type": "markdown",
      "metadata": {
        "id": "view-in-github",
        "colab_type": "text"
      },
      "source": [
        "<a href=\"https://colab.research.google.com/github/ollihansen90/MatheSH-Adventskalender/blob/main/T%C3%BCrchen_23.ipynb\" target=\"_parent\"><img src=\"https://colab.research.google.com/assets/colab-badge.svg\" alt=\"Open In Colab\"/></a>"
      ]
    },
    {
      "cell_type": "markdown",
      "source": [
        "# Fragen?\n",
        "\n",
        "Solltet ihr Fragen zum Code oder Probleme mit Colab haben, schickt uns gerne eine Mail:\n",
        "\n",
        "*   h.hansen@uni-luebeck.de\n",
        "*   dustin.haschke@student.uni-luebeck.de\n",
        "*   friederike.meissner@student.uni-luebeck.de\n"
      ],
      "metadata": {
        "id": "KZhQktFlf0Io"
      }
    },
    {
      "cell_type": "markdown",
      "source": [
        "## Türchen 23 - APIs"
      ],
      "metadata": {
        "id": "tuENsru-hyBP"
      }
    },
    {
      "cell_type": "markdown",
      "source": [
        "#### **APIs**\n",
        "\n",
        "Anwendungsprogrammierschnittstellen oder *Application Programming Interfaces* (APIs) sind eine Art **Software-Vermittler**, der die Kommunikation zwischen zwei Anwendungen ermöglicht. Fast jede App auf unseren Smartphones verbindet das Gerät mit dem Internet und übermittelt Daten an einen Server. Dort werden die Daten abgerufen, interpretiert, umgesetzt und schließlich zurück an das Gerät übertragen. Nach der Interpretation werden uns die Informationen lesbar angezeigt. All das ist dank einer API möglich. Aufgrund der beschränkten Weitergabe an den Server und zurück an das Smartphone sind die Daten dabei sicher.\n",
        "\n",
        "Ihr könnt euch das wie eine Bedienung im Restaurant vorstellen, die zwischen euch und der Küche vermittelt, also sowohl die Bestellung aufnimmt, als auch das Essen serviert.\n",
        "\n",
        "In diesem Türchen möchten wir euch ein paar APIs vorstellen, die direkt **ohne API-Key** genutzt werden können. Dieser \"Schlüssel\" ist benutzerspezifisch und bei manchen APIs zur Authentifizierung notwendig. Es gibt aber natürlich sehr, sehr viele APIs (siehe z. B. [hier](https://github.com/public-api-lists/public-api-lists)) und darunter auch viele, die keinen Key benötigen.\n",
        "\n"
      ],
      "metadata": {
        "id": "gpaHB-YuX9FK"
      }
    },
    {
      "cell_type": "markdown",
      "source": [
        "#### **```requests```: Harry-Potter-API**\n",
        "\n",
        "Dafür brauchen wir eine **API-Anfrage** (*request*), die an einen Server gesendet wird und eine API auffordert, Daten oder Dienste bereitzustellen. Da die ```get``` request die am häufigsten verwendete Art ist, nutzen wie diese aus dem Package ```requests```.\n",
        "\n",
        "Im folgenden Beispiel wollen wir uns alle Zaubersprüche des Harry-Potter-Universums mithilfe der [HP-API](https://hp-api.onrender.com/) ansehen.\n",
        "Dafür wird der ```requests.get()```-Methode die **URL der API** mit der Endung \"spells\" (englische Übersetzung von \"Zaubersprüche\") übergeben. Weisen wir diesen Aufruf einer Variable zu, hier ```antwort```, haben wir Zugriff auf verschiedene Informationen.\n",
        "\n",
        "Der **Status-Code** (`.status_code`) zeigt z. B. an, ob die Anfrage erfolgreich war. Diese Codes sind hierbei möglich:\n",
        "\n",
        "* `200` - Success (Erfolg)\n",
        "* `300` - The API is redirecting to a different endpoint (Weiterleitung zu anderem Endpunkt)\n",
        "* `400` - Bad request (Ungültige Anforderung)\n",
        "* `401` - Not authenticated (nicht authentifizierter Zugriff)\n",
        "* `403` - Forbidden (verbotener Zugriff)\n",
        "* `404` - Not found (nicht gefunden)\n",
        "* `429` - Too many requests (zu viele Anfragen)"
      ],
      "metadata": {
        "id": "_xWm2XV6gzat"
      }
    },
    {
      "cell_type": "code",
      "source": [
        "import requests\n",
        "\n",
        "antwort = requests.get(\"https://hp-api.onrender.com/api/spells\")\n",
        "print(antwort.status_code) # Status-Code"
      ],
      "metadata": {
        "id": "PcX7Frgu5tGS"
      },
      "execution_count": null,
      "outputs": []
    },
    {
      "cell_type": "markdown",
      "source": [
        "Da der Status-Code 200 ist, hat alles geklappt und wir haben Zugriff auf die Zaubersprüche.\n",
        "\n",
        "Für die enthaltenen Daten gibt es das Attribut `.content`, das sie als `bytes`-Objekt dargestellt. Für eine besser lesbare Version verwenden wir jedoch das **Dateiformat JSON**, das ihr schon bei den Dictionaries kennengelernt habt. Mit `.json()` werden die Daten als Dictionary in der Variable `sprueche` gespeichert, sodass wir über die Keys auf die einzelnen Werte zugreifen und damit arbeiten können.\n",
        "\n",
        "Für eine etwas übersichtlichere Darstellung wurden hier die jeweiligen IDs aus ```sprueche``` entfernt, sodass ```lexikon``` die alphabetisch sortierten Zaubersprüche als *keys* enthält, deren *values* den Beschreibungen, also was die Sprüche bewirken, entsprechen.  "
      ],
      "metadata": {
        "id": "YM8BDdg45_1A"
      }
    },
    {
      "cell_type": "code",
      "source": [
        "print(antwort.content)\n",
        "sprueche = antwort.json()\n",
        "print(sprueche[:10])\n",
        "\n",
        "lexikon = dict()\n",
        "for elem in sprueche:\n",
        "    lexikon['{}'.format(elem['name'])] = elem['description']\n",
        "\n",
        "print(lexikon)"
      ],
      "metadata": {
        "id": "311428K9gRZ5"
      },
      "execution_count": null,
      "outputs": []
    },
    {
      "cell_type": "markdown",
      "source": [
        "#### **API-Wrapper: NASA**\n",
        "\n",
        "Zusätzlich gibt es auch **API-Wrapper**, die zwischen der API und uns als Anwendern vermitteln und wie eine Bibliothek verwendet werden können.\n",
        "\n",
        "Hier sehen wir uns einmal verschiedene APIs der *National Aeronautics and Space Administration* (NASA) an, die in dem Wrapper ```nasapy``` zusammengefasst wurden. Die englische Dokumentation findet ihr [hier](https://nasapy.readthedocs.io/en/latest/api.html).\n",
        "\n",
        "Zuerst müssen wir den Wrapper jedoch **installieren**, da er nicht zur Standardbibliothek von Python gehört.\n",
        "\n",
        "**Führe dafür bitte folgenden Codeblock aus:**"
      ],
      "metadata": {
        "id": "3GRgaD7bZlwS"
      }
    },
    {
      "cell_type": "code",
      "source": [
        "!pip install nasapy"
      ],
      "metadata": {
        "id": "JP4PNk15eUbs"
      },
      "execution_count": null,
      "outputs": []
    },
    {
      "cell_type": "markdown",
      "source": [
        "Jetzt können wir wie üblich auf alle Attribute und Methoden des Objekts ```obj``` der ```Nasa```-Klasse zugreifen.\n",
        "\n",
        "Beispielsweise liefert die Methode ```.picture_of_the_day()``` das **Weltraumbild des Tages**, inkl. verschiedener Informationen wie einer kurzen Erklärung, dem Titel sowie der URL, unter der das Bild abrufbar ist. Diese wurde hier mithilfe des Packages `IPython` genutzt, um das Bild auf der Konsole anzuzeigen."
      ],
      "metadata": {
        "id": "txNax-c0g0FK"
      }
    },
    {
      "cell_type": "code",
      "source": [
        "import nasapy as nasa\n",
        "from IPython.display import Image # Anzeige der Bilder\n",
        "\n",
        "obj = nasa.Nasa()\n",
        "daten = obj.picture_of_the_day() # default Datum ist der aktuelle Tag\n",
        "for key, value in daten.items():\n",
        "    print(key, value)\n",
        "\n",
        "url_heute = daten[\"url\"]\n",
        "Image(url_heute, width=400)"
      ],
      "metadata": {
        "id": "4ssAc5igekP8"
      },
      "execution_count": null,
      "outputs": []
    },
    {
      "cell_type": "code",
      "source": [
        "# Bild des Tages zu Heiligabend letztes Jahr\n",
        "daten_2022 = obj.picture_of_the_day(\"2022-12-23\") # Achtung: Format JJJJ-MM-TT\n",
        "for key, value in daten_2022.items():\n",
        "    print(key, value)\n",
        "\n",
        "url = daten_2022[\"url\"]\n",
        "Image(url, width=350)"
      ],
      "metadata": {
        "id": "GHTGb7SYmQzN"
      },
      "execution_count": null,
      "outputs": []
    },
    {
      "cell_type": "markdown",
      "source": [
        "Außerdem können wir z. B. Messdaten und Bilder eines **Mars-Rovers** ansehen, also eines ferngesteuerten Fahrzeugs, das auf dem Planet Mars unterwegs ist. Die Methode `.mars_rover()` besitzt dafür folgende Parameter :\n",
        "*   sol: Aufnahmedatum als Anzahl der Tage, nachdem der Rover angekommen ist\n",
        "*   earth_date: Datum der Aufnahme im Format JJJJ-MM-TT\n",
        "*   camera: eine der folgenden Kameraperspektiven 'all', 'FHAZ', 'RHAZ', 'MAST', 'CHEMCAM', 'MAHLI', 'MARDI', 'NAVCAM', 'PANCAM', 'MINITES'\n",
        "*   rover: einer der folgenden Rover-Namen 'curiosity', 'opportunity', 'spirit', default: ''curiosity'\n",
        "*   page: Seitenzahl der Ergebnisse (25 Ergebnisse pro Seite), default: 1\n",
        "\n",
        "<img src=\"https://upload.wikimedia.org/wikipedia/commons/d/d8/NASA_Mars_Rover.jpg\" height=\"200em\"/>\n"
      ],
      "metadata": {
        "id": "4d1E2YHN7xWe"
      }
    },
    {
      "cell_type": "code",
      "source": [
        "# Die ersten zwei Ergebnisse des 20.12.2023, aufgenommen von Curiosity\n",
        "obj.mars_rover(earth_date=\"2023-12-20\", rover=\"curiosity\")[:2]"
      ],
      "metadata": {
        "id": "kOSxs1_olRWx"
      },
      "execution_count": null,
      "outputs": []
    },
    {
      "cell_type": "markdown",
      "source": [
        "Zur Anzeige der Bilder hier in Colab verwenden wir wieder `IPython`:"
      ],
      "metadata": {
        "id": "CBZNv8wT_4t8"
      }
    },
    {
      "cell_type": "code",
      "source": [
        "mars_daten = obj.mars_rover(earth_date=\"2023-12-20\", rover=\"curiosity\")[:2]\n",
        "img1 = mars_daten[0][\"img_src\"]\n",
        "Image(img1, width=400)"
      ],
      "metadata": {
        "id": "A3Ia3vSG_vtZ"
      },
      "execution_count": null,
      "outputs": []
    },
    {
      "cell_type": "markdown",
      "source": [
        "#### **Craiyon**\n",
        "\n",
        "Craiyon, früher DALL-E-MINI, ist ein KI-Bildgenerator, der basierend auf einer Beschreibung in Textform das gewünschte Bild erzeugt. Leider ist der Zugriff durch Colab nicht möglich, aber lokal auf euren PCs sollte es funktionieren! Daher hier eine kurze Anleitung:\n",
        "\n",
        "Bevor wir es normal einbinden können, müssen wir es erst installieren:"
      ],
      "metadata": {
        "id": "chUAsZKEkjnF"
      }
    },
    {
      "cell_type": "code",
      "source": [
        "!pip install craiyon.py"
      ],
      "metadata": {
        "id": "kKIoVFt8lXWQ"
      },
      "execution_count": null,
      "outputs": []
    },
    {
      "cell_type": "markdown",
      "source": [
        "Dann können wir es wie eine Bibliothek einbinden und die in der [Dokumentation](https://github.com/FireHead90544/craiyon.py) beschriebenen Parameter und Funktionen verwenden.\n",
        "\n",
        "Im folgenden Codeblock werden z. B. Bilder, genauer Zeichnungen (daher ```model_type=\"drawing\"```), einer sprechenden Weihnachtsmütze erzeugt. Außerdem wird die von Craiyon generierte (englische) Beschreibung ausgegeben und die Bilder im aktuellen Ordner gespeichert."
      ],
      "metadata": {
        "id": "aWLHPC1M3Ds3"
      }
    },
    {
      "cell_type": "code",
      "source": [
        "from craiyon import Craiyon\n",
        "import requests\n",
        "\n",
        "generator = Craiyon()\n",
        "bilder = generator.generate(\"Sprechende Weihnachtsmütze\", model_type=\"drawin\")\n",
        "print(bilder.description)\n",
        "bilder.save_images()"
      ],
      "metadata": {
        "id": "83lUhLdDlzz3"
      },
      "execution_count": null,
      "outputs": []
    },
    {
      "cell_type": "markdown",
      "source": [
        "#### **Übung 1** - Finde eine geeignete API\n",
        "\n",
        "Finde in dieser [Liste](https://github.com/public-api-lists/public-api-lists) eine API, mit der du einen zufälligen Fakt (*random fact*) generieren kannst.\n",
        "\n",
        "Binde sie entsprechend ein, lies die Daten aus und gib den Fakt auf der Konsole aus. Woher stammt dieser Fakt? Gib zusätzlich die Quelle (Website) der Information an.\n",
        "\n",
        "Zusatz: Schaffst du es auch, einen Fakt auf Deutsch auszugeben? Wie lautet der Fakt des Tages?"
      ],
      "metadata": {
        "id": "_RQpyXCPknkM"
      }
    },
    {
      "cell_type": "code",
      "source": [],
      "metadata": {
        "id": "4eXfkf3jzqsq"
      },
      "execution_count": null,
      "outputs": []
    },
    {
      "cell_type": "markdown",
      "source": [
        "### Musterlösung Türchen 22"
      ],
      "metadata": {
        "id": "ZyoIiYK0eH-U"
      }
    },
    {
      "cell_type": "code",
      "source": [
        "# notwendige Packages (zuerst ausführen!)\n",
        "!pip install qrcode\n",
        "!pip install segno\n",
        "!pip install qrcode-artistic"
      ],
      "metadata": {
        "id": "6xnoT94s62X3"
      },
      "execution_count": null,
      "outputs": []
    },
    {
      "cell_type": "code",
      "source": [
        "# Übung 1\n",
        "import segno\n",
        "\n",
        "cal = segno.make_qr(\"https://www.mathe-sh.de/python-adventskalender/\")\n",
        "cal.save(\"adventskalender.png\", scale=5, light=\"0088FF\")"
      ],
      "metadata": {
        "id": "7CjAbowseMhf"
      },
      "execution_count": null,
      "outputs": []
    },
    {
      "cell_type": "code",
      "source": [
        "# Übung 2\n",
        "import segno\n",
        "from urllib.request import urlopen\n",
        "\n",
        "segno.make_qr(\"Welche Farbe hat die Hose des Jungen, der den Schlitten zieht?\").save(\"1_lang.png\")                  #rot\n",
        "segno.make_qr(\"Welche Farbe hat die Schal des Vogels bei der würfelnden Dame außer Weiß?\").save(\"1_schnabel.png\")   #blau\n",
        "segno.make_qr(\"Welche Farbe neben Weiß hat der Schal des Hasen mit der Brille außer Weiß?\").save(\"1_karotte.png\")   #gelb, Gewinner\n",
        "segno.make_qr(\"Welche Farbe haben die Ohren von zwei Schneemännern?\").save(\"1_schweineschnauze.png\")                #grün\n",
        "\n",
        "segno.make_qr(\"Wie viele Personen haben Bärte?\").save(\"2_rot.png\")       #zwei\n",
        "segno.make_qr(\"Wie viele Vögel gibt es im Bild\").save(\"2_blau.png\")       #sechs\n",
        "segno.make_qr(\"Wie viele Laternen gibt es im Bild?\").save(\"2_gelb.png\")    #vier,Gewinner\n",
        "segno.make_qr(\"Wie viele Schneemänner/Schneewesen gibt es im Bild?\").save(\"2_grün.png\")      #fünf\n",
        "\n",
        "text1 = \"Oh nein; du hast dich irgendwo vertan. Versuchs noch einmal :)\"\n",
        "text2 = \"Frohe Ostern =) Oh, oder bist du falsch abgebogen?\"\n",
        "text3 = \"Super. Du hast das Rätsel gelöst! Frohe Weihnachten :-)\"\n",
        "text4 = \"Hier gibt's leider nichts außer eine stille Nacht...\"\n",
        "gif_bild = \"https://media3.giphy.com/media/AqHNXBLBEOEAYKFXtE/giphy.gif\"\n",
        "segno.make_qr(text1).to_artistic(background=urlopen(gif_bild), target=\"3_zwei.gif\", scale=5)\n",
        "segno.make_qr(text2).to_artistic(background=urlopen(gif_bild), target=\"3_sechs.gif\", scale=5)\n",
        "segno.make_qr(text3).to_artistic(background=urlopen(gif_bild), target=\"3_vier.gif\", scale=5)\n",
        "segno.make_qr(text4).to_artistic(background=urlopen(gif_bild), target=\"3_fünf.gif\", scale=5)"
      ],
      "metadata": {
        "id": "DNGrq20AgCBV"
      },
      "execution_count": null,
      "outputs": []
    }
  ]
}