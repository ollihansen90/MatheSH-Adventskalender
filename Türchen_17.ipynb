{
  "nbformat": 4,
  "nbformat_minor": 0,
  "metadata": {
    "colab": {
      "provenance": [],
      "include_colab_link": true
    },
    "kernelspec": {
      "name": "python3",
      "display_name": "Python 3"
    },
    "language_info": {
      "name": "python"
    }
  },
  "cells": [
    {
      "cell_type": "markdown",
      "metadata": {
        "id": "view-in-github",
        "colab_type": "text"
      },
      "source": [
        "<a href=\"https://colab.research.google.com/github/ollihansen90/MatheSH-Adventskalender/blob/main/T%C3%BCrchen_17.ipynb\" target=\"_parent\"><img src=\"https://colab.research.google.com/assets/colab-badge.svg\" alt=\"Open In Colab\"/></a>"
      ]
    },
    {
      "cell_type": "markdown",
      "source": [
        "# Fragen?\n",
        "\n",
        "Solltet ihr Fragen zum Code oder Probleme mit Colab haben, schickt uns gerne eine Mail:\n",
        "\n",
        "*   h.hansen@uni-luebeck.de\n",
        "*   dustin.haschke@student.uni-luebeck.de\n",
        "*   friederike.meissner@student.uni-luebeck.de\n"
      ],
      "metadata": {
        "id": "KZhQktFlf0Io"
      }
    },
    {
      "cell_type": "markdown",
      "source": [
        "## Türchen 17 - Klassen: Vererbung"
      ],
      "metadata": {
        "id": "0zEbYQMkDvgo"
      }
    },
    {
      "cell_type": "markdown",
      "source": [
        "### **Vererbung**\n",
        "\n",
        "#### **Prinzip**\n",
        "Wir beschäftigen uns heute mit der Vererbung von Klassen.\n",
        "\n",
        "Ähnlich wie Eltern an ihre Kinder Gene vererben, können dies auch Klassen tun.\n",
        "\n",
        "Hierbei ist es allerdings so, dass die erbende Klasse quasi eine Spezialform der Klasse darstellt, von der sie erbt. Passender ist also weniger eine Eltern-Kind-Beziehung als vielmehr sowas wie Tiere-Säugetiere-Menschenaffen-Schimpanse, was ausdrückt, dass ein Säugetier generell ein Tier, ein Menschenaffe ein Säuger und ein Schimpanse wiederum ein Menschenaffe ist.\n",
        "\n",
        "#### **Anwendung**\n",
        "\n",
        "In Python überträgt dabei eine übergeordnete Klasse (z.B. Menschenaffe) alle Funktionen und auch noch einiges anderes auf die untergeordnete Klasse (z.B. Schimpanse).\n",
        "\n",
        "Damit eine Klasse von einer anderen Klasse erbt, wird beim Anlegen der Klasse die übergeordnete Klasse in Klammern - quasi als Attribut - dahintergesetzt nach diesem Muster:\n",
        "\n",
        "`class Tochter(Vater):`\n",
        "\n",
        "Hier ein konkretes Beispiel als ***ausführbarer Code***:\n"
      ],
      "metadata": {
        "id": "m7crCZicZ22J"
      }
    },
    {
      "cell_type": "code",
      "source": [
        "class Stift():\n",
        "    def __init__(self,farbe,text):\n",
        "        self.farbe = farbe\n",
        "        self.text = text\n",
        "\n",
        "    def lesen(self):\n",
        "        print(\"Text in\",self.farbe,\":\",self.text)\n",
        "\n",
        "class Kugelschreiber(Stift):\n",
        "    def klicken(self):\n",
        "        print(\"Klick-Klack!\")\n",
        "\n",
        "roter_stift = Stift(\"rot\",\"Hallo Frau Sommer.\")\n",
        "roter_stift.lesen()\n",
        "\n",
        "neuer_stift = Kugelschreiber(\"blau\",\"Hallo Herr Mohn\")\n",
        "neuer_stift.lesen()\n",
        "neuer_stift.klicken()"
      ],
      "metadata": {
        "id": "MHjLjae2b5_4"
      },
      "execution_count": null,
      "outputs": []
    },
    {
      "cell_type": "markdown",
      "source": [
        "**Erläuterung**\n",
        "\n",
        "OBWOHL in diesem Beispiel  `neuer_stift` ein Objekt der Klasse `Kugelschreiber` ist, kann die Funktion `lesen()` in Zeile 17 für dieses benutzt werden, welche in Zeile 6 nur für den `Stift` definiert wurde und gibt so **\"Text in blau : Hallo Herr Mohn\"** aus.\n",
        "\n",
        "Das liegt daran, dass die Klasse Kugelschreiber von der Klasse Stift erbt.\n",
        "\n",
        "Ein weiteres Beispiel:"
      ],
      "metadata": {
        "id": "gkFVzitZbzPN"
      }
    },
    {
      "cell_type": "code",
      "source": [
        "class Stift():\n",
        "    def __init__(self,farbe,text):\n",
        "        self.farbe = farbe\n",
        "        self.text = text\n",
        "\n",
        "    def lesen(self):\n",
        "        print(\"Text in\",self.farbe,\":\",self.text)\n",
        "\n",
        "class Bleistift(Stift):\n",
        "    # Überschreiben(!) der init-Funktion von Stift\n",
        "    def __init__(self,text):  # Farbe wird nicht mehr übergeben\n",
        "        # Attribut Farbe wird immer auf schwarz gesetzt\n",
        "        self.farbe = \"schwarz\"\n",
        "        self.text = text\n",
        "\n",
        "    def radieren(self,anzahl):\n",
        "        if len(self.text) > 0:\n",
        "            self.text = self.text[0:-anzahl]\n",
        "            print(\"*WischWasch*\")\n",
        "\n",
        "mein_bleistift = Bleistift(\"Dies ist ein Text\")\n",
        "\n",
        "mein_bleistift.lesen()\n",
        "mein_bleistift.radieren(10)\n",
        "mein_bleistift.lesen()"
      ],
      "metadata": {
        "id": "tWNH2Ym8hJrF"
      },
      "execution_count": null,
      "outputs": []
    },
    {
      "cell_type": "markdown",
      "source": [
        "**Erläuterung**\n",
        "\n",
        "Hier erbt die Klasse Bleistift von Stift.\n",
        "\n",
        "Dass diese nicht nur über die geerbte Funktion `lesen()`, sondern auch über ihre \"eigene\" Funktion `radieren()` verfügt, sehen wir daran, dass wir im Beispiel 10 Buchstaben vom Text wegradieren und erneut den veränderten Text ausgeben.\n",
        "\n",
        "Eine Besonderheit ist hier, dass die Klasse Bleistift selbst einen Konstruktor, also eine ganz eigene Initialisierungsfunktion, hat, OBWOHL diese bereits für die Elternklasse Stift definiert wurde.\n",
        "\n",
        "Ganz offenbar wird dieser der Vortritt gegeben, da `mein_bleistift` keine Farbe übergeben wird und die Farbe, wie grundsätzlich für Bleistift angelegt, auf schwarz gesetzt wurde."
      ],
      "metadata": {
        "id": "5SRUhvHRihXG"
      }
    },
    {
      "cell_type": "markdown",
      "source": [
        "### **`super()`**\n",
        "Haben wir Attribute, die schon in der Oberklasse enthalten sind, können wir mit Hilfe von `super()` ganz einfach die Unterklasse als Instanz der Oberklasse initialisieren. So sparen wir uns ganz oft ein paar Zeilen Code (vor allem, wenn wir sehr viele Attribute haben, die erst noch gesetzt werden müssen). `super()` ist dabei einfach ein allgemeiner Platzhalter für die Oberklasse(n). Unten sehen wir das Bleistift-Beispiel, das `super()` benutzt."
      ],
      "metadata": {
        "id": "7WB_WrxoH5eD"
      }
    },
    {
      "cell_type": "code",
      "source": [
        "class Stift():\n",
        "    def __init__(self,farbe,text):\n",
        "        self.farbe = farbe\n",
        "        self.text = text\n",
        "\n",
        "    def lesen(self):\n",
        "        print(\"Text in\",self.farbe,\":\",self.text)\n",
        "\n",
        "class Bleistift(Stift):\n",
        "    # Überschreiben(!) der init-Funktion von Stift\n",
        "    def __init__(self,text):  # Farbe wird nicht mehr übergeben\n",
        "        # Attribut Farbe wird immer auf schwarz gesetzt\n",
        "        super().__init__(\"schwarz\", text)\n",
        "\n",
        "    def radieren(self,anzahl):\n",
        "        if len(self.text) > 0:\n",
        "            self.text = self.text[0:-anzahl]\n",
        "            print(\"*WischWasch*\")\n",
        "\n",
        "mein_bleistift = Bleistift(\"Dies ist ein Text\")\n",
        "\n",
        "mein_bleistift.lesen()\n",
        "mein_bleistift.radieren(10)\n",
        "mein_bleistift.lesen()"
      ],
      "metadata": {
        "id": "2cA9wcMgJvmA"
      },
      "execution_count": null,
      "outputs": []
    },
    {
      "cell_type": "markdown",
      "source": [
        "### **Sichtbarkeit der Attribute**\n",
        "\n",
        "Bislang haben wir nur mit sogenannten **öffentlich**en Attributen gearbeitet.\n",
        "Allerdings kann ein Attribut eines Objektes auch mal **privat**, also nur für das Objekt selbst, zugänglich sein.\n",
        "\n",
        "Damit ein Objekt geschützt wird, wird es in der `init()`-Funktion über `self.__attributsname`, also mit einem doppelten vorangesetzten Unterstrich, initialisiert.\n",
        "\n",
        "Ein einzelner Unterstrich ist hingegen nur ein Programmiererhinweis, dass man das Attribut möglichst nicht verändern sollte, der sich aber nicht programmiertechnisch auswirkt."
      ],
      "metadata": {
        "id": "eVqQu5LGpmBt"
      }
    },
    {
      "cell_type": "code",
      "source": [
        "class Zettel():\n",
        "    def __init__(self,bleistift,tinte,geheim_tinte):\n",
        "        self.bleistift = bleistift\n",
        "        self._tinte = tinte\n",
        "        self.__geheim_tinte = geheim_tinte\n",
        "\n",
        "    def lesen(self):\n",
        "        print(\"Auf dem Zettel steht:\", self.bleistift, self._tinte, self.__geheim_tinte)\n",
        "\n",
        "antonias_notizen = Zettel(\"Ich bin 10 Jahre alt.\",\"Ich heiße Antonia.\",\"Ich bin in Tom verliebt.\")\n",
        "\n",
        "print(antonias_notizen.bleistift)\n",
        "print(antonias_notizen._tinte)\n",
        "#print(antonias_notizen.__geheim_tinte)      #   <- Dies funktioniert nicht, da die geheim_Tinte nicht (direkt) zugänglich ist.\n",
        "\n",
        "antonias_notizen.lesen()    # eine klasseneigene Funktion kann auf geschützte Attribute zugreifen"
      ],
      "metadata": {
        "id": "FK1Ry3NYqQXK"
      },
      "execution_count": null,
      "outputs": []
    },
    {
      "cell_type": "markdown",
      "source": [
        "**Erläuterung**\n",
        "\n",
        "Sowohl die **öffentlichen** `bleistift`-Notizen, als auch die **geschützten** `_tinten`-Notizen können ausgegeben werden.\n",
        "\n",
        "Entfernt man allerdings das #-Kommentarzeichen in Zeile 15 (Teste selbst!), so erhält man eine Fehlermeldung, da man nicht ohne Weiteres extern auf das **private** Attribut *geheim_tinte* von *Zettel* zugreifen kann.\n",
        "\n",
        "Die Klasse selbst kann allerdings noch über Funktionen mit diesem Attribut operieren, wie der Aufruf der Funktion `lesen()` von `antonias_notizen` zum Schluss zeigt.\n",
        "\n",
        "In gleicher Weise können sogar Funktionen einer Klasse ***privat*** sein, wie hier verdeutlicht wird:"
      ],
      "metadata": {
        "id": "SVOZkwSeuys3"
      }
    },
    {
      "cell_type": "code",
      "source": [
        "class Tresor():\n",
        "    def __init__(self,passwort):\n",
        "        self.passwort = passwort\n",
        "\n",
        "    def eingabe(self,code):\n",
        "        if self.passwort == code:\n",
        "            self.__bereichern()\n",
        "\n",
        "    def __bereichern(self):\n",
        "        print(\"Du erhälst Silber, Juwelen, Diamanten.\")\n",
        "\n",
        "dagobert = Tresor(\"EmilErpel\")\n",
        "\n",
        "# dagobert.__bereichern()     # <- Dies funktioniert nicht, da   __bereichern   eine private Funktion ist.\n",
        "dagobert.eingabe(\"EmilErpel\")"
      ],
      "metadata": {
        "id": "Ipd8Th7nv9W9"
      },
      "execution_count": null,
      "outputs": []
    },
    {
      "cell_type": "markdown",
      "source": [
        "**Erläuterung**\n",
        "\n",
        "Die Klasse Tresor verfügt über die **öffentliche** Funktion `eingabe()` und die **private** Funktion `__bereichern()`.\n",
        "\n",
        "Ein Aufruf der privaten Funktion ist nicht möglich.\n",
        "\n",
        "Da allerdings die Funktion `eingabe()` mit dem richtigen Passwort intern die private Funktion aufrufen kann, zeigt dies, dass die Klasse selbst weiter mit solchen Funktionen arbeiten kann."
      ],
      "metadata": {
        "id": "WcDyzfHB0WW0"
      }
    },
    {
      "cell_type": "markdown",
      "source": [
        "#### **Übung 1** - Wirbeltiere\n",
        "\n",
        "Legt zuerst eine Klasse `Wirbeltiere` an, welche mit dem Parameter *Klasse* initialisiert wird. Setzt den Standardwert zunächst als \"Saeuger\". Fügt außerdem eine Methode `wirbel` hinzu, welche ausgibt: \"Ich habe eine Wirbelsäure!\""
      ],
      "metadata": {
        "id": "KrL2Bs3VodHB"
      }
    },
    {
      "cell_type": "code",
      "source": [],
      "metadata": {
        "id": "gFwiKhocIAUV"
      },
      "execution_count": null,
      "outputs": []
    },
    {
      "cell_type": "markdown",
      "source": [
        "#### **Übung 2** - Säuger\n",
        "\n",
        "Legt als nächstes eine Klasse `Saeuger` an, welche von `Wirbeltiere` erbt. Initialisiert diese mit *Ordnung*, *Familie* und *Gattung*. Fügt eine weitere Methode `temperatur` hinzu, welche ausgibt: \"Ich kann meine Temperatur regulieren!\"\n",
        "\n"
      ],
      "metadata": {
        "id": "SGFZa3fpH7S8"
      }
    },
    {
      "cell_type": "code",
      "source": [],
      "metadata": {
        "id": "HM7wISULILhO"
      },
      "execution_count": null,
      "outputs": []
    },
    {
      "cell_type": "markdown",
      "source": [
        "#### **Übung 3** - Schneeleopard\n",
        "\n",
        "Legt eine Klasse `Schneeleopard` an. Ruft in eurer `init()`-Funktion die `init()`-Funktion von `Saueger` mit \"Raubtiere\" für *Ordnung*, \"Katzen\" für *Familie* und \"Panthera\" für *Gattung* auf. Falls ihr dabei unsicher seid, beachtet den Hinweis unten. Erstellt außerdem eine Methode `wasbinich`, welche auf Ordung und Familie zugreifen soll, um folgenden Satz auszugeben: \"Der Schneeleopard gehört im Tierreich zur Ordnung der Raubtiere und zur Familie der Katzen.\"\n",
        "\n",
        "Hinweis: ```Saeuger.__init__(self, \"Raubtiere\", \"Katzen\", \"Panthera\")```"
      ],
      "metadata": {
        "id": "mvwfC9ScH98P"
      }
    },
    {
      "cell_type": "code",
      "source": [],
      "metadata": {
        "id": "GQyBWXvqIMu9"
      },
      "execution_count": null,
      "outputs": []
    },
    {
      "cell_type": "markdown",
      "source": [
        "#### **Übung 4**\n",
        "\n",
        "Als letztes wollen wir testen, ob alles gut geklappt hat. Legt eine Instanz der Klasse `Schneeleopard` an und ruft für diese Instanz jeweils einmal die Methoden `wirbel`, `temperatur` und `wasbinich` auf."
      ],
      "metadata": {
        "id": "SuIuLkJWI1rm"
      }
    },
    {
      "cell_type": "code",
      "source": [],
      "metadata": {
        "id": "SSjI5iJfI5zt"
      },
      "execution_count": null,
      "outputs": []
    },
    {
      "cell_type": "markdown",
      "source": [
        "### Musterlösung Türchen 16"
      ],
      "metadata": {
        "id": "9yFxjj_SawKP"
      }
    },
    {
      "cell_type": "code",
      "source": [
        "# Übung 1\n",
        "class Lebensmittel():\n",
        "  def __init__(self, produkt, temperatur, empfohlen, allergie):\n",
        "    self.produkt = produkt\n",
        "    self.temperatur = temperatur\n",
        "    self.empfohlen = empfohlen\n",
        "    self.allergie = allergie\n",
        "\n",
        "  def audio_hinweis(self):\n",
        "    print(\"Das Produkt \", self.produkt)\n",
        "    if self.allergie:\n",
        "      print(\"... enhält einen Allergikerhinweis.\")\n",
        "    if self.temperatur < 15:\n",
        "      print(\"... ist reduziert, da es bereits kalt ist.\")\n",
        "\n",
        "    print(\"... dazu empfehlen wir:\")\n",
        "    for eintrag in self.empfohlen:\n",
        "      print(\"   \", eintrag)\n",
        "\n",
        "mjam_mjam_muesli = Lebensmittel(\"gebrannte Mandeln\", 9, [\"Kinderpunsch\", \"Mutzenmandeln\"], True)\n",
        "\n",
        "mjam_mjam_muesli.empfohlen.append(\"Champignonpfanne\")\n",
        "\n",
        "mjam_mjam_muesli.audio_hinweis()"
      ],
      "metadata": {
        "id": "s_IvhJd2fbct"
      },
      "execution_count": null,
      "outputs": []
    },
    {
      "cell_type": "code",
      "source": [
        "# Übung 2\n",
        "class Steckbrief():\n",
        "  def __init__(self, name, alter, mag_oliven, hobbies):\n",
        "    self.Name = name\n",
        "    self.Alter = alter\n",
        "    self.Mag_oliven = mag_oliven\n",
        "    self.Hobbies = hobbies\n",
        "    self.bereits_vorgestellt = False\n",
        "\n",
        "  def vorstellung(self):\n",
        "    if not(self.bereits_vorgestellt):\n",
        "      text = \"mag keine Oliven\"\n",
        "      if self.Mag_oliven:\n",
        "        text = \"mag Oliven\"\n",
        "      print(\"Hallo, \\n\",\n",
        "            \"mein Name ist\", self.Name,\n",
        "            \"\\n Ich bin\", self.Alter, \"Jahre alt, \\n\",\n",
        "            text,\n",
        "            \"Außerdem mag ich wirklich gerne:\")\n",
        "      for eintrag in self.Hobbies:\n",
        "        print(eintrag)\n",
        "      self.bereits_vorgestellt = True\n",
        "    else:\n",
        "      print(\"Ich heiße\", self.Name, \", aber ich habe mich doch bereits vorgestellt...\")\n",
        "\n",
        "  def fragen():\n",
        "    print(\"\\nUnd wie heißt du?\\n\")\n",
        "\n",
        "torben = Steckbrief(\"Torben\", 11, True, [\"Reiten\",\"Tanzen\"])\n",
        "frauke = Steckbrief(\"Frauke\", 57, True, [\"Singen\",\"Melken\"])\n",
        "jannus = Steckbrief(\"Jannus\", 23, False, [\"Zocken\", \"Disco\"])\n",
        "\n",
        "torben.vorstellung()\n",
        "Steckbrief.fragen()\n",
        "\n",
        "\n",
        "frauke.vorstellung()\n",
        "Steckbrief.fragen()\n",
        "\n",
        "jannus.vorstellung()\n",
        "Steckbrief.fragen()\n",
        "\n",
        "frauke.vorstellung()"
      ],
      "metadata": {
        "id": "8WraP0DKXOU_"
      },
      "execution_count": null,
      "outputs": []
    }
  ]
}