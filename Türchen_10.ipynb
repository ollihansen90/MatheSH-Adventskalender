{
  "nbformat": 4,
  "nbformat_minor": 0,
  "metadata": {
    "colab": {
      "provenance": [],
      "include_colab_link": true
    },
    "kernelspec": {
      "name": "python3",
      "display_name": "Python 3"
    },
    "language_info": {
      "name": "python"
    }
  },
  "cells": [
    {
      "cell_type": "markdown",
      "metadata": {
        "id": "view-in-github",
        "colab_type": "text"
      },
      "source": [
        "<a href=\"https://colab.research.google.com/github/ollihansen90/MatheSH-Adventskalender/blob/main/T%C3%BCrchen_10.ipynb\" target=\"_parent\"><img src=\"https://colab.research.google.com/assets/colab-badge.svg\" alt=\"Open In Colab\"/></a>"
      ]
    },
    {
      "cell_type": "markdown",
      "source": [
        "# Fragen?\n",
        "\n",
        "Solltet ihr Fragen zum Code oder Probleme mit Colab haben, schickt uns gerne eine Mail:\n",
        "\n",
        "*   h.hansen@uni-luebeck.de\n",
        "*   dustin.haschke@student.uni-luebeck.de\n",
        "*   friederike.meissner@student.uni-luebeck.de\n"
      ],
      "metadata": {
        "id": "KZhQktFlf0Io"
      }
    },
    {
      "cell_type": "markdown",
      "source": [
        "## Türchen 10 - Funktionen Teil 1"
      ],
      "metadata": {
        "id": "cI8yVc5EfUzp"
      }
    },
    {
      "cell_type": "markdown",
      "metadata": {
        "id": "MXA6dL5dkWAu"
      },
      "source": [
        "### **Funktionen**\n",
        "\n",
        "Funktionen kennt ihr schon aus den vorherigen Türchen, denn jedes Mal, wenn ihr z.B. ```print(\"Ausgabe\")``` verwendet, ```sorted(liste)``` oder auch ```round(zahl)``` angewandt habt, habt ihr eine Funktion aufgerufen!\n",
        "\n",
        "Jetzt sollt ihr lernen, wie man solche Funktionen selbst erstellt und wie man sie aufruft.\n",
        "\n",
        "Testet mal den folgenden Code aus:\n"
      ]
    },
    {
      "cell_type": "code",
      "metadata": {
        "id": "3hdl2qe5ncwg"
      },
      "source": [
        "def katze():          # hier wurde die Funktion Katze,..\n",
        "    print(\"miau\")       # .., die \"miau\" ausgibt, angelegt."
      ],
      "execution_count": null,
      "outputs": []
    },
    {
      "cell_type": "markdown",
      "metadata": {
        "id": "RA5qkzL8pqoC"
      },
      "source": [
        "Der Code zum Erstellen einer Funktion folgt dem Schema:\n",
        "\n",
        "------------------\n",
        "\n",
        "```def``` ***funktions_name()***:\n",
        "> <Code, der durch die Funktion ausgeführt wird>\n",
        "\n",
        "---\n",
        "\n",
        "```def``` leitet eine **neue Funktion** ein. Nach einem *Leerzeichen* folgt der **Funktionsname** mit ```()```.\n",
        "\n",
        "Eine Zeile darunter wird **eingerückt**, wie z.B. bei if-Bedingungen auch.\n",
        "\n",
        "\n",
        "\n",
        "Dann wird der **auszuführende Code** in Form von anderen Funktionen, Befehlen oder Operationen in diese Funktion eingefügt.\n",
        "\n",
        "\n",
        "Der erste Teil, der die neue Funktion einleitet, benennt und die Klammern beinhaltet, wird auch *Funktionenkopf* genannt.\n",
        "Der zweite, eingerückte Teil heißt *Funktionenrumpf*.\n"
      ]
    },
    {
      "cell_type": "markdown",
      "metadata": {
        "id": "NYiDcveOr93i"
      },
      "source": [
        "### **Ausführung einer Funktion**\n",
        "\n",
        "Nachdem wir oben nun die Funktion ```katze()``` angelegt haben, wollen wir sie auch ausführen.\n",
        "\n",
        "Alle Funktionen, die ihr angelegt habt, könnt ihr über ihren Namen, wie gewohnt durch z.B. die `print`-Funktion, ausführen.\n",
        "\n",
        "Bei unserer ```katze()``` sieht das dann so aus:\n"
      ]
    },
    {
      "cell_type": "code",
      "metadata": {
        "id": "r-sYMldpsfK8"
      },
      "source": [
        "def katze():\n",
        "    print(\"miau\")\n",
        "\n",
        "katze()               # Hier wird die Funktion Katze ausgeführt."
      ],
      "execution_count": null,
      "outputs": []
    },
    {
      "cell_type": "markdown",
      "metadata": {
        "id": "T604af2GtqIk"
      },
      "source": [
        "### **Parameter von Funktionen**\n",
        "\n",
        "Ihr kennt bereits von anderen Funktionen, wie z.B. der ```sorted```-Funktion, dass ihr eine ganz bestimmte Liste übergeben wollt.\n",
        "\n",
        "Das Gleiche könnte ihr auch bei euren selbsterstellten Funktionen machen.\n",
        "Hierfür wieder ein Beispiel:"
      ]
    },
    {
      "cell_type": "code",
      "metadata": {
        "id": "l7qWyldRvhsB"
      },
      "source": [
        "def katze_hungrig(hunger):      # Funktion anlegen mit Parameter 'hunger'\n",
        "    if (hunger):                # Befehle der Funktion: Wenn Hunger (wahr)\n",
        "        print(\"Miau-miau, Miau!\")               #        dann gebe aus: \"Miau-miau, Miau!\"\n",
        "    else:                                       # ansonsten (Hunger falsch)\n",
        "        print(\"*schnarch*\")                     #        gebe aus: \"schnarch\"\n",
        "\n",
        "katze_hungrig(False)     # Funktion wird mit 'Falsch' aufgerufen (\"*schnarch*\")\n",
        "futtergeruch = True             # futtergeruch wird auf 'Wahr' gesetzt\n",
        "katze_hungrig(futtergeruch)     # Funktion wird mit 'Wahr' aufgerufen (\"Miau-miau, Miau!\")"
      ],
      "execution_count": null,
      "outputs": []
    },
    {
      "cell_type": "markdown",
      "metadata": {
        "id": "E1sSo26bxFnM"
      },
      "source": [
        "Die Funktion ```katze_hungrig``` nimmt einen Parameter ```hunger``` entgegen. Eine if-Abfrage prüft dann, ob dieser Wert wahr oder falsch ist.\n",
        "\n",
        "Nun wird die Funktion einmal mit dem Wert *False* (falsch) aufgerufen und gibt entsprechend  **schnarch*\\* aus.\n",
        "\n",
        "Darauf wird die Funktion nochmals mit dem *Wert von ```futtergeruch```* aufgerufen, der *wahr* ist, und es erfolgt die entsprechende Ausgabe für einen wahren Parameter.\n",
        "\n",
        "\n",
        "\n",
        "\n",
        "Natürlich könnt ihr auch andere Werte, wie z.B. Zahlen, übergeben.\n",
        "\n",
        "Hier ein Beispiel für eine Funktion, die solange die Zahl ausgibt und sie abrundend durch 2 teilt, bis die Zahl nicht mehr größer als Null ist."
      ]
    },
    {
      "cell_type": "code",
      "metadata": {
        "id": "mtlyfKTq08Vw"
      },
      "source": [
        "def binary_division(zahl):      # Funktion binary_division mit Parameter zahl wird angelegt\n",
        "    while zahl>0:                     # solange Zahl größer Null\n",
        "        print(zahl)                           # gebe Zahl aus\n",
        "        zahl=zahl//2                          # definiere neue Zahl als Ursprungszahl geteilt durch 2 (abgerundet)\n",
        "\n",
        "binary_division(1023)           # Aufrufen der Funktion mit Parameter 1023"
      ],
      "execution_count": null,
      "outputs": []
    },
    {
      "cell_type": "markdown",
      "metadata": {
        "id": "d5dd6wTctdb1"
      },
      "source": [
        "### **Rückgabe**\n",
        "\n",
        "Die bisher definierten Funktionen besaßen keine Rückgabewerte, so dass wir lediglich per ```print```-Aufruf gesehen haben, was im Inneren der Funktion mit unseren Variablen passiert. Es gibt jedoch auch die Möglichkeit, mit dem Schlüsselwort ```return``` die Werte von einer oder mehreren Variablen direkt zurückzugeben. Für letzeres reiht man die Rückgaben durch Kommata getrennt hinter ```return``` aneinander; wenn man möchte, kann man sie zusätzlich in runde Klammern setzen.\n",
        "\n",
        "Mit der ```return```-Anweisung endet zudem die Ausführung des Funktionsaufrufs, d.h. weitere Veränderungen an der zurückgegebenen Variable werden nicht beachtet! Fehlt das ```return```-Statement hingegen, wird der komplette Funktionsrumpf durchlaufen und ```None``` \"zurückgegeben\". Das spielt vor allem dann eine Rolle, wenn wir den Aufruf einer neuen Variable zuweisen, die so den Rückgabewert bzw. das Tupel, Tripel usw. der Rückgabewerte erhält."
      ]
    },
    {
      "cell_type": "code",
      "metadata": {
        "id": "ry7BMlGxtd4Z"
      },
      "source": [
        "def hello_world_print():\n",
        "    print(\"Hello World!\")\n",
        "\n",
        "def hello_world_return():\n",
        "    return \"Hello World!\"\n",
        "\n",
        "def tupel(a,b):\n",
        "    return a, b          # identisch: return (a,b)\n",
        "\n",
        "def summe(x,y):\n",
        "    return x + y\n",
        "    x = 1000\n",
        "    return x + y\n",
        "\n",
        "# Funktionsaufrufe\n",
        "print(\"Aufrufe\")\n",
        "hello_world_print()     # Aufruf der Funktion ohne Rückgabewert\n",
        "hello_world_return()    # Aufruf der Funktion mit Rückgabewert\n",
        "\n",
        "# Zuweisungen der Aufrufe\n",
        "print(\"Zuweisung\")\n",
        "x = hello_world_print()\n",
        "print(x)                # x wird der Wert None zugewiesen\n",
        "y = hello_world_return()\n",
        "print(y)                # y erhält als Wert den String \"Hello World!\"\n",
        "\n",
        "# Mehrere Rückgabewerte\n",
        "print(tupel(5,7))       # Rückgabe des Tupels (5,7)\n",
        "\n",
        "# Ende des Aufrufs durch return\n",
        "print(summe(2,3))       # Rückgabe des Werts 5, d.h. die Zuweisung für x und das 2. return wurden nicht erreicht!"
      ],
      "execution_count": null,
      "outputs": []
    },
    {
      "cell_type": "markdown",
      "metadata": {
        "id": "qcf7gGgMh81k"
      },
      "source": [
        "### Beispiele von Funktionen mit bzw. ohne Parameter und Rückgabe\n",
        "\n"
      ]
    },
    {
      "cell_type": "code",
      "metadata": {
        "id": "b1I7BosKiXk6"
      },
      "source": [
        "# ohne Parameter, ohne Rückgabe\n",
        "def hallo():\n",
        "    print(\"Hallo!\")\n",
        "\n",
        "# mit Parameter, ohne Rückgabe\n",
        "def tier_laute(tier):\n",
        "    if tier == \"Katze\":\n",
        "        print(\"miau\")\n",
        "    elif tier == \"Hund\":\n",
        "        print(\"wuff\")\n",
        "    elif tier == \"Elefant\":\n",
        "        print(\"töröö\")\n",
        "    elif tier == \"Frosch\":\n",
        "        print(\"quak\")\n",
        "    else:\n",
        "        print(\"Dieser Laut ist leider nicht bekannt.\")\n",
        "\n",
        "# ohne Parameter, mit Rückgabe\n",
        "def pi_gerundet():\n",
        "    return 3.14159265359\n",
        "\n",
        "# mit Parameter, mit Rückgabe\n",
        "def gauss_summe(n):\n",
        "    return n*(n+1)/2\n",
        "\n",
        "print(gauss_summe(10))"
      ],
      "execution_count": null,
      "outputs": []
    },
    {
      "cell_type": "markdown",
      "metadata": {
        "id": "VxGDgDN3tmVG"
      },
      "source": [
        "### **Optionale Parameter**\n",
        "Python-Funktionen können Default-Parameter enthalten, die man beim Aufrufen nicht unbedingt mit angeben muss, wenn sie oftmals gleich sind. Wenn man sich beispielsweise die Dokumentation der ```sorted()```-Funktion ansieht, wird man Folgendes finden:\n",
        "\n",
        "```sorted(iterable, key=None, reverse=False)```\n",
        "\n",
        "```iterable``` ist hierbei ein Objekt, das iterierbar ist, wie beispielsweise eine Liste. ```key``` ist eine Funktion, die als Relation dient. Hier haben wir direkt einen Spezialfall ```None``` (also eine \"leere\" Variable). Ist der Übergabeparameter ```None```, so wird die Liste einfach der Größe nach sortiert. ```reverse``` gibt an, ob wir absteigend sortieren möchten. Wie wir in der Dokumentation sehen, ist der Default-Wert ```False```. Standardmäßig wird also aufsteigend sortiert."
      ]
    },
    {
      "cell_type": "code",
      "metadata": {
        "id": "9z8xOvTJtq7-"
      },
      "source": [
        "def plus(c, a=1, b=2):\n",
        "    ergebnis = a+b\n",
        "    print(str(a) + \" + \" + str(b) +\" = \" + str(ergebnis))\n",
        "    return ergebnis\n",
        "\n",
        "print(plus(4))\n",
        "print(plus(4, a=10))\n",
        "print(plus(4, b=5))\n",
        "print(plus(4, b=5, a=10))\n",
        "print(plus(5, 10))"
      ],
      "execution_count": null,
      "outputs": []
    },
    {
      "cell_type": "markdown",
      "metadata": {
        "id": "3hfDoc_M6LR6"
      },
      "source": [
        "#### **Übung 1** - Aufruf\n",
        "\n",
        "Rufe die Funktion ```python``` mit dem Parameter ```\"Hallo\"``` auf."
      ]
    },
    {
      "cell_type": "code",
      "source": [
        "def python(gruß):\n",
        "    if gruß == \"Hallo\":\n",
        "        print (\"Hallo\")\n",
        "        print (\"Selber Hallo!\")\n",
        "\n",
        "#Dein Code folgt ab hier:\n",
        "\n"
      ],
      "metadata": {
        "id": "QrnSnLYFKB94"
      },
      "execution_count": null,
      "outputs": []
    },
    {
      "cell_type": "markdown",
      "metadata": {
        "id": "Yn8oyBpaeqT-"
      },
      "source": [
        "#### **Übung 2** - Übergabe eines Parameters\n",
        "\n",
        "Definiere eine Funktion ```hallo```, die einen Namen als Parameter erwartet. Sie soll die Begrüßung \"Hallo *Name*!\"  auf der Konsole ausgeben.\n",
        "\n",
        "Teste sie anschließend einmal mit deinem Namen."
      ]
    },
    {
      "cell_type": "code",
      "source": [],
      "metadata": {
        "id": "c3ZOKxUVKMmi"
      },
      "execution_count": null,
      "outputs": []
    },
    {
      "cell_type": "markdown",
      "metadata": {
        "id": "XnKVR2rA32Ce"
      },
      "source": [
        "#### **Übung 3** - Mathematische Funktion 1\n",
        "\n",
        "Erstelle eine Funktion ```mersenne``` mit einer Zahl als *Parameter*.\n",
        "\n",
        "Die Funktion soll erst 2 hoch den Parameter rechnen, danach 1 abziehen und den enstehenden Wert ausgeben.\n",
        "\n",
        "Rufe deine Funktion mit 11 und 13 auf und prüfe, ob 2047 bzw. 8191 ausgegeben werden.\n",
        "\n",
        "*Tipp*:\n",
        "10**3 = 1000"
      ]
    },
    {
      "cell_type": "code",
      "source": [
        "# Nachfolgend soll dein Code platziert werden:\n",
        "\n"
      ],
      "metadata": {
        "id": "UBFt3SXDKWTL"
      },
      "execution_count": null,
      "outputs": []
    },
    {
      "cell_type": "markdown",
      "metadata": {
        "id": "ZtkjEPL9mtmq"
      },
      "source": [
        "#### **Übung 4** - Mathematische Funktion 2\n",
        "\n",
        "Definiere eine Funktion ```potenz```, die für die übergebenen Zahlen $x$ und $y$ das Tripel $(x, y, x^y)$ zurückgibt.\n",
        "\n",
        "Rufe sie anschließend mit $x = 5$ und $y = 3$ auf."
      ]
    },
    {
      "cell_type": "code",
      "source": [],
      "metadata": {
        "id": "dxiQlKQ_Kgl_"
      },
      "execution_count": null,
      "outputs": []
    },
    {
      "cell_type": "markdown",
      "metadata": {
        "id": "-IYX-g13_VbD"
      },
      "source": [
        "#### **Übung 5** - Optionale Parameter\n",
        "Suche nach der <a href=\"https://www.programiz.com/python-programming/methods/built-in/print\">Dokumentation</a> des ```print```-Befehls. Welche optionalen Parameter wurden festgelegt und was machen die?\n",
        "\n",
        "Versuche die Ausgabe der Liste der Zahlen von 0 bis 9\n",
        "\n",
        "1. mit Leerzeichen getrennt und mit Punkt am Ende\n",
        "2. mit Komma getrennt und mit Komma am Ende\n",
        "3. untereinander mit Ausrufezeichen am Ende\n",
        "\n",
        "auszugeben."
      ]
    },
    {
      "cell_type": "code",
      "source": [
        "# mit Leerzeichen getrennt und mit Punkt am Ende\n",
        "print(*list(range(10)), sep=\"\", end=\"\")\n",
        "print()\n",
        "\n",
        "# mit Komma getrennt und mit Komma am Ende\n",
        "print(*list(range(10)))\n",
        "print()\n",
        "\n",
        "# untereinander mit Ausrufezeichen am Ende\n",
        "print(*list(range(10)))\n",
        "print()"
      ],
      "metadata": {
        "id": "HJSc-uNhKrXG"
      },
      "execution_count": null,
      "outputs": []
    },
    {
      "cell_type": "markdown",
      "source": [
        "### Musterlösung Türchen 9"
      ],
      "metadata": {
        "id": "9yFxjj_SawKP"
      }
    },
    {
      "cell_type": "code",
      "metadata": {
        "id": "-y_0SUan0YVy"
      },
      "source": [
        "# Übung 1\n",
        "insel_eins = \"Hier halten sich ein Wolf und ein Schaf auf.\"\n",
        "insel_zwei = \"Auf dieser prächtigen Insel leben Wolf und Schaf. Außerdem gibt es Salat.\"\n",
        "insel_drei = \"Keine Tiere in Sicht. Nur ein Salat.\"\n",
        "insel_vier = \"Zwischen riesigen Salatblättern lebt auf dieser Insel ein kleiner Wolf.\"\n",
        "insel_fuenf = \"Auf dieser Insel gibt es ein Schaf, das auf einem großen Berg voll Salat sitzt.\"\n",
        "\n",
        "# Gib hier deinen Code ein:\n",
        "inseln = [insel_eins, insel_zwei, insel_drei, insel_vier, insel_fuenf]\n",
        "\n",
        "moegliche = [\"Wolf\",\"Schaf\",\"Salat\"]\n",
        "tiere = list()\n",
        "for insel in inseln:\n",
        "    inseltiere = list()\n",
        "    # alle genannten Elemente hinzufügen\n",
        "    for tier in moegliche:\n",
        "        if tier in insel:\n",
        "            inseltiere.append(tier)\n",
        "\n",
        "    # Aussortieren der gefressenen Elemente\n",
        "    if \"Wolf\" in inseltiere and \"Schaf\" in inseltiere:\n",
        "        inseltiere.remove(\"Schaf\")\n",
        "    elif \"Schaf\" in inseltiere and \"Salat\" in inseltiere:\n",
        "        inseltiere.remove(\"Salat\")\n",
        "    tiere.append(inseltiere)\n",
        "\n",
        "for i in range(1,6):\n",
        "    print(\"\\nAuf Insel Nr.\", i, \"leben: \", end=\"\")\n",
        "    for element in tiere[i-1]:\n",
        "        print(element, end=\" \")"
      ],
      "execution_count": null,
      "outputs": []
    },
    {
      "cell_type": "code",
      "metadata": {
        "id": "mkA2TJraCqIj"
      },
      "source": [
        "# Übung 2\n",
        "stufen = \"\"\"Wie jede Blüte welkt und jede Jugend\n",
        "Dem Alter weicht, blüht jede Lebensstufe,\n",
        "Blüht jede Weisheit auch und jede Tugend\n",
        "Zu ihrer Zeit und darf nicht ewig dauern.\n",
        "Es muß das Herz bei jedem Lebensrufe\n",
        "Bereit zum Abschied sein und Neubeginne,\n",
        "Um sich in Tapferkeit und ohne Trauern\n",
        "In andre, neue Bindungen zu geben.\n",
        "Und jedem Anfang wohnt ein Zauber inne,\n",
        "Der uns beschützt und der uns hilft, zu leben.\n",
        "\n",
        "Wir sollen heiter Raum um Raum durchschreiten,\n",
        "An keinem wie an einer Heimat hängen,\n",
        "Der Weltgeist will nicht fesseln uns und engen,\n",
        "Er will uns Stuf‘ um Stufe heben, weiten.\n",
        "Kaum sind wir heimisch einem Lebenskreise\n",
        "Und traulich eingewohnt, so droht Erschlaffen,\n",
        "Nur wer bereit zu Aufbruch ist und Reise,\n",
        "Mag lähmender Gewöhnung sich entraffen.\n",
        "\n",
        "Es wird vielleicht auch noch die Todesstunde\n",
        "Uns neuen Räumen jung entgegen senden,\n",
        "Des Lebens Ruf an uns wird niemals enden…\n",
        "Wohlan denn, Herz, nimm Abschied und gesunde!\"\"\"\n",
        "\n",
        "# a)\n",
        "zeilen = stufen.splitlines()\n",
        "print(zeilen[8])\n",
        "\n",
        "# b)\n",
        "woerter = stufen.split()\n",
        "for y in woerter:\n",
        "  if y.startswith(\"Leben\"):\n",
        "    print(y)\n",
        "\n",
        "# c)\n",
        "vierZeilen = zeilen[0:4]\n",
        "print(sorted(vierZeilen))\n",
        "woerterZeilen = woerter[0:28]\n",
        "print(sorted(woerterZeilen))"
      ],
      "execution_count": null,
      "outputs": []
    },
    {
      "cell_type": "code",
      "source": [
        "# Übung 3\n",
        "s1 = \"Fischers Fritze fischt frische Fische, frische Fische fischt Fischers Fritze.\"\n",
        "s2 = \"fiSCHers fritze FISCHT FrIsChE fISche, FrIsChE fiscHE fischt FIschERS FRITZE.\"\n",
        "s3 = \"FiSCHERS FRiTZE FiSCHT FRiSCHE FiSCHE, FRiSCHE FiSCHE FiSCHT FiSCHERS FPiTZE.\" # P statt r in letztem Fritze\n",
        "\n",
        "if s1.upper() == s2.upper() and s2.lower() == s3.lower():\n",
        "    print(\"Die Zungenbrecher sind identisch.\")\n",
        "else:\n",
        "    print(\"Die Zungenbrecher unterscheiden sich.\")\n",
        "\n",
        "# Hinweis: In s3 lautet das letzte Wort im Gegensatz zu s1 und s2 nicht Fritze,\n",
        "# sondern Fpitze (in klassischer Schreibweise)."
      ],
      "metadata": {
        "id": "wzXmjGY9Jx7U"
      },
      "execution_count": null,
      "outputs": []
    }
  ]
}