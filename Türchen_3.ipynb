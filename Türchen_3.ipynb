{
  "nbformat": 4,
  "nbformat_minor": 0,
  "metadata": {
    "colab": {
      "provenance": [],
      "collapsed_sections": [
        "g6C8gjw0TzGa"
      ],
      "include_colab_link": true
    },
    "kernelspec": {
      "name": "python3",
      "display_name": "Python 3"
    },
    "language_info": {
      "name": "python"
    }
  },
  "cells": [
    {
      "cell_type": "markdown",
      "metadata": {
        "id": "view-in-github",
        "colab_type": "text"
      },
      "source": [
        "<a href=\"https://colab.research.google.com/github/ollihansen90/MatheSH-Adventskalender/blob/main/T%C3%BCrchen_3.ipynb\" target=\"_parent\"><img src=\"https://colab.research.google.com/assets/colab-badge.svg\" alt=\"Open In Colab\"/></a>"
      ]
    },
    {
      "cell_type": "markdown",
      "source": [
        "# Fragen?\n",
        "\n",
        "Solltet ihr Fragen zum Code oder Probleme mit Colab haben, schickt uns gerne eine Mail:\n",
        "\n",
        "*   h.hansen@uni-luebeck.de\n",
        "*   dustin.haschke@student.uni-luebeck.de\n",
        "*   friederike.meissner@student.uni-luebeck.de\n"
      ],
      "metadata": {
        "id": "KZhQktFlf0Io"
      }
    },
    {
      "cell_type": "markdown",
      "source": [
        "## Türchen 3 - Variablen und Datentypen"
      ],
      "metadata": {
        "id": "-Ej4moKnein7"
      }
    },
    {
      "cell_type": "markdown",
      "source": [
        "### **Variablen**\n",
        "Variablen sind Platzhalter, in denen Python Werte, Strings oder andere abstraktere Strukturen speichern kann. Sie können nach dem Speichern ganz einfach überschrieben werden. Ausdrücke wie ```a = a+1``` ergeben in der Mathematik keinen Sinn, aber Computer wissen, dass sie die Variable ```a``` um 1 erhöhen sollen. Das ```=``` fungiert hierbei als Zuweisung und nicht als mathematische Gleichheit.\n",
        "\n",
        "Mit den Variablen kann man alles machen, was man auch so mit Zahlen oder Zeichenketten machen kann. Man kann sie kombinieren, sie anzeigen lassen oder mit ihnen weiter rechnen.\n",
        "Jede Variable kann immer wieder überschrieben werden, deswegen muss man bei der Benennung aufpassen.\n",
        "\n",
        "Grundsätzlich steht links die (neue oder alte) Bezeichnung der Variable und rechts ihr Wert."
      ],
      "metadata": {
        "id": "8z_Ny-wio0lj"
      }
    },
    {
      "cell_type": "code",
      "source": [
        "a = 4\n",
        "print(a+3)\n",
        "b = 2\n",
        "c = a+b\n",
        "print(c)\n",
        "a = a-2\n",
        "print(a)\n",
        "\n",
        "s = \"Hallo\"\n",
        "t = \" :-)\"\n",
        "print(s+t)\n",
        "s = 68\n",
        "print(s)"
      ],
      "metadata": {
        "id": "2s9YcTXBo4FA"
      },
      "execution_count": null,
      "outputs": []
    },
    {
      "cell_type": "markdown",
      "source": [
        "Variablen können verschiedene Datentypen haben:\n",
        "*   **Integer** eine ganze Zahl\n",
        "*   **Double** eine Dezimalzahl\n",
        "*   **String** eine Zeichenkette (z. B. Wort oder Satz)\n",
        "*   **Boolean** ein Wahrheitswert (```1``` oder ```0```, ```True``` oder ```False```)\n",
        "\n",
        "Wenn man einen Integer und einen Double kombiniert kommt ein Double heraus. Es ist außerdem möglich die Datentypen ineinander umzuwandeln."
      ],
      "metadata": {
        "id": "XDCX1KANo6wl"
      }
    },
    {
      "cell_type": "code",
      "source": [
        "integer = 33\n",
        "double = 5.08\n",
        "string = \"Dies ist ein String.\"\n",
        "boolean = 1\n",
        "boolean2 = True\n",
        "\n",
        "print(integer + double)\n",
        "\n",
        "w = \"Der Wahrheitsgehalt ist: \"\n",
        "print(w, boolean, boolean2)\n",
        "int(double)"
      ],
      "metadata": {
        "id": "N40kYCL9ehFg"
      },
      "execution_count": null,
      "outputs": []
    },
    {
      "cell_type": "markdown",
      "source": [
        "### **Variablennamen**\n",
        "\n",
        "Die Namen von Variablen müssen für jede Variable einzigartig sein. Der Platzhalter ```a``` kann zur Zeit immer nur einen Wert annehmen. Ihr könnt ihn natürlich später wieder überschreiben, aber damit müsst ihr vorsichtig sein.\n",
        "\n",
        "Es gibt ein paar Regeln, wie Variablennamen ausschauen dürfen.\n",
        "\n",
        "* Generell dürft ihr alle Buchstaben und Zahlen in ihnen benutzen, sowie ein paar ausgewählte Sonderzeichen. Als wirklich relevantes Sonderzeichen ist aber nur der Unterstrich (```_```) zu nennen. Zeichen wie Ausrufe- oder Fragezeichen sind verboten. Auch das Leerzeichen darf nicht verwendet werden.\n",
        "\n",
        "* Variablennamen sind \"case-sensitive\". Das bedeutet ```variable``` und ```vArIaBlE``` und ```Variable``` sind drei verschiedene Variablennamen.\n",
        "\n",
        "* Variablennamen dürfen nicht mit einer Zahl beginnen.\n",
        "\n",
        "* Variablennamen dürfen beliebig lang sein.\n",
        "\n",
        "* Variablennamen dürfen keine bereits vorhandenen Funktionennamen oder ähnliches sein (bspw. wie ```while``` oder ```for```, aber auch ```True```). *Generell hilft hierbei:* Wenn Python es in einer anderen Farbe darstellt, solltet ihr es besser nicht verwenden.\n",
        "\n",
        "Im Allgemeinen wollt ihr eure Variablen **sinnvoll** benennen. Das bedeutet, dass ihr noch wisst, was in dieser Variable gespeichert wird, auch wenn ihr den Code ein halbes Jahr nicht mehr gesehen habt. Dies erleichtert auch die Verständlichkeit für andere, die eventuell euren Code nachvollziehen wollen.\n",
        "\n",
        "Im folgenden Code-Block seht ihr ein paar Beispiele, wie ihr eure Variablen vielleicht besser nicht nennen solltet."
      ],
      "metadata": {
        "id": "bREtqQIHpRHG"
      }
    },
    {
      "cell_type": "code",
      "source": [
        "zahl = 3\n",
        "Zahl = 5\n",
        "print(zahl+Zahl)\n",
        "\n",
        "dasHierNenntManCamelCase = 99\n",
        "irgendwannSindDieNamenAberUnnoetigLangUndSolltenGekuerztWerdenDamitDerCodeEinigermassenLesbarBleibt = 9\n",
        "print(dasHierNenntManCamelCase/irgendwannSindDieNamenAberUnnoetigLangUndSolltenGekuerztWerdenDamitDerCodeEinigermassenLesbarBleibt)\n",
        "Unterstriche_gehen_auch_immer_gut = \"Hallo\"\n",
        "iiiiiiii = 2\n",
        "iiiiiiiiiiii = 25\n",
        "iiiiiiiiiii = 3\n",
        "print(\"Schlecht lesbar, aber Python kann damit arbeiten:\", iiiiiiii+iiiiiiiiiiii*iiiiiiiiiii)"
      ],
      "metadata": {
        "id": "ByyYePvHpc9b"
      },
      "execution_count": null,
      "outputs": []
    },
    {
      "cell_type": "markdown",
      "source": [
        "**Wie benenne ich sie nun richtig?**\n",
        "\n",
        "Im Folgenden sollt ihr ein paar Guidelines kennenlernen, die euch bei der sinnvollen Variablenbennenung helfen sollen.\n",
        "\n",
        "1.   **camelCase:** Beim camelCase beginnt ihr mit einem kleinen Buchstaben und beginnt jedes neue Wort mit einem Großbuchstaben. Beispiele: `kleinerGauss`, `mittelwertVonFunktion3`\n",
        "2.   **snake_case:** Beim snake_case wird alles klein geschrieben und die einzelnen Worte werden durch Unterstriche getrennt.\n",
        "Beispiele: `kleiner_gauss`, `mittelwert_von_funktion3`, `mittelwert_von_funktion_3`\n",
        "3.   **PascalCase:** Das gleiche Konzept wie beim camelCase, allerdings beginnt es mit einem Großbuchstaben. Beispiele: `KleinerGauss`, `MittelwertVonFunktion3`\n",
        "\n"
      ],
      "metadata": {
        "id": "YQixMD3Yphrw"
      }
    },
    {
      "cell_type": "markdown",
      "source": [
        "#### **Übung 1** - Variablen\n",
        "\n",
        "Erstelle drei Variablen mit unterschiedlichen Namen und befülle sie mit Zahlen. Berechne die Summe und das Produkt der drei Zahlen."
      ],
      "metadata": {
        "id": "MKMF2yPcpAmU"
      }
    },
    {
      "cell_type": "code",
      "source": [],
      "metadata": {
        "id": "3Jt1NHUIpL0R"
      },
      "execution_count": null,
      "outputs": []
    },
    {
      "cell_type": "markdown",
      "source": [
        "#### **Übung 2** - Variablenbezeichnung\n",
        "\n",
        "Welche dieser Variablen sind zulässig? Löscht bitte jeweils \"Ja\" oder \"Nein\", so dass die Aussagen stimmen.\n",
        "\n",
        "Testet anschließend die zulässigen Variablen, indem ihr ihnen beliebige Zahlen zuweist.\n",
        "\n",
        "Was passiert, wenn ihr eine unzulässige Variable testet?\n",
        "\n",
        "Sind die vorgeschlagenen Variablen sinnvoll?"
      ],
      "metadata": {
        "id": "Fsch3zcRp9eN"
      }
    },
    {
      "cell_type": "code",
      "source": [
        "# Loescht hier jeweils Ja oder Nein, sodass die Aussagen stimmen\n",
        "print(\"Ist die Variable '3brataepfel' zulässig? Ja/Nein\")\n",
        "print(\"Ist die Variable '____dies___ist___eine___Variable_____' zulässig? Ja/Nein\")\n",
        "print(\"Ist die Variable 'EineTolleVariable!' zulässig? Ja/Nein\")\n",
        "print(\"Ist die Variable 'while' zulässig? Ja/Nein\")\n",
        "print(\"Ist die Variable 'drei brataepfel' zulässig? Ja/Nein\")\n",
        "print(\"Ist die Variable 'variable3' zulässig? Ja/Nein\")\n",
        "\n",
        "# Testet hier bitte alle zulässigen Variablen\n",
        "# Testbeispiel: kleinerGauss = 3\n"
      ],
      "metadata": {
        "id": "oJ5_1qz3phaA"
      },
      "execution_count": null,
      "outputs": []
    },
    {
      "cell_type": "markdown",
      "source": [
        "### Musterlösung Türchen 2"
      ],
      "metadata": {
        "id": "g6C8gjw0TzGa"
      }
    },
    {
      "cell_type": "code",
      "source": [
        "# Übung 1\n",
        "print(3+3,\"ist Sechs\")\n",
        "print(9-2,\"ist Sieben\")\n",
        "print(2*5,\"ist Zehn\")\n",
        "\n",
        "                                    # zur Erinnerung:\n",
        "print(24/8,\"ist Drei\")              # Das / Zeichen steht für Division bzw. einen Bruchstrich. 24/8=4,8 bzw. 4.8\n",
        "print(3**3,\"ist Siebenundzwanzig\")  # 3**5 ist 3 hoch 5, also 3*3*3*3*3=243\n",
        "print(33//10,\"ist Drei\")            # 5//10 ist die Ganzzahl von 5 geteilt durch 10. Da 5/10 = 0 Rest5, ist 5//10 = 0\n",
        "print(19%17,\"ist Zwei\")             # 19%5 ist der Rest von 19 geteilt durch 5. Da 19/5 = 3 Rest4, ist 19%5 ="
      ],
      "metadata": {
        "id": "FVGtaEjpl1Oi"
      },
      "execution_count": null,
      "outputs": []
    },
    {
      "cell_type": "code",
      "source": [
        "# Übung 2a\n",
        "print(9+2,\"ist Elf\")\n",
        "print(4-6,\"ist Minus Zwei\")\n",
        "print(3**2,\"ist Neun\")\n",
        "print(9/3,\"ist Drei\")\n",
        "print(11%4,\"ist Drei\")"
      ],
      "metadata": {
        "id": "ojSkdhYnmO5w"
      },
      "execution_count": null,
      "outputs": []
    },
    {
      "cell_type": "code",
      "source": [
        "# Übung 2b\n",
        "x = 5\n",
        "y = 2\n",
        "print(1.5*2*7,\"ist Einundzwanzig\")    # 1.5 ist übrigens \"Eins Komma Fünf\"\n",
        "print(7-y,\"ist Fünf\")\n",
        "print(x*2,\"ist Zehn\")\n",
        "print((x+y)*3,\"ist Einundzwanzig\")\n",
        "print(x**y,\"ist Fünfundzwanzig\")\n",
        "print(13%x,\"ist Zwei\")"
      ],
      "metadata": {
        "id": "Dc8f2NlRmYiL"
      },
      "execution_count": null,
      "outputs": []
    },
    {
      "cell_type": "code",
      "source": [
        "# Übung 3a\n",
        "x = 5\n",
        "y = 4\n",
        "ersteZahl = x/y\n",
        "print(ersteZahl)\n",
        "\n",
        "zweiteZahl = round(x/y,1)\n",
        "print(zweiteZahl)\n",
        "\n",
        "dritteZahl = round(x/y,0)\n",
        "print(dritteZahl)\n",
        "\n",
        "print(\"Die Funktion Round(A,B) bewirkt, dass der Teil von A berechnet und das Ergebnis mit B Nachkommastellen gerundet wird.\")"
      ],
      "metadata": {
        "id": "UNQJS-BWmh2A"
      },
      "execution_count": null,
      "outputs": []
    },
    {
      "cell_type": "code",
      "source": [
        "# Übung 3b\n",
        "x = 15\n",
        "y = 3\n",
        "z = 7\n",
        "print(x/y, x/z)\n",
        "print(int(x/y), int(x/z))\n",
        "print(float(x/y),float(x/z))\n",
        "\n",
        "print(\"Die Funktion int(zahl) wandelt die übergebene Zahl durch Abrunden in einen Integer, also eine Ganzzahl, um.\")\n",
        "print(\"Die Funktion float(zahl) wandelt die übergebene Zahl in eine Fließkomma- bzw. Dezimalzahl um. Ganze Zahlen erhalten also den Nachkommawert Null.\")"
      ],
      "metadata": {
        "id": "JiJI7En7m-7N"
      },
      "execution_count": null,
      "outputs": []
    },
    {
      "cell_type": "code",
      "source": [
        "# Übung 4\n",
        "x = 6\n",
        "y = 7\n",
        "z = round((17%10)/3)\n",
        "\n",
        "print(z, \"ist 2\")\n",
        "\n",
        "print(x*y,\"ist Zweiundvierzig\")\n",
        "print(x**2 - x,\"ist Dreißig\")\n",
        "print(x+y-2*y/(x-1),\"ist Zehn Komma Zwei\")\n",
        "print(1+2*3-8/4,\"ist meine Lieblingszahl\")"
      ],
      "metadata": {
        "id": "lTLZgTxxnaih"
      },
      "execution_count": null,
      "outputs": []
    },
    {
      "cell_type": "code",
      "source": [
        "# Übung 5\n",
        "print(1+2*(3+4),\"ist Fünfzehn\")\n",
        "print(24/(2*(5+7)),\"ist Eins\")\n",
        "print(1*2+3*4+5*6+7*8,\"ist Einhundert\")"
      ],
      "metadata": {
        "id": "k8InCfD8ok2S"
      },
      "execution_count": null,
      "outputs": []
    }
  ]
}