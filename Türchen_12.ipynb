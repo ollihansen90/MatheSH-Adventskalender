{
  "nbformat": 4,
  "nbformat_minor": 0,
  "metadata": {
    "colab": {
      "provenance": [],
      "include_colab_link": true
    },
    "kernelspec": {
      "name": "python3",
      "display_name": "Python 3"
    },
    "language_info": {
      "name": "python"
    }
  },
  "cells": [
    {
      "cell_type": "markdown",
      "metadata": {
        "id": "view-in-github",
        "colab_type": "text"
      },
      "source": [
        "<a href=\"https://colab.research.google.com/github/ollihansen90/MatheSH-Adventskalender/blob/main/T%C3%BCrchen_12.ipynb\" target=\"_parent\"><img src=\"https://colab.research.google.com/assets/colab-badge.svg\" alt=\"Open In Colab\"/></a>"
      ]
    },
    {
      "cell_type": "markdown",
      "source": [
        "# Fragen?\n",
        "\n",
        "Solltet ihr Fragen zum Code oder Probleme mit Colab haben, schickt uns gerne eine Mail:\n",
        "\n",
        "*   h.hansen@uni-luebeck.de\n",
        "*   dustin.haschke@student.uni-luebeck.de\n",
        "*   friederike.meissner@student.uni-luebeck.de\n"
      ],
      "metadata": {
        "id": "KZhQktFlf0Io"
      }
    },
    {
      "cell_type": "markdown",
      "source": [
        "## Türchen 12 - Iteration vs. Rekursion und Lambda-Funktionen"
      ],
      "metadata": {
        "id": "yVpWK8ISld-1"
      }
    },
    {
      "cell_type": "markdown",
      "metadata": {
        "id": "rzHfzT5LpZtN"
      },
      "source": [
        "### **Iteration vs. Rekursion**\n",
        "\n",
        "Mit Schleifen haben wir in Türchen 6 bereits eine Möglichkeit kennengelernt, mit der sich immer wiederholende Operationen durchführen lassen, ohne riesige Mengen an Code zu benötigen.\n",
        "\n",
        "Wollen wir beispielsweise die Fakultät einer Zahl $n$ berechnen, die als $n! = n \\cdot (n-1) \\cdot (n-2) \\cdot \\ldots \\cdot 3 \\cdot 2 \\cdot 1$ definiert ist, lässt sich das einerseits durch folgende (aufsteigende) ```for```-Schleife realiseren:\n"
      ]
    },
    {
      "cell_type": "code",
      "metadata": {
        "id": "FxkKqQ1u0sFf"
      },
      "source": [
        "# iterative Implementierung\n",
        "def fakultaet_it(n):\n",
        "    ergebnis = 1                # Es gilt 0! = 1! = 1.\n",
        "    for i in range(2,n+1):\n",
        "        ergebnis *= i\n",
        "    return ergebnis\n",
        "\n",
        "fakultaet_it(4)"
      ],
      "execution_count": null,
      "outputs": []
    },
    {
      "cell_type": "markdown",
      "metadata": {
        "id": "FkC8U5iY6vgl"
      },
      "source": [
        "Andererseits können wir aber auch die gestern (Türchen 11) erwähnte Verschachtelung von Funktionen verwenden; hier in dem Spezialfall, dass sich die **Funktion selbst im ihrem Funktionsrumpf aufruft**. Das bezeichnet man als **Rekursion**.\n",
        "\n",
        "Dabei reduziert sich mit jedem Aufruf das zu lösende Problem, bis die **Abbruchbedingung** erreicht wird, die die rekursive Funktion schließlich terminieren lässt. Anderenfalls entspräche sie nämlich einer Endlosschleife!\n",
        "\n",
        "Entsprechend berechnet die Funktion ```fakultaet_rek(n)``` also ebenfalls die Fakultät der übergebenen Zahl, allerdings folgt sie dem Schema $n! = n \\cdot (n-1)!$ mit der Abbruchbedingung $0! = 1$, die per ```if```-Bedingung bei jedem Aufruf geprüft wird."
      ]
    },
    {
      "cell_type": "code",
      "metadata": {
        "id": "DfHmN9fOz5PB"
      },
      "source": [
        "# rekursive Implementierung\n",
        "def fakultaet_rek(n):\n",
        "    if n == 0:                          # Abbruchbedingung\n",
        "        return 1\n",
        "    else:\n",
        "        return n * fakultaet_rek(n-1)   # Aufruf mit sich selbst\n",
        "\n",
        "fakultaet_rek(4)"
      ],
      "execution_count": null,
      "outputs": []
    },
    {
      "cell_type": "markdown",
      "metadata": {
        "id": "kf32dcW_CnUf"
      },
      "source": [
        "Zum besseren Verständnis der Funktionsweise wurde die Definition hier um zwei ```print```-Befehle ergänzt.\n",
        "\n",
        "Offensichtlich muss das Zwischenergebnis des vorherigen Aufrufs für den folgenden zugänglich sein, es wird also für jeden Aufruf ein jeweils neuer Satz lokaler Variablen angelegt, sodass insgesamt viel Speicherplatz benötigt wird!"
      ]
    },
    {
      "cell_type": "code",
      "metadata": {
        "id": "nBPNE9TR2W2C"
      },
      "source": [
        "def fakultaet(n):\n",
        "    print(\"Funktionsaufruf mit n =\", n)\n",
        "    if n == 0:\n",
        "        return 1\n",
        "    else:\n",
        "        lsg = n * fakultaet(n-1)\n",
        "        print(\"Zwischenergebnis:\", n, \"* \" + str(n-1) + \"! =\", lsg)\n",
        "        return lsg\n",
        "\n",
        "fakultaet(4)"
      ],
      "execution_count": null,
      "outputs": []
    },
    {
      "cell_type": "markdown",
      "source": [
        "### **Lambda-Funktionen**\n",
        "\n",
        "**Lambda-Funktionen** bzw. **anonyme Funktionen** ermöglichen die Definition von Funktionen ohne Namen, die zudem auf die Länge einer Codezeile beschränkt sind.\n",
        "\n",
        "Die allgemeine Syntax lautet\n",
        "\n",
        "> ```name = lambda argument: ausdruck```\n",
        "\n",
        "d.h. einer Variable wird der Rückgabewert der Lambda-Funktion zugewiesen. Dabei darf nur ein Ausdruck angegeben werden, die Anzahl der Argumente ist jedoch beliebig. Verwendet man mehrere, werden die Argumente einfach durch Kommata voneinander getrennt.\n",
        "\n",
        "Im Vergleich zu einer klassischen Python-Funktion mit der Syntax\n",
        "\n",
        "> ```def name(argument):```\n",
        ">> ``` return ausdruck```\n",
        "\n",
        "reduziert sich der Codeumfang also um immerhin eine Zeile.\n",
        "\n",
        "Möchten wir beispielsweise die Argumente ```x``` und ```y``` der Funktion ```f``` voneinander subtrahieren, sieht das wie folgt aus:"
      ],
      "metadata": {
        "id": "fLDUR5cIVV6c"
      }
    },
    {
      "cell_type": "code",
      "source": [
        "f = lambda x, y: x - y\n",
        "print(f(5,3))\n",
        "\n",
        "# \"alte\" Schreibweise:\n",
        "def f2(x, y):\n",
        "    return x-y\n",
        "print(f2(5,3))"
      ],
      "metadata": {
        "id": "I5d20jC2WCzI"
      },
      "execution_count": null,
      "outputs": []
    },
    {
      "cell_type": "markdown",
      "source": [
        "Der Aufruf erfolgt über den Namen der Variable, der die Lambda-Funktion zugewiesen wurde, gefolgt von runden Klammern, die die Argumente enthalten. Im Beispiel gilt $x=5$ und $y=3$, also wird $x-y = 5-3 = 2$ zurückgegeben."
      ],
      "metadata": {
        "id": "WFpPQYsD9cC2"
      }
    },
    {
      "cell_type": "markdown",
      "metadata": {
        "id": "pc2t7tKfFiHL"
      },
      "source": [
        "#### **Übung 1** - Rekursion: Fibonacci\n",
        "\n",
        "Nun soll eine rekursive Funktion ```fib(n)``` definiert werden, die die n-te Fibonacci-Zahl zurückgibt.\n",
        "\n",
        "Die ersten Fibonacci-Zahlen sind $0, 1, 1, 2, 3, 5, 8, 13, 21 \\ldots$, d.h. es gilt ```fib(n) = fib(n-2) + fib(n-1)``` mit ```fib(0) = 0``` und ```fib(1) = 1```.\n",
        "\n",
        "Denke an die Abbruchbedingung und teste die Funktion für $n = 9$."
      ]
    },
    {
      "cell_type": "code",
      "metadata": {
        "id": "R32kmGOOHyTw"
      },
      "source": [],
      "execution_count": null,
      "outputs": []
    },
    {
      "cell_type": "markdown",
      "metadata": {
        "id": "HvgcCZ_7KEmX"
      },
      "source": [
        "#### **Übung 2** - Rekursive Funktion verstehen\n",
        "\n",
        "Was berechnet die rekursiv definierte Funktion ```zahlen(a,b)```, die für die Parameter ```a``` und ```b``` zwei ganze Zahlen erwartet?\n",
        "\n",
        "Teste sie mit einigen Aufrufen aus und ergänze ggf. einige ```print```-Befehle, um die Funktionsweise zu verstehen.\n",
        "\n",
        "Tipp: Der Algorithmus stammt von einem bekannten griechischen Mathematiker :-)"
      ]
    },
    {
      "cell_type": "code",
      "metadata": {
        "id": "Pjy3UHinKlkk"
      },
      "source": [
        "def zahlen(a, b):\n",
        "    if b == 0:\n",
        "        return a\n",
        "    else:\n",
        "        return zahlen(b, a % b)\n",
        "\n",
        "zahlen(13,71)"
      ],
      "execution_count": null,
      "outputs": []
    },
    {
      "cell_type": "markdown",
      "source": [
        "#### **Übung 3** - Syntax von lambda-Funktionen\n",
        "\n",
        "Definiere eine Lambda-Funktion, die für die gegebenen Argumente $x$, $y$ und $n$ den Wert $(\\frac{x}{y}-1)^n$ zurückgibt."
      ],
      "metadata": {
        "id": "GzJ9Av6_XHXU"
      }
    },
    {
      "cell_type": "code",
      "source": [],
      "metadata": {
        "id": "b2MWIeS2XNTy"
      },
      "execution_count": null,
      "outputs": []
    },
    {
      "cell_type": "markdown",
      "source": [
        "#### **Übung 4** - Anwendung der Lambda-funktion\n",
        "\n",
        "Finde eine Möglichkeit, mithilfe der ```sorted```- und einer Lambda-Funktion folgende Listeneinträge nach dem Gewicht, also dem 2. Tupeleintrag, zu sortieren.\n",
        "\n",
        "*Hinweis:* ```sorted``` besitzt den Parameter ```key```, nach dem sortiert wird."
      ],
      "metadata": {
        "id": "tWMcEQMvXnDN"
      }
    },
    {
      "cell_type": "code",
      "source": [
        "obst = [(\"Apfel\", 200), (\"Kiwi\", 70), (\"Wassermelone\", 1570), (\"Weintraube\", 5)]\n",
        "\n"
      ],
      "metadata": {
        "id": "0aWauHXvb8rG"
      },
      "execution_count": null,
      "outputs": []
    },
    {
      "cell_type": "markdown",
      "source": [
        "### Musterlösung Türchen 11"
      ],
      "metadata": {
        "id": "9yFxjj_SawKP"
      }
    },
    {
      "cell_type": "code",
      "metadata": {
        "id": "GB9z6m3jiRzw"
      },
      "source": [
        "# Übung 1\n",
        "def passwort_check (key,password):\n",
        "    if key==31:\n",
        "        if password == \"tante\":\n",
        "            return True\n",
        "    if password == \"server\":\n",
        "        if key==52:\n",
        "            return True\n",
        "    if key==55 and password == \"programm\":\n",
        "        return True\n",
        "\n",
        "def account(name,password):\n",
        "    key=0\n",
        "    if name==\"Anna\":\n",
        "        key=55\n",
        "    elif name==\"Bob\":\n",
        "        key=31\n",
        "    elif name==\"Carla\":\n",
        "        key=52\n",
        "    else:\n",
        "        print(\"Name nicht vorhanden\")\n",
        "\n",
        "    if key != 0 and passwort_check (key,password):\n",
        "        print(\"Willkommen\", name, \"| Du hast jetzt Zugriff auf dein Konto.\")\n",
        "    elif key != 0:\n",
        "        print(\"Sorry\", name + \", aber dein Passwort ist inkorrekt!\")\n",
        "\n",
        "# Rufe hier die Funktion account(name, passwort) mit den richtigen Accountnamen/Passwort-Kombinationen auf\n",
        "account(\"Anna\", \"programm\")\n",
        "account(\"Bob\", \"tante\")\n",
        "account(\"Carla\", \"server\")\n",
        "\n",
        "account(\"Georg\",\"passwort\")\n",
        "account(\"Anna\",\"lola\")"
      ],
      "execution_count": null,
      "outputs": []
    },
    {
      "cell_type": "code",
      "source": [
        "# Übung 2\n",
        "def multiply_and_double(zahl1, zahl2):\n",
        "    return zahl1 * zahl2 * 2\n",
        "\n",
        "def something(int1, int2):\n",
        "    summe = int1**2 + int2**2\n",
        "    summe = summe + multiply_and_double(int1, int2)\n",
        "    print(summe)\n",
        "\n",
        "something(1,2)\n",
        "something(1,3)\n",
        "something(3,1)\n",
        "something(3,2)\n",
        "\n",
        "# Quadrat der Summe der Parameter (Binomische Formel)"
      ],
      "metadata": {
        "id": "lrXDLDc2LLuI"
      },
      "execution_count": null,
      "outputs": []
    },
    {
      "cell_type": "code",
      "source": [
        "# Bonusaufgabe\n",
        "def gang(gangname,kasse):\n",
        "    def mitglied(name,mitgliedsbeitrag):\n",
        "        nonlocal kasse\n",
        "        kasse += mitgliedsbeitrag\n",
        "        if name != \"Katharina\":\n",
        "            print(name, \"hat\", mitgliedsbeitrag, \"in\", gangname, \"Kasse eingezahlt.\")\n",
        "        else:\n",
        "            print(\"Unsere Anführerin \", name, \"hat\", mitgliedsbeitrag, \"eingezahlt.\")\n",
        "            print(\"Der neue Kassenstand lautet:\",kasse)\n",
        "    return mitglied\n",
        "\n",
        "new_member = gang(\"Cindi-Cats\",100)\n",
        "new_member(\"Tom\",5)\n",
        "new_member(\"Jessi\",5)\n",
        "new_member(\"Katharina\",2)"
      ],
      "metadata": {
        "id": "ysDqFQi_t4PI"
      },
      "execution_count": null,
      "outputs": []
    }
  ]
}