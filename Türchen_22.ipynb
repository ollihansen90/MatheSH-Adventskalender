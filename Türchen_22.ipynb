{
  "nbformat": 4,
  "nbformat_minor": 0,
  "metadata": {
    "colab": {
      "provenance": [],
      "collapsed_sections": [
        "xW19ais0dfuy"
      ],
      "include_colab_link": true
    },
    "kernelspec": {
      "name": "python3",
      "display_name": "Python 3"
    },
    "language_info": {
      "name": "python"
    }
  },
  "cells": [
    {
      "cell_type": "markdown",
      "metadata": {
        "id": "view-in-github",
        "colab_type": "text"
      },
      "source": [
        "<a href=\"https://colab.research.google.com/github/ollihansen90/MatheSH-Adventskalender/blob/main/T%C3%BCrchen_22.ipynb\" target=\"_parent\"><img src=\"https://colab.research.google.com/assets/colab-badge.svg\" alt=\"Open In Colab\"/></a>"
      ]
    },
    {
      "cell_type": "markdown",
      "source": [
        "# Fragen?\n",
        "\n",
        "Solltet ihr Fragen zum Code oder Probleme mit Colab haben, schickt uns gerne eine Mail:\n",
        "\n",
        "*   h.hansen@uni-luebeck.de\n",
        "*   dustin.haschke@student.uni-luebeck.de\n",
        "*   friederike.meissner@student.uni-luebeck.de\n"
      ],
      "metadata": {
        "id": "KZhQktFlf0Io"
      }
    },
    {
      "cell_type": "markdown",
      "source": [
        "## Türchen 22 - QR-Codes"
      ],
      "metadata": {
        "id": "m8HRVw1des_v"
      }
    },
    {
      "cell_type": "markdown",
      "source": [
        "### **Ein paar Infos zu QR-Codes**\n",
        "\n",
        "Ihr habt sie sicherlich auch schon einmal gesehen: QR-Codes sind inzwischen allgegenwärtig und auf verschiedensten Medien wie Plakaten, Lebensmitteln, technischen Geräten oder Möbeln zu finden. Auch zum Nachweis eines Impfstatus und im Bereich des Geocachings werden sie eingesetzt. Die Bezeichnung \"QR\" steht dabei für \"Quick Response\", also *schnelle Antwort*.\n",
        "\n",
        "Diese zweidimensionalen Codes ermöglichen es, umfangreiche Informationen auf kleinstem Raum zu speichern und können bis zu 4000 Zeichen enthalten – vergleichbar mit dem Inhalt einer kleinbedruckten DIN-A4-Seite.\n",
        "\n",
        "Die Grundlage bildet die Binärkodierung, bei der Buchstaben, Zeichen und Zahlen als Kombinationen aus Nullen (weiß) und Einsen (schwarz) ausgedrückt werden. Der eigentliche Aufbau besteht aus einem Quadrat, das durch weiße und schwarze Blöcke, sogenannte \"Module\", gebildet wird. Zusätzlich dienen spezielle Muster in drei Ecken zur Orientierung.\n",
        "\n",
        "Im Gegensatz zu den einfacheren Strichcodes können QR-Codes Fehler teilweise korrigieren. Die Daten sind mit einem fehlerkorrigierenden Code versehen, sodass sie selbst bei einem Verlust von bis zu 30% des Codes noch erfolgreich dekodiert werden können. Diese Eigenschaft macht sie besonders robust und zuverlässig in verschiedenen Anwendungsgebieten.\n",
        "\n",
        "<img src=\"https://upload.wikimedia.org/wikipedia/commons/8/8a/QR_Code_V4_structure_example.svg\" height=\"250em\"/>"
      ],
      "metadata": {
        "id": "qyLmH5Oo7kq8"
      }
    },
    {
      "cell_type": "markdown",
      "source": [
        "### **Installation der Packages qrcode und Segno**\n",
        "\n",
        "Um in Python QR-Codes zu erstellen und ihre Darstellung zu manipulieren, verwenden wir die beiden Packages *qrcode* und *Segno*. Da sie aber nicht wie *NumPy* oder *math* zur Standardbibliothek gehören, müssen wir sie hier in Colab extra installieren.\n",
        "\n",
        "**Führt dafür bitte folgenden Codeblock aus:**\n",
        "\n",
        "Hinweis: Das dauert ein paar Sekunden und muss zu Beginn jeder neuen Laufzeit wiederholt werden!"
      ],
      "metadata": {
        "id": "svMRmaKT87GA"
      }
    },
    {
      "cell_type": "code",
      "source": [
        "!pip install qrcode"
      ],
      "metadata": {
        "id": "Jy2dIrs6bQcB"
      },
      "execution_count": null,
      "outputs": []
    },
    {
      "cell_type": "markdown",
      "source": [
        "### **Erstellen und speichern**\n",
        "\n",
        "Nachdem wir *qrcode* und *Segno* installiert haben, können wir jetzt alle Funktionen nutzen, indem wir die Module wie immer per ```import``` einbinden. Mit ```qrcode.make(text)```bzw. ```segno.make_qr(text)``` erstellen wir zuerst einen QR-Code, der einen beliebigen String ```text```kodiert.\n",
        "\n",
        "Um ihn anzusehen, wird er mithilfe der *Segno*-Methode ```qr.save(\"dateiname.png\", scale=groesse)``` in der Größe **scale** (Integer größer Null) unter dem vorgegebenen Dateinamen gespeichert. ```qr``` ist hier die Variable, der der zuvor erstellte QR-Code zugewiesen wurde. Bei der Verwendung von *qrcode* wird die Größe hingegen durch **box_size** angegeben.\n",
        "\n",
        "In Colab wird das Bild dann am linken Rand im Ordner \"Dateien\" (5. Symbol von oben) gespeichert. Per Doppelklick auf den Dateinamen wird das Bild in Colab angezeigt, über die drei Punkte der Datei könnt ihr es auch herunterladen und auf eurem PC speichern.\n",
        "\n",
        "Manchmal wird der Ordner nicht direkt aktualisiert, nachdem ihr den Code zum Speichern aufgerufen habt. Klickt dann einfach in der horizontalen Leiste unter dem Titel \"Dateien\" auf das zweite Symbol, also der Mappe mit dem kreisförmigen Pfeil.\n",
        "\n",
        "Mithilfe von ```display(qr)``` kann man das mit *qrcode* erzeugte Bild auch ohne den Umweg über den Ordner ansehen."
      ],
      "metadata": {
        "id": "xbeDYpAtbFUc"
      }
    },
    {
      "cell_type": "code",
      "source": [
        "import qrcode\n",
        "from IPython.display import display\n",
        "\n",
        "qr = qrcode.make(\"Hi :)\")\n",
        "qr.save(\"hallo.png\", box_size=5)\n",
        "display(qr)"
      ],
      "metadata": {
        "id": "Mi2Ay36JQy-s"
      },
      "execution_count": null,
      "outputs": []
    },
    {
      "cell_type": "code",
      "source": [
        "!pip install -q segno\n",
        "!pip install -q qrcode-artistic"
      ],
      "metadata": {
        "id": "3UHPvDFfqFx1"
      },
      "execution_count": null,
      "outputs": []
    },
    {
      "cell_type": "code",
      "source": [
        "import segno\n",
        "\n",
        "qr = segno.make_qr('Mathematik')\n",
        "qr.save(\"qr.png\", scale=5)"
      ],
      "metadata": {
        "id": "_8urk1mKU0FL"
      },
      "execution_count": null,
      "outputs": []
    },
    {
      "cell_type": "markdown",
      "source": [
        "### **Darstellungsmöglichkeiten**"
      ],
      "metadata": {
        "id": "vGmnbMM8GDZs"
      }
    },
    {
      "cell_type": "markdown",
      "source": [
        "#### **Farben**\n",
        "\n",
        "Bisher können wir nur \"langweilige\" QR-Codes erstellen, aber *Segno* bietet ein paar farbenfrohere Varianten. Die Hintergrundfarbe kann z. B. mit dem Parameter **light** der ```.save()```-Methode verändert werden\n",
        "\n",
        "```qr.save(\"qr_farbig.png\", scale=5, light=\"farbe\")```\n",
        "\n",
        "Die Farben sind dabei z. T. bereits definiert, z. B. \"blue\", \"lightblue\" usw., für eine besondere Farbe könnt ihr sie auch als RGB-Tripel, z. B. (173, 216, 230), oder in Hexadezimalform (\"#ADD8E6\") angeben.\n",
        "\n",
        "Erst mit einem farbigen Hintergrund wird ein relativ breiter Rand außerhalb des Codes sichtbar. Dieser kann aber mit dem Parameter **border** kontrolliert werden: Für den Wert 0 existiert gar kein Rand mehr, für größere Werte nimmt der Rand zu. Probiert doch einfach einmal aus, welche Breite euch am besten gefällt.\n",
        "\n",
        "```qr.save(\"qr_rand.png\", scale=5, light=\"farbe\", border=0)```\n",
        "\n"
      ],
      "metadata": {
        "id": "O-eUDUQgcDLl"
      }
    },
    {
      "cell_type": "code",
      "source": [
        "qr.save(\"qr_gruen.png\", scale=5, light=\"lightgreen\")\n",
        "qr.save(\"qr_gruen_randlos.png\", scale=5, light=\"lightgreen\", border=0)"
      ],
      "metadata": {
        "id": "zVMH1K71czOU"
      },
      "execution_count": null,
      "outputs": []
    },
    {
      "cell_type": "markdown",
      "source": [
        "Um die Codefarbe zu verändern, also die schwarzen Quadrate einzufärben, benötigt man den Parameter **dark**. Auch hier können wieder beliebige Farben übergeben und mit den übrigen Parametern kombiniert werden.\n",
        "\n",
        "```qr.save(\"qr_rot.png\", scale=5, dark=\"red\")```\n",
        "\n"
      ],
      "metadata": {
        "id": "7iUP0KopdyxQ"
      }
    },
    {
      "cell_type": "code",
      "source": [
        "qr.save(\"qr_rot.png\", scale=5, dark=\"red\")"
      ],
      "metadata": {
        "id": "dtXnOWP6d43j"
      },
      "execution_count": null,
      "outputs": []
    },
    {
      "cell_type": "markdown",
      "source": [
        "#### **Drehungen**\n",
        "\n",
        "Wir können die QR-Codes auch drehen! Dafür verwendet man den Befehl `qr.to_pil().rotate(grad)`. Als ```grad``` wird ein Winkel im Gradmaß erwartet, um den der Code gegen den Uhrzeigersinn gedreht wird. Zusätzlich kann der Parameter **expand** auf ```True```gesetzt werden, um alle Ränder beizubehalten.\n",
        "\n",
        "Achtung: Die Parameter zur Modifikation der Farben und Größe müssen jetzt der ```.to_pil()```-Methode übergeben werden, damit der QR-Code am Ende richtig gespeichert werden kann. Hier zwei Beispiele:"
      ],
      "metadata": {
        "id": "6TcI579xF_wH"
      }
    },
    {
      "cell_type": "code",
      "source": [
        "qr_dreh = qr.to_pil(scale=5, light=\"lightgreen\").rotate(30, expand=True)\n",
        "qr_dreh.save(\"qr_dreh.png\")"
      ],
      "metadata": {
        "id": "1sT_zWCXG0qk"
      },
      "execution_count": null,
      "outputs": []
    },
    {
      "cell_type": "code",
      "source": [
        "# alle Funktionsaufrufe kombiniert\n",
        "segno.make_qr('Voellig_durchgedreht!').to_pil(scale=5).rotate(45).save(\"durchgedreht.png\")"
      ],
      "metadata": {
        "id": "qJVN0EVMgGOP"
      },
      "execution_count": null,
      "outputs": []
    },
    {
      "cell_type": "markdown",
      "source": [
        "#### **Animierter Hintergrund**\n",
        "\n",
        "Mit dem `qr.to_artistic()`-Befehl lassen sich sogar QR-Codes mit animierten GIFs (oder Bildern) hinterlegen.\n",
        "Die Parameter **background** und **target** sind dafür essentiell: In **background** ist die Datei enthalten, die im Hintergrund des QR-Codes dargestellt werden soll.\n",
        "Daher benötigen wir noch die Funktion `urlopen()` von *urllib.request*, die uns Internetseiten-URLs öffen lässt.\n",
        "**target** definiert die Datei, in der der animierte Code gespeichert werden soll. Aufgrund des GIF-Formats ist auch der finale QR-Code ein GIF mit der entsprechenden Dateiendung.\n",
        "\n",
        "Wollt ihr nur ein einfaches Bild in den Hintergrund legen, übergebt ihr analog zum GIF die URL des Bildes. **target** erhält dann jedoch die Dateiendung `.png`.\n",
        "\n",
        "Zusätzlich können natürlich die bereits bekannten Parameter zur Farbvariation und Größe übergeben werden."
      ],
      "metadata": {
        "id": "V6QpsTxAF4UT"
      }
    },
    {
      "cell_type": "code",
      "source": [
        "import segno\n",
        "from urllib.request import urlopen\n",
        "\n",
        "qr = segno.make_qr(\"Winter\")\n",
        "url = urlopen(\"https://media.giphy.com/media/3ohs87F3CQBSdG8c0g/giphy.gif\")\n",
        "qr.to_artistic(background=url,\n",
        "                target=\"qr_animiert.gif\",\n",
        "                scale=5)"
      ],
      "metadata": {
        "id": "m__uA-kbH0gQ"
      },
      "execution_count": null,
      "outputs": []
    },
    {
      "cell_type": "code",
      "source": [
        "url = urlopen(\"https://www.webwandtattoo.com/de/img/nav034-png/folder/products-detalle-png/wandtattoo-schneemann.png\")\n",
        "qr.to_artistic(background=url,\n",
        "                target=\"qr_bild.png\",\n",
        "                scale=5)"
      ],
      "metadata": {
        "id": "nV4Do55sWa3W"
      },
      "execution_count": null,
      "outputs": []
    },
    {
      "cell_type": "markdown",
      "source": [
        "#### **Aufgabe 1** - Grundlagen\n",
        "\n",
        "Erstelle einen QR-Code zu der Seite des *Python-Adventskalenders*:\n",
        "\n",
        "https://www.mathe-sh.de/python-adventskalender/\n",
        "\n",
        "Ändere die Farbe zu deiner Lieblingsfarbe. :-)\n",
        "\n",
        "Teste abschließend deine Lösung mit einem Handy, Tablet oder anderem QR-Code-lesefähigem Gerät.\n",
        "\n",
        "\n"
      ],
      "metadata": {
        "id": "fKCAMxNxb8Fo"
      }
    },
    {
      "cell_type": "code",
      "source": [],
      "metadata": {
        "id": "eQQH7QE4eWtE"
      },
      "execution_count": null,
      "outputs": []
    },
    {
      "cell_type": "markdown",
      "source": [
        "#### **Aufgabe 2** - Weihnachts-Schnitzeljagd\n",
        "\n",
        "<img src=\"https://www.zaubereinmaleins-shop.de/wp-content/uploads/2020/11/advent1.jpg\" height=\"400em\"/>"
      ],
      "metadata": {
        "id": "OBMuSK8mJocc"
      }
    },
    {
      "cell_type": "markdown",
      "source": [
        "Erstelle eine QR-Schnitzeljagd durch das Weihnachtswimmelbild.\n",
        "\n",
        "Hier ein Beispielrätsel inklusive Angaben über die im Vorfeld dafür zu erstellenden QR-Codes:\n",
        "\n",
        "**Frage 1:**\n",
        "\n",
        "*Welche Nasenform hat die Person unter dem Eichhörnchen oben rechts? Scanne den entsprechenden QR-Code.*\n",
        "\n",
        "Es wurde dafür Antwort-QR-Codes mit den  Dateinamen ***1_lang***, ***1_schnabel***, ***1_karotte*** und ***1_schweineschnauze*** erstellt.\n",
        "\n",
        "Diese enthalten wiederum neue Fragen, wie \"Wie viele Vögel gibt es auf dem Bild?\", wozu es dann entsprechende QR_Codes der Form ***2_vier***, ***2_fünf***, ***2_sechs*** usw. gibt.\n",
        "\n",
        "Am Ende der richtigen Reihenfolge von QR-Codes hat man gewonnen."
      ],
      "metadata": {
        "id": "DMck1pb9L3lA"
      }
    },
    {
      "cell_type": "markdown",
      "source": [
        "Erstelle mindestens drei solche Rätselfragen mit beliebig vielen Antwortmöglichkeiten.\n",
        "Übermittle im final richtigen QR-Code eine frohe Weihnachtsbotschaft.\n",
        "\n",
        "Füge als letzte Rätselantwortmöglichkeiten animierte QR-Codes mit Weihnachts-GIF, z.B. von hier ein:\n",
        "\n",
        "https://giphy.com/explore/merry-christmas\n",
        "\n",
        "Du darfst dabei auch diese Website verlinken:\n",
        "\n",
        "https://www.mfiles.co.uk/mp3-downloads/jingle-bells-keyboard.mp3\n",
        "\n",
        "\n",
        "Tipp:\n",
        "Du kannst dir eine solche Schnitzeljagd auch leicht für zu Hause oder die Schule erstellen. :-)"
      ],
      "metadata": {
        "id": "4e68h5y1iTxa"
      }
    },
    {
      "cell_type": "code",
      "source": [
        "#dein Weihnachts-QR-Code (-:\n",
        "\n"
      ],
      "metadata": {
        "id": "uvNr-WDnLysS"
      },
      "execution_count": null,
      "outputs": []
    },
    {
      "cell_type": "markdown",
      "source": [
        "### Musterlösung Türchen 21"
      ],
      "metadata": {
        "id": "xW19ais0dfuy"
      }
    },
    {
      "cell_type": "code",
      "source": [
        "# Übung 1\n",
        "class Komplex():\n",
        "    def __init__(self, real, imag):\n",
        "        self.real = real\n",
        "        self.imag = imag\n",
        "\n",
        "    def __add__(self, zahl):\n",
        "        return Komplex(self.real+zahl.real, self.imag+zahl.imag)\n",
        "\n",
        "    def __sub__(self, zahl):\n",
        "        return Komplex(self.real-zahl.real, self.imag-zahl.imag)\n",
        "\n",
        "    def __mul__(self, zahl):\n",
        "        r = self.real*zahl.real-self.imag*zahl.imag\n",
        "        i = self.real*zahl.imag+self.imag*zahl.real\n",
        "        return Komplex(r, i)\n",
        "\n",
        "    def __truediv__(self, zahl):\n",
        "        r = (self.real*zahl.real+self.imag*zahl.imag)/(zahl.real**2+zahl.imag**2)\n",
        "        i = (self.imag*zahl.real-self.real*zahl.imag)/(zahl.real**2+zahl.imag**2)\n",
        "        return Komplex(r, i)\n",
        "\n",
        "    def norm(self):\n",
        "        return self.real*self.real+self.imag*self.imag\n",
        "\n",
        "    def copy(self):\n",
        "        return Komplex(self.real, self.imag)\n",
        "\n",
        "# Test\n",
        "num1 = Komplex(2,3)\n",
        "num2 = Komplex(1,1)\n",
        "print((num1*num2).real, (num1*num2).imag)"
      ],
      "metadata": {
        "id": "P1T86LPpD2x9"
      },
      "execution_count": null,
      "outputs": []
    },
    {
      "cell_type": "code",
      "source": [
        "# Übung 2\n",
        "\n",
        "import random\n",
        "\n",
        "class Hund():\n",
        "    def __init__(self, alter):\n",
        "        self.alter = alter\n",
        "\n",
        "    def __add__(self, other):\n",
        "        return self.alter+other.alter\n",
        "\n",
        "    def __lt__(self, other):\n",
        "        return self.alter < other.alter\n",
        "\n",
        "randliste = random.sample(list(range(10)), 10)\n",
        "hundeliste = [Hund(i) for i in randliste]\n",
        "for h in hundeliste:\n",
        "    print(h.alter)\n",
        "\n",
        "hundeliste_s = sorted(hundeliste)\n",
        "for h in hundeliste_s:\n",
        "    print(h.alter)"
      ],
      "metadata": {
        "id": "N06XYksaWyHk"
      },
      "execution_count": null,
      "outputs": []
    },
    {
      "cell_type": "code",
      "source": [
        "# Übung 3\n",
        "\n",
        "class Objekt:\n",
        "    def __init__(self):\n",
        "        # Hier muss nichts geändert werden\n",
        "        return\n",
        "    # Hier kommen deine Methoden hin #\n",
        "    def __del__(self):\n",
        "        print(\"Neeeiiiin\")\n",
        "\n",
        "    def __len__(self):\n",
        "        print(\"Ich habe keine Länge.\")\n",
        "        return 0\n",
        "\n",
        "    def __getitem__(self, index):\n",
        "        print(\"Ich habe keine Einträge.\")\n",
        "    ##################################\n",
        "\n",
        "obj = Objekt()\n",
        "print(len(obj))\n",
        "obj[4]\n",
        "del obj\n",
        "obj[2]"
      ],
      "metadata": {
        "id": "cBleiWGkXHEy"
      },
      "execution_count": null,
      "outputs": []
    }
  ]
}