{
  "nbformat": 4,
  "nbformat_minor": 0,
  "metadata": {
    "colab": {
      "provenance": [],
      "collapsed_sections": [
        "MvkoJj1jZU4V"
      ],
      "include_colab_link": true
    },
    "kernelspec": {
      "name": "python3",
      "display_name": "Python 3"
    },
    "language_info": {
      "name": "python"
    }
  },
  "cells": [
    {
      "cell_type": "markdown",
      "metadata": {
        "id": "view-in-github",
        "colab_type": "text"
      },
      "source": [
        "<a href=\"https://colab.research.google.com/github/ollihansen90/MatheSH-Adventskalender/blob/main/T%C3%BCrchen_8.ipynb\" target=\"_parent\"><img src=\"https://colab.research.google.com/assets/colab-badge.svg\" alt=\"Open In Colab\"/></a>"
      ]
    },
    {
      "cell_type": "markdown",
      "source": [
        "# Fragen?\n",
        "\n",
        "Solltet ihr Fragen zum Code oder Probleme mit Colab haben, schickt uns gerne eine Mail:\n",
        "\n",
        "*   h.hansen@uni-luebeck.de\n",
        "*   dustin.haschke@student.uni-luebeck.de\n",
        "*   friederike.meissner@student.uni-luebeck.de\n"
      ],
      "metadata": {
        "id": "KZhQktFlf0Io"
      }
    },
    {
      "cell_type": "markdown",
      "source": [
        "## Türchen 8 - Strings Teil 1"
      ],
      "metadata": {
        "id": "7UII1aTAfSYK"
      }
    },
    {
      "cell_type": "markdown",
      "metadata": {
        "id": "1PLDVdIQgf9S"
      },
      "source": [
        "### **Strings**\n",
        "\n",
        "Ihr habt Strings in den letzten Tagen schon immer wieder verwendet, indem ihr sie zum Beispiel mittels ```print``` ausgegeben oder in Listen eingetragen habt. Wir können mit Strings aber noch viel mehr tun. Strings, oder auch Zeichenketten genannt, funktionieren nämlich sehr ähnlich zu Listen. Sie sind effektiv eine *Kette* oder auch *Liste* von einzelnen Zeichen. Diese Zeichen nennen wir auch Character.\n",
        "\n",
        "Zunächst wollen wir also einmal alle Listen-Befehle testen, die wir bisher kennengelernt haben, und gucken, ob diese auf für Strings funktionieren.\n",
        "\n",
        "**Frage:** Können wir auch auf einzelne Elemente oder Teilzeichenketten zugreifen?\n",
        "\n",
        "**Antwort:** Ja"
      ]
    },
    {
      "cell_type": "code",
      "metadata": {
        "id": "drVxPEaGghSF"
      },
      "source": [
        "#Wir erstellen uns einen String\n",
        "s = \"Dies ist ein String\"\n",
        "#Ihr könnt auch einfache Anführungsstriche verwenden\n",
        "t = 'Dies ist ein zweiter String'\n",
        "\n",
        "print(type(s))\n",
        "print(type(t))\n",
        "\n",
        "#Wir greifen auf einzelne Elemente wie bei Listen zu\n",
        "#Auch hier fangen wir bei 0 an zu zählen und verwenden eckige Klammern\n",
        "print(s[1])\n",
        "#Das Leerzeichen ist natürlich auch ein Zeichen\n",
        "print(s[4])\n",
        "\n",
        "#Wir können auch das neulich gelernte Slicing verwenden\n",
        "print(s[0:4])\n",
        "print(s[-6:])"
      ],
      "execution_count": null,
      "outputs": []
    },
    {
      "cell_type": "markdown",
      "metadata": {
        "id": "7hLSTmKyL4du"
      },
      "source": [
        "**Frage:** Können wir auch die Methoden für Listen verwenden?\n",
        "\n",
        "Wir haben in Türchen 5 folgende Methoden kennengelernt:\n",
        "* ```len(liste)``` gibt die Länge der Liste, d.h. die Anzahl der Elemente, aus.\n",
        "* ```sorted(liste)``` sortiert die übergebene Liste aufsteigend bzw. alphabetisch.\n",
        "* ```sum(liste)``` gibt die Summe und ```max(liste)``` das Maximum einer Liste aus Zahlen zurück.\n",
        "* ```liste.append(element)``` fügt das übergebene Element an das Listenende an.\n",
        "* ```liste.pop()``` entfernt das letzte Element gibt es aus.\n",
        "* ```liste.index(element)``` findet das übergebene Element und gibt die entsprechende Position aus.\n",
        "\n",
        "Testen wir sie einmal einzeln aus."
      ]
    },
    {
      "cell_type": "code",
      "metadata": {
        "id": "vrzMk5O1MX4i"
      },
      "source": [
        "s = 'qwertzuiopasdfghjklyxcvbnm'\n",
        "\n",
        "# len() funktioniert\n",
        "print(len(s))\n",
        "\n",
        "# sorted() funktioniert, liefert allerdings eine Liste\n",
        "print(sorted(s))\n",
        "print(type(sorted(s)))\n",
        "\n",
        "# sum() funktioniert nicht mit Strings\n",
        "# s.append() funktioniert ebenfalls nicht\n",
        "# s.pop() funktioniert nicht\n",
        "\n",
        "# s.index() funktioniert wieder\n",
        "print(s.index(\"a\"))\n",
        "print(s)"
      ],
      "execution_count": null,
      "outputs": []
    },
    {
      "cell_type": "markdown",
      "metadata": {
        "id": "HCUt1H5KOSfO"
      },
      "source": [
        "**Antwort:** Nein, es funktionieren nicht alle Methoden für Listen auch für Strings.\n",
        "\n",
        "Wir wollen uns morgen ausführlicher damit beschäftigen, welche Methoden stattdessen speziell für Strings funktionieren.\n",
        "\n",
        "Was aber jetzt schon gut zu wissen ist, ist, dass wir unsere Strings aneinanderfügen und vervielfältigen könnt. Dies geschieht mittels ```+``` und ```*```."
      ]
    },
    {
      "cell_type": "code",
      "metadata": {
        "id": "oBantuCrPnLt"
      },
      "source": [
        "print(\"Hallo\" + 'Welt')\n",
        "print(10*\"Hallo\")"
      ],
      "execution_count": null,
      "outputs": []
    },
    {
      "cell_type": "markdown",
      "metadata": {
        "id": "0xFPrWvDQY_f"
      },
      "source": [
        "### **Ausgabe von Sonderzeichen**\n",
        "\n",
        "Sonderzeichen sind immer ein schwieriges Thema im Programmieren, da sie sehr oft bereits für spezielle Funktionen verwendet werden. Wie sollen wir beispielsweise ```\"``` in einem String ausgeben, wenn wir es zur Deklaration des selben Strings verwenden müssen? In den meisten Fällen lautet die Antwort der Backslash, ```\\```."
      ]
    },
    {
      "cell_type": "code",
      "metadata": {
        "id": "B-RF1NhCRy8Z"
      },
      "source": [
        "# Einbauen von ein paar Sonderzeichen\n",
        "s = \"Hier sollen mal ein \\\"paar\\\" Sonderzeichen getestet/verwendet werden. \\nEs sind sogar Zeilenumbrüche möglich, indem wir \\\"\\\\n\\\" verwenden.\"\n",
        "print(s)\n",
        "\n",
        "# Mittels drei \"\"\" können wir unseren String über mehrere Zeilen hinweg deklarieren.\n",
        "s = \"\"\"Mittels \\\"\\\"\\\" können wir unseren String über mehrere Zeilen hinweg deklarieren.\n",
        "Für Zeilenumbrüche wird dann auch nicht mehr \\\"\\\\n\\\" nötig.\"\"\"\n",
        "print(s)\n",
        "\n",
        "#Die meisten anderen Sonderzeichen funktionieren einwandfrei\n",
        "print(\"?#!§$%&/()=`²³{[]}´+#*'~-_,;.:<>|^°\")\n"
      ],
      "execution_count": null,
      "outputs": []
    },
    {
      "cell_type": "markdown",
      "metadata": {
        "id": "VCI-5ISzYOsf"
      },
      "source": [
        "### **Replace- & Find-Funktionen**\n",
        "\n",
        "Der ```replace```-Befehl sucht eine Zeichenkette und ersetzt sie durch eine neue.\n",
        "\n",
        "Haben wir als einen String ```string``` angelegt und wollen einen Teil davon, nämlich ```alt``` durch einen neuen Teil namens ```neu``` ersetzen, so können wir das wie folgt machen:\n",
        "\n",
        "```string```.replace(```\"alt\"```, ```\"neu\"```)\n",
        "\n",
        "Beispiel:"
      ]
    },
    {
      "cell_type": "code",
      "metadata": {
        "id": "2kQZ0rhuY9ms"
      },
      "source": [
        "string = \"Der Text ist alt.\"\n",
        "string = string.replace(\"alt\",\"neu\")\n",
        "print(string)"
      ],
      "execution_count": null,
      "outputs": []
    },
    {
      "cell_type": "markdown",
      "metadata": {
        "id": "bCed5fhKC2ds"
      },
      "source": [
        "Nachfolgend haben wir einen Satz als String angelegt.\n",
        "\n",
        "Dieser soll nun durch den ```replace```-Befehl modifiziert und ausgegeben werden.\n",
        "\n",
        "```replace``` beachtet Groß- und Kleinschreibung und kann auch etwas durch leere Strings ersetzen, also Abschnitte quasi löschen."
      ]
    },
    {
      "cell_type": "code",
      "metadata": {
        "id": "yNSPNNJyBfnN"
      },
      "source": [
        "text = \"Der Fall des Balles erzeugt Pfoten.\"  #Der angelegte String\n",
        "print(text)\n",
        "text = text.replace(\"B\", \"H\") #'B' wird durch 'H' ersetzt\n",
        "print(text)\n",
        "text = text.replace (\"F\", \"Kn\")    # 'F' wird durch 'Kn' ersetzt\n",
        "print(text)                        #'f' in 'Pfoten' wird aber nicht ersetzt, da nur große 'F' ersetzt werden\n",
        "\n",
        "text = text.replace(\"des Halles \", \"\")  #auch leere Strings können eingesetzt werden.\n",
        "print(text)                     # dadurch werden Wörter quasi aus dem String gelöscht"
      ],
      "execution_count": null,
      "outputs": []
    },
    {
      "cell_type": "markdown",
      "metadata": {
        "id": "XPVnaxmlD15L"
      },
      "source": [
        "Durch die zusätzliche Eingabe einer Zahl im ```replace```-Befehl nach dem Muster:\n",
        "\n",
        "string = string.replace(\"alt\",\"neu\",```zahl```)\n",
        "\n",
        "werden nur die ersten ```zahl``` Stellen im String entsprechend ersetzt-"
      ]
    },
    {
      "cell_type": "code",
      "metadata": {
        "id": "-8wJyyxvDw-2"
      },
      "source": [
        "text = \"Der Knall des Halles erzeugt Pfoten.\"\n",
        "neuer_text = text.replace(\"e\", \"X\",2)   #nur die ersten beiden 'e' werden im Text durch X ersetzt.\n",
        "print(neuer_text)"
      ],
      "execution_count": null,
      "outputs": []
    },
    {
      "cell_type": "markdown",
      "metadata": {
        "id": "V1bNkv-mFg62"
      },
      "source": [
        "Mit dem `find`-Befehl könnt ihr einzelne Wörter suchen.\n",
        "Als Rückgabe erhaltet ihr die erste Position des Wortes im String."
      ]
    },
    {
      "cell_type": "code",
      "metadata": {
        "id": "ZWWwTWmiFtCO"
      },
      "source": [
        "position_pfoten = text.find(\"Pfoten\")\n",
        "\n",
        "print(position_pfoten)"
      ],
      "execution_count": null,
      "outputs": []
    },
    {
      "cell_type": "markdown",
      "metadata": {
        "id": "U9cao2j_TNCp"
      },
      "source": [
        "Nachfolgend wird erst über die ```find```-Funktion nach 'Lärm' im String gesucht.\n",
        "Über die Länge der Wortes ist die Position im String bekannt.\n",
        "\n",
        "Danach wird aus dem String das Wort und die 14 Zeichen vor dem Wort ausgegeben."
      ]
    },
    {
      "cell_type": "code",
      "metadata": {
        "id": "jE5dOgDKS0RA"
      },
      "source": [
        "text = \"Der Knall erzeugt Lärm.\" #Text bleibt identisch (nur zur Veranschaulichung)\n",
        "\n",
        "wort_start = text.find(\"Lärm\")\n",
        "ausgabe_start = wort_start - 14\n",
        "ausgabe_ende = text.find(\"Lärm\") + len(\"Lärm\")\n",
        "print(text[ausgabe_start:ausgabe_ende])\n",
        "\n",
        "# gleicher, kombinierter Befehl der vier Zeilen:\n",
        "print(text[text.find(\"Lärm\")-14:text.find(\"Lärm\") + len(\"Lärm\")])"
      ],
      "execution_count": null,
      "outputs": []
    },
    {
      "cell_type": "markdown",
      "metadata": {
        "id": "n6qOCUkqVO8l"
      },
      "source": [
        "#### **Übung 1** - String Slicing\n",
        "\n",
        "Gib aus dem folgenden Satz nur das Wort \"stakst\" aus."
      ]
    },
    {
      "cell_type": "code",
      "source": [
        "satz = \"Ein Reh stakst durch den Schnee.\"\n"
      ],
      "metadata": {
        "id": "M72VBfa2HQ8V"
      },
      "execution_count": null,
      "outputs": []
    },
    {
      "cell_type": "markdown",
      "metadata": {
        "id": "RKlWJYzcQXdx"
      },
      "source": [
        "#### **Übung 2** - Operationen mit Strings\n",
        "\n",
        "Erstelle einen String, der die Zahlenfolge ```321``` sieben mal hinterheinander schreibt!"
      ]
    },
    {
      "cell_type": "code",
      "source": [],
      "metadata": {
        "id": "hNjhu-uEEcuE"
      },
      "execution_count": null,
      "outputs": []
    },
    {
      "cell_type": "markdown",
      "metadata": {
        "id": "BvswqoS9VqVC"
      },
      "source": [
        "#### **Übung 3** - Formatierung von Sonderzeichen\n",
        "\n",
        "Korrigiere alle Fehler im folgenden Code und formatiere die Ausgabe, sodass sie angenehm lesbar ist."
      ]
    },
    {
      "cell_type": "code",
      "source": [
        "text = \"Dies soll nur als kleiner Beispielstext dienen,\n",
        "um euch das eben Gelernte üben\n",
        "zu\n",
        "lassen.\n",
        "Korrigiert die Verwendung von \" und/oder ergänzt \\ oder \\n, bis der Code ohne Fehler durchläuft.\n",
        "Die richtige Lösung ist nicht eindeutig,\n",
        "es\n",
        "gibt\n",
        "also mehrere richtige Lösungen.\"\n"
      ],
      "metadata": {
        "id": "Azorktu9HoeP"
      },
      "execution_count": null,
      "outputs": []
    },
    {
      "cell_type": "markdown",
      "metadata": {
        "id": "CnbfRSijUX4h"
      },
      "source": [
        "#### **Übung 4** - ```replace``` & ```find```\n",
        "\n",
        "Ersetze im folgenden Satz das erste ```B``` durch ein ```T``` sowie das Wort ```Schreibers``` durch ```Schneiders``` via ```replace```-Befehl und gib den Satz aus.\n",
        "\n",
        "Versuche danach die Positionsnummer des ersten und des letzten Buchstabens von ```Schneiders``` im String auszugeben.\n",
        "\n",
        "Lasse nun auf der Konsole die ersten 17 Zeichen vor ```Schneiders``` aus dem Satz ausgeben."
      ]
    },
    {
      "cell_type": "code",
      "metadata": {
        "id": "5aTKqO3sVigz"
      },
      "source": [
        "satz = \"Ein tolles Buch ist Werk eines guten Schreibers.\"\n",
        "#Setze hier deinen Code ein:\n",
        "\n",
        "\n",
        "print (satz)"
      ],
      "execution_count": null,
      "outputs": []
    },
    {
      "cell_type": "markdown",
      "source": [
        "### Musterlösung Türchen 7"
      ],
      "metadata": {
        "id": "MvkoJj1jZU4V"
      }
    },
    {
      "cell_type": "code",
      "source": [
        "# Übung 1\n",
        "n = 5\n",
        "linspace = [round(2*i/n-1,1) for i in range(n+1)]\n",
        "print(linspace)"
      ],
      "metadata": {
        "id": "LXJbRTMh9RFM"
      },
      "execution_count": null,
      "outputs": []
    },
    {
      "cell_type": "code",
      "source": [
        "# Übung 2\n",
        "muster = [[i*elem for elem in [\"ha\", \"he\", \"hi\", \"ho\", \"hu\"]] for i in range(5,0,-1)]\n",
        "\n",
        "print(*muster, sep=\"\\n\")"
      ],
      "metadata": {
        "id": "WQK5HKGSjvbM"
      },
      "execution_count": null,
      "outputs": []
    }
  ]
}