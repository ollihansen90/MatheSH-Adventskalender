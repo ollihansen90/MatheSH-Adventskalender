{
  "nbformat": 4,
  "nbformat_minor": 0,
  "metadata": {
    "colab": {
      "provenance": [],
      "collapsed_sections": [
        "9yFxjj_SawKP"
      ],
      "include_colab_link": true
    },
    "kernelspec": {
      "name": "python3",
      "display_name": "Python 3"
    },
    "language_info": {
      "name": "python"
    }
  },
  "cells": [
    {
      "cell_type": "markdown",
      "metadata": {
        "id": "view-in-github",
        "colab_type": "text"
      },
      "source": [
        "<a href=\"https://colab.research.google.com/github/ollihansen90/MatheSH-Adventskalender/blob/main/T%C3%BCrchen_18.ipynb\" target=\"_parent\"><img src=\"https://colab.research.google.com/assets/colab-badge.svg\" alt=\"Open In Colab\"/></a>"
      ]
    },
    {
      "cell_type": "markdown",
      "source": [
        "# Fragen?\n",
        "\n",
        "Solltet ihr Fragen zum Code oder Probleme mit Colab haben, schickt uns gerne eine Mail:\n",
        "\n",
        "*   h.hansen@uni-luebeck.de\n",
        "*   dustin.haschke@student.uni-luebeck.de\n",
        "*   friederike.meissner@student.uni-luebeck.de\n"
      ],
      "metadata": {
        "id": "KZhQktFlf0Io"
      }
    },
    {
      "cell_type": "markdown",
      "source": [
        "## Türchen 18 - Packages"
      ],
      "metadata": {
        "id": "Kd9O5wymfbsk"
      }
    },
    {
      "cell_type": "markdown",
      "metadata": {
        "id": "yA-KBy3MC-nn"
      },
      "source": [
        "### **Packages**\n",
        "\n",
        "Angenommen, wir wollen eine Funktion ```pythagoras``` definieren, die für die Katheten $a$ und $b$ die Länge der Hypotenuse $c$ mit dem Satz des Pythagoras berechnet. Dieser besagt bekanntlich $a^2 + b^2 = c^2$, d.h. $c = \\sqrt{a^2+b^2}$. Beim Implementieren in Python fällt auf, dass eine Funktion wie ```sqrt(x)``` per se nicht definiert ist und wir stattdessen $x^{\\frac{1}{2}}$ verwenden müssen. Das sieht aufgrund der vielen Exponenten etwas unübersichtlich aus, funktioniert aber natürlich."
      ]
    },
    {
      "cell_type": "code",
      "metadata": {
        "id": "qKb7uDVCLzVz"
      },
      "source": [
        "def pythagoras(a,b):\n",
        "    # c = sqrt(a**2 + b**2)         # funktioniert nicht, da sqrt() nicht definiert\n",
        "    c = (a**2 + b**2) ** (1/2)\n",
        "    return c\n",
        "\n",
        "pythagoras(3,4)"
      ],
      "execution_count": null,
      "outputs": []
    },
    {
      "cell_type": "markdown",
      "metadata": {
        "id": "NU0NfP66Zsu9"
      },
      "source": [
        "Für viele weitere mathematische Anwendungen, die z.B. $sin(x)$ oder eine bestimmte Anzahl zufällig erzeugter Werte benötigen, finden wir allerdings nicht immer eine Alternative, außer selbst eine Funktion zu implementieren.\n",
        "\n",
        "Genau dafür gibt es sogenannte **Packages**, bestehend aus **Modulen**. Das sind strukturierte Zusammenfassungen bereits definierter Funktionen zu einem oder mehreren Anwendungsbereichen, die die Kernfunktionen von Python beliebig erweitern, während die Übersicht über das eigene Programm beibehalten wird. Der Aufbau entspricht einem Hauptverzeichnis, dem Package, das sich in mehrere Unterordner bzw. Module aufteilt, die wiederum unterteilt sein können.\n",
        "\n",
        "Dabei gibt es einerseits Bibliotheken (Libraries), die die Standardbibliothek und Module von Drittanbietern umfassen, andererseits können auch selbst Module definiert werden. Das ermöglicht es uns, ohne copy & paste immer wieder \"alte\" Funktionen zu verwenden und Fehler einfach an einem Ort zu korrigieren!\n"
      ]
    },
    {
      "cell_type": "markdown",
      "metadata": {
        "id": "Wo3C-QZ0SPtI"
      },
      "source": [
        "### **Einbauen von Packages**\n",
        "\n",
        "Wo ihr nun diese Beispiele alle wieder vor Augen geführt bekommen habt, dürfte euch wohl eine große Gemeinsamkeit aufgefallen sein: das Verwenden von ```import```.\n",
        "\n",
        "Die einfachste Option ist natürlich, dass gesamte package zu importieren beziehungsweise zu \"laden\". Dies sieht in der Regel so aus: ```import nameDesPackage```"
      ]
    },
    {
      "cell_type": "code",
      "metadata": {
        "id": "DoG2qFwsYtFT"
      },
      "source": [
        "import math\n",
        "import random\n",
        "\n",
        "print(math.sqrt(9 + 16))"
      ],
      "execution_count": null,
      "outputs": []
    },
    {
      "cell_type": "markdown",
      "metadata": {
        "id": "ZV0BkjofYxxo"
      },
      "source": [
        "Doch manchmal sind uns die Namen von diesen packages zu lang oder wir empfinden es als unübersichtlich. In diesem Rahmen benutzen wir dann ```as```."
      ]
    },
    {
      "cell_type": "code",
      "metadata": {
        "id": "6kiEbFXfZAh4"
      },
      "source": [
        "import math as m\n",
        "\n",
        "print(m.sqrt(9 + 16))"
      ],
      "execution_count": null,
      "outputs": []
    },
    {
      "cell_type": "markdown",
      "metadata": {
        "id": "AlcZlwGHZbnS"
      },
      "source": [
        "Wenn wir nicht direkt immer das komplette package importieren wollen, können wir auch noch ```from``` benutzen. Dies hat auch den zusätzlichen Vorteil, dass wir die geladenen Funktionen direkt aufrufen können."
      ]
    },
    {
      "cell_type": "code",
      "metadata": {
        "id": "p9pGAgSlZo04"
      },
      "source": [
        "from math import sqrt\n",
        "\n",
        "print(sqrt(9 + 16))"
      ],
      "execution_count": null,
      "outputs": []
    },
    {
      "cell_type": "markdown",
      "source": [
        "### **Ein paar Packages**\n",
        "In diesem Abschnitt möchten wir euch ein paar Packages vorstellen, die wir in Zukunft häufiger verwenden möchten.\n",
        "\n",
        "### **```math```**\n",
        "Das Package ```math``` haben wir eben schon kennengelernt. Es erweitert Python um Funktionen der Mathematik, mit denen wir alle möglichen Berechnungen erstellen können.\n",
        "\n",
        "### **```random```**\n",
        "Das Package ```random``` liefert uns Funktionen zum Generieren von Zufallszahlen. Wichtig ist hierbei zu wissen, dass der Computer niemals \"echte\" Zufallszahlen generieren kann, wir reden also von \"Pseudozufall\".\n",
        "\n",
        "Es gibt eine Vielzahl weiterer Packages die Pseudozufallszahlen generieren können. Oftmals benötigt man allerdings nicht die ganzen Strukturen, die aufwendigere Packages liefern, daher kann man stattdessen einfach ```random``` benutzen.\n",
        "\n",
        "In dem Codebeispiel wird eine gleichverteilte Zufallszahl gezogen. \"Gleichverteilung\" bedeutet, dass die Wahrscheinlichkeit für jedes Ereignis immer gleich ist. Ihr kennt Gleichverteilungen bereits bei Würfeln! Das Ereignis \"würfle eine 3\" hat die gleiche Wahrscheinlichkeit wir \"würfle eine 1\".\n",
        "\n"
      ],
      "metadata": {
        "id": "RsjgX9Yt4CZA"
      }
    },
    {
      "cell_type": "code",
      "source": [
        "import random\n",
        "\n",
        "zufallszahl = random.random()\n",
        "print(zufallszahl)\n",
        "\n",
        "zufall_0_10 = 10*zufallszahl\n",
        "print(zufall_0_10)\n",
        "\n",
        "def gleichvertZufall(von=0, bis=1):\n",
        "    z = random.random()\n",
        "    output = (bis-von)*z+von\n",
        "    return output\n",
        "\n",
        "for i in range(10):\n",
        "    print(gleichvertZufall(-3, 10))"
      ],
      "metadata": {
        "id": "GJ9aE23n5hou"
      },
      "execution_count": null,
      "outputs": []
    },
    {
      "cell_type": "markdown",
      "source": [
        "### **```datetime```**\n",
        "Das Package ```datetime``` ist ein built-in-Package von Python, mit dem man mit Daten und Uhrzeiten rechnen kann."
      ],
      "metadata": {
        "id": "lALqdVIL7hIS"
      }
    },
    {
      "cell_type": "code",
      "source": [
        "from datetime import datetime as dt\n",
        "\n",
        "print(dt.now().month)\n",
        "print(dt.now().year)\n",
        "print(dt.now().microsecond)"
      ],
      "metadata": {
        "id": "zwiFDqzr7w0f"
      },
      "execution_count": null,
      "outputs": []
    },
    {
      "cell_type": "code",
      "source": [
        "import time\n",
        "\n",
        "print(\"hallo\")\n",
        "t = time.time()\n",
        "time.sleep(3)\n",
        "print(time.time()-t)\n",
        "print(\"Welt\")\n",
        "print(time.time())"
      ],
      "metadata": {
        "id": "5HIeHaPtSj3v"
      },
      "execution_count": null,
      "outputs": []
    },
    {
      "cell_type": "markdown",
      "source": [
        "### **Eigene Packages**\n",
        "Selbstverständlich kann man auch eigene Packages erstellen und benutzen. Das ist sinnvoll, wenn man Funktionen definiert, die man auch in weiteren Projekten noch benutzen möchte!\n",
        "\n",
        "Nachfolgend kommt ein Beispiel, für das ihr selbst ein Package erstellen sollt. Bei Colab müsst ihr dafür links auf den Ordner gehen, irgendwo Rechtsklick machen und einen neue Datei erstellen. Diese Datei könnt ihr nennen, wie ihr möchtet, das wird hinterher der Name des Packages sein. Innerhalb der Datei werden Funktionen angelegt, die aus der \"Hauptdatei\" (das ist dieses Notebook hier) aufgerufen werden können. Solltet ihr lokal auf eurem Computer zuhause arbeiten (also nicht über Colab), muss die Datei lediglich im gleichen Ordner wie die .ipynb-Datei liegen.\n",
        "\n",
        "Am besten sehr ihr euch den genauen Vorgang nochmal im Video an."
      ],
      "metadata": {
        "id": "SlLIx7q1CJJx"
      }
    },
    {
      "cell_type": "code",
      "source": [
        "import test1\n",
        "\n",
        "test1.hallo()"
      ],
      "metadata": {
        "id": "Uf56o97WDEPC"
      },
      "execution_count": null,
      "outputs": []
    },
    {
      "cell_type": "markdown",
      "metadata": {
        "id": "c8XZTQgs6h-O"
      },
      "source": [
        "#### **Übung 1** - math\n",
        "\n",
        "Schreibe ein Programm, welches das Package ```math``` importiert und die Befehle ```math.sin(x)``` bzw. ```.cos(x)``` und ```.tan(x)```  mit ```x=100``` einerseits als auch mit ```x = 2.6*pi``` andererseits ausgibt.\n",
        "\n",
        "Hinweis: Pi ist auch eine Funktion des *Package* math, welches über ```math.pi``` aufgerufen werden kann.\n",
        "\n",
        "Überprüfe anschließend deine Lösung mit den Zahlen unter dem Code."
      ]
    },
    {
      "cell_type": "code",
      "metadata": {
        "id": "ia0hki766Yn1"
      },
      "source": [
        "# dein Code zur ersten Importierübung:\n",
        "\n"
      ],
      "execution_count": null,
      "outputs": []
    },
    {
      "cell_type": "markdown",
      "metadata": {
        "id": "whcrj_3H9s1f"
      },
      "source": [
        "Die ersten Ziffern der **richtigen Lösung** lauten:\n",
        "\n",
        "**-0.506**\n",
        "**0.862**\n",
        "**0.587**\n",
        "\n",
        "bzw.\n",
        "\n",
        "**0.951**\n",
        "**-0.309**\n",
        "**-3.07**"
      ]
    },
    {
      "cell_type": "markdown",
      "metadata": {
        "id": "aWZZ7pSxHi-h"
      },
      "source": [
        "#### **Übung 2** - 1001 mal würfeln\n",
        "\n",
        "Importiere zunächst das ```random``` *Package*.\n",
        "\n",
        "Nutze eine Funktion des ```random``` *Packages*, um einen normalen 6-seitigen Würfel mit Augenzahlen zwischen 1 und 6 insgesamt 1001 mal zu würfeln. (Verwende dafür z.B. eine ```for```-Schleife)\n",
        "\n",
        "Addiere alle Ergebnisse und gebe die Summe auf der Konsole aus.\n",
        "\n",
        "Gebe anschließend den Mittelwert aller Würfe auf der Konsole aus."
      ]
    },
    {
      "cell_type": "code",
      "metadata": {
        "id": "58AAX2V7JdBA"
      },
      "source": [],
      "execution_count": null,
      "outputs": []
    },
    {
      "cell_type": "markdown",
      "metadata": {
        "id": "Bno9M1pVCr4D"
      },
      "source": [
        "#### **Übung 3** - Eigeninitiative\n",
        "\n",
        "Die Arbeit eines Programmierers besteht häufig aus Nachschlagen von Methoden, Funktionen, Lösungen. Das sollst du jetzt auch tun.\n",
        "\n",
        "Suche in der offiziellen Python-Dokumentation zum *package* ```datetime``` unter nachfolgendem Link nach einer Möglichkeit den Wochentag auszugeben (Englisch: *weekday*)\n",
        "\n",
        "https://docs.python.org/3.6/library/datetime.html?highlight=datetime#datetime.datetime\n",
        "\n",
        "Beachte, dass es zwei verschiedene Funktionen dafür gibt.\n",
        "\n",
        "Wende danach den Befehl auf ```geburtstag_zuse``` und ```heiligabend_1920``` an. Beachte dabei das dafür erforderliche Format der Datumseingabe.\n",
        "\n",
        "Lösungshinweis: Zuse, der Entwickler des ersten Computers, ist an einem Mittwoch geboren worden; eine der beiden entsprechenden Funktionen beschreibt das mit der Ausgabe einer ```2```, die andere mit einer ```3```."
      ]
    },
    {
      "cell_type": "code",
      "metadata": {
        "id": "ORf8rfs6AfZm"
      },
      "source": [
        "import datetime\n",
        "\n",
        "geburtstag_zuse = datetime.date(1910,6,22)\n",
        "heiligabend_1920 = datetime.date(1920,12,24)\n",
        "\n",
        "#Hier folgt dein Code:\n"
      ],
      "execution_count": null,
      "outputs": []
    },
    {
      "cell_type": "markdown",
      "metadata": {
        "id": "SOfbOfBjNcKH"
      },
      "source": [
        "#### **Übung 3** - Zusatz\n",
        "\n",
        "Wenn du magst, dann kannst du deine obige Funktion so erweitern, dass anstelle von Zahlen die konkreten Wochentage, also anstatt 0 Montag, anstatt 1 Dienstag usw., ausgegeben werden.\n",
        "\n",
        "Nutze hierfür z.B. ```if```, ```elif``` und ```else```."
      ]
    },
    {
      "cell_type": "code",
      "source": [],
      "metadata": {
        "id": "puCr_nI4nRJp"
      },
      "execution_count": null,
      "outputs": []
    },
    {
      "cell_type": "markdown",
      "metadata": {
        "id": "SPp92lJsMWiM"
      },
      "source": [
        "#### **Übung 4** - Chaos\n",
        "\n",
        "Schreibe eine Funktion, die zweihundertfünfzigtausend mal Zahlen zwischen 1 und 99 würfelt.\n",
        "Addiere dazu den Wert des heutigen Wochentages (rechechiere ggf. in dem Dokumentationslink von Aufgabe 2).\n",
        "\n",
        "Bilde hiervon den Mittelwert, teile ihn anschließend mit Abrunden durch 5 mittels ```//``` und multipliziere dann mit Pi.\n",
        "Berechne hiervon den Kosinus und gebe ihn auf der Konsole aus.\n",
        "\n",
        "Importiere alle *Packages*, die dafür notwendig sind."
      ]
    },
    {
      "cell_type": "code",
      "metadata": {
        "id": "4EuXY8A_OrpI"
      },
      "source": [],
      "execution_count": null,
      "outputs": []
    },
    {
      "cell_type": "markdown",
      "source": [
        "### Musterlösung Türchen 17"
      ],
      "metadata": {
        "id": "9yFxjj_SawKP"
      }
    },
    {
      "cell_type": "code",
      "source": [
        "# Übung 1\n",
        "class Wirbeltiere():\n",
        "    def __init__(self, klasse):\n",
        "        self.klasse = \"Saeuger\"\n",
        "\n",
        "    def wirbel(self):\n",
        "        print(\"Ich habe eine Wirbelsäure!\")"
      ],
      "metadata": {
        "id": "_2sMWtfGH_97"
      },
      "execution_count": null,
      "outputs": []
    },
    {
      "cell_type": "code",
      "source": [
        "# Übung 2\n",
        "class Saeuger(Wirbeltiere):\n",
        "    def __init__(self, ordnung, familie, gattung):\n",
        "        self.ordnung = ordnung\n",
        "        self.familie = familie\n",
        "        self.gattung = gattung\n",
        "\n",
        "    def temperatur(self):\n",
        "        print(\"Ich kann meine Temperatur regulieren!\")"
      ],
      "metadata": {
        "id": "tVJFl-8KILWT"
      },
      "execution_count": null,
      "outputs": []
    },
    {
      "cell_type": "code",
      "source": [
        "# Übung 3\n",
        "class Schneeleopard(Saeuger):\n",
        "    def __init__(self):\n",
        "        Saeuger.__init__(self, \"Raubtiere\", \"Katzen\", \"Panthera\")\n",
        "\n",
        "    def wasbinich(self):\n",
        "        print(\"Der Schneeleopard gehört im Tierreich zur Ordnung der\", self.ordnung, \"und zur Familie der\", self.familie, \".\")"
      ],
      "metadata": {
        "id": "6QT_tlvDIMim"
      },
      "execution_count": null,
      "outputs": []
    },
    {
      "cell_type": "code",
      "source": [
        "# Übung 4\n",
        "hugo = Schneeleopard()\n",
        "\n",
        "hugo.wirbel()\n",
        "hugo.temperatur()\n",
        "hugo.wasbinich()"
      ],
      "metadata": {
        "id": "F7pDR1wiI5Tp"
      },
      "execution_count": null,
      "outputs": []
    }
  ]
}