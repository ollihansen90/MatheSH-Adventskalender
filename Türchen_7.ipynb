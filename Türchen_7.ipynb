{
  "nbformat": 4,
  "nbformat_minor": 0,
  "metadata": {
    "colab": {
      "provenance": [],
      "collapsed_sections": [
        "Rh66yZ0FYQYy",
        "UI_B_s5LYZZD"
      ],
      "include_colab_link": true
    },
    "kernelspec": {
      "name": "python3",
      "display_name": "Python 3"
    },
    "language_info": {
      "name": "python"
    }
  },
  "cells": [
    {
      "cell_type": "markdown",
      "metadata": {
        "id": "view-in-github",
        "colab_type": "text"
      },
      "source": [
        "<a href=\"https://colab.research.google.com/github/ollihansen90/MatheSH-Adventskalender/blob/main/T%C3%BCrchen_7.ipynb\" target=\"_parent\"><img src=\"https://colab.research.google.com/assets/colab-badge.svg\" alt=\"Open In Colab\"/></a>"
      ]
    },
    {
      "cell_type": "markdown",
      "source": [
        "# Fragen?\n",
        "\n",
        "Solltet ihr Fragen zum Code oder Probleme mit Colab haben, schickt uns gerne eine Mail:\n",
        "\n",
        "*   h.hansen@uni-luebeck.de\n",
        "*   dustin.haschke@student.uni-luebeck.de\n",
        "*   friederike.meissner@student.uni-luebeck.de\n"
      ],
      "metadata": {
        "id": "KZhQktFlf0Io"
      }
    },
    {
      "cell_type": "markdown",
      "source": [
        "## Türchen 7 - List Comprehension"
      ],
      "metadata": {
        "id": "NwtXs0Laiv_8"
      }
    },
    {
      "cell_type": "markdown",
      "source": [
        "### **List Comprehension**\n",
        "\n",
        "Die Idee von List Comprehension ist, dass wir Listen durch kurze for-Schleifen in nur einer Zeile befüllen.\n",
        "\n",
        "#### **Syntax**\n",
        "```newlist = [expression for item in iterable]```\n",
        "\n",
        "Die Syntax für List Comprehension ist auf den ersten Blick sehr ungewohnt und irritierend. Im einfachsten Fall haben wir ein iterierbares Objekt (hier: `iterable`, also eine Liste, ein Generator, ein Tupel,...), aus dem wir einzelne Elemente entnehmen (hier: `item`). Mit diesem Element passiert jetzt irgendetwas: `expression` ist irgendein \"Ausdruck\", das kann eine Rechenoperation, eine String-Operation, das Initialisieren von Klassen oder sonstwas sein!\n",
        "\n",
        "Im Beispiel unten wollen wir eine Liste `liste1` über den \"normalen\" Weg mit einer for-Schleife mit den ersten zehn Quadratzahlen füllen. Die Liste `liste2` soll die gleichen Elemente enthalten, nur nutzen wir jetzt List-Compehension.\n"
      ],
      "metadata": {
        "id": "BRcpcAOMVQlR"
      }
    },
    {
      "cell_type": "code",
      "source": [
        "liste1 = []\n",
        "for i in range(10):\n",
        "    liste1.append(i**2)\n",
        "print(liste1)\n",
        "\n",
        "liste2 = [i**2 for i in range(10)]\n",
        "print(liste2)"
      ],
      "metadata": {
        "id": "2US1_xAZVVhF"
      },
      "execution_count": null,
      "outputs": []
    },
    {
      "cell_type": "markdown",
      "source": [
        "### **List Comprehension mit einfacher Bedingung**\n",
        "Manchmal möchte man eine Liste nur mit Objekten befüllen, die bestimmte Eigenschaften enthalten. Für diesen Fall nutzt man einfach eine if-Abfrage und lässt die Elemente aus, die die Bedingung nicht erfüllen.\n",
        "\n",
        "#### **Syntax**\n",
        "```newlist = [expression for item in iterable if condition==True]```\n",
        "\n",
        "Der Aufbau der List-Comprehension mit Bedingung ist ein wenig komplizierter, der Kern ist jedoch derselbe wie ohne Bedingung. Im nachfolgenden Beispiel möchten wir eine Liste `liste1` über den \"normalen\" Weg mit einer for-Schleife mit den ersten zehn Quadratzahlen füllen, die nicht durch 3 teilbar sind. Die Liste `liste2` soll die gleichen Elemente enthalten, nur nutzen wir jetzt List-Compehension."
      ],
      "metadata": {
        "id": "fc7USOhvq0vt"
      }
    },
    {
      "cell_type": "code",
      "source": [
        "liste1 = []\n",
        "for i in range(10):\n",
        "    if i%3!=0:\n",
        "        liste1.append(i**2)\n",
        "print(liste1)\n",
        "\n",
        "liste2 = [i**2 for i in range(10) if i%3!=0]\n",
        "print(liste2)"
      ],
      "metadata": {
        "id": "0BXvRByeqwtX"
      },
      "execution_count": null,
      "outputs": []
    },
    {
      "cell_type": "markdown",
      "source": [
        "### **List Comprehension mit einfacher Bedingung und `else`**\n",
        "Abschließend möchten wir auch die Elemente verarbeiten, die *nicht* die Bedingung erfüllen.\n",
        "\n",
        "#### **Syntax**\n",
        "```newlist = [expression if condition==True else expression2 for item in iterable]```\n",
        "\n",
        "Hier müssen wir aufpassen! Wir würden erwarten, dass wir das `else expression2` einfach ans Ende setzen. Leider ist das bei Python nicht so intuitiv, da wir einen Fehler erhalten.\n",
        "\n",
        "Im nachfolgenden Beispiel möchten wir eine Liste `liste1` über den \"normalen\" Weg mit einer for-Schleife mit den ersten zehn Quadratzahlen füllen, die nicht durch 3 teilbar sind. Wenn die Quadratzahl *doch* durch 3 teilbar ist, soll die Zahl negativ auftreten. Die Liste `liste2` soll die gleichen Elemente enthalten, nur nutzen wir jetzt List-Compehension."
      ],
      "metadata": {
        "id": "3c8swfoPsNHw"
      }
    },
    {
      "cell_type": "code",
      "source": [
        "liste1 = []\n",
        "for i in range(10):\n",
        "    if i%3!=0:\n",
        "        liste1.append(i**2)\n",
        "    else:\n",
        "        liste1.append(-i**2)\n",
        "print(liste1)\n",
        "\n",
        "liste2 = [i**2 if (i%3!=0) else -i**2 for i in range(10)]\n",
        "print(liste2)"
      ],
      "metadata": {
        "id": "YheYb1FTsVv2"
      },
      "execution_count": null,
      "outputs": []
    },
    {
      "cell_type": "markdown",
      "source": [
        "### **Verschachtelte List Comprehension**\n",
        "Natürlich können wir auch eine Liste mit Listen befüllen, die wiederum über List Comprehension befüllt wurden! Auch die Liste mit Listen können wir wieder in Listen auflisten, und diese Listen wiederum in Listen,... Kurz gesagt: Wir können beliebig \"tiefe\" Listen-Verschachtelungen erstellen, nur werden die irgendwann sehr kompliziert.\n",
        "\n",
        "Im Beispiel unten beschreiben wir eine Liste mit immer größer werdenden Listen."
      ],
      "metadata": {
        "id": "GuW9BWdPtbOM"
      }
    },
    {
      "cell_type": "code",
      "source": [
        "listenliste1 = []\n",
        "for j in range(10):\n",
        "    liste = []\n",
        "    for i in range(j):\n",
        "        liste.append(i)\n",
        "    listenliste1.append(liste)\n",
        "print(*listenliste1, sep=\"\\n\")  # Zur Übersichtlichkeit wurde die Liste mit *\n",
        "                                # \"entpackt\" und die Listen untereinander\n",
        "                                # geschrieben\n",
        "\n",
        "listenliste2 = [[i for i in range(j)] for j in range(10)]\n",
        "\n",
        "print(*listenliste2, sep=\"\\n\")  # Zur Übersichtlichkeit wurde die Liste mit *\n",
        "                                # \"entpackt\" und die Listen untereinander\n",
        "                                # geschrieben"
      ],
      "metadata": {
        "id": "_8rx1cbnt5_i"
      },
      "execution_count": null,
      "outputs": []
    },
    {
      "cell_type": "markdown",
      "source": [
        "#### **Übung 1** - List Comprehension\n",
        "\n",
        "Erzeuge eine Liste mit dem Namen `linspace`, die mit Hilfe von List Comprehension **sechs Zahlen von -1 bis 1 im gleichen Abstand** enthält.\n",
        "\n",
        "`linspace` ist also `[-1, -0.6, -0.2, 0.2, 0.6, 1]`."
      ],
      "metadata": {
        "id": "EdwIQwfdjjg6"
      }
    },
    {
      "cell_type": "code",
      "source": [],
      "metadata": {
        "id": "xUrfyQBy9Tpg"
      },
      "execution_count": null,
      "outputs": []
    },
    {
      "cell_type": "markdown",
      "source": [
        "#### **Übung 2** - Verschachtelte List Comprehension\n",
        "\n",
        "Nutze zwei verschachtelte List Comprehensions zum Befüllen von ```muster```, sodass folgende Ausgabe erzeugt werden kann:\n",
        "\n",
        "```['hahahahaha', 'hehehehehe', 'hihihihihi', 'hohohohoho', 'huhuhuhuhu']\n",
        "['hahahaha', 'hehehehe', 'hihihihi', 'hohohoho', 'huhuhuhu']\n",
        "['hahaha', 'hehehe', 'hihihi', 'hohoho', 'huhuhu']\n",
        "['haha', 'hehe', 'hihi', 'hoho', 'huhu']\n",
        "['ha', 'he', 'hi', 'ho', 'hu']\n",
        "```\n"
      ],
      "metadata": {
        "id": "a3OdITCWjCit"
      }
    },
    {
      "cell_type": "code",
      "source": [
        "muster =\n",
        "\n",
        "print(*muster, sep=\"\\n\")"
      ],
      "metadata": {
        "id": "AyT20HC6kP-4"
      },
      "execution_count": null,
      "outputs": []
    },
    {
      "cell_type": "markdown",
      "source": [
        "### Musterlösung Türchen 6"
      ],
      "metadata": {
        "id": "Rh66yZ0FYQYy"
      }
    },
    {
      "cell_type": "code",
      "source": [
        "# Übung 1\n",
        "sum = 0\n",
        "counter = 0\n",
        "while counter <= 1000:\n",
        "    sum += counter\n",
        "    counter += 1\n",
        "print(sum)"
      ],
      "metadata": {
        "id": "Vm9fkHfn703s"
      },
      "execution_count": null,
      "outputs": []
    },
    {
      "cell_type": "code",
      "metadata": {
        "id": "3E2TRjWvNeo4"
      },
      "source": [
        "# Übung 2\n",
        "counter = 9\n",
        "while counter < 10 and counter != 0:\n",
        "    counter = counter - 1\n",
        "    print(counter)\n",
        "print(\"Ende\")\n",
        "\n",
        "# alternativ\n",
        "counter = 9\n",
        "while counter > 0:\n",
        "    counter = counter - 1\n",
        "    print(counter)\n",
        "print(\"Ende\")"
      ],
      "execution_count": null,
      "outputs": []
    },
    {
      "cell_type": "code",
      "metadata": {
        "id": "RnQi99RLsHzU"
      },
      "source": [
        "# Übung 3a\n",
        "for i in range(1,11):\n",
        "    print(i**2)"
      ],
      "execution_count": null,
      "outputs": []
    },
    {
      "cell_type": "code",
      "metadata": {
        "id": "Pk7MObADvQtr"
      },
      "source": [
        "# Übung 3b\n",
        "liste = [-1.0,-1.0,1.0,-1.0,1.0,1.0,-1.0,1.0,-1.0,1.0,-1.0,-1.0,1.0,1.0,-1.0,-1.0,1.0,-1.0,-1.0,-1.0,-1.0,1.0,-1.0,-1.0]\n",
        "counter = 0\n",
        "for i in range(0,len(liste)):\n",
        "    counter += 1\n",
        "\n",
        "print(\"Die Liste enthält\", counter, \"Einträge.\")"
      ],
      "execution_count": null,
      "outputs": []
    },
    {
      "cell_type": "markdown",
      "source": [
        "### Musterlösung Türchen 6 - Nikolaus"
      ],
      "metadata": {
        "id": "UI_B_s5LYZZD"
      }
    },
    {
      "cell_type": "code",
      "source": [
        "# Musterlösung:\n",
        "kassette = \"🎄 wacht schneit. singen der ❄️ ❄️ einsam O Engelein Wald: 🧦 🦌 schläft, Tannenbaum, ob Freue 🎄 🌟 Alles o als dich, 🤶🏼 🎁 Nacht! Tannenbaum, ist, Christkind 👦 Lasst heilige wie es kommt 🧒 uns Nacht, grün Weihnachtszeit; bald! 🎅🏼 froh Stille sind der ❄️ 🎁 und 🎁 deine zu 🦌 🎁 munter ☃️ Blätter! als 🦌 ☃️ sein 🌟 O klingen 🎄 😀 und 🎄 Tannenbaum, nie ⛪ 🛷 uns 🌟 o Glocken 🌟 sind. recht Ruh! Tannenbaum, die 🤶🏼 Menschen von himmlischer wie Süßer 🎅🏼 wir Herzen in grün 🕯️ 🧦 wo freun! Schlaf sind 🎁 🛷 nieder, Lustig, Ruh! deine 🛷 🎁 Erde lustig, himmlischer Blätter! 🧦 🕯️ die traleralera! in Du 🎅🏼 Leise auf Bald schlaf grünst 🤶🏼 rieselt Christuskind ist Haar, nicht 🌟 der das Niklausabend lockigen nur ⛪ Schnee, kommt da, im zur 🎄 still wieder bald Knabe Sommerszeit, 🦌 und Jahre ist Holder nein, ❄️ starr Alle Niklausabend Paar. auch Freud. ruht ⛪ da! hochheilige im und der 🕯️ 🎅🏼 traute, Winter, Frieden See, 🌟 ☃️ das wenn von weihnachtlich 🦌 🤶🏼 nur es wieder glänzet 🦌\"\n",
        "\n",
        "# Hier beginnt dein Code :-)\n",
        "\n",
        "liste = kassette.split()\n",
        "\n",
        "lied1 = liste[0::6]\n",
        "lied2 = liste[1::6]\n",
        "lied3 = liste[2::6]\n",
        "lied4 = liste[3::6]\n",
        "lied5 = liste[4::6]\n",
        "lied6 = liste[5::6]\n",
        "\n",
        "lied1 = lied1[5::1] + lied1[0:5:1]\n",
        "lied2 = lied2[7::-1] + lied2[:7:-1]\n",
        "lied3 = lied3[10::1] + lied3[:10:1]\n",
        "lied4 = lied4[14::-1] + lied4[:14:-1]\n",
        "lied5 = lied5[19::1] + lied5[:19:1]\n",
        "lied6 = lied6[25::-1] + lied6[:25:-1]\n",
        "\n",
        "#print(lied1, lied2, lied3, lied4, lied5, lied6, sep=\"\\n\")\n",
        "\n",
        "#Zusatzteil\n",
        "for element in [lied1, lied2, lied3, lied4, lied5, lied6]:\n",
        "  ein_lied = ' '.join(element)\n",
        "  print(ein_lied)"
      ],
      "metadata": {
        "id": "TIL_PjQVgKZH"
      },
      "execution_count": null,
      "outputs": []
    }
  ]
}