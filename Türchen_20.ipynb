{
  "nbformat": 4,
  "nbformat_minor": 0,
  "metadata": {
    "colab": {
      "provenance": [],
      "collapsed_sections": [
        "zMw44WK0o2zm",
        "Ez5VZANPxMcd",
        "mpP0_2t5cEoK",
        "AoIh2gqfkUe6",
        "9yFxjj_SawKP"
      ],
      "include_colab_link": true
    },
    "kernelspec": {
      "name": "python3",
      "display_name": "Python 3"
    },
    "language_info": {
      "name": "python"
    }
  },
  "cells": [
    {
      "cell_type": "markdown",
      "metadata": {
        "id": "view-in-github",
        "colab_type": "text"
      },
      "source": [
        "<a href=\"https://colab.research.google.com/github/ollihansen90/MatheSH-Adventskalender/blob/main/T%C3%BCrchen_20.ipynb\" target=\"_parent\"><img src=\"https://colab.research.google.com/assets/colab-badge.svg\" alt=\"Open In Colab\"/></a>"
      ]
    },
    {
      "cell_type": "markdown",
      "source": [
        "# Fragen?\n",
        "\n",
        "Solltet ihr Fragen zum Code oder Probleme mit Colab haben, schickt uns gerne eine Mail:\n",
        "\n",
        "*   h.hansen@uni-luebeck.de\n",
        "*   dustin.haschke@student.uni-luebeck.de\n",
        "*   friederike.meissner@student.uni-luebeck.de\n"
      ],
      "metadata": {
        "id": "KZhQktFlf0Io"
      }
    },
    {
      "cell_type": "markdown",
      "source": [
        "## Türchen 20 - Plotten 2"
      ],
      "metadata": {
        "id": "aMtWqEduffyQ"
      }
    },
    {
      "cell_type": "code",
      "source": [
        "import numpy as np\n",
        "import matplotlib.pyplot as plt"
      ],
      "metadata": {
        "id": "ADEJvC4nQxuJ"
      },
      "execution_count": null,
      "outputs": []
    },
    {
      "cell_type": "markdown",
      "source": [
        "### **Plotten von Punkten und Linien**\n",
        "\n",
        "Wollt ihr einmal keine vollständige Funktion plotten, sondern einzelne Datenpunkte, habt ihr hierzu zwei verschiedene Methoden. Entweder verwendet ihr ```plt.scatter()``` oder ```plt.plot()```. Hierbei ist ```scatter``` generell einfacher, da ihr einfach nur eure beiden Arrays mit Werte für x und y übergeben müsst."
      ],
      "metadata": {
        "id": "Kt9Ywq185xLu"
      }
    },
    {
      "cell_type": "code",
      "source": [
        "x = [1,3,5,2]\n",
        "y = [5,5,7,2]\n",
        "\n",
        "plt.scatter(x,y)\n",
        "plt.show()"
      ],
      "metadata": {
        "id": "3wortuIQ5xzF"
      },
      "execution_count": null,
      "outputs": []
    },
    {
      "cell_type": "markdown",
      "source": [
        "Mit Hilfe von ```color``` und ```marker``` könnt ihr noch beliebig die Form und Farbe eurer Punkte verändern. Ihr benötigt ```s``` umd die Größe zu kontrollieren und ```alpha``` dafür, wie durchscheinend die Punkte sein sollen. Letzteres ist sehr praktisch, wenn sich Punkte potentiell überlappen könnten.\n",
        "\n",
        "Testet doch einmal beliebig viele der folgenden Eingaben für Marker aus:\n",
        "\n",
        "\".\", \",\", \"o\", \"v\", \"^\", \"<\", \">\", \"1\", \"2\", \"3\", \"4\", \"8\", \"s\", \"p\", \"P\", \"*\", \"h\", \"H\", \"+\", \"x\", \"X\", \"D\", \"d\", \"|\", \"_\", 0, 1, 2, 3, 4, 5, 6, 7, 8, 9, 10, 11"
      ],
      "metadata": {
        "id": "qytOlUgB7PGr"
      }
    },
    {
      "cell_type": "code",
      "source": [
        "N = 50\n",
        "x = np.random.rand(N)\n",
        "y = np.random.rand(N)\n",
        "colors = np.random.rand(N)\n",
        "area = (30 * np.random.rand(N))**2\n",
        "\n",
        "plt.scatter(x, y, s=area, c=colors, marker = \"*\", alpha=0.5)\n",
        "plt.show()"
      ],
      "metadata": {
        "id": "oLt39b6i7Pne"
      },
      "execution_count": null,
      "outputs": []
    },
    {
      "cell_type": "markdown",
      "source": [
        "Um alterntiv ```plt.plot()``` verwenden zu können, müsst ihr direkt den Marker spezifizieren, da die einzelnen Punkte ansonsten verbunden werden. Natürlich könnt ihr somit auch ```plt.plot()``` bewusst dazu benutzen, einzelne Linien oder Formen zu zeichnen."
      ],
      "metadata": {
        "id": "x6XVXhRW-ivy"
      }
    },
    {
      "cell_type": "code",
      "source": [
        "x = [1,1,2,2,1]\n",
        "y = [1,2,2,1,1]\n",
        "\n",
        "plt.subplot(1,2,1)\n",
        "plt.plot(x, y, \"1\", c = \"red\",)\n",
        "plt.axis(\"equal\")\n",
        "\n",
        "plt.subplot(1,2,2)\n",
        "plt.plot(x, y, c = \"red\",)\n",
        "plt.axis(\"equal\")\n",
        "\n",
        "plt.show()"
      ],
      "metadata": {
        "id": "9nCJqFG5-0Hq"
      },
      "execution_count": null,
      "outputs": []
    },
    {
      "cell_type": "code",
      "source": [
        "x = [1,1,2,2,1]\n",
        "y = [1,2,2,1,1]\n",
        "\n",
        "plt.scatter(x, y, s = 100, marker = \"*\", color = \"blue\", zorder = 2)\n",
        "plt.plot(x, y, c = \"red\", zorder = 1)\n",
        "plt.axis(\"equal\")\n",
        "\n",
        "plt.show()"
      ],
      "metadata": {
        "id": "cZNbG2gWA8h5"
      },
      "execution_count": null,
      "outputs": []
    },
    {
      "cell_type": "markdown",
      "source": [
        "### **Transformationsmatrizen**\n",
        "\n",
        "Mit den folgenden Funktionen könnt ihr bereits erzeugte Figuren (als ```obj``` übergeben) drehen, spiegeln, in der Größe verändern und im Plot verschieben. Diese Transformationen der Arrays basieren jeweils auf einer Matrix-Matrix-Multiplikation und können daher beliebig kombiniert werden.\n",
        "\n",
        "Bei der Übergabe eines Winkels ```grad``` ist zu beachten, dass dieser im Bogenmaß und *nicht* im Gradmaß angegeben werden muss. Es gilt $x = \\frac{\\pi \\cdot \\alpha}{180°}$ für $\\alpha$ im Gradmaß und $x$ im Bogenmaß. Wollt ihr also eine Figur um 90° drehen, entspricht ```grad = np.pi/2```, denn $x = \\frac{\\pi \\cdot 90°}{180°} = \\frac{\\pi}{2}$.\n",
        "\n",
        "<img src=https://www.thetawelle.de/wp-upload/einheitskreis_alles_550.png width=\"40%\"/>"
      ],
      "metadata": {
        "id": "6TLqHhLLYSBC"
      }
    },
    {
      "cell_type": "code",
      "source": [
        "# Drehung gegen den Uhrzeigersinn um grad in Bogenmaß (abhängig von Pi)\n",
        "def dreh_gegen(obj,grad):\n",
        "    matrix = np.array([[np.cos(grad), -np.sin(grad)],\n",
        "                     [np.sin(grad), np.cos(grad)]])\n",
        "    return np.matmul(matrix,obj)\n",
        "\n",
        "# Drehung mit dem Uhrzeigersinn um grad in Bogenmaß (abhängig von Pi)\n",
        "def dreh_mit(obj,grad):\n",
        "    matrix = np.array([[np.cos(grad), np.sin(grad)],\n",
        "                     [-np.sin(grad), np.cos(grad)]])\n",
        "    return np.matmul(matrix,obj)\n",
        "\n",
        "# Spiegelung an Ursprungsgeraden mit grad zur positiven x-Achse\n",
        "def spiegel(obj,grad):\n",
        "    matrix = np.array([[np.cos(2*grad), np.sin(2*grad)],\n",
        "                     [np.sin(2*grad), -np.cos(2*grad)]])\n",
        "    return np.matmul(matrix,obj)\n",
        "\n",
        "# Veranschaulichung\n",
        "# Plot der Ursprungsgeraden mit Winkel grad\n",
        "def plot_ursprung(grad):\n",
        "    x = np.linspace(-5,5)\n",
        "    y = 4*grad/np.pi*x\n",
        "    plt.plot(x,y)\n",
        "\n",
        "# Größenveränderung um faktor\n",
        "# abs(faktor) > 1: Vergrößerung\n",
        "# abs(faktor) < 1: Verkleinerung\n",
        "def max_min(obj,faktor):\n",
        "    matrix = np.array([[faktor,0],[0,faktor]])\n",
        "    return np.matmul(matrix,obj)\n",
        "\n",
        "# Verschiebung um den Vektor (a,b)\n",
        "def verschieb(obj,a,b):\n",
        "    return (obj.T+np.array([a,b])).T\n",
        "\n",
        "x = [1,1,2,2,1]\n",
        "y = [1,2,2,1,1]\n",
        "\n",
        "punkte = np.array([x, y])\n",
        "punkte = verschieb(punkte, 0,2)\n",
        "\n",
        "plt.scatter(punkte[0], punkte[1], s = 100, marker = \"*\", color = \"blue\", zorder = 2)\n",
        "plt.plot(punkte[0], punkte[1], c = \"red\", zorder = 1)\n",
        "plt.axis(\"equal\")\n",
        "\n",
        "plt.show()"
      ],
      "metadata": {
        "id": "lmZB7LfzXojo"
      },
      "execution_count": null,
      "outputs": []
    },
    {
      "cell_type": "markdown",
      "source": [
        "#### **Übung 1** - Der schönste Schneemann\n",
        "\n",
        "**Vom Winde verweht**\n",
        "\n",
        "Leider ist unser wunderschöner Schneemann, den du siehst, wenn du den Code über diesen Text ausführst, in einer stürmischen Nacht vollkommen auseinandergefallen.\n",
        "\n",
        "Schaffst du es ihn wiederzusammenzusetzen? Und besorgst du ihm auch noch ein paar neue Sterne?\n",
        "\n",
        "\n",
        "*Hinweise:*\n",
        "\n",
        ">Lies dir insbesondere die Beschriftungen der Variablen, Funktionen usw. im Code gut durch. Sie geben dir gute Anhaltspunkte dafür, was wofür zuständig sein könnte. Im Zweifelsfalle können dir auch die Dokumentation oder die alten Python-Kurse weiterhelfen.\n",
        "\n",
        ">Sollte dein Code mal nicht mehr funktionieren, hast du oben ja noch einen Schnappschuss davon, wie toll er gestern noch aussah.\n",
        "\n",
        ">Versuche so wenig wie möglich dich an dem alten Code zu orientieren, denn vielleicht bekommst du noch einen schöneren hingezaubert bzw. programmiert!"
      ],
      "metadata": {
        "id": "zMw44WK0o2zm"
      }
    },
    {
      "cell_type": "code",
      "source": [
        "import numpy as np\n",
        "import matplotlib.pyplot as plt\n",
        "\n",
        "def kreis(radius=1):\n",
        "    x = np.linspace(0,2*np.pi)\n",
        "    data = np.column_stack((np.sin(x), np.cos(x)))\n",
        "    return radius*data.T\n",
        "\n",
        "def dreieck(g, h):\n",
        "    data = np.array([[0,0], [-g/2, -h], [g/2, -h], [0,0]])\n",
        "    return data.T\n",
        "\n",
        "def linie(start, stopp):\n",
        "    return np.stack((start, stopp)).T\n",
        "\n",
        "def rechteck(a=1, b=1):\n",
        "    data = np.array([[0,0],[a,0], [a,b], [0,b], [0,0]])\n",
        "    return data.T\n",
        "\n",
        "def verschiebe(obj, a, b):\n",
        "    translation = np.array([a,b])\n",
        "    return (obj.T+translation).T\n",
        "\n",
        "def setzezusammen(objs):\n",
        "    data = objs[0]\n",
        "    for i in range(1,len(objs)):\n",
        "        data = np.column_stack((data, objs[i]))\n",
        "    return data\n",
        "\n",
        "def stern(radius=1):\n",
        "    data = kreis(radius)[:,::10][:,[0,2,4,1,3,0]]\n",
        "    return data\n",
        "\n",
        "k = kreis(3)\n",
        "k2 = verschiebe(kreis(2), -6, 2)\n",
        "k3 = verschiebe(kreis(1), 5, 0)\n",
        "hut = verschiebe(dreieck(2, 2), 2, 5)\n",
        "schneemann = setzezusammen([k, k2, k3, hut])\n",
        "armlinks = linie(np.array([1.5,-4.2]), np.array([5,-1.5]))\n",
        "armlinks = linie(np.array([1.5,-4.2]), np.array([5,-1.5]))\n",
        "print(schneemann.shape)\n",
        "plt.figure(figsize=[10,10])\n",
        "#plt.plot(k[0], k[1])\n",
        "#plt.plot(k2[0], k2[1])\n",
        "#plt.plot(k3[0], k3[1])\n",
        "for i in range(7):\n",
        "    z = np.array([20, 7])*np.random.rand(2)+np.array([-10,6])\n",
        "    s = verschiebe(stern(0.2), *z)\n",
        "    plt.plot(s[0], s[1])\n",
        "plt.plot(schneemann[0], schneemann[1], \"o\")\n",
        "plt.plot(hut[0], hut[1])\n",
        "plt.plot(armlinks[0], armlinks[1])\n",
        "plt.axis(\"equal\")\n",
        "plt.show()"
      ],
      "metadata": {
        "id": "ozjkWHNjRtAN"
      },
      "execution_count": null,
      "outputs": []
    },
    {
      "cell_type": "markdown",
      "source": [
        "#### **Übung 1** - Zusatzaufgabe\n",
        "\n",
        "Unser Schneemann hat die Feiertage über ziemlich viele Schneehäppchen von der kalten Platte verspeist und sich eine komplett neue, noch dickere Schneekugel angefuttert. Kannst du sie ihm einzeichnen?\n",
        "\n",
        "Außerdem hast du zu Weihnachten endlich den ersehnten zweiten Besen geschenkt bekommen.\n",
        "\n",
        "Magst du deinen Schneemann noch einen schicken zweiten Arm geben, sodass er sich noch mehr freuen kann?"
      ],
      "metadata": {
        "id": "Ez5VZANPxMcd"
      }
    },
    {
      "cell_type": "code",
      "source": [],
      "metadata": {
        "id": "_GHfqR3DOPRc"
      },
      "execution_count": null,
      "outputs": []
    },
    {
      "cell_type": "markdown",
      "source": [
        "#### **Übung 2** - Der Weihnachtswald\n",
        "\n",
        "Nachfolgend soll mit ```for``` oder ```while```-Schleifen und der ```print```-Funktion ein Weihnachtswald erstellt werden.\n",
        "\n",
        "Dieser soll aus Bäumen aus dem ```#```-Symbol bestehen. Jeder Baum ist durch seine Höhe definiert.\n",
        "\n",
        "\n",
        "> Die Baumkrone soll dabei der vorgegebenenen Höhe entsprechen.\n",
        "Dabei wird diese in jeder Zeile um 2 Zeichen breiter.\n",
        "\n",
        "\n",
        ">Der Stumpf ist ein Quadrat und befindet sich mittig unterhalb der Krone. Die Seitenlänge des Stumpfes ist 2*(Höhe//4)+1 wobei ```//``` eine Teilung mit Abrundung angibt)\n",
        "\n",
        "\n",
        "So sieht z.B. ein 6er Baum aus:"
      ],
      "metadata": {
        "id": "mpP0_2t5cEoK"
      }
    },
    {
      "cell_type": "code",
      "source": [
        "print(\"     #     \")    # Die Krone ist 1                                   1x\n",
        "print(\"    ###    \")    #               2                                   3x\n",
        "print(\"   #####   \")    #               3                                   5x\n",
        "print(\"  #######  \")    #               4                                   7x\n",
        "print(\" ######### \")    #               5                                   9x\n",
        "print(\"###########\")    #               6 Blöcke hoch, symmetrisch und aus 11x dem  #-Symbol\n",
        "print(\"    ###    \")\n",
        "print(\"    ###    \")    # Der quadratische Stumpf hat eine Seitenlänge von\n",
        "print(\"    ###    \")    # 2*(6//4)+1 = 2*1+1 = 3 bzw. 3x3 Blöcken"
      ],
      "metadata": {
        "id": "HR3Mld44gZLr"
      },
      "execution_count": null,
      "outputs": []
    },
    {
      "cell_type": "markdown",
      "source": [
        "Nachfolgend ist nun die Liste ```groesse``` gegeben.\n",
        "\n",
        "Verwende diese Größen für die Bäume in deinem Weihnachtswald."
      ],
      "metadata": {
        "id": "7zKKL57okKb_"
      }
    },
    {
      "cell_type": "code",
      "source": [
        "groesse = [6,13,5,6,15,7,11]\n",
        "\n",
        "# Hier folgt dein Code:\n"
      ],
      "metadata": {
        "id": "-8wzWrhmSlCC"
      },
      "execution_count": null,
      "outputs": []
    },
    {
      "cell_type": "markdown",
      "source": [
        "#### **Übung 2** - Zusatzaufgabe\n",
        "\n",
        "Schaffst du es die Bäume nicht nur untereinander, sondern auch nebeneinander mit dem unteren Ende des Stammes auf einer Höhe zu platzieren?"
      ],
      "metadata": {
        "id": "AoIh2gqfkUe6"
      }
    },
    {
      "cell_type": "code",
      "source": [],
      "metadata": {
        "id": "zuj0xw1GS2ke"
      },
      "execution_count": null,
      "outputs": []
    },
    {
      "cell_type": "markdown",
      "source": [
        "### Musterlösung Türchen 19"
      ],
      "metadata": {
        "id": "9yFxjj_SawKP"
      }
    },
    {
      "cell_type": "code",
      "source": [
        "# Übung 1\n",
        "import numpy as np\n",
        "import matplotlib.pyplot as plt\n",
        "\n",
        "datenwolke = (np.random.randn(1000,2)@np.array([[1,1],[0,1]]) + np.array([3,7])).T\n",
        "x = np.array([-100,100])\n",
        "\n",
        "def MSELoss(parameter, datenwolke):\n",
        "    param = np.array([parameter[0], -1])\n",
        "    bias = parameter[-1]\n",
        "    param_norm = np.linalg.norm(param)\n",
        "    param0 = param/param_norm\n",
        "    param0 = np.array([*param0, bias/param_norm])\n",
        "    #print(param0)\n",
        "    data = np.column_stack((datenwolke.T, np.ones(datenwolke.shape[1])))\n",
        "    dist = data@param0\n",
        "    return (dist@dist)/datenwolke.shape[1]\n",
        "\n",
        "# Hier können m und b verändert werden!\n",
        "parameter = np.array([10/8,3.5])\n",
        "# -------------------------------------\n",
        "\n",
        "print(\"Loss:\", MSELoss(parameter, datenwolke))\n",
        "plt.figure()\n",
        "plt.plot(datenwolke[0], datenwolke[1], \".\")\n",
        "plt.xlim((0, np.max(datenwolke[0])))\n",
        "plt.ylim((0, np.max(datenwolke[1])))\n",
        "plt.plot(x, [parameter[0]*x[0]+parameter[1], parameter[0]*x[1]+parameter[1]])\n",
        "plt.grid()\n",
        "plt.show()\n",
        "\n",
        "# Ergänzung\n",
        "from sklearn.linear_model import LinearRegression\n",
        "\n",
        "X = datenwolke[0].reshape((-1, 1))\n",
        "Y = datenwolke[1].reshape((-1, 1))\n",
        "model = LinearRegression().fit(X, Y)\n",
        "b = model.intercept_\n",
        "m = model.coef_.flatten()\n",
        "\n",
        "print(\"Lineares Modell: \\nb =\", *b)\n",
        "print(\"m =\", *m)\n",
        "parameter = np.array([*m, *b])\n",
        "\n",
        "print(\"Loss:\", MSELoss(parameter, datenwolke))"
      ],
      "metadata": {
        "id": "0i_NNbBnPpRC"
      },
      "execution_count": null,
      "outputs": []
    },
    {
      "cell_type": "code",
      "source": [
        "# Übung 2\n",
        "import numpy as np\n",
        "import matplotlib.pyplot as plt\n",
        "x = np.linspace(0, 2* np.pi, endpoint=True)\n",
        "F1 = 1 * np.sin(3*x + 30) + (-10)\n",
        "F2 = 2 * np.sin(2*x + 20) + 20\n",
        "F3 = 20 * np.sin(1*x + 4*np.pi) + 5\n",
        "plt.plot(x,F1, color = \"r\" )\n",
        "plt.plot(x,F2, color = \"g\" )\n",
        "plt.plot(x,F3, color = \"b\" )\n",
        "plt.xlabel(\"x\")\n",
        "plt.ylabel(\"y\")\n",
        "plt.show()"
      ],
      "metadata": {
        "id": "dgKPB2urDzlm"
      },
      "execution_count": null,
      "outputs": []
    },
    {
      "cell_type": "code",
      "source": [
        "# Übung 3\n",
        "import matplotlib.pyplot as plt\n",
        "\n",
        "def plot_alg(x):\n",
        "    for i in range(100):\n",
        "        if x % 2 == 0:\n",
        "            x = x / 2\n",
        "            #print(x)\n",
        "        else:\n",
        "            x = 3 * x + 1\n",
        "            #print(x)\n",
        "        plt.scatter(i,x)\n",
        "    plt.show()\n",
        "\n",
        "plot_alg(4)\n",
        "\n",
        "plot_alg(5)\n",
        "\n",
        "plot_alg(15)\n",
        "\n",
        "plot_alg(27)\n",
        "\n",
        "plot_alg(100)"
      ],
      "metadata": {
        "id": "2jd6ZOqPDwb5"
      },
      "execution_count": null,
      "outputs": []
    }
  ]
}