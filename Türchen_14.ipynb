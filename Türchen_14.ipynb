{
  "nbformat": 4,
  "nbformat_minor": 0,
  "metadata": {
    "colab": {
      "provenance": [],
      "collapsed_sections": [
        "9yFxjj_SawKP"
      ],
      "include_colab_link": true
    },
    "kernelspec": {
      "name": "python3",
      "display_name": "Python 3"
    },
    "language_info": {
      "name": "python"
    }
  },
  "cells": [
    {
      "cell_type": "markdown",
      "metadata": {
        "id": "view-in-github",
        "colab_type": "text"
      },
      "source": [
        "<a href=\"https://colab.research.google.com/github/ollihansen90/MatheSH-Adventskalender/blob/main/T%C3%BCrchen_14.ipynb\" target=\"_parent\"><img src=\"https://colab.research.google.com/assets/colab-badge.svg\" alt=\"Open In Colab\"/></a>"
      ]
    },
    {
      "cell_type": "markdown",
      "source": [
        "# Fragen?\n",
        "\n",
        "Solltet ihr Fragen zum Code oder Probleme mit Colab haben, schickt uns gerne eine Mail:\n",
        "\n",
        "*   h.hansen@uni-luebeck.de\n",
        "*   dustin.haschke@student.uni-luebeck.de\n",
        "*   friederike.meissner@student.uni-luebeck.de\n"
      ],
      "metadata": {
        "id": "KZhQktFlf0Io"
      }
    },
    {
      "cell_type": "markdown",
      "source": [
        "## Türchen 14 - JSON"
      ],
      "metadata": {
        "id": "md_btPK4kLZG"
      }
    },
    {
      "cell_type": "markdown",
      "source": [
        "### **JSON**\n",
        "\n",
        "JSON steht für *JavaScript Object Notation*. Es handelt sich dabei um ein kompaktes Datenformat zum Austausch von Daten zwischen Anwendungen. Mit JSON können strukturierte Daten lesbar gespeichert werden. Anwendung findet JSON vor allem bei Webanwendungen und mobilen Apps, aber auch, um \"Zustände\" von Programmen zu speichern (sowas wie die Variablen, die im Arbeitsspeicher gespeichert wurden und später nochmal benutzt werden sollen).\n",
        "\n",
        "Für uns ist zunächst nur wichtig, dass wir mit JSON unsere Dictionaries auf der Festplatte (und nicht nur im Arbeitsspeicher) abspeichern können, um sie beispielsweise später erneut zu laden oder um sie zu verschicken.\n",
        "\n",
        "JSON müssen wir als Package (dazu am 18.12. mehr) bei Python importieren, wobei es direkt von Python angeboten wird. Es muss also nicht extra von einem Drittanbieter heruntergeladen werden.\n",
        "\n",
        "#### **Eine JSON-Variable erstellen**\n",
        "\n",
        "JSON-Variablen sind für Python einfach Strings mit einer bestimmten Formatierung. Hierbei werden von unserem Dictionary die Keys und Values ausgelesen, um sie hinterher in einem String zusammenzufassen."
      ],
      "metadata": {
        "id": "G6ZtReGxJj_M"
      }
    },
    {
      "cell_type": "code",
      "source": [
        "import json\n",
        "\n",
        "ein_dictionary_zum_speichern = {\n",
        "    \"Januar\": 1,\n",
        "    \"Februar\": 2,\n",
        "    \"März\": 3,\n",
        "    \"April\": 4,\n",
        "    \"Mai\": 5,\n",
        "    \"Juni\": 6,\n",
        "    \"Juli\": 7,\n",
        "    \"August\": 8,\n",
        "    \"September\": 9,\n",
        "    \"Oktober\": 10,\n",
        "    \"November\": 11,\n",
        "    \"Dezember\": 12,\n",
        "}\n",
        "\n",
        "json_dict = json.dumps(ein_dictionary_zum_speichern)\n",
        "print(json_dict)\n",
        "print(type(json_dict))\n",
        "\n",
        "json_dict2 = json.dumps(ein_dictionary_zum_speichern, indent=4)\n",
        "\n",
        "print(json_dict2)\n",
        "print(type(json_dict2))\n",
        "\n",
        "json_dict3 = json.dumps(ein_dictionary_zum_speichern, indent=4, sort_keys=True)\n",
        "\n",
        "print(json_dict3)\n",
        "print(type(json_dict3))"
      ],
      "metadata": {
        "id": "RjOmhuGFJlHo"
      },
      "execution_count": null,
      "outputs": []
    },
    {
      "cell_type": "markdown",
      "source": [
        "### **Eine JSON-Variable speichern**\n",
        "Wenn wir eine JSON-Variable speichern möchten, können wir sie einfach in eine Datei schreiben, da wir nach dem Erstellen der Variable einen String erhalten. Die gespeicherte Datei landet in dem selben Verzeichnis, in dem auch unser Python-Skript liegt.\n",
        "\n",
        "ACHTUNG: Bei Colab landet die Datei theoretisch in eurer Google-Cloud, beim Neustart des Kernels kann sie jedoch gelöscht werden! Um sicher zu gehen, dass ihr die Datei nicht verliert, könnt ihr sie ganz einfach herunterladen (Rechtsklick auf die Datei und danach \"Herunterladen\" oder \"Download\")."
      ],
      "metadata": {
        "id": "et1hq_3ane2r"
      }
    },
    {
      "cell_type": "code",
      "source": [
        "import os\n",
        "print(os.getcwd())\n",
        "\n",
        "with open(\"test.json\", \"w\") as file:\n",
        "    file.write(json_dict2)"
      ],
      "metadata": {
        "id": "LeaEEVl2nqV4"
      },
      "execution_count": null,
      "outputs": []
    },
    {
      "cell_type": "markdown",
      "source": [
        "### **Eine JSON-Datei auslesen und in einer JSON-Variablen speichern**\n",
        "Wenn wir eine JSON-Datei gegeben bekommen, können wir sie wie eine normale Textdatei auslesen und in einem String speichern. Der String lässt sich hinterher wieder in ein Dictionary umwandeln."
      ],
      "metadata": {
        "id": "8E8spTeGocNW"
      }
    },
    {
      "cell_type": "code",
      "source": [
        "# Datei auslesen (ganz normal wie bei Textdateien)\n",
        "with open(\"test.json\", \"r\") as file:\n",
        "    json_string = file.read()\n",
        "print(json_string)\n",
        "print(type(json_string))\n",
        "\n",
        "# String in Dictionary umwandeln\n",
        "json_dict = json.loads(json_string)\n",
        "print(json_dict)\n",
        "print(type(json_dict))\n",
        "print(json_dict[\"Januar\"])"
      ],
      "metadata": {
        "id": "nRc22pALorSM"
      },
      "execution_count": null,
      "outputs": []
    },
    {
      "cell_type": "markdown",
      "source": [
        "### **Dictionary direkt in JSON-Datei speichern und hinterher wieder auslesen**\n",
        "Manchmal braucht man den Umweg über den String nicht unbedingt, da er unnötig viel Rechenzeit benötigt. Hierfür gibt es in dem json-Package von Python die Funktion ```dump``` (statt ```dumps```), die unser Dictionary automatisch in eine Datei schreibt.\n",
        "\n",
        "Das Auslesen funktioniert sehr ähnlich wie das Auslesen der Text-Datei mit dem String. Hier wird nun jedoch ```json.load``` statt ```json.loads``` benötigt"
      ],
      "metadata": {
        "id": "fdUGfxGNp4E-"
      }
    },
    {
      "cell_type": "code",
      "source": [
        "with open(\"test_dump.json\", \"w\") as file:\n",
        "    json.dump(json_dict, file, indent=4)\n",
        "\n",
        "with open(\"test_dump.json\", \"r\") as file:\n",
        "    json_dict_load = json.load(file)\n",
        "print(json_dict_load)"
      ],
      "metadata": {
        "id": "lW-wknvap3iQ"
      },
      "execution_count": null,
      "outputs": []
    },
    {
      "cell_type": "markdown",
      "source": [
        "#### **Übung 1** - JSON\n",
        "\n",
        "Konvertiere die Schulklasse aus Türchen 13 (siehe Musterlösung zu Übung 2 am Ende dieses Notebooks) jetzt in JSON. Gib dieses sowie den neuen Datentyp der Schulklasse zum Vergleich auf der Konsole aus. Welche Unterschiede kannst du feststellen?"
      ],
      "metadata": {
        "id": "aSdkPLugVYb6"
      }
    },
    {
      "cell_type": "code",
      "source": [
        "import json\n",
        "\n",
        "# Hier folgt deine Lösung:\n",
        "\n"
      ],
      "metadata": {
        "id": "xvL1KYdDfYmY"
      },
      "execution_count": null,
      "outputs": []
    },
    {
      "cell_type": "markdown",
      "source": [
        "### Musterlösung Türchen 13"
      ],
      "metadata": {
        "id": "9yFxjj_SawKP"
      }
    },
    {
      "cell_type": "code",
      "source": [
        "# Übung 1\n",
        "steckbrief = {\"Name\": \"Leonie\", \"Alter\": 15, \"Hobbys\": [\"Hockey spielen\", \"Singen\"], \"Lieblingsfilm\": \"Harry Potter und der Feuerkelch\"}\n",
        "\n",
        "print(len(steckbrief))\n",
        "\n",
        "del steckbrief[\"Lieblingsfilm\"]\n",
        "print(steckbrief)\n",
        "\n",
        "if \"Alter\" in steckbrief:\n",
        "    steckbrief[\"Alter\"] += 1\n",
        "    print(steckbrief[\"Alter\"])"
      ],
      "metadata": {
        "id": "0Le0StSIWtGq"
      },
      "execution_count": null,
      "outputs": []
    },
    {
      "cell_type": "code",
      "source": [
        "# Übung 2\n",
        "schueler1 = {\"Name\": \"Leonie\", \"Alter\": 15, \"Haustier\": False}\n",
        "schueler2 = {\"Name\": \"Theo\", \"Alter\": 13, \"Haustier\": True}\n",
        "schueler3 = {\"Name\": \"Amelie\", \"Alter\": 14, \"Haustier\": False}\n",
        "schueler4 = {\"Name\": \"Max\", \"Alter\": 14, \"Haustier\": False}\n",
        "schueler5 = {\"Name\": \"Julian\", \"Alter\": 16, \"Haustier\": True}\n",
        "\n",
        "klasse = {\"Schueler1\": schueler1,\n",
        "          \"Schueler2\": schueler2,\n",
        "          \"Schueler3\": schueler3,\n",
        "          \"Schueler4\": schueler4,\n",
        "          \"Schueler5\": schueler5}\n",
        "print(klasse)"
      ],
      "metadata": {
        "id": "Dt_tL6OCwCyX"
      },
      "execution_count": null,
      "outputs": []
    }
  ]
}