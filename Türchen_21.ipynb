{
  "nbformat": 4,
  "nbformat_minor": 0,
  "metadata": {
    "colab": {
      "provenance": [],
      "collapsed_sections": [
        "YVv6C4TKDJsT",
        "Ppc0WjMpEALR",
        "apqVQNWKFwHq",
        "9yFxjj_SawKP"
      ],
      "include_colab_link": true
    },
    "kernelspec": {
      "name": "python3",
      "display_name": "Python 3"
    },
    "language_info": {
      "name": "python"
    }
  },
  "cells": [
    {
      "cell_type": "markdown",
      "metadata": {
        "id": "view-in-github",
        "colab_type": "text"
      },
      "source": [
        "<a href=\"https://colab.research.google.com/github/ollihansen90/MatheSH-Adventskalender/blob/main/T%C3%BCrchen_21.ipynb\" target=\"_parent\"><img src=\"https://colab.research.google.com/assets/colab-badge.svg\" alt=\"Open In Colab\"/></a>"
      ]
    },
    {
      "cell_type": "markdown",
      "source": [
        "# Fragen?\n",
        "\n",
        "Solltet ihr Fragen zum Code oder Probleme mit Colab haben, schickt uns gerne eine Mail:\n",
        "\n",
        "*   h.hansen@uni-luebeck.de\n",
        "*   dustin.haschke@student.uni-luebeck.de\n",
        "*   friederike.meissner@student.uni-luebeck.de\n"
      ],
      "metadata": {
        "id": "KZhQktFlf0Io"
      }
    },
    {
      "cell_type": "markdown",
      "source": [
        "## Türchen 21 - Operator Overloading"
      ],
      "metadata": {
        "id": "vTc9siS2fk7s"
      }
    },
    {
      "cell_type": "markdown",
      "source": [
        "### **Overloading**\n",
        "\n",
        "Overloading (oder \"Überladen\") ist die Möglichkeit, mehrere unterschiedliche Funktionen mit gleichem Namen zu haben. Haben wir beispielsweise eine Funktion ```wurzel()```, kann sie je nach Eingabeparameter unterschiedliche Dinge tun: ```wurzel(zahl)```, wobei ```zahl``` eine Zahl vom Datentyp Double ist, berechnet die Quadratwurzel der übergebenen Zahl, während ```wurzel(baum)``` möglicherweise die erste Ausgabe eines Entscheidungsbaums berechnet (\"Wurzel\" bezeichnet den ersten Knoten in (binären) Bäumen, in einem späteren Projekt vielleicht mehr dazu).\n",
        "\n",
        "**Achtung:** Python unterstützt **kein** Overloading! Zumindest nicht mit Tricksen, wir könnten nach Aufrufen der Funktion eine Abfrage des Typs des Übergabeparameters machen und entsprechend eine Ausgabe generieren.\n",
        "\n",
        "### **Operator Overloading**\n",
        "Operator Overloading (machmal auch \"Operator ad hoc Polymorphism\") bezeichnet hingegen das Verhalten von Operatoren wie ```+```, ```-```, ```*``` oder ```/```, wenn sie auf unterschiedliche Klasseninstanzen angewendet wird. Python nutzt das andauernd: Wenn wir zwei Integer-Zahlen addieren, kommt die Summe der beiden Zahlen raus, zwei addierte Strings geben einen zusammengesetzten String, zwei addierte Listen werden zu einer konkatenierten Liste (siehe Codeblock unten).\n",
        "\n"
      ],
      "metadata": {
        "id": "xqn4jUtiMJYp"
      }
    },
    {
      "cell_type": "code",
      "source": [
        "print(1+1)\n",
        "print(type(1+1))\n",
        "print(\"1\"+\"1\")\n",
        "print(type(\"1\"+\"1\"))\n",
        "print([1]+[1])\n",
        "print(type([1]+[1]))"
      ],
      "metadata": {
        "id": "b60446CV8BQ9"
      },
      "execution_count": null,
      "outputs": []
    },
    {
      "cell_type": "markdown",
      "source": [
        "### **Magic Methods**\n",
        "Wie können wir unsere eigenen Klassen mit Operator Overloading erweitern? Hier kommen die privaten Methoden wieder ins Spiel. Zur Erinnerung: Private Methoden erkennen wir immer an den zwei Unterstrichen.\n",
        "\n",
        "Im folgenden Beispiel erstellen wir eine Klasse und implementieren die Addition! Die Klasse Hund enthält das Attribut ```alter``` und die (private) Methode ```__add__```. Addieren wir jetzt zwei Hunde, so ist das Ergebnis die Summe der jeweiligen Alter. Achtung! Das Ergebnis ist *keine* Instanz der Klasse Hund (dafür müssten wir sowas machen wie ```return Hund(self.alter+other.alter)```)."
      ],
      "metadata": {
        "id": "T1weRBxu8SJz"
      }
    },
    {
      "cell_type": "code",
      "source": [
        "class Hund():\n",
        "    def __init__(self, alter):\n",
        "        self.alter = alter\n",
        "\n",
        "    def __add__(self, other):\n",
        "        return self.alter+other.alter\n",
        "\n",
        "hund1 = Hund(10)\n",
        "hund2 = Hund(5)\n",
        "print(hund1+hund2)"
      ],
      "metadata": {
        "id": "pBfC9D4P8RnL"
      },
      "execution_count": null,
      "outputs": []
    },
    {
      "cell_type": "markdown",
      "source": [
        "### **Beispiel: \"Alte\" Klassen erweitern**\n",
        "Im unten stehenden Beispiel sieht man, wie man eine bereits implementierte Klasse (hier ```list```) so umwandelt, dass der Operator etwas ganz anderes macht als ursprünglich implementiert."
      ],
      "metadata": {
        "id": "D1icjl95-S59"
      }
    },
    {
      "cell_type": "code",
      "source": [
        "class NeueListe(list):\n",
        "    def __init__(self, liste):\n",
        "        super().__init__(liste)\n",
        "\n",
        "    def __add__(self, other):\n",
        "        if len(self)!=len(other):\n",
        "            print(\"Listen müssen gleich lang sein\")\n",
        "        else:\n",
        "            output = []\n",
        "            for i in range(len(self)):\n",
        "                output.append(self[i] + other[i])\n",
        "            return output\n",
        "\n",
        "\n",
        "liste1 = [1,2,3,4]\n",
        "liste2 = [5,6,7,8]\n",
        "nliste1 = NeueListe(liste1)\n",
        "nliste2 = NeueListe(liste2)\n",
        "\n",
        "print(liste1+liste2)\n",
        "print(nliste1+nliste2)"
      ],
      "metadata": {
        "id": "MQozfXOh-Y_3"
      },
      "execution_count": null,
      "outputs": []
    },
    {
      "cell_type": "markdown",
      "source": [
        "### **Weitere Magic Methods**\n",
        "Die Anzahl der Magic Methods ist sehr groß, daher wollen wir hier nur ein paar wenige ansprechen. Für eine Übersicht der Methoden einer Klasse kann man sie immer mit ```dir()``` aufrufen."
      ],
      "metadata": {
        "id": "BlOr8jOa_uL5"
      }
    },
    {
      "cell_type": "code",
      "source": [
        "print(dir(int))"
      ],
      "metadata": {
        "id": "sTcSC4znAP_a"
      },
      "execution_count": null,
      "outputs": []
    },
    {
      "cell_type": "markdown",
      "source": [
        "### **Kleine Übersicht von Magic Methods**\n",
        "Eine vollständigere Übersicht findet sich unter folgendem Link:\n",
        "\n",
        "https://docs.python.org/3/reference/datamodel.html\n",
        "\n",
        "Operator Magic Method:\n",
        "*   ```+```: ```__add__(self, other)```, Addition zweier Instanzen\n",
        "*   ```-```: ```__sub__(self, other)```, Subtraktion zweier Instanzen\n",
        "*   ```*```: ```__mul__(self, other)```, Multiplikation zweier Instanzen\n",
        "*   ```/```: ```__truediv__(self, other)```, Division zweier Instanzen\n",
        "*   ```//```: ```__floordiv__(self, other)```, Integerdivision zweier Instanzen (also mit Abrunden)\n",
        "*   ```%```: ```__mod__(self, other)```, Modulo zweier Instanzen\n",
        "*   ```**```: ```__pow__(self, other)```, Exponent zweier Instanzen\n",
        "\n",
        "Vergleichsoperatoren:\n",
        "*   ```<```: ```__lt__(self, other)```, \"less than\", kleiner\n",
        "*   ```>```: ```__gt__(self, other)```, \"greater than\", größer\n",
        "*   ```<=```: ```__le__(self, other)```, \"less or equal\", kleinergleich\n",
        "*   ```>=```: ```__ge__(self, other)```, \"greater or equal\", größergleich\n",
        "*   ```==```: ```__eq__(self, other)```, \"equal\", gleich\n",
        "*   ```!=```: ```__ne__(self, other)```, \"not equal\", ungleich\n",
        "\n",
        "Assignment Operators: (das \"i\" steht immer für \"inplace\")\n",
        "*   ```+=```: ```__iadd__(self, other)```, Addition, inplace\n",
        "*   ```*=```: ```__imul__(self, other)```, Multiplikation, inplace\n",
        "\n",
        "Unary Operators: (hier wird nur ```self``` übergeben)\n",
        "*   ```+```: ```__pos__(self)```, positives Vorzeichen (\"mal 1\")\n",
        "*   ```-```: ```__neg__(self)```, negatives Vorzeichen (\"mal -1\")"
      ],
      "metadata": {
        "id": "FqT9K7XNAhSL"
      }
    },
    {
      "cell_type": "markdown",
      "source": [
        "##### **Übung 1** - Erweiterung der Komplexen Klasse ```Komplex```\n",
        "Im untenstehenden Code wurde die Klasse ```Komplex``` erstellt, die die Rechenregeln der komplexen Zahlen implementiert. Erweitere die Klasse so, dass die Objekte \"normal\" addiert, subtrahiert, multipliziert und dividiert werden können."
      ],
      "metadata": {
        "id": "YVv6C4TKDJsT"
      }
    },
    {
      "cell_type": "code",
      "source": [
        "class Komplex():\n",
        "    def __init__(self, real, imag):\n",
        "        self.real = real\n",
        "        self.imag = imag\n",
        "\n",
        "    def add(self, zahl):\n",
        "        return Komplex(self.real+zahl.real, self.imag+zahl.imag)\n",
        "\n",
        "    def sub(self, zahl):\n",
        "        return Komplex(self.real-zahl.real, self.imag-zahl.imag)\n",
        "\n",
        "    def mul(self, zahl):\n",
        "        r = self.real*zahl.real-self.imag*zahl.imag\n",
        "        i = self.real*zahl.imag+self.imag*zahl.real\n",
        "        return Komplex(r, i)\n",
        "\n",
        "    def div(self, zahl):\n",
        "        r = (self.real*zahl.real+self.imag*zahl.imag)/(zahl.real**2+zahl.imag**2)\n",
        "        i = (self.imag*zahl.real-self.real*zahl.imag)/(zahl.real**2+zahl.imag**2)\n",
        "        return Komplex(r, i)\n",
        "\n",
        "    def norm(self):\n",
        "        return self.real*self.real+self.imag*self.imag\n",
        "\n",
        "    def copy(self):\n",
        "        return Komplex(self.real, self.imag)\n",
        "\n"
      ],
      "metadata": {
        "id": "mrNb6YPX1ymX"
      },
      "execution_count": null,
      "outputs": []
    },
    {
      "cell_type": "markdown",
      "source": [
        "##### **Übung 2** - Sortieren eigener Instanzen\n",
        "Erweitere die Klasse ```Hund``` so, dass eine Liste von ihren Instanzen nach dem Alter sortiert werden kann."
      ],
      "metadata": {
        "id": "Ppc0WjMpEALR"
      }
    },
    {
      "cell_type": "code",
      "source": [
        "import random\n",
        "\n",
        "class Hund():\n",
        "    def __init__(self, alter):\n",
        "        self.alter = alter\n",
        "\n",
        "    def __add__(self, other):\n",
        "        return self.alter+other.alter\n",
        "\n",
        "randliste = random.sample(list(range(10)), 10)\n",
        "hundeliste = [Hund(i) for i in randliste]\n",
        "\n",
        "hundeliste_s = sorted(hundeliste)\n",
        "for h in hundeliste_s:\n",
        "    print(h.alter)"
      ],
      "metadata": {
        "id": "IN5ry6ed2AQd"
      },
      "execution_count": null,
      "outputs": []
    },
    {
      "cell_type": "markdown",
      "source": [
        "##### **Übung 3** - Weitere Operatoren\n",
        "Erstelle eine Klasse ```Objekt```, die \"Neeeiiiin\" ausgibt, wenn eine Instanz überschrieben oder gelöscht wird. Wenn wir die Länge der Instanz erfragt wird, soll sie sagen \"Ich habe keine Länge\". Beim Aufrufen eines Eintrages wie in einer Liste (also ```liste[4]``` für den fünften Eintrag) soll sie antworten, dass sie keine Einträge hat."
      ],
      "metadata": {
        "id": "apqVQNWKFwHq"
      }
    },
    {
      "cell_type": "code",
      "source": [
        "class Objekt:\n",
        "    def __init__(self):\n",
        "        # Hier muss nichts geändert werden\n",
        "        return\n",
        "    # Hier kommen deine Methoden hin #\n",
        "\n",
        "\n",
        "    ##################################\n",
        "\n",
        "obj = Objekt()\n",
        "print(len(obj))\n",
        "obj[4]\n",
        "del obj"
      ],
      "metadata": {
        "id": "RZLRlfZWFeDW"
      },
      "execution_count": null,
      "outputs": []
    },
    {
      "cell_type": "markdown",
      "source": [
        "### Musterlösung Türchen 20"
      ],
      "metadata": {
        "id": "9yFxjj_SawKP"
      }
    },
    {
      "cell_type": "code",
      "source": [
        "# Übung 1\n",
        "k = verschiebe(kreis(3), 0, -3)\n",
        "k2 = verschiebe(kreis(2), 0, 2)\n",
        "k3 = verschiebe(kreis(1), 0, 5)\n",
        "hut = verschiebe(dreieck(2, 2), 0, 8)\n",
        "schneemann = setzezusammen([k, k2, k3, hut])\n",
        "armlinks = linie(np.array([1.8,3]), np.array([5,4]))\n",
        "print(schneemann.shape)\n",
        "plt.figure(figsize=[10,10])\n",
        "#plt.plot(k[0], k[1])\n",
        "#plt.plot(k2[0], k2[1])\n",
        "#plt.plot(k3[0], k3[1])\n",
        "for i in range(250):\n",
        "    z = np.array([20, 15])*np.random.rand(2)+np.array([-10,-5])\n",
        "    s = verschiebe(stern(0.2), *z)\n",
        "    plt.plot(s[0], s[1])\n",
        "plt.plot(schneemann[0], schneemann[1], \"o\")\n",
        "plt.plot(hut[0], hut[1])\n",
        "plt.plot(armlinks[0], armlinks[1])\n",
        "plt.axis(\"equal\")\n",
        "plt.show()"
      ],
      "metadata": {
        "id": "DmkV769FSIrc"
      },
      "execution_count": null,
      "outputs": []
    },
    {
      "cell_type": "code",
      "source": [
        "# Zusatzaufgabe\n",
        "k = verschiebe(kreis(3), 0, -3)\n",
        "k2 = verschiebe(kreis(2), 0, 2)\n",
        "k3 = verschiebe(kreis(1), 0, 5)\n",
        "k4 = verschiebe(kreis(4), 0, -10)                           # neu\n",
        "hut = verschiebe(dreieck(2, 2), 0, 8)\n",
        "schneemann = setzezusammen([k, k2, k3, k4, hut])            # geändert\n",
        "armlinks = linie(np.array([1.8,3]), np.array([5,4]))\n",
        "armrechts = linie(np.array([-1.9,3]), np.array([-5.5,4]))   # neu\n",
        "#print(schneemann.shape)\n",
        "plt.figure(figsize=[10,10])\n",
        "#plt.plot(k[0], k[1])\n",
        "#plt.plot(k2[0], k2[1])\n",
        "#plt.plot(k3[0], k3[1])\n",
        "for i in range(250):\n",
        "    z = np.array([20, 30])*np.random.rand(2)+np.array([-10,-15])    # geändert\n",
        "    s = verschiebe(stern(0.2), *z)\n",
        "    plt.plot(s[0], s[1])\n",
        "plt.plot(schneemann[0], schneemann[1], \"o\")\n",
        "plt.plot(hut[0], hut[1])\n",
        "plt.plot(armlinks[0], armlinks[1])\n",
        "plt.plot(armrechts[0], armrechts[1])                        # neu\n",
        "plt.axis(\"equal\")\n",
        "plt.show()"
      ],
      "metadata": {
        "id": "2tLRDyUPws2s"
      },
      "execution_count": null,
      "outputs": []
    },
    {
      "cell_type": "code",
      "source": [
        "# Übung 2 - Variante 1\n",
        "groesse = [6,13,5,6,15,7,11]\n",
        "\n",
        "# Hier folgt dein Code:\n",
        "m = max(groesse)\n",
        "for i in groesse:\n",
        "    h = i\n",
        "    cen = 1 + h * 2\n",
        "    leer = \" \"\n",
        "    for i in range(m-h):\n",
        "        print(leer.center(cen))\n",
        "    for i in range(h):\n",
        "        länge = \"#\" + i *2 *\"#\"\n",
        "        print(länge.center(cen))\n",
        "    for i in range(2 * (h // 4) + 1):\n",
        "        länge = \"#\" * (2 * (h // 4) + 1)\n",
        "        print(länge.center(cen))"
      ],
      "metadata": {
        "id": "yzhTBnf2dM3p"
      },
      "execution_count": null,
      "outputs": []
    },
    {
      "cell_type": "code",
      "source": [
        "# Lösung - Variante 2\n",
        "groesse = [6,13,5,6,15,7,11]\n",
        "\n",
        "# Hier folgt dein Code:\n",
        "for h in groesse:\n",
        "    # Krone\n",
        "    for i in range(1,h+1):\n",
        "        print((h-i)*\" \" + (2*i-1)*\"#\")\n",
        "\n",
        "    # Stamm\n",
        "    max = 2*h-1\n",
        "    breite = 2*(h//4)+1\n",
        "    for i in range(1,breite+1):\n",
        "        print((max-breite)//2*\" \" + breite*\"#\")\n",
        "    print(\"\\n\")"
      ],
      "metadata": {
        "id": "KVXaosSQac1X"
      },
      "execution_count": null,
      "outputs": []
    }
  ]
}