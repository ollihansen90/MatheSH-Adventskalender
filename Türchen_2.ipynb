{
  "nbformat": 4,
  "nbformat_minor": 0,
  "metadata": {
    "colab": {
      "provenance": [],
      "collapsed_sections": [
        "4BrYJdNdTFq3"
      ],
      "include_colab_link": true
    },
    "kernelspec": {
      "name": "python3",
      "display_name": "Python 3"
    },
    "language_info": {
      "name": "python"
    }
  },
  "cells": [
    {
      "cell_type": "markdown",
      "metadata": {
        "id": "view-in-github",
        "colab_type": "text"
      },
      "source": [
        "<a href=\"https://colab.research.google.com/github/ollihansen90/MatheSH-Adventskalender/blob/main/T%C3%BCrchen_2.ipynb\" target=\"_parent\"><img src=\"https://colab.research.google.com/assets/colab-badge.svg\" alt=\"Open In Colab\"/></a>"
      ]
    },
    {
      "cell_type": "markdown",
      "source": [
        "# Fragen?\n",
        "\n",
        "Solltet ihr Fragen zum Code oder Probleme mit Colab haben, schickt uns gerne eine Mail:\n",
        "\n",
        "*   h.hansen@uni-luebeck.de\n",
        "*   dustin.haschke@student.uni-luebeck.de\n",
        "*   friederike.meissner@student.uni-luebeck.de\n"
      ],
      "metadata": {
        "id": "KZhQktFlf0Io"
      }
    },
    {
      "cell_type": "markdown",
      "source": [
        "## Türchen 2 - Arithmetische Operationen"
      ],
      "metadata": {
        "id": "05wfMLzzeIu6"
      }
    },
    {
      "cell_type": "markdown",
      "source": [
        "### **Rechenoperationen** <img src=\"https://upload.wikimedia.org/wikipedia/commons/thumb/d/d0/Arithmetic_symbols_de.svg/1200px-Arithmetic_symbols_de.svg.png\" height=\"20em\"/>\n",
        "Python kann natürlich nicht nur diverse Zahlen ausgeben, sondern auch mit ihnen rechnen! Wie bei eurem Taschenrechner gibt es verschiedene Symbole für die Basisoperationen:\n",
        "\n",
        "Bei Addition, Subtraktion und Multiplikation verwendet man ganz intuitiv ```+```, ```-``` und ```*```, für die klassische Division hingegen ```/```. Falls ihr eine Zahl potenzieren (also \"hoch\" rechnen) möchtet, kommt ```**``` zum Einsatz.\n",
        "\n",
        "Der Modulo-Operator ```%``` berechnet den Rest beim Teilen. So ergibt ```5 % 3 = 2```, da ```5 / 3 = 1 Rest 2``` ist.\n",
        "Der Floor-Operator ```//``` hingegen rundet auf die nächstkleinere ganze Zahl. Z. B. ist ```6 // 4 = 1```, da ```6 / 4 = 1.5``` zwischen den ganzen Zahlen ```1``` und ```2``` liegt. Bei einem negativen Ergebnis wird entsprechend ```-6 // 4 = -2``` berechnet."
      ],
      "metadata": {
        "id": "2Ej1FEHAldee"
      }
    },
    {
      "cell_type": "code",
      "execution_count": null,
      "metadata": {
        "id": "g-AIIb_lrgjd"
      },
      "outputs": [],
      "source": [
        "print(1+2)\n",
        "print(4-3)\n",
        "print(5*6)\n",
        "print(9/8)\n",
        "print(9**5)\n",
        "print(9*9*9*9*9)\n",
        "print(27//14)\n",
        "print(27%14)\n",
        "\n",
        "print(\"14/4 ist\", 14//4, \"Rest\", 14%4)"
      ]
    },
    {
      "cell_type": "markdown",
      "source": [
        "### **Klammersetzung**\n",
        "Bei der Kombination verschiedener Rechenoperationen solltet ihr beachten, dass Punkt- vor Strichrechnung gilt, Klammern und Potenzen jedoch zuerst ausgewertet werden. Wenn ihr euch also unsicher seid, in welcher Reihenfolge euer Ausdruck berechnet wird, setzt lieber runde Klammern ```()```."
      ],
      "metadata": {
        "id": "e9gDKutWnivQ"
      }
    },
    {
      "cell_type": "code",
      "source": [
        "# Hier gilt Punkt- vor Strichrechnung:\n",
        "print(1+2/3)\n",
        "\n",
        "# Hier hat der Klammerterm Priorität:\n",
        "print(((1+5**7)%2)/3)"
      ],
      "metadata": {
        "id": "xe7YYDSsn1VX"
      },
      "execution_count": null,
      "outputs": []
    },
    {
      "cell_type": "markdown",
      "source": [
        "Python wertet Ausdrücke immer nach den folgenden Prioritäten aus:\n",
        "\n",
        "1. innerste Klammern\n",
        "\n",
        "2. Potenzen, also ```**```\n",
        "\n",
        "3. Punkt vor Strichrechnung (```%``` und ```//``` gelten als Strichrechnungen)\n",
        "\n",
        "4. links vor rechts, oben vor unten"
      ],
      "metadata": {
        "id": "vaLhWy5vn18-"
      }
    },
    {
      "cell_type": "code",
      "source": [
        "print (1+3**3 / (25 + round(2.2))*2) #Prio 1: dritte Klammern    round(2.2)\n",
        "print (1+3**3 / (25 + 2)*2 )         #Prio 2: zweite Klammern    25+2 = 27\n",
        "print (1+3**3 / 27*2)                #Prio 3: Potenz             3**3 = 27\n",
        "print (1+27 / 27*2)                  #Prio 4: Punkt vor Strich & links vor rechts  27/27 = 1\n",
        "print (1+1*2)                        #Prio 5: Punkt vor Strich   1*2 = 27\n",
        "print (1+2)\n",
        "print (3)\n"
      ],
      "metadata": {
        "id": "6CCnDcB4oIe5"
      },
      "execution_count": null,
      "outputs": []
    },
    {
      "cell_type": "markdown",
      "source": [
        "#### **Übung 1** - Zahlen ändern\n",
        "\n",
        "Ersetze im folgenden Beispiel jeweils die ```5``` durch *eine andere Zahl* innerhalb des ```Print```-Befehls, sodass die Ausgabe eine zutreffende Aussage ist.\n",
        "\n",
        "**Beispiel.:**\n",
        "\n",
        "```print(5+1,\"ist Drei\")``` erzeugt die ***falsche*** Ausgabe: ```6 ist Drei```\n",
        "\n",
        "\n",
        "```print(2+1,\"ist Drei\")``` erzeugt die ***richtige*** Ausgabe: ```3 ist Drei```\n"
      ],
      "metadata": {
        "id": "-Ki-CMI_ljgr"
      }
    },
    {
      "cell_type": "code",
      "source": [
        "print(5+3,\"ist Sechs\")\n",
        "print(5-2,\"ist Sieben\")\n",
        "print(5*5,\"ist Zehn\")\n",
        "\n",
        "                                    # zur Erinnerung:\n",
        "print(24/5,\"ist Drei\")              # Das / Zeichen steht für Division bzw. einen Bruchstrich. 24/8=4,8 bzw. 4.8\n",
        "print(3**5,\"ist Siebenundzwanzig\")  # 3**5 ist 3 hoch 5, also 3*3*3*3*3=243\n",
        "print(5//10,\"ist Drei\")             # 5//10 ist die Ganzzahl von 5 geteilt durch 10. Da 5/10 = 0 Rest5, ist 5//10 = 0\n",
        "print(19%5,\"ist Zwei\")              # 19%5 ist der Rest von 19 geteilt durch 5. Da 19/5 = 3 Rest4, ist 19%5 = 4\n"
      ],
      "metadata": {
        "id": "ykAtR0Cdlnwz"
      },
      "execution_count": null,
      "outputs": []
    },
    {
      "cell_type": "markdown",
      "source": [
        "#### **Übung 2** - Operatoren ändern\n",
        "\n",
        "Ersetze anstelle von Zahlen nun die *Operatoren* ```+``` ```-``` ```*``` ```/``` ```//``` und ```%``` durch andere *Operatoren*, sodass die Aussagen der *Ausgabe* stimmen.\n",
        "\n",
        "**Beispiel:**\n",
        "\n",
        "print(36 **+** 3,\"ist Zwölf\") ***erzeugt leider die falsche Ausgabe***: ```39 ist Zwölf```\n",
        "\n",
        "\n",
        "print(36 **/** 3,\"ist Zwölf\") ***erzeugt hingegen die richtige Ausgabe***: ```12 ist Zwölf```\n"
      ],
      "metadata": {
        "id": "ackSi656mINq"
      }
    },
    {
      "cell_type": "code",
      "source": [
        "print(9-2,\"ist Elf\")\n",
        "print(4*6,\"ist Minus Zwei\")\n",
        "print(3-2,\"ist Neun\")\n",
        "print(9+3,\"ist Drei\")\n",
        "print(11-4,\"ist Drei\")"
      ],
      "metadata": {
        "id": "ttgy1JktmLB2"
      },
      "execution_count": null,
      "outputs": []
    },
    {
      "cell_type": "markdown",
      "source": [
        "Ersetze nochmals die *Operatoren* ```+``` ```-``` ```*``` ```/``` ```//``` und ```%``` durch andere *Operatoren*.\n",
        "\n",
        "```x``` nimmt hier den Wert 5, ```y``` den Wert 2 an."
      ],
      "metadata": {
        "id": "zLIZq3oomUIc"
      }
    },
    {
      "cell_type": "code",
      "source": [
        "x = 5\n",
        "y = 2\n",
        "print(1.5+2*7,\"ist Einundzwanzig\")    # 1.5 ist übrigens \"Eins Komma Fünf\"\n",
        "print(7*y,\"ist Fünf\")\n",
        "print(x+2,\"ist Zehn\")\n",
        "print((x/y)*3,\"ist Einundzwanzig\")\n",
        "print(x//y,\"ist Fünfundzwanzig\")\n",
        "print(13-x,\"ist Zwei\")"
      ],
      "metadata": {
        "id": "Qq9KAbqlmTnl"
      },
      "execution_count": null,
      "outputs": []
    },
    {
      "cell_type": "markdown",
      "source": [
        "#### **Übung 3** - round() und andere Funktionen\n",
        "\n",
        "Versuche folgenden *Code* nachzuvollziehen.\n",
        "\n",
        "```x``` ist 5 und ```y``` ist 4. Die ```ersteZahl```, ```zweiteZahl``` und ```dritteZahl``` werden ausgegeben. Alle drei Zahlen berechnen sich durch die Teilung von ```x``` durch ```y```.\n",
        "\n",
        "Was macht die Funktion *round()* mit dem Ergebnis von 5/4?\n",
        "Trage deine Antwort in die letzte Zeile mit dem ```Print```-Befehl  ein."
      ],
      "metadata": {
        "id": "yVlEGws-mePj"
      }
    },
    {
      "cell_type": "code",
      "source": [
        "x = 5\n",
        "y = 4\n",
        "ersteZahl = x/y\n",
        "print(ersteZahl)\n",
        "\n",
        "zweiteZahl = round(x/y,1)\n",
        "print(zweiteZahl)\n",
        "\n",
        "dritteZahl = round(x/y,0)\n",
        "print(dritteZahl)\n",
        "\n",
        "print(\"Die Funktion Round(A,B) bewirkt, dass der Teil von A ... B ... wird.\")"
      ],
      "metadata": {
        "id": "ghiuFuVlmfq9"
      },
      "execution_count": null,
      "outputs": []
    },
    {
      "cell_type": "markdown",
      "source": [
        "Was bewirken folgende Funktionen *int()* und *float()*?\n",
        "Lege eine neue ```print```-Funktion an und trage deine Lösung als Ausgabe ein.\n",
        "\n",
        "```x``` hat den Wert von 15, ```y``` von 3 und ```z``` steht für 7"
      ],
      "metadata": {
        "id": "g3USucFbm2hL"
      }
    },
    {
      "cell_type": "code",
      "source": [
        "x = 15\n",
        "y = 3\n",
        "z = 7\n",
        "print(x/y, x/z)\n",
        "print(int(x/y), int(x/z))\n",
        "print(float(x/y),float(x/z))\n",
        "\n",
        "print(\"Die Funktion int(A,B) ...\")\n",
        "print(\"Die Funktion float(A,B) ...\")"
      ],
      "metadata": {
        "id": "GbaRwEMrm6Cd"
      },
      "execution_count": null,
      "outputs": []
    },
    {
      "cell_type": "markdown",
      "source": [
        "#### **Übung 4** - Zahlen ändern und round()\n",
        "\n",
        "Führe nun eine eigene Rechnung am Anfang des ```print```-Befehls durch, indem du jeweils die ```5``` durch eine frei wählbare Rechenoperation mit beliebig vielen *Zahlen* & *Operatoren* ersetzt. Versuche dabei wieder eine wahre Aussage als *Ausgabe* zu erhalten.\n",
        "\n",
        "Wenn du magst, kannst du auch die *Variablen* ```x``` für 6, ```y``` für 7 oder ```z``` sowie Funktionen aus Übung 3 verwenden.\n",
        "  \n",
        "  \n",
        "*Weißt du, welchen Wert ```z``` hat?* Überprüfe deine Annahme, indem du ```z``` ausgibst."
      ],
      "metadata": {
        "id": "XFIFRA1AnVCs"
      }
    },
    {
      "cell_type": "code",
      "source": [
        "x = 6\n",
        "y = 7\n",
        "z = round((17%10)/3)\n",
        "print(5,\"ist Zweiundvierzig\")\n",
        "print(5,\"ist Dreißig\")\n",
        "print(5,\"ist Zehn Komma Zwei\")\n",
        "print(5+5*5-5/5,\"ist meine Lieblingszahl\")"
      ],
      "metadata": {
        "id": "4sBNmkT8naEz"
      },
      "execution_count": null,
      "outputs": []
    },
    {
      "cell_type": "markdown",
      "source": [
        "#### **Übung 5** - Klammern anpassen\n",
        "\n",
        "Passe die Klammersetzung ```( )``` an, so dass die Aussagen der Ausgaben stimmen."
      ],
      "metadata": {
        "id": "P4lmm1PUoJJm"
      }
    },
    {
      "cell_type": "code",
      "source": [
        "print(1+2*3+4,\"ist Fünfzehn\")\n",
        "print(24/2*5+7,\"ist Eins\")\n",
        "print((1*(2+3))*((4+5)*((6+7)*8)),\"ist Einhundert\")"
      ],
      "metadata": {
        "id": "KlakTr8doj2K"
      },
      "execution_count": null,
      "outputs": []
    },
    {
      "cell_type": "markdown",
      "source": [
        "### Musterlösung Türchen 1"
      ],
      "metadata": {
        "id": "4BrYJdNdTFq3"
      }
    },
    {
      "cell_type": "code",
      "source": [
        "# Lösungsbeispiel\n",
        "print(\"   .      .   \")\n",
        "print(\"   _\\/  \\/_.  \")\n",
        "print(\"    _\\/\\/_.   \")\n",
        "print(\"_\\_\\_\\/\\/_/_/_\")\n",
        "print(\" / /_/\\/\\_\\ \\ \")\n",
        "print(\"    _/\\/\\_    \")\n",
        "print(\"    /\\  /\\    \")\n",
        "print(\"   '      '   \")\n",
        "\n",
        "rentier = \"\"\"\n",
        "         { }\n",
        "         {^^,\n",
        "         (   `-;\n",
        "    _     `;;~~\n",
        "   /(______);\n",
        "  (         (\n",
        "   |:------( )\n",
        " _//         \\\\\n",
        "/ /          vv\n",
        "\"\"\"\n",
        "\n",
        "print(rentier)\n",
        "\n",
        "print(\"\"\"\n",
        "⠀⠀⠀⠀⠀⠀⠀⠀⠀⠀⠀⠀⠀⠀⠀⠀⢠⠶⠶⠶⠶⠶⢤⣄⡀⠀⠀⠀⠀⠀⠀⠀⠀⠀⠀⠀⠀⠀⠀⠀⠀⠀⠀\n",
        "⠀⠀⠀⠀⠀⠀⠀⠀⠀⠀⠀⠀⠀⠀⠀⠀⢸⠀⠀⠀⠀⠀⠀⠀⠈⠑⠲⣄⡀⠀⠀⠀⠀⠀⠀⠀⠀⠀⠀⠀⠀⠀⠀\n",
        "⠀⠀⠀⠀⠀⠀⠀⠀⠀⠀⠀⠀⠀⠀⠀⠀⢸⠀⠀⠀⠀⠀⠀⠀⠀⢀⣦⠀⣹⡄⠀⠀⠀⠀⠀⠀⠀⠀⠀⠀⠀⠀⠀\n",
        "⠀⠀⠀⠀⠀⠀⠀⠀⠀⠀⠀⠀⠀⠀⠀⠀⣼⠒⠒⠶⠤⣀⡀⠀⢠⢷⣹⣿⣋⣀⠀⠀⠀⠀⠀⠀⠀⠀⠀⠀⠀⠀⠀\n",
        "⠀⠀⠀⠀⠀⠀⠀⠀⠀⠀⢰⡶⠶⠶⣒⣶⣧⣄⣀⠀⠀⠀⠉⣱⣟⣿⣭⣒⡟⠁⠀⠀⠀⠀⠀⠀⠀⠀⠀⠀⠀⠀⠀\n",
        "⠀⠀⠀⠀⠀⠀⠀⠀⠀⠀⠀⠙⠢⡤⠖⢛⡉⠓⠻⠽⣖⡦⣄⡷⠼⡬⠿⣖⣻⠶⠀⠀⠀⠀⠀⠀⠀⠀⠀⠀⠀⠀⠀\n",
        "⠀⠀⠀⠀⠀⠀⠀⠀⠀⠀⠀⣠⠎⠀⠀⣼⣧⠀⣠⣧⠀⠈⠑⠯⣿⢧⡀⠀⠀⠀⠀⠀⠀⠀⠀⠀⠀⠀⠀⠀⠀⠀⠀\n",
        "⠀⠀⠀⠀⠀⠀⠀⠀⠛⠷⣺⠛⡦⣤⢼⢿⣿⡀⣿⡾⠁⠀⠀⠀⠀⢹⡪⣶⡄⠀⠀⠀⠀⠀⠀⠀⠀⠀⠀⠀⠀⠀⠀\n",
        "⠀⠀⠀⠀⠀⠀⠀⠀⠀⠀⠈⣟⠓⠽⣼⣖⣼⠇⠈⢀⡀⠀⠀⠀⠀⠀⡗⠾⠟⠀⠀⠀⠀⠀⠀⢀⣤⡄⠀⠀⠀⠀⠀\n",
        "⠀⣀⠀⠀⢀⠀⠀⠀⠀⠀⠀⠹⣆⠀⠈⠻⣄⣀⣀⠴⠛⠂⠀⠀⠀⣼⠁⠀⠀⠀⠀⠀⠀⣠⣾⡿⢋⣿⠀⠀⠀⠀⠀\n",
        "⢀⠻⢶⣤⣘⣻⣦⡀⠀⠀⠀⠀⠈⢳⣄⡀⠀⠀⠀⠀⠀⠀⠀⣠⠞⢧⠄⠀⠀⠀⠀⢀⡶⣻⢿⣚⣿⣿⣶⣦⠀⠀⠀\n",
        "⠘⠷⢶⣿⣿⣽⣿⡙⢦⡀⠀⠀⣀⡼⡆⠉⠓⠒⠠⠤⢶⡖⢋⡇⠀⣼⡀⠀⢀⣠⠖⣋⡤⠦⠿⠿⣷⣆⠀⠀⠀⠀⠀\n",
        "⠀⠀⠀⠀⠘⠛⠛⠉⠛⠮⣝⡿⠋⠀⠙⠷⣄⣀⠀⠀⡼⠀⢸⣷⣏⣭⢷⣋⣩⡴⠛⠁⠀⠀⠀⠀⠀⠀⠀⠀⠀⠀⠀\n",
        "⠀⠀⠀⠀⠀⠀⠀⠀⠀⣰⠏⠀⠀⠀⡶⠢⣤⠍⠉⢹⡇⠀⢸⠀⣿⠷⠚⠹⣇⠀⠀⠀⠀⠀⠀⠀⠀⠀⠀⠀⠀⠀⠀\n",
        "⠀⠀⠀⠀⠀⠀⠀⠀⢠⡏⠀⠀⠀⢀⣙⡒⠛⠀⠀⣸⠁⠀⢸⠀⢸⡀⠀⠀⠹⡆⠀⠀⠀⠀⠀⠀⠀⠀⠀⠀⠀⠀⠀\n",
        "⠀⠀⠀⠀⠀⠀⠀⠀⢸⠀⠀⠀⠐⢯⣀⣿⠀⠀⠀⡟⠀⠀⢸⣆⣨⡧⠀⠀⠀⣧⠀⠀⠀⠀⠀⠀⠀⠀⠀⠀⠀⠀⠀\n",
        "⠀⠀⠀⠀⠀⠀⠀⠀⢸⠀⠀⠀⢀⣼⠻⣤⠀⠀⠀⣧⠀⠀⢈⣧⠀⠀⠀⠀⠀⣿⠀⠀⠀⠀⠀⠀⠀⠀⠀⠀⠀⠀⠀\n",
        "⠀⠀⠀⠀⠀⠀⠀⠀⢸⡆⠀⠀⠀⠓⠒⠋⠀⠀⠀⠿⠶⠒⠋⠉⠀⠀⠀⠀⢰⡏⠀⠀⠀⠀⠀⠀⠀⠀⠀⠀⠀⠀⠀\n",
        "⠀⠀⠀⠀⠀⠀⠀⠀⠀⢿⡄⠀⠀⠀⠀⠀⠀⠀⠀⠀⠀⠀⠀⠀⠀⠀⠀⢠⡾⠀⠀⠀⠀⠀⠀⠀⠀⠀⠀⠀⠀⠀⠀\n",
        "⠀⠀⠀⠀⠀⠀⠀⠀⠀⠈⠳⣄⠀⠀⠀⠀⠀⠀⠀⠀⠀⠀⠀⠀⠀⠀⣠⡟⠁⠀⠀⠀⠀⠀⠀⠀⠀⠀⠀⠀⠀⠀⠀\n",
        "⠀⠀⠀⠀⠀⠀⠀⠀⠀⠀⠀⠈⠳⣄⡀⠀⠀⠀⠀⠀⠀⠀⠀⢀⣤⠾⠋⠀⠀⠀⠀⠀⠀⠀⠀⠀⠀⠀⠀⠀⠀⠀⠀\n",
        "⠀⠀⠀⠀⠀⠀⠀⠀⠤⠤⠶⠶⠶⠶⠿⠶⠶⠶⠶⠶⠦⢶⣾⣯⣀⣀⣀⣀⣠⣤⠤⠤⠴⠆⠀\n",
        "\"\"\")"
      ],
      "metadata": {
        "id": "wA7dF9nVkOYN"
      },
      "execution_count": null,
      "outputs": []
    }
  ]
}