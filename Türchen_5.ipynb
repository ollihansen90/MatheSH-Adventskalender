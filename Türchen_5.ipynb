{
  "nbformat": 4,
  "nbformat_minor": 0,
  "metadata": {
    "colab": {
      "provenance": [],
      "collapsed_sections": [
        "Gc9lyVfuWBd4"
      ],
      "include_colab_link": true
    },
    "kernelspec": {
      "name": "python3",
      "display_name": "Python 3"
    },
    "language_info": {
      "name": "python"
    }
  },
  "cells": [
    {
      "cell_type": "markdown",
      "metadata": {
        "id": "view-in-github",
        "colab_type": "text"
      },
      "source": [
        "<a href=\"https://colab.research.google.com/github/ollihansen90/MatheSH-Adventskalender/blob/main/T%C3%BCrchen_5.ipynb\" target=\"_parent\"><img src=\"https://colab.research.google.com/assets/colab-badge.svg\" alt=\"Open In Colab\"/></a>"
      ]
    },
    {
      "cell_type": "markdown",
      "source": [
        "# Fragen?\n",
        "\n",
        "Solltet ihr Fragen zum Code oder Probleme mit Colab haben, schickt uns gerne eine Mail:\n",
        "\n",
        "*   h.hansen@uni-luebeck.de\n",
        "*   dustin.haschke@student.uni-luebeck.de\n",
        "*   friederike.meissner@student.uni-luebeck.de\n"
      ],
      "metadata": {
        "id": "KZhQktFlf0Io"
      }
    },
    {
      "cell_type": "markdown",
      "source": [
        "## Türchen 5 - Listen und Slicing"
      ],
      "metadata": {
        "id": "5WC2lePke-pu"
      }
    },
    {
      "cell_type": "markdown",
      "metadata": {
        "id": "3iavMFHgNhq-"
      },
      "source": [
        "### **Listen**\n",
        "\n",
        "Listen stellen eine geordnete Menge von Objekten wie Zahlen, Zeichenketten oder Booleans dar, die nicht einmal vom selben Typ sein müssen! Auf jedes dieser Elemente kann mittels des Index, also der Position innerhalb der Liste, zugegriffen werden. Dabei müsst ihr jedoch beachten, dass erneut schon mit 0 beginnend gezählt wird, d.h.\n",
        "1. Element -> Index 0\n",
        "2. Element -> Index 1\n",
        "usw.\n",
        "\n",
        "Um eine leere Liste zu erstellen, verwendet ihr den gewünschten Variablennamen und setzt ihn gleich mit leeren eckigen Klammern. Natürlich könnt ihr die Liste auch schon direkt beim Erzeugen befüllen, indem ihr die Elemente innerhalb der Klammern ergänzt und per Kommata voneinander trennt.\n",
        "\n",
        "Mithilfe von ```liste[i]``` wird das i-te Element ausgegeben, wobei i ein Integer, also eine Ganzzahl, sein muss, d.h. auch eine negative  Zahl sein kann. So erhält man mit ```liste[-1]``` das letzte Listenelement, während ```liste[-2]``` das vorletzte zurückgibt.\n",
        "Durch die Wertzuweisung ```liste[i] = neues_element``` wird das i-te Element direkt verändert."
      ]
    },
    {
      "cell_type": "code",
      "metadata": {
        "id": "vyzUhMq1e2f2"
      },
      "source": [
        "# So erstellt man eine leere Liste\n",
        "liste1 = []\n",
        "# identisch dazu:\n",
        "liste1 = list()\n",
        "\n",
        "# und so erstellt man eine bereits befüllte Liste\n",
        "prog_sprachen = [\"Python\", \"C++\", \"Java\", \"R\"]\n",
        "\n",
        "# Zugriff auf das vierte Element\n",
        "print(prog_sprachen[3])\n",
        "# ist hier identisch zu\n",
        "print(prog_sprachen[-1])\n",
        "\n",
        "# Setzen das dritte Element auf \"PHP\"\n",
        "prog_sprachen[2] = \"PHP\"\n",
        "print(prog_sprachen)"
      ],
      "execution_count": null,
      "outputs": []
    },
    {
      "cell_type": "markdown",
      "metadata": {
        "id": "b7HneVHtxd5k"
      },
      "source": [
        "### **Hilfreiche Funktionen bzw. Methoden**\n",
        "\n",
        "Die Funktionen für Strings können wir ebenso auf Listen anwenden:\n",
        "* ```len(liste)``` gibt die Länge der Liste, d.h. die Anzahl der Elemente, aus.\n",
        "* ```sorted(liste)``` sortiert die übergebene Liste aufsteigend bzw. alphabetisch.\n",
        "* ```liste.index(element)``` findet das übergebene Element und gibt die entsprechende Position aus.\n",
        "\n",
        "Allerdings gibt es auch noch weitere Methoden:\n",
        "\n",
        "* ```sum(liste)``` gibt die Summe und ```max(liste)``` das Maximum einer Liste aus Zahlen zurück.\n",
        "* ```liste.append(element)``` fügt das übergebene Element an das Listenende an.\n",
        "* ```liste.pop()``` entfernt das letzte Element gibt es aus.\n"
      ]
    },
    {
      "cell_type": "code",
      "metadata": {
        "id": "TOtOw50ox_eJ"
      },
      "source": [
        "temperaturen = [4,8,0,2,1,5]\n",
        "\n",
        "# Berechnung der durchschnittlichen Temperatur mittels sum und len\n",
        "durchschnitt_temp = sum(temperaturen)/len(temperaturen)\n",
        "print(durchschnitt_temp)\n",
        "\n",
        "# Entfernen der letzten Temperatur (also 5)\n",
        "temperaturen.pop()\n",
        "\n",
        "del temperaturen[-1]\n",
        "\n",
        "temperaturen.remove(8)\n",
        "\n",
        "# sorted verändert temperaturen nicht!\n",
        "print(sorted(temperaturen))\n",
        "print(temperaturen)"
      ],
      "execution_count": null,
      "outputs": []
    },
    {
      "cell_type": "markdown",
      "metadata": {
        "id": "FdMq6cQJgaSx"
      },
      "source": [
        "### **Slicing**\n",
        "Möchte man nur einen Teil einer Liste bearbeiten, bietet Python die Möglichkeit zum *Slicen*. Beim Slicen übergibt man einer Liste in den eckigen Klammern bestimmte Einträge, um bestimmte Teillisten zu erhalten.\n",
        "\n",
        "#### **Aufbau**\n",
        "Hat man allgemein eine Liste ```a```, gilt immer ```a[start:stop:step]```. Hierbei gilt wie immer, dass Python bei 0 anfängt zu zählen. Der ```stop```-Wert wird hierbei nicht erreicht (d. h. die Schreibweise ist exklusive ```stop```). Die Schreibweise mit dem Doppelpunkt ist ganz typisch beim Slicen und ist auch in anderen Programmiersprachen zu finden.\n",
        "\n",
        "*Achtung*: Python erwartet immer Integer-Werte! Unter Umständen muss also die Eingabe mit dem ```int()```-Befehl geparst werden."
      ]
    },
    {
      "cell_type": "code",
      "metadata": {
        "id": "ReQVpi1Xgc-h"
      },
      "source": [
        "# Beispiel:\n",
        "liste = [0,1,2,3,4,5,6,7,8,9,10]\n",
        "print(liste[4:7])\n",
        "print(liste[:-4])\n",
        "print(liste[-4:])\n",
        "print(liste[0:5:2])\n",
        "print(liste[5::-1])\n",
        "\n",
        "print(liste[5.0])"
      ],
      "execution_count": null,
      "outputs": []
    },
    {
      "cell_type": "markdown",
      "metadata": {
        "id": "7pE1zUb-gded"
      },
      "source": [
        "### **Listen von Listen**\n",
        "\n",
        "Wie ihr bereits wisst, können wir Listen mit allen möglichen Objekten füllen, also auch mit weiteren Listen! Dabei sind sowohl die Länge der inneren Listen als auch die darin enthaltenen Elemente frei wählbar.\n",
        "\n",
        "Den Aufbau könnt ihr euch wie eine Tabelle vorstellen, deren Zeilen je eine Unterliste und die dazugehörigen Spalten die darin enthaltenen Elemente darstellen.\n",
        "\n",
        "Erstellen wir also eine Liste ```klasse```, die für jeden Schüler und jede Schülerin den Namen, das Alter und die Antwort auf die Frage \"Magst du Mathe?\" enthält:"
      ]
    },
    {
      "cell_type": "code",
      "metadata": {
        "id": "iye9RUqDgftB"
      },
      "source": [
        "klasse = [[\"Clara\", 14, True],\n",
        "          [\"Louis\", 13, True],\n",
        "          [\"Sophie\", 13, False],\n",
        "          [\"Max\", 14, True]]\n",
        "\n",
        "# Auch in einer Zeile möglich, allerdings unübersichtlicher:\n",
        "klasse = [[\"Clara\", 14, True], [\"Louis\", 13, True], [\"Sophie\", 13, False], [\"Max\", 14, True]]"
      ],
      "execution_count": null,
      "outputs": []
    },
    {
      "cell_type": "markdown",
      "metadata": {
        "id": "NgG80dnmc3tr"
      },
      "source": [
        "Der Zugriff auf einzelne Listenelemente erfolgt wieder über den Namen der äußeren Liste. Wenn eine komplette Unterliste adressiert wird, folgt nur ein Paar eckiger Klammern mit dem gewünschten Index, also der entsprechenden Zeilenangabe. Wollen wir beispielsweise alle Informationen zur 1. Schülerin unserer ```klasse``` erhalten, nutzen wir ```klasse[0]```.\n",
        "\n",
        "Soll nur ein einzelnes Element der Unterliste ausgegeben werden, wird in einem weiteren Paar eckiger Klammern der Index der zugehörigen Spalte ergänzt. Interessiert uns also Claras Alter, rufen wir ```klasse[0][1]``` auf.\n",
        "\n",
        "Das ermöglicht es, eine innere Liste oder auch einzelne, darin enthaltene Elemente zu verändern. Hat z.B. Max Geburtstag, können wir mit ```klasse[3][1] = 15``` sein Alter um 1 Jahr erhöhen.\n",
        "\n",
        "Beachtet dabei, dass immer bei 0 beginnend gezählt wird, d.h. das 1. Element besitzt folglich die Indexposition 0 usw. (Später werdet ihr mit sogenannten *dictionaries* eine Möglichkeit kennenlernen, die den Zugriff auf einzelne Elemente weiter vereinfacht.)"
      ]
    },
    {
      "cell_type": "code",
      "metadata": {
        "id": "4yOVa7Nbf7gq"
      },
      "source": [
        "print(klasse[0])\n",
        "\n",
        "print(klasse[0][1])\n",
        "\n",
        "klasse[3][1] = 15\n",
        "print(klasse)"
      ],
      "execution_count": null,
      "outputs": []
    },
    {
      "cell_type": "markdown",
      "metadata": {
        "id": "OwTWeJZBx4Cs"
      },
      "source": [
        "#### **Übung 1** - Weihnachtsgebäck\n",
        "Erstelle eine Liste ```gebaeck```, die die Elemente „Zimtstern“, „Dominostein“, „Lebkuchen“, „Spekulatius“ und „Butterplätzchen“ enthält.\n",
        "\n",
        "Gib die Länge des Liste aus und sortiere ```gebaeck```anschließend alphabetisch.\n",
        "\n",
        "Füge nun „Kokosmakrone“ zu der Liste hinzu. Welchen Index erhält „Himbeere“?\n",
        "\n",
        "Überprüfe mit dem ```print```-Befehl, ob du alles richtig gemacht hast!"
      ]
    },
    {
      "cell_type": "code",
      "source": [],
      "metadata": {
        "id": "Z8yUm-iFE-zu"
      },
      "execution_count": null,
      "outputs": []
    },
    {
      "cell_type": "markdown",
      "metadata": {
        "id": "QnN7wwfbob2y"
      },
      "source": [
        "#### **Übung 2** - Slicing\n",
        "Erstelle eine Liste mit ```list(range(1000))``` und gib die letzten 10 Zahlen aus, die durch 7 teilbar sind. Gib danach dieselbe Liste in absteigender Reihenfolge aus."
      ]
    },
    {
      "cell_type": "code",
      "source": [
        "liste = list(range(1000))\n",
        "\n",
        "liste7 =\n",
        "print(liste7)\n",
        "\n",
        "liste7_letzte10 =\n",
        "print(liste7_letzte10)\n",
        "\n",
        "liste7_letzte10_rueckwaerts =\n",
        "print(liste7_letzte10_rueckwaerts)"
      ],
      "metadata": {
        "id": "OrGiLGNsC9Lx"
      },
      "execution_count": null,
      "outputs": []
    },
    {
      "cell_type": "markdown",
      "metadata": {
        "id": "_lTpCSj9kiEz"
      },
      "source": [
        "#### **Übung 3** - Verschachtelte Listen\n",
        "\n",
        "Füge der ```klasse``` dich selbst als weitere Schülerin oder weiteren Schüler hinzu, indem du per ```append``` eine Unterliste mit deinem Namen, Alter und natürlich der Antwort auf die Frage \"Magst du Mathe?\" ergänzt.\n",
        "\n",
        "Verändere anschließend Sophies Antwort auf die gestellte Frage zu ```True``` und überprüfe mit ```print```, ob du alles richtig gemacht hast."
      ]
    },
    {
      "cell_type": "code",
      "source": [],
      "metadata": {
        "id": "VguC9IywCzKk"
      },
      "execution_count": null,
      "outputs": []
    },
    {
      "cell_type": "markdown",
      "source": [
        "### Musterlösung Türchen 4"
      ],
      "metadata": {
        "id": "Gc9lyVfuWBd4"
      }
    },
    {
      "cell_type": "code",
      "source": [
        "# Übung 1\n",
        "bool_a = (7 - 5) == (5 % 3)\n",
        "bool_b = (2 + 4 / 4) <= (10 * 2 / 4)\n",
        "bool_c = ((3 ** 1 * 5) > (8 // 3 + 1)) or False\n",
        "bool_d = not ((6 - 3) != (2 + 1))\n",
        "\n",
        "# Zum Testen deiner Lösung (Also einfach ignorieren :D):\n",
        "if bool_a == bool_b and bool_b == bool_c and bool_c == bool_d and bool_a == True:\n",
        "    print(\"Gut gemacht! Deine Lösung ist korrekt.\")\n",
        "else:\n",
        "    print(\"Leider war das noch nicht richtig. Versuche es noch einmal.\")"
      ],
      "metadata": {
        "id": "QvI8vL_brUT_"
      },
      "execution_count": null,
      "outputs": []
    },
    {
      "cell_type": "code",
      "source": [
        "# Übung 2\n",
        "x = False\n",
        "y = True\n",
        "z = False\n",
        "\n",
        "if(x and y):\n",
        "    print(\"Alle Rentiere haben eine rote Nase\")\n",
        "else:\n",
        "    print (\"Rudolf hat eine rote Nase\")\n",
        "\n",
        "if (y or z):\n",
        "    print(\"Der Weihnachtsmann lebt am Nordpol\")\n",
        "else:\n",
        "    print(\"Der Weihnachtsmann lebt am Äquator\")\n",
        "\n",
        "if(not(z)):\n",
        "    print(\"Schnee ist kalt\")\n",
        "else:\n",
        "    print(\"Feuer ist kalt\")"
      ],
      "metadata": {
        "id": "uKzaPTn4tBxz"
      },
      "execution_count": null,
      "outputs": []
    },
    {
      "cell_type": "code",
      "source": [
        "# Übung 3\n",
        "strom_vorhanden = False\n",
        "gluehbirne_defekt = False\n",
        "gluehbirne_super_heiss = False\n",
        "gluehbirne_super_alt = True\n",
        "reservebirne = False\n",
        "#Wenn Strom vorhanden ist UND die Glühbirne heile ist (bzw. nicht defekt)\n",
        "if(strom_vorhanden and not(gluehbirne_defekt)):\n",
        "  print(\"Lampe leuchtet\") # ...leuchtet die Lampe...\n",
        "else:\n",
        "  print(\"Lampe leuchtet nicht\") # ...ansonsten nicht.\n",
        "\n",
        "# Ist unsere Glühbirne heiß ODER alt (oder beides) UND ist auch noch Strom vorhanden...\n",
        "if((gluehbirne_super_heiss or gluehbirne_super_alt) and strom_vorhanden):\n",
        "    print(\"Glühbirne brennt (nochmal) durch\")\n",
        "    gluehbirne_defekt = True # ...so brennt sie durch, auch wenn sie schon kaputt ist...\n",
        "else:\n",
        "    print(\"Glühbirne bleibt intakt\") # ...ansonsten bleibt sie heile!\n",
        "\n",
        "# Ist unsere Glühbirne nun defekt UND wir haben eine Reservebirne...\n",
        "if(gluehbirne_defekt and reservebirne):\n",
        "    print(\"Reservebirne wird eingesetzt\") # ... wird die Reservebirne eingesetzt!\n",
        "else:\n",
        "    print(\"Kein Glühbirnen-Austausch.\")\n",
        "\n",
        "# War die ursprüngliche Glühbirne nicht defekt ODER wurde eine Reservebirne eingesetzt...\n",
        "if(not(gluehbirne_defekt) or reservebirne):\n",
        "    print(\"Kein Brand durch durchgebrannte Birne\")  # ... so entsteht kein Brand.\n",
        "else:\n",
        "    print(\"Es brennt!\")"
      ],
      "metadata": {
        "id": "Mkk3g2mitQYp"
      },
      "execution_count": null,
      "outputs": []
    },
    {
      "cell_type": "code",
      "source": [
        "# Übung 4\n",
        "netter_ladenbesitzer = True\n",
        "gebe_einen_euro = False\n",
        "\n",
        "if netter_ladenbesitzer or gebe_einen_euro:\n",
        "    print(\"Ich erhalte eine Süßigkeit.\")\n",
        "else:\n",
        "    print(\"Leider gibt es keine Süßigkeit.\")"
      ],
      "metadata": {
        "id": "tmafOF1StvLz"
      },
      "execution_count": null,
      "outputs": []
    },
    {
      "cell_type": "code",
      "source": [
        "# Übung 5\n",
        "antwort = input(\"Wähle a oder b: \").lower()\n",
        "\n",
        "# Hier folgt deine Abfrage:\n",
        "if antwort == \"a\":\n",
        "    print(\"Leider ist a eine Niete.\")\n",
        "elif antwort == \"b\":\n",
        "    print(\"Glückwunsch! b ist der Hauptgewinn.\")\n",
        "else:\n",
        "    print(\"Du hast keine korrekte Antwort gegeben.\")\n"
      ],
      "metadata": {
        "id": "5GGH6WYit_Bo"
      },
      "execution_count": null,
      "outputs": []
    }
  ]
}